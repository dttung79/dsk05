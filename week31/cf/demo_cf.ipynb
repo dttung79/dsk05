{
  "cells": [
    {
      "cell_type": "code",
      "execution_count": 1,
      "id": "2685e421",
      "metadata": {},
      "outputs": [],
      "source": [
        "# Import thư viện pandas, numpy\n",
        "import pandas as pd\n",
        "import numpy as np"
      ]
    },
    {
      "cell_type": "code",
      "execution_count": 2,
      "id": "cac6c70a",
      "metadata": {},
      "outputs": [
        {
          "name": "stderr",
          "output_type": "stream",
          "text": [
            "/var/folders/10/3dssf0p51vzgb7zfm9xl0vrm0000gn/T/ipykernel_91576/91010480.py:1: DtypeWarning: Columns (3) have mixed types. Specify dtype option on import or set low_memory=False.\n",
            "  books_df = pd.read_csv('Books.csv')\n"
          ]
        }
      ],
      "source": [
        "# Đọc dữ liệu: Books.csv, Users.csv, Ratings.csv\n",
        "books_df = pd.read_csv('Books.csv')\n",
        "users_df = pd.read_csv('Users.csv')\n",
        "ratings_df = pd.read_csv('Ratings.csv')"
      ]
    },
    {
      "cell_type": "code",
      "execution_count": 3,
      "id": "38199f25",
      "metadata": {},
      "outputs": [
        {
          "data": {
            "text/html": [
              "<div>\n",
              "<style scoped>\n",
              "    .dataframe tbody tr th:only-of-type {\n",
              "        vertical-align: middle;\n",
              "    }\n",
              "\n",
              "    .dataframe tbody tr th {\n",
              "        vertical-align: top;\n",
              "    }\n",
              "\n",
              "    .dataframe thead th {\n",
              "        text-align: right;\n",
              "    }\n",
              "</style>\n",
              "<table border=\"1\" class=\"dataframe\">\n",
              "  <thead>\n",
              "    <tr style=\"text-align: right;\">\n",
              "      <th></th>\n",
              "      <th>ISBN</th>\n",
              "      <th>Book-Title</th>\n",
              "      <th>Book-Author</th>\n",
              "      <th>Year-Of-Publication</th>\n",
              "      <th>Publisher</th>\n",
              "      <th>Image-URL-S</th>\n",
              "      <th>Image-URL-M</th>\n",
              "      <th>Image-URL-L</th>\n",
              "    </tr>\n",
              "  </thead>\n",
              "  <tbody>\n",
              "    <tr>\n",
              "      <th>0</th>\n",
              "      <td>0195153448</td>\n",
              "      <td>Classical Mythology</td>\n",
              "      <td>Mark P. O. Morford</td>\n",
              "      <td>2002</td>\n",
              "      <td>Oxford University Press</td>\n",
              "      <td>http://images.amazon.com/images/P/0195153448.0...</td>\n",
              "      <td>http://images.amazon.com/images/P/0195153448.0...</td>\n",
              "      <td>http://images.amazon.com/images/P/0195153448.0...</td>\n",
              "    </tr>\n",
              "    <tr>\n",
              "      <th>1</th>\n",
              "      <td>0002005018</td>\n",
              "      <td>Clara Callan</td>\n",
              "      <td>Richard Bruce Wright</td>\n",
              "      <td>2001</td>\n",
              "      <td>HarperFlamingo Canada</td>\n",
              "      <td>http://images.amazon.com/images/P/0002005018.0...</td>\n",
              "      <td>http://images.amazon.com/images/P/0002005018.0...</td>\n",
              "      <td>http://images.amazon.com/images/P/0002005018.0...</td>\n",
              "    </tr>\n",
              "    <tr>\n",
              "      <th>2</th>\n",
              "      <td>0060973129</td>\n",
              "      <td>Decision in Normandy</td>\n",
              "      <td>Carlo D'Este</td>\n",
              "      <td>1991</td>\n",
              "      <td>HarperPerennial</td>\n",
              "      <td>http://images.amazon.com/images/P/0060973129.0...</td>\n",
              "      <td>http://images.amazon.com/images/P/0060973129.0...</td>\n",
              "      <td>http://images.amazon.com/images/P/0060973129.0...</td>\n",
              "    </tr>\n",
              "    <tr>\n",
              "      <th>3</th>\n",
              "      <td>0374157065</td>\n",
              "      <td>Flu: The Story of the Great Influenza Pandemic...</td>\n",
              "      <td>Gina Bari Kolata</td>\n",
              "      <td>1999</td>\n",
              "      <td>Farrar Straus Giroux</td>\n",
              "      <td>http://images.amazon.com/images/P/0374157065.0...</td>\n",
              "      <td>http://images.amazon.com/images/P/0374157065.0...</td>\n",
              "      <td>http://images.amazon.com/images/P/0374157065.0...</td>\n",
              "    </tr>\n",
              "    <tr>\n",
              "      <th>4</th>\n",
              "      <td>0393045218</td>\n",
              "      <td>The Mummies of Urumchi</td>\n",
              "      <td>E. J. W. Barber</td>\n",
              "      <td>1999</td>\n",
              "      <td>W. W. Norton &amp;amp; Company</td>\n",
              "      <td>http://images.amazon.com/images/P/0393045218.0...</td>\n",
              "      <td>http://images.amazon.com/images/P/0393045218.0...</td>\n",
              "      <td>http://images.amazon.com/images/P/0393045218.0...</td>\n",
              "    </tr>\n",
              "  </tbody>\n",
              "</table>\n",
              "</div>"
            ],
            "text/plain": [
              "         ISBN                                         Book-Title  \\\n",
              "0  0195153448                                Classical Mythology   \n",
              "1  0002005018                                       Clara Callan   \n",
              "2  0060973129                               Decision in Normandy   \n",
              "3  0374157065  Flu: The Story of the Great Influenza Pandemic...   \n",
              "4  0393045218                             The Mummies of Urumchi   \n",
              "\n",
              "            Book-Author Year-Of-Publication                   Publisher  \\\n",
              "0    Mark P. O. Morford                2002     Oxford University Press   \n",
              "1  Richard Bruce Wright                2001       HarperFlamingo Canada   \n",
              "2          Carlo D'Este                1991             HarperPerennial   \n",
              "3      Gina Bari Kolata                1999        Farrar Straus Giroux   \n",
              "4       E. J. W. Barber                1999  W. W. Norton &amp; Company   \n",
              "\n",
              "                                         Image-URL-S  \\\n",
              "0  http://images.amazon.com/images/P/0195153448.0...   \n",
              "1  http://images.amazon.com/images/P/0002005018.0...   \n",
              "2  http://images.amazon.com/images/P/0060973129.0...   \n",
              "3  http://images.amazon.com/images/P/0374157065.0...   \n",
              "4  http://images.amazon.com/images/P/0393045218.0...   \n",
              "\n",
              "                                         Image-URL-M  \\\n",
              "0  http://images.amazon.com/images/P/0195153448.0...   \n",
              "1  http://images.amazon.com/images/P/0002005018.0...   \n",
              "2  http://images.amazon.com/images/P/0060973129.0...   \n",
              "3  http://images.amazon.com/images/P/0374157065.0...   \n",
              "4  http://images.amazon.com/images/P/0393045218.0...   \n",
              "\n",
              "                                         Image-URL-L  \n",
              "0  http://images.amazon.com/images/P/0195153448.0...  \n",
              "1  http://images.amazon.com/images/P/0002005018.0...  \n",
              "2  http://images.amazon.com/images/P/0060973129.0...  \n",
              "3  http://images.amazon.com/images/P/0374157065.0...  \n",
              "4  http://images.amazon.com/images/P/0393045218.0...  "
            ]
          },
          "execution_count": 3,
          "metadata": {},
          "output_type": "execute_result"
        }
      ],
      "source": [
        "# Xem vài dòng đầu của books_df\n",
        "books_df.head()"
      ]
    },
    {
      "cell_type": "code",
      "execution_count": 4,
      "id": "d031d387",
      "metadata": {},
      "outputs": [
        {
          "data": {
            "text/html": [
              "<div>\n",
              "<style scoped>\n",
              "    .dataframe tbody tr th:only-of-type {\n",
              "        vertical-align: middle;\n",
              "    }\n",
              "\n",
              "    .dataframe tbody tr th {\n",
              "        vertical-align: top;\n",
              "    }\n",
              "\n",
              "    .dataframe thead th {\n",
              "        text-align: right;\n",
              "    }\n",
              "</style>\n",
              "<table border=\"1\" class=\"dataframe\">\n",
              "  <thead>\n",
              "    <tr style=\"text-align: right;\">\n",
              "      <th></th>\n",
              "      <th>User-ID</th>\n",
              "      <th>Location</th>\n",
              "      <th>Age</th>\n",
              "    </tr>\n",
              "  </thead>\n",
              "  <tbody>\n",
              "    <tr>\n",
              "      <th>0</th>\n",
              "      <td>1</td>\n",
              "      <td>nyc, new york, usa</td>\n",
              "      <td>NaN</td>\n",
              "    </tr>\n",
              "    <tr>\n",
              "      <th>1</th>\n",
              "      <td>2</td>\n",
              "      <td>stockton, california, usa</td>\n",
              "      <td>18.0</td>\n",
              "    </tr>\n",
              "    <tr>\n",
              "      <th>2</th>\n",
              "      <td>3</td>\n",
              "      <td>moscow, yukon territory, russia</td>\n",
              "      <td>NaN</td>\n",
              "    </tr>\n",
              "    <tr>\n",
              "      <th>3</th>\n",
              "      <td>4</td>\n",
              "      <td>porto, v.n.gaia, portugal</td>\n",
              "      <td>17.0</td>\n",
              "    </tr>\n",
              "    <tr>\n",
              "      <th>4</th>\n",
              "      <td>5</td>\n",
              "      <td>farnborough, hants, united kingdom</td>\n",
              "      <td>NaN</td>\n",
              "    </tr>\n",
              "  </tbody>\n",
              "</table>\n",
              "</div>"
            ],
            "text/plain": [
              "   User-ID                            Location   Age\n",
              "0        1                  nyc, new york, usa   NaN\n",
              "1        2           stockton, california, usa  18.0\n",
              "2        3     moscow, yukon territory, russia   NaN\n",
              "3        4           porto, v.n.gaia, portugal  17.0\n",
              "4        5  farnborough, hants, united kingdom   NaN"
            ]
          },
          "execution_count": 4,
          "metadata": {},
          "output_type": "execute_result"
        }
      ],
      "source": [
        "# Xem vài dòng đầu của users_df\n",
        "users_df.head()"
      ]
    },
    {
      "cell_type": "code",
      "execution_count": 5,
      "id": "3c944c85",
      "metadata": {},
      "outputs": [
        {
          "data": {
            "text/html": [
              "<div>\n",
              "<style scoped>\n",
              "    .dataframe tbody tr th:only-of-type {\n",
              "        vertical-align: middle;\n",
              "    }\n",
              "\n",
              "    .dataframe tbody tr th {\n",
              "        vertical-align: top;\n",
              "    }\n",
              "\n",
              "    .dataframe thead th {\n",
              "        text-align: right;\n",
              "    }\n",
              "</style>\n",
              "<table border=\"1\" class=\"dataframe\">\n",
              "  <thead>\n",
              "    <tr style=\"text-align: right;\">\n",
              "      <th></th>\n",
              "      <th>User-ID</th>\n",
              "      <th>ISBN</th>\n",
              "      <th>Book-Rating</th>\n",
              "    </tr>\n",
              "  </thead>\n",
              "  <tbody>\n",
              "    <tr>\n",
              "      <th>0</th>\n",
              "      <td>276725</td>\n",
              "      <td>034545104X</td>\n",
              "      <td>0</td>\n",
              "    </tr>\n",
              "    <tr>\n",
              "      <th>1</th>\n",
              "      <td>276726</td>\n",
              "      <td>0155061224</td>\n",
              "      <td>5</td>\n",
              "    </tr>\n",
              "    <tr>\n",
              "      <th>2</th>\n",
              "      <td>276727</td>\n",
              "      <td>0446520802</td>\n",
              "      <td>0</td>\n",
              "    </tr>\n",
              "    <tr>\n",
              "      <th>3</th>\n",
              "      <td>276729</td>\n",
              "      <td>052165615X</td>\n",
              "      <td>3</td>\n",
              "    </tr>\n",
              "    <tr>\n",
              "      <th>4</th>\n",
              "      <td>276729</td>\n",
              "      <td>0521795028</td>\n",
              "      <td>6</td>\n",
              "    </tr>\n",
              "  </tbody>\n",
              "</table>\n",
              "</div>"
            ],
            "text/plain": [
              "   User-ID        ISBN  Book-Rating\n",
              "0   276725  034545104X            0\n",
              "1   276726  0155061224            5\n",
              "2   276727  0446520802            0\n",
              "3   276729  052165615X            3\n",
              "4   276729  0521795028            6"
            ]
          },
          "execution_count": 5,
          "metadata": {},
          "output_type": "execute_result"
        }
      ],
      "source": [
        "# Xem vài dòng đầu của ratings_df\n",
        "ratings_df.head()"
      ]
    },
    {
      "cell_type": "code",
      "execution_count": 6,
      "id": "54640a2d",
      "metadata": {},
      "outputs": [
        {
          "name": "stdout",
          "output_type": "stream",
          "text": [
            "(271360, 8)\n",
            "(278858, 3)\n",
            "(1149780, 3)\n"
          ]
        }
      ],
      "source": [
        "# In kích thước 3 bảng để tổng quan\n",
        "print(books_df.shape)\n",
        "print(users_df.shape)\n",
        "print(ratings_df.shape)"
      ]
    },
    {
      "cell_type": "code",
      "execution_count": 7,
      "id": "f69df30d",
      "metadata": {},
      "outputs": [
        {
          "data": {
            "text/plain": [
              "ISBN                   0\n",
              "Book-Title             0\n",
              "Book-Author            2\n",
              "Year-Of-Publication    0\n",
              "Publisher              2\n",
              "Image-URL-S            0\n",
              "Image-URL-M            0\n",
              "Image-URL-L            3\n",
              "dtype: int64"
            ]
          },
          "execution_count": 7,
          "metadata": {},
          "output_type": "execute_result"
        }
      ],
      "source": [
        "# Kiểm tra số giá trị thiếu (NaN) trong books_df\n",
        "books_df.isnull().sum()"
      ]
    },
    {
      "cell_type": "code",
      "execution_count": 9,
      "id": "9002e1f6",
      "metadata": {},
      "outputs": [
        {
          "name": "stdout",
          "output_type": "stream",
          "text": [
            "(271353, 8)\n"
          ]
        }
      ],
      "source": [
        "# Loại dòng thiếu dữ liệu trong books_df và kiểm tra lại\n",
        "books_df.dropna(inplace=True, how='any')\n",
        "books_df.isnull().sum()\n",
        "print(books_df.shape)"
      ]
    },
    {
      "cell_type": "code",
      "execution_count": 10,
      "id": "631684ce",
      "metadata": {},
      "outputs": [
        {
          "data": {
            "text/plain": [
              "User-ID          0\n",
              "Location         0\n",
              "Age         110762\n",
              "dtype: int64"
            ]
          },
          "execution_count": 10,
          "metadata": {},
          "output_type": "execute_result"
        }
      ],
      "source": [
        "# Kiểm tra số giá trị thiếu trong users_df\n",
        "users_df.isnull().sum()"
      ]
    },
    {
      "cell_type": "code",
      "execution_count": 11,
      "id": "b2d19fbe",
      "metadata": {},
      "outputs": [
        {
          "data": {
            "text/plain": [
              "User-ID        0\n",
              "ISBN           0\n",
              "Book-Rating    0\n",
              "dtype: int64"
            ]
          },
          "execution_count": 11,
          "metadata": {},
          "output_type": "execute_result"
        }
      ],
      "source": [
        "# Kiểm tra số giá trị thiếu trong ratings_df\n",
        "ratings_df.isnull().sum()"
      ]
    },
    {
      "cell_type": "code",
      "execution_count": 12,
      "id": "ac44a53e",
      "metadata": {},
      "outputs": [],
      "source": [
        "# Merge ratings với books theo ISBN thành ratings_books_df\n",
        "ratings_books_df = ratings_df.merge(books_df, on='ISBN')"
      ]
    },
    {
      "cell_type": "code",
      "execution_count": 13,
      "id": "e78adc62",
      "metadata": {},
      "outputs": [
        {
          "data": {
            "text/html": [
              "<div>\n",
              "<style scoped>\n",
              "    .dataframe tbody tr th:only-of-type {\n",
              "        vertical-align: middle;\n",
              "    }\n",
              "\n",
              "    .dataframe tbody tr th {\n",
              "        vertical-align: top;\n",
              "    }\n",
              "\n",
              "    .dataframe thead th {\n",
              "        text-align: right;\n",
              "    }\n",
              "</style>\n",
              "<table border=\"1\" class=\"dataframe\">\n",
              "  <thead>\n",
              "    <tr style=\"text-align: right;\">\n",
              "      <th></th>\n",
              "      <th>User-ID</th>\n",
              "      <th>ISBN</th>\n",
              "      <th>Book-Rating</th>\n",
              "      <th>Book-Title</th>\n",
              "      <th>Book-Author</th>\n",
              "      <th>Year-Of-Publication</th>\n",
              "      <th>Publisher</th>\n",
              "      <th>Image-URL-S</th>\n",
              "      <th>Image-URL-M</th>\n",
              "      <th>Image-URL-L</th>\n",
              "    </tr>\n",
              "  </thead>\n",
              "  <tbody>\n",
              "    <tr>\n",
              "      <th>0</th>\n",
              "      <td>276725</td>\n",
              "      <td>034545104X</td>\n",
              "      <td>0</td>\n",
              "      <td>Flesh Tones: A Novel</td>\n",
              "      <td>M. J. Rose</td>\n",
              "      <td>2002</td>\n",
              "      <td>Ballantine Books</td>\n",
              "      <td>http://images.amazon.com/images/P/034545104X.0...</td>\n",
              "      <td>http://images.amazon.com/images/P/034545104X.0...</td>\n",
              "      <td>http://images.amazon.com/images/P/034545104X.0...</td>\n",
              "    </tr>\n",
              "    <tr>\n",
              "      <th>1</th>\n",
              "      <td>276726</td>\n",
              "      <td>0155061224</td>\n",
              "      <td>5</td>\n",
              "      <td>Rites of Passage</td>\n",
              "      <td>Judith Rae</td>\n",
              "      <td>2001</td>\n",
              "      <td>Heinle</td>\n",
              "      <td>http://images.amazon.com/images/P/0155061224.0...</td>\n",
              "      <td>http://images.amazon.com/images/P/0155061224.0...</td>\n",
              "      <td>http://images.amazon.com/images/P/0155061224.0...</td>\n",
              "    </tr>\n",
              "    <tr>\n",
              "      <th>2</th>\n",
              "      <td>276727</td>\n",
              "      <td>0446520802</td>\n",
              "      <td>0</td>\n",
              "      <td>The Notebook</td>\n",
              "      <td>Nicholas Sparks</td>\n",
              "      <td>1996</td>\n",
              "      <td>Warner Books</td>\n",
              "      <td>http://images.amazon.com/images/P/0446520802.0...</td>\n",
              "      <td>http://images.amazon.com/images/P/0446520802.0...</td>\n",
              "      <td>http://images.amazon.com/images/P/0446520802.0...</td>\n",
              "    </tr>\n",
              "    <tr>\n",
              "      <th>3</th>\n",
              "      <td>276729</td>\n",
              "      <td>052165615X</td>\n",
              "      <td>3</td>\n",
              "      <td>Help!: Level 1</td>\n",
              "      <td>Philip Prowse</td>\n",
              "      <td>1999</td>\n",
              "      <td>Cambridge University Press</td>\n",
              "      <td>http://images.amazon.com/images/P/052165615X.0...</td>\n",
              "      <td>http://images.amazon.com/images/P/052165615X.0...</td>\n",
              "      <td>http://images.amazon.com/images/P/052165615X.0...</td>\n",
              "    </tr>\n",
              "    <tr>\n",
              "      <th>4</th>\n",
              "      <td>276729</td>\n",
              "      <td>0521795028</td>\n",
              "      <td>6</td>\n",
              "      <td>The Amsterdam Connection : Level 4 (Cambridge ...</td>\n",
              "      <td>Sue Leather</td>\n",
              "      <td>2001</td>\n",
              "      <td>Cambridge University Press</td>\n",
              "      <td>http://images.amazon.com/images/P/0521795028.0...</td>\n",
              "      <td>http://images.amazon.com/images/P/0521795028.0...</td>\n",
              "      <td>http://images.amazon.com/images/P/0521795028.0...</td>\n",
              "    </tr>\n",
              "  </tbody>\n",
              "</table>\n",
              "</div>"
            ],
            "text/plain": [
              "   User-ID        ISBN  Book-Rating  \\\n",
              "0   276725  034545104X            0   \n",
              "1   276726  0155061224            5   \n",
              "2   276727  0446520802            0   \n",
              "3   276729  052165615X            3   \n",
              "4   276729  0521795028            6   \n",
              "\n",
              "                                          Book-Title      Book-Author  \\\n",
              "0                               Flesh Tones: A Novel       M. J. Rose   \n",
              "1                                   Rites of Passage       Judith Rae   \n",
              "2                                       The Notebook  Nicholas Sparks   \n",
              "3                                     Help!: Level 1    Philip Prowse   \n",
              "4  The Amsterdam Connection : Level 4 (Cambridge ...      Sue Leather   \n",
              "\n",
              "  Year-Of-Publication                   Publisher  \\\n",
              "0                2002            Ballantine Books   \n",
              "1                2001                      Heinle   \n",
              "2                1996                Warner Books   \n",
              "3                1999  Cambridge University Press   \n",
              "4                2001  Cambridge University Press   \n",
              "\n",
              "                                         Image-URL-S  \\\n",
              "0  http://images.amazon.com/images/P/034545104X.0...   \n",
              "1  http://images.amazon.com/images/P/0155061224.0...   \n",
              "2  http://images.amazon.com/images/P/0446520802.0...   \n",
              "3  http://images.amazon.com/images/P/052165615X.0...   \n",
              "4  http://images.amazon.com/images/P/0521795028.0...   \n",
              "\n",
              "                                         Image-URL-M  \\\n",
              "0  http://images.amazon.com/images/P/034545104X.0...   \n",
              "1  http://images.amazon.com/images/P/0155061224.0...   \n",
              "2  http://images.amazon.com/images/P/0446520802.0...   \n",
              "3  http://images.amazon.com/images/P/052165615X.0...   \n",
              "4  http://images.amazon.com/images/P/0521795028.0...   \n",
              "\n",
              "                                         Image-URL-L  \n",
              "0  http://images.amazon.com/images/P/034545104X.0...  \n",
              "1  http://images.amazon.com/images/P/0155061224.0...  \n",
              "2  http://images.amazon.com/images/P/0446520802.0...  \n",
              "3  http://images.amazon.com/images/P/052165615X.0...  \n",
              "4  http://images.amazon.com/images/P/0521795028.0...  "
            ]
          },
          "execution_count": 13,
          "metadata": {},
          "output_type": "execute_result"
        }
      ],
      "source": [
        "# Xem vài dòng đầu của ratings_books_df\n",
        "ratings_books_df.head()"
      ]
    },
    {
      "cell_type": "code",
      "execution_count": 14,
      "id": "fdb97833",
      "metadata": {},
      "outputs": [
        {
          "data": {
            "text/html": [
              "<div>\n",
              "<style scoped>\n",
              "    .dataframe tbody tr th:only-of-type {\n",
              "        vertical-align: middle;\n",
              "    }\n",
              "\n",
              "    .dataframe tbody tr th {\n",
              "        vertical-align: top;\n",
              "    }\n",
              "\n",
              "    .dataframe thead th {\n",
              "        text-align: right;\n",
              "    }\n",
              "</style>\n",
              "<table border=\"1\" class=\"dataframe\">\n",
              "  <thead>\n",
              "    <tr style=\"text-align: right;\">\n",
              "      <th></th>\n",
              "      <th>Book-Title</th>\n",
              "      <th>Book-Rating</th>\n",
              "    </tr>\n",
              "  </thead>\n",
              "  <tbody>\n",
              "    <tr>\n",
              "      <th>0</th>\n",
              "      <td>A Light in the Storm: The Civil War Diary of ...</td>\n",
              "      <td>4</td>\n",
              "    </tr>\n",
              "    <tr>\n",
              "      <th>1</th>\n",
              "      <td>Always Have Popsicles</td>\n",
              "      <td>1</td>\n",
              "    </tr>\n",
              "    <tr>\n",
              "      <th>2</th>\n",
              "      <td>Apple Magic (The Collector's series)</td>\n",
              "      <td>1</td>\n",
              "    </tr>\n",
              "    <tr>\n",
              "      <th>3</th>\n",
              "      <td>Ask Lily (Young Women of Faith: Lily Series, ...</td>\n",
              "      <td>1</td>\n",
              "    </tr>\n",
              "    <tr>\n",
              "      <th>4</th>\n",
              "      <td>Beyond IBM: Leadership Marketing and Finance ...</td>\n",
              "      <td>1</td>\n",
              "    </tr>\n",
              "  </tbody>\n",
              "</table>\n",
              "</div>"
            ],
            "text/plain": [
              "                                          Book-Title  Book-Rating\n",
              "0   A Light in the Storm: The Civil War Diary of ...            4\n",
              "1                              Always Have Popsicles            1\n",
              "2               Apple Magic (The Collector's series)            1\n",
              "3   Ask Lily (Young Women of Faith: Lily Series, ...            1\n",
              "4   Beyond IBM: Leadership Marketing and Finance ...            1"
            ]
          },
          "execution_count": 14,
          "metadata": {},
          "output_type": "execute_result"
        }
      ],
      "source": [
        "# Đếm số lượng đánh giá theo tiêu đề sách (num_ratings)\n",
        "rating_numbers_df = ratings_books_df.groupby('Book-Title').count()['Book-Rating'].reset_index()\n",
        "rating_numbers_df.head()"
      ]
    },
    {
      "cell_type": "code",
      "execution_count": 16,
      "id": "299e2033",
      "metadata": {},
      "outputs": [
        {
          "data": {
            "text/html": [
              "<div>\n",
              "<style scoped>\n",
              "    .dataframe tbody tr th:only-of-type {\n",
              "        vertical-align: middle;\n",
              "    }\n",
              "\n",
              "    .dataframe tbody tr th {\n",
              "        vertical-align: top;\n",
              "    }\n",
              "\n",
              "    .dataframe thead th {\n",
              "        text-align: right;\n",
              "    }\n",
              "</style>\n",
              "<table border=\"1\" class=\"dataframe\">\n",
              "  <thead>\n",
              "    <tr style=\"text-align: right;\">\n",
              "      <th></th>\n",
              "      <th>Book-Title</th>\n",
              "      <th>Book-Rating</th>\n",
              "    </tr>\n",
              "  </thead>\n",
              "  <tbody>\n",
              "    <tr>\n",
              "      <th>0</th>\n",
              "      <td>A Light in the Storm: The Civil War Diary of ...</td>\n",
              "      <td>2.25</td>\n",
              "    </tr>\n",
              "    <tr>\n",
              "      <th>1</th>\n",
              "      <td>Always Have Popsicles</td>\n",
              "      <td>0.00</td>\n",
              "    </tr>\n",
              "    <tr>\n",
              "      <th>2</th>\n",
              "      <td>Apple Magic (The Collector's series)</td>\n",
              "      <td>0.00</td>\n",
              "    </tr>\n",
              "    <tr>\n",
              "      <th>3</th>\n",
              "      <td>Ask Lily (Young Women of Faith: Lily Series, ...</td>\n",
              "      <td>8.00</td>\n",
              "    </tr>\n",
              "    <tr>\n",
              "      <th>4</th>\n",
              "      <td>Beyond IBM: Leadership Marketing and Finance ...</td>\n",
              "      <td>0.00</td>\n",
              "    </tr>\n",
              "  </tbody>\n",
              "</table>\n",
              "</div>"
            ],
            "text/plain": [
              "                                          Book-Title  Book-Rating\n",
              "0   A Light in the Storm: The Civil War Diary of ...         2.25\n",
              "1                              Always Have Popsicles         0.00\n",
              "2               Apple Magic (The Collector's series)         0.00\n",
              "3   Ask Lily (Young Women of Faith: Lily Series, ...         8.00\n",
              "4   Beyond IBM: Leadership Marketing and Finance ...         0.00"
            ]
          },
          "execution_count": 16,
          "metadata": {},
          "output_type": "execute_result"
        }
      ],
      "source": [
        "# Tính điểm trung bình đánh giá theo tiêu đề sách (avg_rating)\n",
        "rating_avg_df = ratings_books_df.groupby('Book-Title')['Book-Rating'].mean().reset_index()\n",
        "rating_avg_df.head()"
      ]
    },
    {
      "cell_type": "code",
      "execution_count": 17,
      "id": "23fc3ef0",
      "metadata": {},
      "outputs": [
        {
          "data": {
            "text/html": [
              "<div>\n",
              "<style scoped>\n",
              "    .dataframe tbody tr th:only-of-type {\n",
              "        vertical-align: middle;\n",
              "    }\n",
              "\n",
              "    .dataframe tbody tr th {\n",
              "        vertical-align: top;\n",
              "    }\n",
              "\n",
              "    .dataframe thead th {\n",
              "        text-align: right;\n",
              "    }\n",
              "</style>\n",
              "<table border=\"1\" class=\"dataframe\">\n",
              "  <thead>\n",
              "    <tr style=\"text-align: right;\">\n",
              "      <th></th>\n",
              "      <th>Book-Title</th>\n",
              "      <th>num_ratings</th>\n",
              "      <th>avg_rating</th>\n",
              "    </tr>\n",
              "  </thead>\n",
              "  <tbody>\n",
              "    <tr>\n",
              "      <th>0</th>\n",
              "      <td>A Light in the Storm: The Civil War Diary of ...</td>\n",
              "      <td>4</td>\n",
              "      <td>2.25</td>\n",
              "    </tr>\n",
              "    <tr>\n",
              "      <th>1</th>\n",
              "      <td>Always Have Popsicles</td>\n",
              "      <td>1</td>\n",
              "      <td>0.00</td>\n",
              "    </tr>\n",
              "    <tr>\n",
              "      <th>2</th>\n",
              "      <td>Apple Magic (The Collector's series)</td>\n",
              "      <td>1</td>\n",
              "      <td>0.00</td>\n",
              "    </tr>\n",
              "    <tr>\n",
              "      <th>3</th>\n",
              "      <td>Ask Lily (Young Women of Faith: Lily Series, ...</td>\n",
              "      <td>1</td>\n",
              "      <td>8.00</td>\n",
              "    </tr>\n",
              "    <tr>\n",
              "      <th>4</th>\n",
              "      <td>Beyond IBM: Leadership Marketing and Finance ...</td>\n",
              "      <td>1</td>\n",
              "      <td>0.00</td>\n",
              "    </tr>\n",
              "  </tbody>\n",
              "</table>\n",
              "</div>"
            ],
            "text/plain": [
              "                                          Book-Title  num_ratings  avg_rating\n",
              "0   A Light in the Storm: The Civil War Diary of ...            4        2.25\n",
              "1                              Always Have Popsicles            1        0.00\n",
              "2               Apple Magic (The Collector's series)            1        0.00\n",
              "3   Ask Lily (Young Women of Faith: Lily Series, ...            1        8.00\n",
              "4   Beyond IBM: Leadership Marketing and Finance ...            1        0.00"
            ]
          },
          "execution_count": 17,
          "metadata": {},
          "output_type": "execute_result"
        }
      ],
      "source": [
        "# Đổi tên cột, gộp num_ratings và avg_rating thành rating_total\n",
        "rating_numbers_df.rename(columns={'Book-Rating': 'num_ratings'}, inplace=True)\n",
        "rating_avg_df.rename(columns={'Book-Rating': 'avg_rating'}, inplace=True)\n",
        "rating_total = rating_numbers_df.merge(rating_avg_df, on='Book-Title')\n",
        "rating_total.head()"
      ]
    },
    {
      "cell_type": "code",
      "execution_count": 18,
      "id": "4ad54e52",
      "metadata": {},
      "outputs": [
        {
          "name": "stdout",
          "output_type": "stream",
          "text": [
            "1\n",
            "2502\n",
            "4.277385767324166\n"
          ]
        }
      ],
      "source": [
        "# In min/max/mean của số lượng đánh giá (num_ratings)\n",
        "print(rating_total['num_ratings'].min())\n",
        "print(rating_total['num_ratings'].max())\n",
        "print(rating_total['num_ratings'].mean())"
      ]
    },
    {
      "cell_type": "code",
      "execution_count": 20,
      "id": "6a62d6e3",
      "metadata": {},
      "outputs": [
        {
          "name": "stdout",
          "output_type": "stream",
          "text": [
            "0.0\n",
            "10.0\n",
            "2.8900809963074625\n"
          ]
        }
      ],
      "source": [
        "# In min/max/mean của điểm trung bình (avg_rating)\n",
        "print(rating_total['avg_rating'].min())\n",
        "print(rating_total['avg_rating'].max())\n",
        "print(rating_total['avg_rating'].mean())"
      ]
    },
    {
      "cell_type": "code",
      "execution_count": 22,
      "id": "72b3f827",
      "metadata": {},
      "outputs": [
        {
          "name": "stderr",
          "output_type": "stream",
          "text": [
            "/var/folders/10/3dssf0p51vzgb7zfm9xl0vrm0000gn/T/ipykernel_91576/3841336352.py:5: FutureWarning: \n",
            "\n",
            "`shade` is now deprecated in favor of `fill`; setting `fill=True`.\n",
            "This will become an error in seaborn v0.14.0; please update your code.\n",
            "\n",
            "  sns.kdeplot(rating_total['num_ratings'].unique(), shade=True)\n"
          ]
        },
        {
          "data": {
            "image/png": "[encoded data removed]",
            "text/plain": [
              "<Figure size 1000x600 with 1 Axes>"
            ]
          },
          "metadata": {},
          "output_type": "display_data"
        }
      ],
      "source": [
        "# Vẽ KDE phân phối số lượng đánh giá mỗi sách\n",
        "import matplotlib.pyplot as plt\n",
        "import seaborn as sns\n",
        "\n",
        "plt.figure(figsize=(10, 6))\n",
        "sns.kdeplot(rating_total['num_ratings'].unique(), shade=True)\n",
        "plt.title('Distribution of Number of Ratings per Book')\n",
        "plt.xlabel('Number of Ratings')\n",
        "plt.ylabel('Density')\n",
        "plt.show()"
      ]
    },
    {
      "cell_type": "code",
      "execution_count": 23,
      "id": "cc293ca9",
      "metadata": {},
      "outputs": [
        {
          "data": {
            "text/html": [
              "<div>\n",
              "<style scoped>\n",
              "    .dataframe tbody tr th:only-of-type {\n",
              "        vertical-align: middle;\n",
              "    }\n",
              "\n",
              "    .dataframe tbody tr th {\n",
              "        vertical-align: top;\n",
              "    }\n",
              "\n",
              "    .dataframe thead th {\n",
              "        text-align: right;\n",
              "    }\n",
              "</style>\n",
              "<table border=\"1\" class=\"dataframe\">\n",
              "  <thead>\n",
              "    <tr style=\"text-align: right;\">\n",
              "      <th></th>\n",
              "      <th>Book-Title</th>\n",
              "      <th>num_ratings</th>\n",
              "      <th>avg_rating</th>\n",
              "    </tr>\n",
              "  </thead>\n",
              "  <tbody>\n",
              "    <tr>\n",
              "      <th>80431</th>\n",
              "      <td>Harry Potter and the Prisoner of Azkaban (Book 3)</td>\n",
              "      <td>428</td>\n",
              "      <td>5.852804</td>\n",
              "    </tr>\n",
              "    <tr>\n",
              "      <th>80419</th>\n",
              "      <td>Harry Potter and the Goblet of Fire (Book 4)</td>\n",
              "      <td>387</td>\n",
              "      <td>5.824289</td>\n",
              "    </tr>\n",
              "    <tr>\n",
              "      <th>195667</th>\n",
              "      <td>The Little Prince</td>\n",
              "      <td>141</td>\n",
              "      <td>5.815603</td>\n",
              "    </tr>\n",
              "    <tr>\n",
              "      <th>80438</th>\n",
              "      <td>Harry Potter and the Sorcerer's Stone (Book 1)</td>\n",
              "      <td>278</td>\n",
              "      <td>5.737410</td>\n",
              "    </tr>\n",
              "    <tr>\n",
              "      <th>80423</th>\n",
              "      <td>Harry Potter and the Order of the Phoenix (Boo...</td>\n",
              "      <td>347</td>\n",
              "      <td>5.501441</td>\n",
              "    </tr>\n",
              "    <tr>\n",
              "      <th>60579</th>\n",
              "      <td>Ender's Game (Ender Wiggins Saga (Paperback))</td>\n",
              "      <td>249</td>\n",
              "      <td>5.409639</td>\n",
              "    </tr>\n",
              "    <tr>\n",
              "      <th>80411</th>\n",
              "      <td>Harry Potter and the Chamber of Secrets (Book 2)</td>\n",
              "      <td>556</td>\n",
              "      <td>5.183453</td>\n",
              "    </tr>\n",
              "    <tr>\n",
              "      <th>201965</th>\n",
              "      <td>The Perks of Being a Wallflower</td>\n",
              "      <td>104</td>\n",
              "      <td>5.144231</td>\n",
              "    </tr>\n",
              "    <tr>\n",
              "      <th>191607</th>\n",
              "      <td>The Hobbit : The Enchanting Prelude to The Lor...</td>\n",
              "      <td>281</td>\n",
              "      <td>5.007117</td>\n",
              "    </tr>\n",
              "    <tr>\n",
              "      <th>187372</th>\n",
              "      <td>The Fellowship of the Ring (The Lord of the Ri...</td>\n",
              "      <td>368</td>\n",
              "      <td>4.948370</td>\n",
              "    </tr>\n",
              "  </tbody>\n",
              "</table>\n",
              "</div>"
            ],
            "text/plain": [
              "                                               Book-Title  num_ratings  \\\n",
              "80431   Harry Potter and the Prisoner of Azkaban (Book 3)          428   \n",
              "80419        Harry Potter and the Goblet of Fire (Book 4)          387   \n",
              "195667                                  The Little Prince          141   \n",
              "80438      Harry Potter and the Sorcerer's Stone (Book 1)          278   \n",
              "80423   Harry Potter and the Order of the Phoenix (Boo...          347   \n",
              "60579       Ender's Game (Ender Wiggins Saga (Paperback))          249   \n",
              "80411    Harry Potter and the Chamber of Secrets (Book 2)          556   \n",
              "201965                    The Perks of Being a Wallflower          104   \n",
              "191607  The Hobbit : The Enchanting Prelude to The Lor...          281   \n",
              "187372  The Fellowship of the Ring (The Lord of the Ri...          368   \n",
              "\n",
              "        avg_rating  \n",
              "80431     5.852804  \n",
              "80419     5.824289  \n",
              "195667    5.815603  \n",
              "80438     5.737410  \n",
              "80423     5.501441  \n",
              "60579     5.409639  \n",
              "80411     5.183453  \n",
              "201965    5.144231  \n",
              "191607    5.007117  \n",
              "187372    4.948370  "
            ]
          },
          "execution_count": 23,
          "metadata": {},
          "output_type": "execute_result"
        }
      ],
      "source": [
        "# Lọc sách có >=100 đánh giá và sắp xếp theo avg_rating\n",
        "popular_rating_df = rating_total[rating_total['num_ratings'] >= 100].sort_values('avg_rating', ascending=False)\n",
        "popular_rating_df.head(10)"
      ]
    },
    {
      "cell_type": "code",
      "execution_count": 26,
      "id": "389387d9",
      "metadata": {},
      "outputs": [
        {
          "data": {
            "text/html": [
              "<div>\n",
              "<style scoped>\n",
              "    .dataframe tbody tr th:only-of-type {\n",
              "        vertical-align: middle;\n",
              "    }\n",
              "\n",
              "    .dataframe tbody tr th {\n",
              "        vertical-align: top;\n",
              "    }\n",
              "\n",
              "    .dataframe thead th {\n",
              "        text-align: right;\n",
              "    }\n",
              "</style>\n",
              "<table border=\"1\" class=\"dataframe\">\n",
              "  <thead>\n",
              "    <tr style=\"text-align: right;\">\n",
              "      <th></th>\n",
              "      <th>Book-Title</th>\n",
              "      <th>num_ratings</th>\n",
              "      <th>avg_rating</th>\n",
              "      <th>ISBN</th>\n",
              "      <th>Book-Author</th>\n",
              "      <th>Year-Of-Publication</th>\n",
              "      <th>Publisher</th>\n",
              "      <th>Image-URL-S</th>\n",
              "      <th>Image-URL-M</th>\n",
              "      <th>Image-URL-L</th>\n",
              "    </tr>\n",
              "  </thead>\n",
              "  <tbody>\n",
              "    <tr>\n",
              "      <th>0</th>\n",
              "      <td>Harry Potter and the Prisoner of Azkaban (Book 3)</td>\n",
              "      <td>428</td>\n",
              "      <td>5.852804</td>\n",
              "      <td>0439136350</td>\n",
              "      <td>J. K. Rowling</td>\n",
              "      <td>1999</td>\n",
              "      <td>Scholastic</td>\n",
              "      <td>http://images.amazon.com/images/P/0439136350.0...</td>\n",
              "      <td>http://images.amazon.com/images/P/0439136350.0...</td>\n",
              "      <td>http://images.amazon.com/images/P/0439136350.0...</td>\n",
              "    </tr>\n",
              "    <tr>\n",
              "      <th>3</th>\n",
              "      <td>Harry Potter and the Goblet of Fire (Book 4)</td>\n",
              "      <td>387</td>\n",
              "      <td>5.824289</td>\n",
              "      <td>0439139597</td>\n",
              "      <td>J. K. Rowling</td>\n",
              "      <td>2000</td>\n",
              "      <td>Scholastic</td>\n",
              "      <td>http://images.amazon.com/images/P/0439139597.0...</td>\n",
              "      <td>http://images.amazon.com/images/P/0439139597.0...</td>\n",
              "      <td>http://images.amazon.com/images/P/0439139597.0...</td>\n",
              "    </tr>\n",
              "    <tr>\n",
              "      <th>5</th>\n",
              "      <td>The Little Prince</td>\n",
              "      <td>141</td>\n",
              "      <td>5.815603</td>\n",
              "      <td>0156528207</td>\n",
              "      <td>Antoine de Saint-ExupÃ©ry</td>\n",
              "      <td>1968</td>\n",
              "      <td>Harcourt</td>\n",
              "      <td>http://images.amazon.com/images/P/0156528207.0...</td>\n",
              "      <td>http://images.amazon.com/images/P/0156528207.0...</td>\n",
              "      <td>http://images.amazon.com/images/P/0156528207.0...</td>\n",
              "    </tr>\n",
              "    <tr>\n",
              "      <th>10</th>\n",
              "      <td>Harry Potter and the Sorcerer's Stone (Book 1)</td>\n",
              "      <td>278</td>\n",
              "      <td>5.737410</td>\n",
              "      <td>0590353403</td>\n",
              "      <td>J. K. Rowling</td>\n",
              "      <td>1998</td>\n",
              "      <td>Scholastic</td>\n",
              "      <td>http://images.amazon.com/images/P/0590353403.0...</td>\n",
              "      <td>http://images.amazon.com/images/P/0590353403.0...</td>\n",
              "      <td>http://images.amazon.com/images/P/0590353403.0...</td>\n",
              "    </tr>\n",
              "    <tr>\n",
              "      <th>14</th>\n",
              "      <td>Harry Potter and the Order of the Phoenix (Boo...</td>\n",
              "      <td>347</td>\n",
              "      <td>5.501441</td>\n",
              "      <td>043935806X</td>\n",
              "      <td>J. K. Rowling</td>\n",
              "      <td>2003</td>\n",
              "      <td>Scholastic</td>\n",
              "      <td>http://images.amazon.com/images/P/043935806X.0...</td>\n",
              "      <td>http://images.amazon.com/images/P/043935806X.0...</td>\n",
              "      <td>http://images.amazon.com/images/P/043935806X.0...</td>\n",
              "    </tr>\n",
              "  </tbody>\n",
              "</table>\n",
              "</div>"
            ],
            "text/plain": [
              "                                           Book-Title  num_ratings  \\\n",
              "0   Harry Potter and the Prisoner of Azkaban (Book 3)          428   \n",
              "3        Harry Potter and the Goblet of Fire (Book 4)          387   \n",
              "5                                   The Little Prince          141   \n",
              "10     Harry Potter and the Sorcerer's Stone (Book 1)          278   \n",
              "14  Harry Potter and the Order of the Phoenix (Boo...          347   \n",
              "\n",
              "    avg_rating        ISBN                Book-Author Year-Of-Publication  \\\n",
              "0     5.852804  0439136350              J. K. Rowling                1999   \n",
              "3     5.824289  0439139597              J. K. Rowling                2000   \n",
              "5     5.815603  0156528207  Antoine de Saint-ExupÃ©ry                1968   \n",
              "10    5.737410  0590353403              J. K. Rowling                1998   \n",
              "14    5.501441  043935806X              J. K. Rowling                2003   \n",
              "\n",
              "     Publisher                                        Image-URL-S  \\\n",
              "0   Scholastic  http://images.amazon.com/images/P/0439136350.0...   \n",
              "3   Scholastic  http://images.amazon.com/images/P/0439139597.0...   \n",
              "5     Harcourt  http://images.amazon.com/images/P/0156528207.0...   \n",
              "10  Scholastic  http://images.amazon.com/images/P/0590353403.0...   \n",
              "14  Scholastic  http://images.amazon.com/images/P/043935806X.0...   \n",
              "\n",
              "                                          Image-URL-M  \\\n",
              "0   http://images.amazon.com/images/P/0439136350.0...   \n",
              "3   http://images.amazon.com/images/P/0439139597.0...   \n",
              "5   http://images.amazon.com/images/P/0156528207.0...   \n",
              "10  http://images.amazon.com/images/P/0590353403.0...   \n",
              "14  http://images.amazon.com/images/P/043935806X.0...   \n",
              "\n",
              "                                          Image-URL-L  \n",
              "0   http://images.amazon.com/images/P/0439136350.0...  \n",
              "3   http://images.amazon.com/images/P/0439139597.0...  \n",
              "5   http://images.amazon.com/images/P/0156528207.0...  \n",
              "10  http://images.amazon.com/images/P/0590353403.0...  \n",
              "14  http://images.amazon.com/images/P/043935806X.0...  "
            ]
          },
          "execution_count": 26,
          "metadata": {},
          "output_type": "execute_result"
        }
      ],
      "source": [
        "# Nối với books_df để thêm metadata và loại trùng tiêu đề\n",
        "popular_books_df = popular_rating_df.merge(books_df, on='Book-Title').drop_duplicates('Book-Title')\n",
        "popular_books_df.head()"
      ]
    },
    {
      "cell_type": "code",
      "execution_count": 27,
      "id": "b57711d2",
      "metadata": {},
      "outputs": [
        {
          "data": {
            "text/plain": [
              "(50, 10)"
            ]
          },
          "execution_count": 27,
          "metadata": {},
          "output_type": "execute_result"
        }
      ],
      "source": [
        "# Lấy top 50 sách phổ biến, in kích thước\n",
        "popular_books_df = popular_books_df.head(50)\n",
        "popular_books_df.shape"
      ]
    },
    {
      "cell_type": "code",
      "execution_count": 28,
      "id": "5561435d",
      "metadata": {},
      "outputs": [],
      "source": [
        "# Xác định expert users (>=200 đánh giá) và lấy danh sách ID\n",
        "expert_users = ratings_books_df.groupby('User-ID').count()['Book-Rating'] >= 200\n",
        "expert_users_index = expert_users[expert_users].index"
      ]
    },
    {
      "cell_type": "code",
      "execution_count": null,
      "id": "38f8eeab",
      "metadata": {},
      "outputs": [
        {
          "data": {
            "text/plain": [
              "(475002, 10)"
            ]
          },
          "execution_count": 29,
          "metadata": {},
          "output_type": "execute_result"
        }
      ],
      "source": [
        "# Lọc đánh giá chỉ từ expert users\n",
        "books_rated_by_expert = ratings_books_df[ratings_books_df['User-ID'].isin(expert_users_index)]\n",
        "books_rated_by_expert.head()\n",
        "books_rated_by_expert.shape"
      ]
    },
    {
      "cell_type": "code",
      "execution_count": 30,
      "id": "ab9eff32",
      "metadata": {},
      "outputs": [],
      "source": [
        "# Chọn sách có >=50 đánh giá trong tập expert users\n",
        "top_books_rated_by_expert = books_rated_by_expert.groupby('Book-Title').count()['Book-Rating'] >= 50\n",
        "top_books_rated_by_expert_index = top_books_rated_by_expert[top_books_rated_by_expert].index"
      ]
    },
    {
      "cell_type": "code",
      "execution_count": null,
      "id": "a8b6173b",
      "metadata": {},
      "outputs": [
        {
          "data": {
            "text/html": [
              "<div>\n",
              "<style scoped>\n",
              "    .dataframe tbody tr th:only-of-type {\n",
              "        vertical-align: middle;\n",
              "    }\n",
              "\n",
              "    .dataframe tbody tr th {\n",
              "        vertical-align: top;\n",
              "    }\n",
              "\n",
              "    .dataframe thead th {\n",
              "        text-align: right;\n",
              "    }\n",
              "</style>\n",
              "<table border=\"1\" class=\"dataframe\">\n",
              "  <thead>\n",
              "    <tr style=\"text-align: right;\">\n",
              "      <th></th>\n",
              "      <th>User-ID</th>\n",
              "      <th>ISBN</th>\n",
              "      <th>Book-Rating</th>\n",
              "      <th>Book-Title</th>\n",
              "      <th>Book-Author</th>\n",
              "      <th>Year-Of-Publication</th>\n",
              "      <th>Publisher</th>\n",
              "      <th>Image-URL-S</th>\n",
              "      <th>Image-URL-M</th>\n",
              "      <th>Image-URL-L</th>\n",
              "    </tr>\n",
              "  </thead>\n",
              "  <tbody>\n",
              "    <tr>\n",
              "      <th>1150</th>\n",
              "      <td>277427</td>\n",
              "      <td>002542730X</td>\n",
              "      <td>10</td>\n",
              "      <td>Politically Correct Bedtime Stories: Modern Ta...</td>\n",
              "      <td>James Finn Garner</td>\n",
              "      <td>1994</td>\n",
              "      <td>John Wiley &amp;amp; Sons Inc</td>\n",
              "      <td>http://images.amazon.com/images/P/002542730X.0...</td>\n",
              "      <td>http://images.amazon.com/images/P/002542730X.0...</td>\n",
              "      <td>http://images.amazon.com/images/P/002542730X.0...</td>\n",
              "    </tr>\n",
              "    <tr>\n",
              "      <th>1163</th>\n",
              "      <td>277427</td>\n",
              "      <td>0060930535</td>\n",
              "      <td>0</td>\n",
              "      <td>The Poisonwood Bible: A Novel</td>\n",
              "      <td>Barbara Kingsolver</td>\n",
              "      <td>1999</td>\n",
              "      <td>Perennial</td>\n",
              "      <td>http://images.amazon.com/images/P/0060930535.0...</td>\n",
              "      <td>http://images.amazon.com/images/P/0060930535.0...</td>\n",
              "      <td>http://images.amazon.com/images/P/0060930535.0...</td>\n",
              "    </tr>\n",
              "    <tr>\n",
              "      <th>1165</th>\n",
              "      <td>277427</td>\n",
              "      <td>0060934417</td>\n",
              "      <td>0</td>\n",
              "      <td>Bel Canto: A Novel</td>\n",
              "      <td>Ann Patchett</td>\n",
              "      <td>2002</td>\n",
              "      <td>Perennial</td>\n",
              "      <td>http://images.amazon.com/images/P/0060934417.0...</td>\n",
              "      <td>http://images.amazon.com/images/P/0060934417.0...</td>\n",
              "      <td>http://images.amazon.com/images/P/0060934417.0...</td>\n",
              "    </tr>\n",
              "    <tr>\n",
              "      <th>1168</th>\n",
              "      <td>277427</td>\n",
              "      <td>0061009059</td>\n",
              "      <td>9</td>\n",
              "      <td>One for the Money (Stephanie Plum Novels (Pape...</td>\n",
              "      <td>Janet Evanovich</td>\n",
              "      <td>1995</td>\n",
              "      <td>HarperTorch</td>\n",
              "      <td>http://images.amazon.com/images/P/0061009059.0...</td>\n",
              "      <td>http://images.amazon.com/images/P/0061009059.0...</td>\n",
              "      <td>http://images.amazon.com/images/P/0061009059.0...</td>\n",
              "    </tr>\n",
              "    <tr>\n",
              "      <th>1174</th>\n",
              "      <td>277427</td>\n",
              "      <td>006440188X</td>\n",
              "      <td>0</td>\n",
              "      <td>The Secret Garden</td>\n",
              "      <td>Frances Hodgson Burnett</td>\n",
              "      <td>1998</td>\n",
              "      <td>HarperTrophy</td>\n",
              "      <td>http://images.amazon.com/images/P/006440188X.0...</td>\n",
              "      <td>http://images.amazon.com/images/P/006440188X.0...</td>\n",
              "      <td>http://images.amazon.com/images/P/006440188X.0...</td>\n",
              "    </tr>\n",
              "  </tbody>\n",
              "</table>\n",
              "</div>"
            ],
            "text/plain": [
              "      User-ID        ISBN  Book-Rating  \\\n",
              "1150   277427  002542730X           10   \n",
              "1163   277427  0060930535            0   \n",
              "1165   277427  0060934417            0   \n",
              "1168   277427  0061009059            9   \n",
              "1174   277427  006440188X            0   \n",
              "\n",
              "                                             Book-Title  \\\n",
              "1150  Politically Correct Bedtime Stories: Modern Ta...   \n",
              "1163                      The Poisonwood Bible: A Novel   \n",
              "1165                                 Bel Canto: A Novel   \n",
              "1168  One for the Money (Stephanie Plum Novels (Pape...   \n",
              "1174                                  The Secret Garden   \n",
              "\n",
              "                  Book-Author Year-Of-Publication                  Publisher  \\\n",
              "1150        James Finn Garner                1994  John Wiley &amp; Sons Inc   \n",
              "1163       Barbara Kingsolver                1999                  Perennial   \n",
              "1165             Ann Patchett                2002                  Perennial   \n",
              "1168          Janet Evanovich                1995                HarperTorch   \n",
              "1174  Frances Hodgson Burnett                1998               HarperTrophy   \n",
              "\n",
              "                                            Image-URL-S  \\\n",
              "1150  http://images.amazon.com/images/P/002542730X.0...   \n",
              "1163  http://images.amazon.com/images/P/0060930535.0...   \n",
              "1165  http://images.amazon.com/images/P/0060934417.0...   \n",
              "1168  http://images.amazon.com/images/P/0061009059.0...   \n",
              "1174  http://images.amazon.com/images/P/006440188X.0...   \n",
              "\n",
              "                                            Image-URL-M  \\\n",
              "1150  http://images.amazon.com/images/P/002542730X.0...   \n",
              "1163  http://images.amazon.com/images/P/0060930535.0...   \n",
              "1165  http://images.amazon.com/images/P/0060934417.0...   \n",
              "1168  http://images.amazon.com/images/P/0061009059.0...   \n",
              "1174  http://images.amazon.com/images/P/006440188X.0...   \n",
              "\n",
              "                                            Image-URL-L  \n",
              "1150  http://images.amazon.com/images/P/002542730X.0...  \n",
              "1163  http://images.amazon.com/images/P/0060930535.0...  \n",
              "1165  http://images.amazon.com/images/P/0060934417.0...  \n",
              "1168  http://images.amazon.com/images/P/0061009059.0...  \n",
              "1174  http://images.amazon.com/images/P/006440188X.0...  "
            ]
          },
          "execution_count": 31,
          "metadata": {},
          "output_type": "execute_result"
        }
      ],
      "source": [
        "# Giữ lại đánh giá thuộc các sách đã lọc (final_ratings)\n",
        "final_ratings = books_rated_by_expert[books_rated_by_expert['Book-Title'].isin(top_books_rated_by_expert_index)]\n",
        "final_ratings.head()"
      ]
    },
    {
      "cell_type": "code",
      "execution_count": 33,
      "id": "2343c2f2",
      "metadata": {},
      "outputs": [
        {
          "data": {
            "text/plain": [
              "(58823, 10)"
            ]
          },
          "execution_count": 33,
          "metadata": {},
          "output_type": "execute_result"
        }
      ],
      "source": [
        "# In kích thước final_ratings\n",
        "final_ratings.shape"
      ]
    },
    {
      "cell_type": "code",
      "execution_count": 35,
      "id": "d6a8fd15",
      "metadata": {},
      "outputs": [],
      "source": [
        "# Tạo pivot (Book-Title x User-ID) với giá trị Book-Rating\n",
        "pt = final_ratings.pivot_table(index='Book-Title', columns='User-ID', values='Book-Rating')"
      ]
    },
    {
      "cell_type": "code",
      "execution_count": 36,
      "id": "9e2feac3",
      "metadata": {},
      "outputs": [
        {
          "data": {
            "text/plain": [
              "(707, 815)"
            ]
          },
          "execution_count": 36,
          "metadata": {},
          "output_type": "execute_result"
        }
      ],
      "source": [
        "# In kích thước ma trận pivot\n",
        "pt.shape"
      ]
    },
    {
      "cell_type": "code",
      "execution_count": 37,
      "id": "e113e468",
      "metadata": {},
      "outputs": [
        {
          "data": {
            "text/plain": [
              "(707, 815)"
            ]
          },
          "execution_count": 37,
          "metadata": {},
          "output_type": "execute_result"
        }
      ],
      "source": [
        "# Điền giá trị thiếu bằng 0 để tính tương đồng\n",
        "pt.fillna(0, inplace=True)\n",
        "pt.shape"
      ]
    },
    {
      "cell_type": "code",
      "execution_count": 38,
      "id": "d4e13085",
      "metadata": {},
      "outputs": [
        {
          "data": {
            "text/html": [
              "<div>\n",
              "<style scoped>\n",
              "    .dataframe tbody tr th:only-of-type {\n",
              "        vertical-align: middle;\n",
              "    }\n",
              "\n",
              "    .dataframe tbody tr th {\n",
              "        vertical-align: top;\n",
              "    }\n",
              "\n",
              "    .dataframe thead th {\n",
              "        text-align: right;\n",
              "    }\n",
              "</style>\n",
              "<table border=\"1\" class=\"dataframe\">\n",
              "  <thead>\n",
              "    <tr style=\"text-align: right;\">\n",
              "      <th>User-ID</th>\n",
              "      <th>254</th>\n",
              "      <th>2276</th>\n",
              "      <th>2766</th>\n",
              "      <th>2977</th>\n",
              "      <th>3363</th>\n",
              "      <th>4017</th>\n",
              "      <th>4385</th>\n",
              "      <th>6251</th>\n",
              "      <th>6323</th>\n",
              "      <th>6543</th>\n",
              "      <th>...</th>\n",
              "      <th>271705</th>\n",
              "      <th>273979</th>\n",
              "      <th>274004</th>\n",
              "      <th>274061</th>\n",
              "      <th>274301</th>\n",
              "      <th>274308</th>\n",
              "      <th>275970</th>\n",
              "      <th>277427</th>\n",
              "      <th>277639</th>\n",
              "      <th>278418</th>\n",
              "    </tr>\n",
              "    <tr>\n",
              "      <th>Book-Title</th>\n",
              "      <th></th>\n",
              "      <th></th>\n",
              "      <th></th>\n",
              "      <th></th>\n",
              "      <th></th>\n",
              "      <th></th>\n",
              "      <th></th>\n",
              "      <th></th>\n",
              "      <th></th>\n",
              "      <th></th>\n",
              "      <th></th>\n",
              "      <th></th>\n",
              "      <th></th>\n",
              "      <th></th>\n",
              "      <th></th>\n",
              "      <th></th>\n",
              "      <th></th>\n",
              "      <th></th>\n",
              "      <th></th>\n",
              "      <th></th>\n",
              "      <th></th>\n",
              "    </tr>\n",
              "  </thead>\n",
              "  <tbody>\n",
              "    <tr>\n",
              "      <th>1984</th>\n",
              "      <td>9.0</td>\n",
              "      <td>0.0</td>\n",
              "      <td>0.0</td>\n",
              "      <td>0.0</td>\n",
              "      <td>0.0</td>\n",
              "      <td>0.0</td>\n",
              "      <td>0.0</td>\n",
              "      <td>0.0</td>\n",
              "      <td>0.0</td>\n",
              "      <td>0.0</td>\n",
              "      <td>...</td>\n",
              "      <td>10.0</td>\n",
              "      <td>0.0</td>\n",
              "      <td>0.0</td>\n",
              "      <td>0.0</td>\n",
              "      <td>0.0</td>\n",
              "      <td>0.0</td>\n",
              "      <td>0.0</td>\n",
              "      <td>0.0</td>\n",
              "      <td>0.0</td>\n",
              "      <td>0.0</td>\n",
              "    </tr>\n",
              "    <tr>\n",
              "      <th>1st to Die: A Novel</th>\n",
              "      <td>0.0</td>\n",
              "      <td>0.0</td>\n",
              "      <td>0.0</td>\n",
              "      <td>0.0</td>\n",
              "      <td>0.0</td>\n",
              "      <td>0.0</td>\n",
              "      <td>0.0</td>\n",
              "      <td>0.0</td>\n",
              "      <td>0.0</td>\n",
              "      <td>9.0</td>\n",
              "      <td>...</td>\n",
              "      <td>0.0</td>\n",
              "      <td>0.0</td>\n",
              "      <td>0.0</td>\n",
              "      <td>0.0</td>\n",
              "      <td>0.0</td>\n",
              "      <td>0.0</td>\n",
              "      <td>0.0</td>\n",
              "      <td>0.0</td>\n",
              "      <td>0.0</td>\n",
              "      <td>0.0</td>\n",
              "    </tr>\n",
              "    <tr>\n",
              "      <th>2nd Chance</th>\n",
              "      <td>0.0</td>\n",
              "      <td>10.0</td>\n",
              "      <td>0.0</td>\n",
              "      <td>0.0</td>\n",
              "      <td>0.0</td>\n",
              "      <td>0.0</td>\n",
              "      <td>0.0</td>\n",
              "      <td>0.0</td>\n",
              "      <td>0.0</td>\n",
              "      <td>0.0</td>\n",
              "      <td>...</td>\n",
              "      <td>0.0</td>\n",
              "      <td>0.0</td>\n",
              "      <td>0.0</td>\n",
              "      <td>0.0</td>\n",
              "      <td>0.0</td>\n",
              "      <td>0.0</td>\n",
              "      <td>0.0</td>\n",
              "      <td>0.0</td>\n",
              "      <td>0.0</td>\n",
              "      <td>0.0</td>\n",
              "    </tr>\n",
              "    <tr>\n",
              "      <th>4 Blondes</th>\n",
              "      <td>0.0</td>\n",
              "      <td>0.0</td>\n",
              "      <td>0.0</td>\n",
              "      <td>0.0</td>\n",
              "      <td>0.0</td>\n",
              "      <td>0.0</td>\n",
              "      <td>0.0</td>\n",
              "      <td>0.0</td>\n",
              "      <td>0.0</td>\n",
              "      <td>0.0</td>\n",
              "      <td>...</td>\n",
              "      <td>0.0</td>\n",
              "      <td>0.0</td>\n",
              "      <td>0.0</td>\n",
              "      <td>0.0</td>\n",
              "      <td>0.0</td>\n",
              "      <td>0.0</td>\n",
              "      <td>0.0</td>\n",
              "      <td>0.0</td>\n",
              "      <td>0.0</td>\n",
              "      <td>0.0</td>\n",
              "    </tr>\n",
              "    <tr>\n",
              "      <th>A Bend in the Road</th>\n",
              "      <td>0.0</td>\n",
              "      <td>0.0</td>\n",
              "      <td>7.0</td>\n",
              "      <td>0.0</td>\n",
              "      <td>0.0</td>\n",
              "      <td>0.0</td>\n",
              "      <td>0.0</td>\n",
              "      <td>0.0</td>\n",
              "      <td>0.0</td>\n",
              "      <td>0.0</td>\n",
              "      <td>...</td>\n",
              "      <td>0.0</td>\n",
              "      <td>0.0</td>\n",
              "      <td>0.0</td>\n",
              "      <td>0.0</td>\n",
              "      <td>0.0</td>\n",
              "      <td>0.0</td>\n",
              "      <td>0.0</td>\n",
              "      <td>0.0</td>\n",
              "      <td>0.0</td>\n",
              "      <td>0.0</td>\n",
              "    </tr>\n",
              "  </tbody>\n",
              "</table>\n",
              "<p>5 rows × 815 columns</p>\n",
              "</div>"
            ],
            "text/plain": [
              "User-ID              254     2276    2766    2977    3363    4017    4385    \\\n",
              "Book-Title                                                                    \n",
              "1984                    9.0     0.0     0.0     0.0     0.0     0.0     0.0   \n",
              "1st to Die: A Novel     0.0     0.0     0.0     0.0     0.0     0.0     0.0   \n",
              "2nd Chance              0.0    10.0     0.0     0.0     0.0     0.0     0.0   \n",
              "4 Blondes               0.0     0.0     0.0     0.0     0.0     0.0     0.0   \n",
              "A Bend in the Road      0.0     0.0     7.0     0.0     0.0     0.0     0.0   \n",
              "\n",
              "User-ID              6251    6323    6543    ...  271705  273979  274004  \\\n",
              "Book-Title                                   ...                           \n",
              "1984                    0.0     0.0     0.0  ...    10.0     0.0     0.0   \n",
              "1st to Die: A Novel     0.0     0.0     9.0  ...     0.0     0.0     0.0   \n",
              "2nd Chance              0.0     0.0     0.0  ...     0.0     0.0     0.0   \n",
              "4 Blondes               0.0     0.0     0.0  ...     0.0     0.0     0.0   \n",
              "A Bend in the Road      0.0     0.0     0.0  ...     0.0     0.0     0.0   \n",
              "\n",
              "User-ID              274061  274301  274308  275970  277427  277639  278418  \n",
              "Book-Title                                                                   \n",
              "1984                    0.0     0.0     0.0     0.0     0.0     0.0     0.0  \n",
              "1st to Die: A Novel     0.0     0.0     0.0     0.0     0.0     0.0     0.0  \n",
              "2nd Chance              0.0     0.0     0.0     0.0     0.0     0.0     0.0  \n",
              "4 Blondes               0.0     0.0     0.0     0.0     0.0     0.0     0.0  \n",
              "A Bend in the Road      0.0     0.0     0.0     0.0     0.0     0.0     0.0  \n",
              "\n",
              "[5 rows x 815 columns]"
            ]
          },
          "execution_count": 38,
          "metadata": {},
          "output_type": "execute_result"
        }
      ],
      "source": [
        "# Xem vài dòng đầu của ma trận đã điền 0\n",
        "pt.head()"
      ]
    },
    {
      "cell_type": "code",
      "execution_count": 39,
      "id": "c3c03c4e",
      "metadata": {},
      "outputs": [
        {
          "name": "stderr",
          "output_type": "stream",
          "text": [
            "/Library/Frameworks/Python.framework/Versions/3.13/lib/python3.13/site-packages/sklearn/utils/extmath.py:203: RuntimeWarning: divide by zero encountered in matmul\n",
            "  ret = a @ b\n",
            "/Library/Frameworks/Python.framework/Versions/3.13/lib/python3.13/site-packages/sklearn/utils/extmath.py:203: RuntimeWarning: overflow encountered in matmul\n",
            "  ret = a @ b\n",
            "/Library/Frameworks/Python.framework/Versions/3.13/lib/python3.13/site-packages/sklearn/utils/extmath.py:203: RuntimeWarning: invalid value encountered in matmul\n",
            "  ret = a @ b\n"
          ]
        },
        {
          "data": {
            "text/plain": [
              "(707, 707)"
            ]
          },
          "execution_count": 39,
          "metadata": {},
          "output_type": "execute_result"
        }
      ],
      "source": [
        "# Tính cosine_similarity giữa các sách (theo hàng)\n",
        "from sklearn.metrics.pairwise import cosine_similarity\n",
        "similarity_scores = cosine_similarity(pt)\n",
        "similarity_scores.shape"
      ]
    },
    {
      "cell_type": "code",
      "execution_count": 40,
      "id": "337c87aa",
      "metadata": {},
      "outputs": [
        {
          "data": {
            "text/plain": [
              "array([[1.        , 0.0999137 , 0.01189468, ..., 0.11799012, 0.07158663,\n",
              "        0.04205081],\n",
              "       [0.0999137 , 1.        , 0.2364573 , ..., 0.07446129, 0.16773875,\n",
              "        0.14263397],\n",
              "       [0.01189468, 0.2364573 , 1.        , ..., 0.04558758, 0.04938579,\n",
              "        0.10796119],\n",
              "       [0.        , 0.        , 0.        , ..., 0.        , 0.        ,\n",
              "        0.        ],\n",
              "       [0.05229234, 0.1095379 , 0.06909024, ..., 0.04001749, 0.11284126,\n",
              "        0.01520436]], shape=(5, 707))"
            ]
          },
          "execution_count": 40,
          "metadata": {},
          "output_type": "execute_result"
        }
      ],
      "source": [
        "# Xem một phần đầu của ma trận tương đồng\n",
        "similarity_scores[:5]"
      ]
    },
    {
      "cell_type": "code",
      "execution_count": 41,
      "id": "57547d98",
      "metadata": {},
      "outputs": [
        {
          "name": "stdout",
          "output_type": "stream",
          "text": [
            "230\n"
          ]
        }
      ],
      "source": [
        "# Lấy index của sách mẫu trong pt.index\n",
        "book = 'Harry Potter and the Prisoner of Azkaban (Book 3)'\n",
        "book_index = np.where(pt.index == book)[0][0]\n",
        "print(book_index)"
      ]
    },
    {
      "cell_type": "code",
      "execution_count": 43,
      "id": "4d668539",
      "metadata": {},
      "outputs": [
        {
          "name": "stdout",
          "output_type": "stream",
          "text": [
            "(707,)\n"
          ]
        }
      ],
      "source": [
        "# Lấy vector tương đồng của sách mẫu và in kích thước\n",
        "book_similarity = similarity_scores[book_index]\n",
        "#print(book_similarity)\n",
        "print(book_similarity.shape)"
      ]
    },
    {
      "cell_type": "code",
      "execution_count": 44,
      "id": "8acb46ee",
      "metadata": {},
      "outputs": [
        {
          "name": "stdout",
          "output_type": "stream",
          "text": [
            "[(228, np.float64(0.6411100901370957)), (227, np.float64(0.6089508035980858)), (229, np.float64(0.47482078516427845)), (231, np.float64(0.4442803276220918)), (232, np.float64(0.41079274531547505)), (528, np.float64(0.2792879402403171)), (100, np.float64(0.26667032110902533)), (49, np.float64(0.22249322852708875)), (269, np.float64(0.21822105201123188)), (27, np.float64(0.20617594318082394))]\n"
          ]
        }
      ],
      "source": [
        "# Sắp xếp độ tương đồng giảm dần, lấy top 10 (bỏ chính nó)\n",
        "sorted_similar_books = sorted(list(enumerate(book_similarity)), key=lambda x: x[1], reverse=True)[1:11]\n",
        "print(sorted_similar_books)"
      ]
    },
    {
      "cell_type": "code",
      "execution_count": 45,
      "id": "a9cc95eb",
      "metadata": {},
      "outputs": [
        {
          "name": "stdout",
          "output_type": "stream",
          "text": [
            "Harry Potter and the Goblet of Fire (Book 4)\n",
            "Harry Potter and the Chamber of Secrets (Book 2)\n",
            "Harry Potter and the Order of the Phoenix (Book 5)\n",
            "Harry Potter and the Sorcerer's Stone (Book 1)\n",
            "Harry Potter and the Sorcerer's Stone (Harry Potter (Paperback))\n",
            "The Fellowship of the Ring (The Lord of the Rings, Part 1)\n",
            "Charlotte's Web (Trophy Newbery)\n",
            "Anne of Avonlea (Anne of Green Gables Novels (Paperback))\n",
            "Interview with the Vampire\n",
            "A Wrinkle in Time\n"
          ]
        }
      ],
      "source": [
        "# In tên các sách tương tự nhất\n",
        "for i in sorted_similar_books:\n",
        "    print(pt.index[i[0]])"
      ]
    }
  ],
  "metadata": {
    "kernelspec": {
      "display_name": "Python 3",
      "language": "python",
      "name": "python3"
    },
    "language_info": {
      "codemirror_mode": {
        "name": "ipython",
        "version": 3
      },
      "file_extension": ".py",
      "mimetype": "text/x-python",
      "name": "python",
      "nbconvert_exporter": "python",
      "pygments_lexer": "ipython3",
      "version": "3.13.2"
    }
  },
  "nbformat": 4,
  "nbformat_minor": 5
}
