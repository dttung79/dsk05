{
  "cells": [
    {
      "cell_type": "code",
      "execution_count": 1,
      "id": "8b0cd5f5",
      "metadata": {},
      "outputs": [],
      "source": [
        "# Import thư viện: pandas, numpy, TransactionEncoder, fpgrowth, association_rules\n",
        "import pandas as pd\n",
        "import numpy as np\n",
        "\n",
        "from mlxtend.preprocessing import TransactionEncoder\n",
        "from mlxtend.frequent_patterns import fpgrowth, association_rules"
      ]
    },
    {
      "cell_type": "code",
      "execution_count": 2,
      "id": "75a1114b",
      "metadata": {},
      "outputs": [],
      "source": [
        "# Đọc dữ liệu và giới hạn 5000 dòng để demo\n",
        "df = pd.read_excel('Online Retail.xlsx')\n",
        "df = df.head(5000)"
      ]
    },
    {
      "cell_type": "code",
      "execution_count": 3,
      "id": "77d6901b",
      "metadata": {},
      "outputs": [],
      "source": [
        "# Gom nhóm theo (InvoiceNo, StockCode) để chuẩn hóa mỗi hóa đơn-mỗi sản phẩm\n",
        "invoice_stockcode = df.groupby(['InvoiceNo', 'StockCode']).size().reset_index(name='Count')"
      ]
    },
    {
      "cell_type": "code",
      "execution_count": 5,
      "id": "14124067",
      "metadata": {},
      "outputs": [
        {
          "name": "stdout",
          "output_type": "stream",
          "text": [
            "(4849, 3)\n"
          ]
        },
        {
          "data": {
            "text/html": [
              "<div>\n",
              "<style scoped>\n",
              "    .dataframe tbody tr th:only-of-type {\n",
              "        vertical-align: middle;\n",
              "    }\n",
              "\n",
              "    .dataframe tbody tr th {\n",
              "        vertical-align: top;\n",
              "    }\n",
              "\n",
              "    .dataframe thead th {\n",
              "        text-align: right;\n",
              "    }\n",
              "</style>\n",
              "<table border=\"1\" class=\"dataframe\">\n",
              "  <thead>\n",
              "    <tr style=\"text-align: right;\">\n",
              "      <th></th>\n",
              "      <th>InvoiceNo</th>\n",
              "      <th>StockCode</th>\n",
              "      <th>Count</th>\n",
              "    </tr>\n",
              "  </thead>\n",
              "  <tbody>\n",
              "    <tr>\n",
              "      <th>0</th>\n",
              "      <td>536365</td>\n",
              "      <td>21730</td>\n",
              "      <td>1</td>\n",
              "    </tr>\n",
              "    <tr>\n",
              "      <th>1</th>\n",
              "      <td>536365</td>\n",
              "      <td>22752</td>\n",
              "      <td>1</td>\n",
              "    </tr>\n",
              "    <tr>\n",
              "      <th>2</th>\n",
              "      <td>536365</td>\n",
              "      <td>71053</td>\n",
              "      <td>1</td>\n",
              "    </tr>\n",
              "    <tr>\n",
              "      <th>3</th>\n",
              "      <td>536365</td>\n",
              "      <td>84029E</td>\n",
              "      <td>1</td>\n",
              "    </tr>\n",
              "    <tr>\n",
              "      <th>4</th>\n",
              "      <td>536365</td>\n",
              "      <td>84029G</td>\n",
              "      <td>1</td>\n",
              "    </tr>\n",
              "  </tbody>\n",
              "</table>\n",
              "</div>"
            ],
            "text/plain": [
              "  InvoiceNo StockCode  Count\n",
              "0    536365     21730      1\n",
              "1    536365     22752      1\n",
              "2    536365     71053      1\n",
              "3    536365    84029E      1\n",
              "4    536365    84029G      1"
            ]
          },
          "execution_count": 5,
          "metadata": {},
          "output_type": "execute_result"
        }
      ],
      "source": [
        "# In kích thước và xem vài dòng đầu của bảng nhóm\n",
        "print(invoice_stockcode.shape)\n",
        "invoice_stockcode.head()"
      ]
    },
    {
      "cell_type": "code",
      "execution_count": 6,
      "id": "13d9120d",
      "metadata": {},
      "outputs": [
        {
          "name": "stdout",
          "output_type": "stream",
          "text": [
            "(1595, 2)\n"
          ]
        },
        {
          "data": {
            "text/html": [
              "<div>\n",
              "<style scoped>\n",
              "    .dataframe tbody tr th:only-of-type {\n",
              "        vertical-align: middle;\n",
              "    }\n",
              "\n",
              "    .dataframe tbody tr th {\n",
              "        vertical-align: top;\n",
              "    }\n",
              "\n",
              "    .dataframe thead th {\n",
              "        text-align: right;\n",
              "    }\n",
              "</style>\n",
              "<table border=\"1\" class=\"dataframe\">\n",
              "  <thead>\n",
              "    <tr style=\"text-align: right;\">\n",
              "      <th></th>\n",
              "      <th>StockCode</th>\n",
              "      <th>Freq</th>\n",
              "    </tr>\n",
              "  </thead>\n",
              "  <tbody>\n",
              "    <tr>\n",
              "      <th>0</th>\n",
              "      <td>10002</td>\n",
              "      <td>3</td>\n",
              "    </tr>\n",
              "    <tr>\n",
              "      <th>1</th>\n",
              "      <td>10125</td>\n",
              "      <td>1</td>\n",
              "    </tr>\n",
              "    <tr>\n",
              "      <th>2</th>\n",
              "      <td>10133</td>\n",
              "      <td>1</td>\n",
              "    </tr>\n",
              "    <tr>\n",
              "      <th>3</th>\n",
              "      <td>10135</td>\n",
              "      <td>2</td>\n",
              "    </tr>\n",
              "    <tr>\n",
              "      <th>4</th>\n",
              "      <td>11001</td>\n",
              "      <td>1</td>\n",
              "    </tr>\n",
              "  </tbody>\n",
              "</table>\n",
              "</div>"
            ],
            "text/plain": [
              "  StockCode  Freq\n",
              "0     10002     3\n",
              "1     10125     1\n",
              "2     10133     1\n",
              "3     10135     2\n",
              "4     11001     1"
            ]
          },
          "execution_count": 6,
          "metadata": {},
          "output_type": "execute_result"
        }
      ],
      "source": [
        "# Tính số hóa đơn khác nhau mỗi StockCode xuất hiện và xem đầu bảng\n",
        "stockcode_freq = df.groupby('StockCode')['InvoiceNo'].nunique().reset_index(name='Freq')\n",
        "print(stockcode_freq.shape)\n",
        "stockcode_freq.head()"
      ]
    },
    {
      "cell_type": "code",
      "execution_count": 7,
      "id": "004d8c11",
      "metadata": {},
      "outputs": [
        {
          "name": "stdout",
          "output_type": "stream",
          "text": [
            "(1595, 3)\n"
          ]
        },
        {
          "data": {
            "text/html": [
              "<div>\n",
              "<style scoped>\n",
              "    .dataframe tbody tr th:only-of-type {\n",
              "        vertical-align: middle;\n",
              "    }\n",
              "\n",
              "    .dataframe tbody tr th {\n",
              "        vertical-align: top;\n",
              "    }\n",
              "\n",
              "    .dataframe thead th {\n",
              "        text-align: right;\n",
              "    }\n",
              "</style>\n",
              "<table border=\"1\" class=\"dataframe\">\n",
              "  <thead>\n",
              "    <tr style=\"text-align: right;\">\n",
              "      <th></th>\n",
              "      <th>StockCode</th>\n",
              "      <th>Freq</th>\n",
              "      <th>Support</th>\n",
              "    </tr>\n",
              "  </thead>\n",
              "  <tbody>\n",
              "    <tr>\n",
              "      <th>0</th>\n",
              "      <td>10002</td>\n",
              "      <td>3</td>\n",
              "      <td>0.010000</td>\n",
              "    </tr>\n",
              "    <tr>\n",
              "      <th>1</th>\n",
              "      <td>10125</td>\n",
              "      <td>1</td>\n",
              "      <td>0.003333</td>\n",
              "    </tr>\n",
              "    <tr>\n",
              "      <th>2</th>\n",
              "      <td>10133</td>\n",
              "      <td>1</td>\n",
              "      <td>0.003333</td>\n",
              "    </tr>\n",
              "    <tr>\n",
              "      <th>3</th>\n",
              "      <td>10135</td>\n",
              "      <td>2</td>\n",
              "      <td>0.006667</td>\n",
              "    </tr>\n",
              "    <tr>\n",
              "      <th>4</th>\n",
              "      <td>11001</td>\n",
              "      <td>1</td>\n",
              "      <td>0.003333</td>\n",
              "    </tr>\n",
              "  </tbody>\n",
              "</table>\n",
              "</div>"
            ],
            "text/plain": [
              "  StockCode  Freq   Support\n",
              "0     10002     3  0.010000\n",
              "1     10125     1  0.003333\n",
              "2     10133     1  0.003333\n",
              "3     10135     2  0.006667\n",
              "4     11001     1  0.003333"
            ]
          },
          "execution_count": 7,
          "metadata": {},
          "output_type": "execute_result"
        }
      ],
      "source": [
        "# Tính tổng số hóa đơn và support đơn lẻ cho từng StockCode\n",
        "total_invoices = df['InvoiceNo'].nunique()\n",
        "stockcode_freq['Support'] = stockcode_freq['Freq'] / total_invoices\n",
        "print(stockcode_freq.shape)\n",
        "stockcode_freq.head()"
      ]
    },
    {
      "cell_type": "code",
      "execution_count": 8,
      "id": "deaac337",
      "metadata": {},
      "outputs": [
        {
          "name": "stdout",
          "output_type": "stream",
          "text": [
            "     StockCode  Freq   Support\n",
            "922      22632    38  0.126667\n",
            "1504    85123A    35  0.116667\n",
            "923      22633    32  0.106667\n",
            "1414    84029E    30  0.100000\n",
            "1147     22961    27  0.090000\n",
            "1006     22752    26  0.086667\n",
            "1415    84029G    24  0.080000\n",
            "1089     22866    23  0.076667\n",
            "559      22086    22  0.073333\n",
            "1088     22865    22  0.073333\n"
          ]
        }
      ],
      "source": [
        "# Sắp xếp theo support giảm dần và in top 10 sản phẩm phổ biến\n",
        "stockcode_freq_sorted = stockcode_freq.sort_values(by='Support', ascending=False)\n",
        "print(stockcode_freq_sorted.head(10))"
      ]
    },
    {
      "cell_type": "code",
      "execution_count": 9,
      "id": "d05500bc",
      "metadata": {},
      "outputs": [],
      "source": [
        "# Chuẩn hóa chuỗi cho InvoiceNo/StockCode (thêm khoảng trắng)\n",
        "df['InvoiceNo'] = df['InvoiceNo'].astype('str') + ' '\n",
        "df['StockCode'] = df['StockCode'].astype('str') + ' '"
      ]
    },
    {
      "cell_type": "code",
      "execution_count": 10,
      "id": "bf11f62d",
      "metadata": {},
      "outputs": [
        {
          "name": "stdout",
          "output_type": "stream",
          "text": [
            "Total transactions:  300\n"
          ]
        }
      ],
      "source": [
        "# Xây danh sách transactions theo từng hóa đơn và in tổng số giao dịch\n",
        "transactions = []\n",
        "invoices = df['InvoiceNo'].unique()\n",
        "\n",
        "for iv in invoices:\n",
        "    items = df[df['InvoiceNo'] == iv]['StockCode'].tolist()\n",
        "    transactions.append(items)\n",
        "\n",
        "print('Total transactions: ', len(transactions))"
      ]
    },
    {
      "cell_type": "code",
      "execution_count": 12,
      "id": "99e27be8",
      "metadata": {},
      "outputs": [
        {
          "name": "stdout",
          "output_type": "stream",
          "text": [
            "[['85123A ', '71053 ', '84406B ', '84029G ', '84029E ', '22752 ', '21730 '], ['22633 ', '22632 '], ['84879 ', '22745 ', '22748 ', '22749 ', '22310 ', '84969 ', '22623 ', '22622 ', '21754 ', '21755 ', '21777 ', '48187 '], ['22960 ', '22913 ', '22912 ', '22914 '], ['21756 ']]\n"
          ]
        }
      ],
      "source": [
        "# In thử 5 giao dịch đầu để kiểm tra\n",
        "print(transactions[:5])"
      ]
    },
    {
      "cell_type": "code",
      "execution_count": 11,
      "id": "7567da80",
      "metadata": {},
      "outputs": [
        {
          "name": "stdout",
          "output_type": "stream",
          "text": [
            "(300, 1595)\n"
          ]
        },
        {
          "data": {
            "text/html": [
              "<div>\n",
              "<style scoped>\n",
              "    .dataframe tbody tr th:only-of-type {\n",
              "        vertical-align: middle;\n",
              "    }\n",
              "\n",
              "    .dataframe tbody tr th {\n",
              "        vertical-align: top;\n",
              "    }\n",
              "\n",
              "    .dataframe thead th {\n",
              "        text-align: right;\n",
              "    }\n",
              "</style>\n",
              "<table border=\"1\" class=\"dataframe\">\n",
              "  <thead>\n",
              "    <tr style=\"text-align: right;\">\n",
              "      <th></th>\n",
              "      <th>10002</th>\n",
              "      <th>10124G</th>\n",
              "      <th>10125</th>\n",
              "      <th>10133</th>\n",
              "      <th>10135</th>\n",
              "      <th>11001</th>\n",
              "      <th>15036</th>\n",
              "      <th>15044B</th>\n",
              "      <th>15056BL</th>\n",
              "      <th>15056N</th>\n",
              "      <th>...</th>\n",
              "      <th>90214M</th>\n",
              "      <th>90214R</th>\n",
              "      <th>90214S</th>\n",
              "      <th>90214V</th>\n",
              "      <th>BANK CHARGES</th>\n",
              "      <th>C2</th>\n",
              "      <th>D</th>\n",
              "      <th>DOT</th>\n",
              "      <th>M</th>\n",
              "      <th>POST</th>\n",
              "    </tr>\n",
              "  </thead>\n",
              "  <tbody>\n",
              "    <tr>\n",
              "      <th>0</th>\n",
              "      <td>False</td>\n",
              "      <td>False</td>\n",
              "      <td>False</td>\n",
              "      <td>False</td>\n",
              "      <td>False</td>\n",
              "      <td>False</td>\n",
              "      <td>False</td>\n",
              "      <td>False</td>\n",
              "      <td>False</td>\n",
              "      <td>False</td>\n",
              "      <td>...</td>\n",
              "      <td>False</td>\n",
              "      <td>False</td>\n",
              "      <td>False</td>\n",
              "      <td>False</td>\n",
              "      <td>False</td>\n",
              "      <td>False</td>\n",
              "      <td>False</td>\n",
              "      <td>False</td>\n",
              "      <td>False</td>\n",
              "      <td>False</td>\n",
              "    </tr>\n",
              "    <tr>\n",
              "      <th>1</th>\n",
              "      <td>False</td>\n",
              "      <td>False</td>\n",
              "      <td>False</td>\n",
              "      <td>False</td>\n",
              "      <td>False</td>\n",
              "      <td>False</td>\n",
              "      <td>False</td>\n",
              "      <td>False</td>\n",
              "      <td>False</td>\n",
              "      <td>False</td>\n",
              "      <td>...</td>\n",
              "      <td>False</td>\n",
              "      <td>False</td>\n",
              "      <td>False</td>\n",
              "      <td>False</td>\n",
              "      <td>False</td>\n",
              "      <td>False</td>\n",
              "      <td>False</td>\n",
              "      <td>False</td>\n",
              "      <td>False</td>\n",
              "      <td>False</td>\n",
              "    </tr>\n",
              "    <tr>\n",
              "      <th>2</th>\n",
              "      <td>False</td>\n",
              "      <td>False</td>\n",
              "      <td>False</td>\n",
              "      <td>False</td>\n",
              "      <td>False</td>\n",
              "      <td>False</td>\n",
              "      <td>False</td>\n",
              "      <td>False</td>\n",
              "      <td>False</td>\n",
              "      <td>False</td>\n",
              "      <td>...</td>\n",
              "      <td>False</td>\n",
              "      <td>False</td>\n",
              "      <td>False</td>\n",
              "      <td>False</td>\n",
              "      <td>False</td>\n",
              "      <td>False</td>\n",
              "      <td>False</td>\n",
              "      <td>False</td>\n",
              "      <td>False</td>\n",
              "      <td>False</td>\n",
              "    </tr>\n",
              "    <tr>\n",
              "      <th>3</th>\n",
              "      <td>False</td>\n",
              "      <td>False</td>\n",
              "      <td>False</td>\n",
              "      <td>False</td>\n",
              "      <td>False</td>\n",
              "      <td>False</td>\n",
              "      <td>False</td>\n",
              "      <td>False</td>\n",
              "      <td>False</td>\n",
              "      <td>False</td>\n",
              "      <td>...</td>\n",
              "      <td>False</td>\n",
              "      <td>False</td>\n",
              "      <td>False</td>\n",
              "      <td>False</td>\n",
              "      <td>False</td>\n",
              "      <td>False</td>\n",
              "      <td>False</td>\n",
              "      <td>False</td>\n",
              "      <td>False</td>\n",
              "      <td>False</td>\n",
              "    </tr>\n",
              "    <tr>\n",
              "      <th>4</th>\n",
              "      <td>False</td>\n",
              "      <td>False</td>\n",
              "      <td>False</td>\n",
              "      <td>False</td>\n",
              "      <td>False</td>\n",
              "      <td>False</td>\n",
              "      <td>False</td>\n",
              "      <td>False</td>\n",
              "      <td>False</td>\n",
              "      <td>False</td>\n",
              "      <td>...</td>\n",
              "      <td>False</td>\n",
              "      <td>False</td>\n",
              "      <td>False</td>\n",
              "      <td>False</td>\n",
              "      <td>False</td>\n",
              "      <td>False</td>\n",
              "      <td>False</td>\n",
              "      <td>False</td>\n",
              "      <td>False</td>\n",
              "      <td>False</td>\n",
              "    </tr>\n",
              "  </tbody>\n",
              "</table>\n",
              "<p>5 rows × 1595 columns</p>\n",
              "</div>"
            ],
            "text/plain": [
              "   10002   10124G   10125   10133   10135   11001   15036   15044B   15056BL   \\\n",
              "0   False    False   False   False   False   False   False    False     False   \n",
              "1   False    False   False   False   False   False   False    False     False   \n",
              "2   False    False   False   False   False   False   False    False     False   \n",
              "3   False    False   False   False   False   False   False    False     False   \n",
              "4   False    False   False   False   False   False   False    False     False   \n",
              "\n",
              "   15056N   ...  90214M   90214R   90214S   90214V   BANK CHARGES     C2   \\\n",
              "0    False  ...    False    False    False    False          False  False   \n",
              "1    False  ...    False    False    False    False          False  False   \n",
              "2    False  ...    False    False    False    False          False  False   \n",
              "3    False  ...    False    False    False    False          False  False   \n",
              "4    False  ...    False    False    False    False          False  False   \n",
              "\n",
              "      D    DOT      M   POST   \n",
              "0  False  False  False  False  \n",
              "1  False  False  False  False  \n",
              "2  False  False  False  False  \n",
              "3  False  False  False  False  \n",
              "4  False  False  False  False  \n",
              "\n",
              "[5 rows x 1595 columns]"
            ]
          },
          "execution_count": 11,
          "metadata": {},
          "output_type": "execute_result"
        }
      ],
      "source": [
        "# Mã hóa one-hot bằng TransactionEncoder và tạo DataFrame, in kích thước\n",
        "encoder = TransactionEncoder()\n",
        "t_encoded = encoder.fit(transactions).transform(transactions)\n",
        "df_encoded = pd.DataFrame(t_encoded, columns=encoder.columns_)\n",
        "print(df_encoded.shape)\n",
        "df_encoded.head()"
      ]
    },
    {
      "cell_type": "code",
      "execution_count": 13,
      "id": "fcf1d443",
      "metadata": {},
      "outputs": [
        {
          "name": "stdout",
          "output_type": "stream",
          "text": [
            "(630, 2)\n"
          ]
        }
      ],
      "source": [
        "# Chạy FP-Growth với min_support=0.05 để tìm frequent itemsets\n",
        "frequent_itemsets = fpgrowth(df_encoded, min_support=0.05, use_colnames=True)\n",
        "print(frequent_itemsets.shape)"
      ]
    },
    {
      "cell_type": "code",
      "execution_count": 14,
      "id": "34eb8acb",
      "metadata": {},
      "outputs": [],
      "source": [
        "# Sinh luật kết hợp từ frequent itemsets (metric=confidence, min_threshold=0.2)\n",
        "fp_rules = association_rules(frequent_itemsets, metric='confidence', min_threshold=0.2, num_itemsets=len(frequent_itemsets))"
      ]
    },
    {
      "cell_type": "code",
      "execution_count": 15,
      "id": "6ff8c250",
      "metadata": {},
      "outputs": [
        {
          "name": "stdout",
          "output_type": "stream",
          "text": [
            "13604\n"
          ]
        }
      ],
      "source": [
        "# In số lượng luật tìm được\n",
        "print(len(fp_rules))"
      ]
    },
    {
      "cell_type": "code",
      "execution_count": 17,
      "id": "3e68679c",
      "metadata": {},
      "outputs": [
        {
          "name": "stdout",
          "output_type": "stream",
          "text": [
            "21068 , 21871 , 84029G  -> 84029E  (support: 0.050, confidence: 1.000, lift: 10.000)\n",
            "82482  -> 21730 , 71053  (support: 0.050, confidence: 1.000, lift: 17.647)\n",
            "21068 , 84029E , 85123A  -> 21071 , 37370  (support: 0.053, confidence: 1.000, lift: 17.647)\n",
            "21068 , 84029E , 37370  -> 85123A , 21071  (support: 0.053, confidence: 1.000, lift: 17.647)\n",
            "21068 , 85123A , 37370 , 21071  -> 84029E  (support: 0.053, confidence: 1.000, lift: 10.000)\n",
            "21068 , 84029E , 85123A , 21071  -> 37370  (support: 0.053, confidence: 1.000, lift: 13.636)\n",
            "21068 , 84029E , 37370 , 21071  -> 85123A  (support: 0.053, confidence: 1.000, lift: 8.571)\n",
            "21068 , 84029E , 85123A , 37370  -> 21071  (support: 0.053, confidence: 1.000, lift: 15.000)\n",
            "82482 , 71053  -> 21730  (support: 0.050, confidence: 1.000, lift: 17.647)\n",
            "21068 , 85123A  -> 84029E , 37370 , 71053  (support: 0.053, confidence: 1.000, lift: 18.750)\n"
          ]
        }
      ],
      "source": [
        "# Sắp xếp theo confidence giảm dần, in 10 luật mạnh nhất (support/confidence/lift)\n",
        "fp_rules_sorted = fp_rules.sort_values(by='confidence', ascending=False)\n",
        "for i, (index, rule) in enumerate(fp_rules_sorted.head(10).iterrows()):\n",
        "    product_a = ', '.join(list(rule['antecedents']))\n",
        "    product_b = ', '.join(list(rule['consequents']))\n",
        "    print(f'{product_a} -> {product_b} (support: {rule[\"support\"]:.3f}, confidence: {rule[\"confidence\"]:.3f}, lift: {rule[\"lift\"]:.3f})')"
      ]
    }
  ],
  "metadata": {
    "kernelspec": {
      "display_name": "Python 3",
      "language": "python",
      "name": "python3"
    },
    "language_info": {
      "codemirror_mode": {
        "name": "ipython",
        "version": 3
      },
      "file_extension": ".py",
      "mimetype": "text/x-python",
      "name": "python",
      "nbconvert_exporter": "python",
      "pygments_lexer": "ipython3",
      "version": "3.13.2"
    }
  },
  "nbformat": 4,
  "nbformat_minor": 5
}
