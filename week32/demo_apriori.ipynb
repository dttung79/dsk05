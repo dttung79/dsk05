{
  "cells": [
    {
      "cell_type": "code",
      "execution_count": 2,
      "id": "a9df27d3",
      "metadata": {},
      "outputs": [],
      "source": [
        "# Import thư viện: pandas, numpy, apriori từ apyori\n",
        "import pandas as pd\n",
        "import numpy as np\n",
        "from apyori import apriori"
      ]
    },
    {
      "cell_type": "code",
      "execution_count": 3,
      "id": "678e8c9b",
      "metadata": {},
      "outputs": [],
      "source": [
        "# Đọc dữ liệu bán lẻ từ Excel vào DataFrame df\n",
        "df = pd.read_excel('Online Retail.xlsx')"
      ]
    },
    {
      "cell_type": "code",
      "execution_count": 4,
      "id": "65e6dfc9",
      "metadata": {},
      "outputs": [],
      "source": [
        "# Lấy 5000 dòng đầu để demo (chạy nhanh)\n",
        "df = df.head(5000)"
      ]
    },
    {
      "cell_type": "code",
      "execution_count": 6,
      "id": "a8c252f8",
      "metadata": {},
      "outputs": [
        {
          "data": {
            "text/html": [
              "<div>\n",
              "<style scoped>\n",
              "    .dataframe tbody tr th:only-of-type {\n",
              "        vertical-align: middle;\n",
              "    }\n",
              "\n",
              "    .dataframe tbody tr th {\n",
              "        vertical-align: top;\n",
              "    }\n",
              "\n",
              "    .dataframe thead th {\n",
              "        text-align: right;\n",
              "    }\n",
              "</style>\n",
              "<table border=\"1\" class=\"dataframe\">\n",
              "  <thead>\n",
              "    <tr style=\"text-align: right;\">\n",
              "      <th></th>\n",
              "      <th>InvoiceNo</th>\n",
              "      <th>StockCode</th>\n",
              "      <th>Description</th>\n",
              "      <th>Quantity</th>\n",
              "      <th>InvoiceDate</th>\n",
              "      <th>UnitPrice</th>\n",
              "      <th>CustomerID</th>\n",
              "      <th>Country</th>\n",
              "    </tr>\n",
              "  </thead>\n",
              "  <tbody>\n",
              "    <tr>\n",
              "      <th>0</th>\n",
              "      <td>536365</td>\n",
              "      <td>85123A</td>\n",
              "      <td>WHITE HANGING HEART T-LIGHT HOLDER</td>\n",
              "      <td>6</td>\n",
              "      <td>2010-12-01 08:26:00</td>\n",
              "      <td>2.55</td>\n",
              "      <td>17850.0</td>\n",
              "      <td>United Kingdom</td>\n",
              "    </tr>\n",
              "    <tr>\n",
              "      <th>1</th>\n",
              "      <td>536365</td>\n",
              "      <td>71053</td>\n",
              "      <td>WHITE METAL LANTERN</td>\n",
              "      <td>6</td>\n",
              "      <td>2010-12-01 08:26:00</td>\n",
              "      <td>3.39</td>\n",
              "      <td>17850.0</td>\n",
              "      <td>United Kingdom</td>\n",
              "    </tr>\n",
              "    <tr>\n",
              "      <th>2</th>\n",
              "      <td>536365</td>\n",
              "      <td>84406B</td>\n",
              "      <td>CREAM CUPID HEARTS COAT HANGER</td>\n",
              "      <td>8</td>\n",
              "      <td>2010-12-01 08:26:00</td>\n",
              "      <td>2.75</td>\n",
              "      <td>17850.0</td>\n",
              "      <td>United Kingdom</td>\n",
              "    </tr>\n",
              "    <tr>\n",
              "      <th>3</th>\n",
              "      <td>536365</td>\n",
              "      <td>84029G</td>\n",
              "      <td>KNITTED UNION FLAG HOT WATER BOTTLE</td>\n",
              "      <td>6</td>\n",
              "      <td>2010-12-01 08:26:00</td>\n",
              "      <td>3.39</td>\n",
              "      <td>17850.0</td>\n",
              "      <td>United Kingdom</td>\n",
              "    </tr>\n",
              "    <tr>\n",
              "      <th>4</th>\n",
              "      <td>536365</td>\n",
              "      <td>84029E</td>\n",
              "      <td>RED WOOLLY HOTTIE WHITE HEART.</td>\n",
              "      <td>6</td>\n",
              "      <td>2010-12-01 08:26:00</td>\n",
              "      <td>3.39</td>\n",
              "      <td>17850.0</td>\n",
              "      <td>United Kingdom</td>\n",
              "    </tr>\n",
              "    <tr>\n",
              "      <th>5</th>\n",
              "      <td>536365</td>\n",
              "      <td>22752</td>\n",
              "      <td>SET 7 BABUSHKA NESTING BOXES</td>\n",
              "      <td>2</td>\n",
              "      <td>2010-12-01 08:26:00</td>\n",
              "      <td>7.65</td>\n",
              "      <td>17850.0</td>\n",
              "      <td>United Kingdom</td>\n",
              "    </tr>\n",
              "    <tr>\n",
              "      <th>6</th>\n",
              "      <td>536365</td>\n",
              "      <td>21730</td>\n",
              "      <td>GLASS STAR FROSTED T-LIGHT HOLDER</td>\n",
              "      <td>6</td>\n",
              "      <td>2010-12-01 08:26:00</td>\n",
              "      <td>4.25</td>\n",
              "      <td>17850.0</td>\n",
              "      <td>United Kingdom</td>\n",
              "    </tr>\n",
              "    <tr>\n",
              "      <th>7</th>\n",
              "      <td>536366</td>\n",
              "      <td>22633</td>\n",
              "      <td>HAND WARMER UNION JACK</td>\n",
              "      <td>6</td>\n",
              "      <td>2010-12-01 08:28:00</td>\n",
              "      <td>1.85</td>\n",
              "      <td>17850.0</td>\n",
              "      <td>United Kingdom</td>\n",
              "    </tr>\n",
              "    <tr>\n",
              "      <th>8</th>\n",
              "      <td>536366</td>\n",
              "      <td>22632</td>\n",
              "      <td>HAND WARMER RED POLKA DOT</td>\n",
              "      <td>6</td>\n",
              "      <td>2010-12-01 08:28:00</td>\n",
              "      <td>1.85</td>\n",
              "      <td>17850.0</td>\n",
              "      <td>United Kingdom</td>\n",
              "    </tr>\n",
              "    <tr>\n",
              "      <th>9</th>\n",
              "      <td>536367</td>\n",
              "      <td>84879</td>\n",
              "      <td>ASSORTED COLOUR BIRD ORNAMENT</td>\n",
              "      <td>32</td>\n",
              "      <td>2010-12-01 08:34:00</td>\n",
              "      <td>1.69</td>\n",
              "      <td>13047.0</td>\n",
              "      <td>United Kingdom</td>\n",
              "    </tr>\n",
              "  </tbody>\n",
              "</table>\n",
              "</div>"
            ],
            "text/plain": [
              "  InvoiceNo StockCode                          Description  Quantity  \\\n",
              "0    536365    85123A   WHITE HANGING HEART T-LIGHT HOLDER         6   \n",
              "1    536365     71053                  WHITE METAL LANTERN         6   \n",
              "2    536365    84406B       CREAM CUPID HEARTS COAT HANGER         8   \n",
              "3    536365    84029G  KNITTED UNION FLAG HOT WATER BOTTLE         6   \n",
              "4    536365    84029E       RED WOOLLY HOTTIE WHITE HEART.         6   \n",
              "5    536365     22752         SET 7 BABUSHKA NESTING BOXES         2   \n",
              "6    536365     21730    GLASS STAR FROSTED T-LIGHT HOLDER         6   \n",
              "7    536366     22633               HAND WARMER UNION JACK         6   \n",
              "8    536366     22632            HAND WARMER RED POLKA DOT         6   \n",
              "9    536367     84879        ASSORTED COLOUR BIRD ORNAMENT        32   \n",
              "\n",
              "          InvoiceDate  UnitPrice  CustomerID         Country  \n",
              "0 2010-12-01 08:26:00       2.55     17850.0  United Kingdom  \n",
              "1 2010-12-01 08:26:00       3.39     17850.0  United Kingdom  \n",
              "2 2010-12-01 08:26:00       2.75     17850.0  United Kingdom  \n",
              "3 2010-12-01 08:26:00       3.39     17850.0  United Kingdom  \n",
              "4 2010-12-01 08:26:00       3.39     17850.0  United Kingdom  \n",
              "5 2010-12-01 08:26:00       7.65     17850.0  United Kingdom  \n",
              "6 2010-12-01 08:26:00       4.25     17850.0  United Kingdom  \n",
              "7 2010-12-01 08:28:00       1.85     17850.0  United Kingdom  \n",
              "8 2010-12-01 08:28:00       1.85     17850.0  United Kingdom  \n",
              "9 2010-12-01 08:34:00       1.69     13047.0  United Kingdom  "
            ]
          },
          "execution_count": 6,
          "metadata": {},
          "output_type": "execute_result"
        }
      ],
      "source": [
        "# Xem nhanh 10 dòng đầu của dữ liệu\n",
        "df.head(10)"
      ]
    },
    {
      "cell_type": "code",
      "execution_count": 7,
      "id": "411258de",
      "metadata": {},
      "outputs": [
        {
          "data": {
            "text/plain": [
              "InvoiceNo              object\n",
              "StockCode              object\n",
              "Description            object\n",
              "Quantity                int64\n",
              "InvoiceDate    datetime64[ns]\n",
              "UnitPrice             float64\n",
              "CustomerID            float64\n",
              "Country                object\n",
              "dtype: object"
            ]
          },
          "execution_count": 7,
          "metadata": {},
          "output_type": "execute_result"
        }
      ],
      "source": [
        "# Kiểm tra kiểu dữ liệu các cột\n",
        "df.dtypes"
      ]
    },
    {
      "cell_type": "code",
      "execution_count": 8,
      "id": "fd81925b",
      "metadata": {},
      "outputs": [
        {
          "data": {
            "text/html": [
              "<div>\n",
              "<style scoped>\n",
              "    .dataframe tbody tr th:only-of-type {\n",
              "        vertical-align: middle;\n",
              "    }\n",
              "\n",
              "    .dataframe tbody tr th {\n",
              "        vertical-align: top;\n",
              "    }\n",
              "\n",
              "    .dataframe thead th {\n",
              "        text-align: right;\n",
              "    }\n",
              "</style>\n",
              "<table border=\"1\" class=\"dataframe\">\n",
              "  <thead>\n",
              "    <tr style=\"text-align: right;\">\n",
              "      <th></th>\n",
              "      <th>Quantity</th>\n",
              "      <th>InvoiceDate</th>\n",
              "      <th>UnitPrice</th>\n",
              "      <th>CustomerID</th>\n",
              "    </tr>\n",
              "  </thead>\n",
              "  <tbody>\n",
              "    <tr>\n",
              "      <th>count</th>\n",
              "      <td>5000.000000</td>\n",
              "      <td>5000</td>\n",
              "      <td>5000.000000</td>\n",
              "      <td>3795.000000</td>\n",
              "    </tr>\n",
              "    <tr>\n",
              "      <th>mean</th>\n",
              "      <td>9.185800</td>\n",
              "      <td>2010-12-01 22:54:10.812000</td>\n",
              "      <td>3.792314</td>\n",
              "      <td>15906.281950</td>\n",
              "    </tr>\n",
              "    <tr>\n",
              "      <th>min</th>\n",
              "      <td>-9360.000000</td>\n",
              "      <td>2010-12-01 08:26:00</td>\n",
              "      <td>0.000000</td>\n",
              "      <td>12431.000000</td>\n",
              "    </tr>\n",
              "    <tr>\n",
              "      <th>25%</th>\n",
              "      <td>1.000000</td>\n",
              "      <td>2010-12-01 13:24:00</td>\n",
              "      <td>1.250000</td>\n",
              "      <td>14606.000000</td>\n",
              "    </tr>\n",
              "    <tr>\n",
              "      <th>50%</th>\n",
              "      <td>3.000000</td>\n",
              "      <td>2010-12-01 17:06:00</td>\n",
              "      <td>2.510000</td>\n",
              "      <td>15862.000000</td>\n",
              "    </tr>\n",
              "    <tr>\n",
              "      <th>75%</th>\n",
              "      <td>10.000000</td>\n",
              "      <td>2010-12-02 12:10:00</td>\n",
              "      <td>4.210000</td>\n",
              "      <td>17841.000000</td>\n",
              "    </tr>\n",
              "    <tr>\n",
              "      <th>max</th>\n",
              "      <td>2880.000000</td>\n",
              "      <td>2010-12-02 18:08:00</td>\n",
              "      <td>607.490000</td>\n",
              "      <td>18239.000000</td>\n",
              "    </tr>\n",
              "    <tr>\n",
              "      <th>std</th>\n",
              "      <td>144.940788</td>\n",
              "      <td>NaN</td>\n",
              "      <td>13.211720</td>\n",
              "      <td>1732.068892</td>\n",
              "    </tr>\n",
              "  </tbody>\n",
              "</table>\n",
              "</div>"
            ],
            "text/plain": [
              "          Quantity                 InvoiceDate    UnitPrice    CustomerID\n",
              "count  5000.000000                        5000  5000.000000   3795.000000\n",
              "mean      9.185800  2010-12-01 22:54:10.812000     3.792314  15906.281950\n",
              "min   -9360.000000         2010-12-01 08:26:00     0.000000  12431.000000\n",
              "25%       1.000000         2010-12-01 13:24:00     1.250000  14606.000000\n",
              "50%       3.000000         2010-12-01 17:06:00     2.510000  15862.000000\n",
              "75%      10.000000         2010-12-02 12:10:00     4.210000  17841.000000\n",
              "max    2880.000000         2010-12-02 18:08:00   607.490000  18239.000000\n",
              "std     144.940788                         NaN    13.211720   1732.068892"
            ]
          },
          "execution_count": 8,
          "metadata": {},
          "output_type": "execute_result"
        }
      ],
      "source": [
        "# Thống kê mô tả cơ bản cho các cột số\n",
        "df.describe()"
      ]
    },
    {
      "cell_type": "code",
      "execution_count": 9,
      "id": "2cd41133",
      "metadata": {},
      "outputs": [
        {
          "data": {
            "text/plain": [
              "1595"
            ]
          },
          "execution_count": 9,
          "metadata": {},
          "output_type": "execute_result"
        }
      ],
      "source": [
        "# Đếm số mã sản phẩm (StockCode) khác nhau\n",
        "df['StockCode'].nunique()"
      ]
    },
    {
      "cell_type": "code",
      "execution_count": 10,
      "id": "c99a80f4",
      "metadata": {},
      "outputs": [
        {
          "name": "stdout",
          "output_type": "stream",
          "text": [
            "StockCode\n",
            "84077     2976\n",
            "84950     1842\n",
            "21915     1549\n",
            "85123A     761\n",
            "84029E     686\n",
            "21212      676\n",
            "22616      656\n",
            "84879      623\n",
            "21137      613\n",
            "85099B     604\n",
            "Name: Quantity, dtype: int64\n"
          ]
        }
      ],
      "source": [
        "# Tính tổng số lượng bán theo StockCode, sắp xếp và in top 10\n",
        "df_top_sold = df.groupby('StockCode')['Quantity'].sum().sort_values(ascending=False).head(10)\n",
        "print(df_top_sold)"
      ]
    },
    {
      "cell_type": "code",
      "execution_count": 11,
      "id": "ff9410e0",
      "metadata": {},
      "outputs": [],
      "source": [
        "# Chuẩn hóa kiểu chuỗi cho InvoiceNo/StockCode (thêm khoảng trắng)\n",
        "df['InvoiceNo'] = df['InvoiceNo'].astype('str') + ' '\n",
        "df['StockCode'] = df['StockCode'].astype('str') + ' '"
      ]
    },
    {
      "cell_type": "code",
      "execution_count": 12,
      "id": "a7c0030d",
      "metadata": {},
      "outputs": [],
      "source": [
        "# Khởi tạo danh sách transactions và lấy danh sách hóa đơn duy nhất\n",
        "transactions = []\n",
        "invoices = df['InvoiceNo'].unique()"
      ]
    },
    {
      "cell_type": "code",
      "execution_count": 13,
      "id": "3fbb16ce",
      "metadata": {},
      "outputs": [
        {
          "name": "stdout",
          "output_type": "stream",
          "text": [
            "300\n"
          ]
        }
      ],
      "source": [
        "# In số lượng hóa đơn (số giao dịch)\n",
        "print(len(invoices))"
      ]
    },
    {
      "cell_type": "code",
      "execution_count": 14,
      "id": "79fecbe7",
      "metadata": {},
      "outputs": [
        {
          "name": "stdout",
          "output_type": "stream",
          "text": [
            "Total transactions:  300\n"
          ]
        }
      ],
      "source": [
        "# Chuyển dữ liệu thành danh sách giao dịch theo từng hóa đơn\n",
        "for iv in invoices:\n",
        "    items = df[df['InvoiceNo'] == iv]['StockCode'].tolist()\n",
        "    transactions.append(items)\n",
        "\n",
        "print('Total transactions: ', len(transactions))"
      ]
    },
    {
      "cell_type": "code",
      "execution_count": 16,
      "id": "50f869db",
      "metadata": {},
      "outputs": [
        {
          "name": "stdout",
          "output_type": "stream",
          "text": [
            "['85123A ', '71053 ', '84406B ', '84029G ', '84029E ', '22752 ', '21730 ']\n",
            "['22633 ', '22632 ']\n",
            "['84879 ', '22745 ', '22748 ', '22749 ', '22310 ', '84969 ', '22623 ', '22622 ', '21754 ', '21755 ', '21777 ', '48187 ']\n",
            "['22960 ', '22913 ', '22912 ', '22914 ']\n",
            "['21756 ']\n"
          ]
        }
      ],
      "source": [
        "# In thử 5 giao dịch đầu để kiểm tra\n",
        "for t in transactions[:5]:\n",
        "    print(t)"
      ]
    },
    {
      "cell_type": "code",
      "execution_count": 17,
      "id": "abc6179e",
      "metadata": {},
      "outputs": [],
      "source": [
        "# Chạy Apriori với ngưỡng: support=0.02, confidence=0.3, lift>=3, max_length=2\n",
        "apriori_rules = apriori(transactions, min_support=0.02, min_confidence=0.3, min_lift=3, max_length=2)"
      ]
    },
    {
      "cell_type": "code",
      "execution_count": 23,
      "id": "e67b948f",
      "metadata": {},
      "outputs": [
        {
          "name": "stdout",
          "output_type": "stream",
          "text": [
            "211\n"
          ]
        }
      ],
      "source": [
        "# Ép kết quả thành list và in số lượng luật/tập tìm được\n",
        "apriori_rules = list(apriori_rules)\n",
        "print(len(apriori_rules))"
      ]
    },
    {
      "cell_type": "code",
      "execution_count": 30,
      "id": "6e8fbc76",
      "metadata": {},
      "outputs": [
        {
          "name": "stdout",
          "output_type": "stream",
          "text": [
            "Rule 1:\n",
            "Items:  ['15056BL ', '20679 ']\n",
            "Support:  0.02\n",
            "\tRule 0.1:\n",
            "\t\t['15056BL '] -> ['20679 ']\n",
            "\t\tConfidence:  0.8571428571428571\n",
            "\t\tLift:  23.376623376623375\n",
            "\tRule 0.2:\n",
            "\t\t['20679 '] -> ['15056BL ']\n",
            "\t\tConfidence:  0.5454545454545454\n",
            "\t\tLift:  23.376623376623375\n",
            "Rule 2:\n",
            "Items:  ['21068 ', '20679 ']\n",
            "Support:  0.023333333333333334\n",
            "\tRule 1.1:\n",
            "\t\t['20679 '] -> ['21068 ']\n",
            "\t\tConfidence:  0.6363636363636364\n",
            "\t\tLift:  11.229946524064172\n",
            "\tRule 1.2:\n",
            "\t\t['21068 '] -> ['20679 ']\n",
            "\t\tConfidence:  0.411764705882353\n",
            "\t\tLift:  11.229946524064172\n",
            "Rule 3:\n",
            "Items:  ['21071 ', '20679 ']\n",
            "Support:  0.023333333333333334\n",
            "\tRule 2.1:\n",
            "\t\t['20679 '] -> ['21071 ']\n",
            "\t\tConfidence:  0.6363636363636364\n",
            "\t\tLift:  9.545454545454545\n",
            "\tRule 2.2:\n",
            "\t\t['21071 '] -> ['20679 ']\n",
            "\t\tConfidence:  0.35000000000000003\n",
            "\t\tLift:  9.545454545454547\n",
            "Rule 4:\n",
            "Items:  ['21730 ', '20679 ']\n",
            "Support:  0.023333333333333334\n",
            "\tRule 3.1:\n",
            "\t\t['20679 '] -> ['21730 ']\n",
            "\t\tConfidence:  0.6363636363636364\n",
            "\t\tLift:  11.229946524064172\n",
            "\tRule 3.2:\n",
            "\t\t['21730 '] -> ['20679 ']\n",
            "\t\tConfidence:  0.411764705882353\n",
            "\t\tLift:  11.229946524064172\n",
            "Rule 5:\n",
            "Items:  ['21871 ', '20679 ']\n",
            "Support:  0.02\n",
            "\tRule 4.1:\n",
            "\t\t['20679 '] -> ['21871 ']\n",
            "\t\tConfidence:  0.5454545454545454\n",
            "\t\tLift:  9.62566844919786\n",
            "\tRule 4.2:\n",
            "\t\t['21871 '] -> ['20679 ']\n",
            "\t\tConfidence:  0.35294117647058826\n",
            "\t\tLift:  9.625668449197862\n"
          ]
        }
      ],
      "source": [
        "# In 5 luật đầu tiên: items, support, confidence, lift\n",
        "for i, rule in enumerate(apriori_rules[:5]):\n",
        "    print(f\"Rule {i+1}:\")\n",
        "    print('Items: ', list(rule.items))\n",
        "    print('Support: ', rule.support)\n",
        "    for j, sub_rule in enumerate(rule.ordered_statistics):\n",
        "        print(f'\\tRule {i}.{j+1}:')\n",
        "        print(f'\\t\\t{list(sub_rule.items_base)} -> {list(sub_rule.items_add)}')\n",
        "        print('\\t\\tConfidence: ', sub_rule.confidence)\n",
        "        print('\\t\\tLift: ', sub_rule.lift)"
      ]
    },
    {
      "cell_type": "code",
      "execution_count": 29,
      "id": "26517850",
      "metadata": {},
      "outputs": [
        {
          "name": "stdout",
          "output_type": "stream",
          "text": [
            "Rule 1:\n",
            "Items:  ['22633 ', '22632 ']\n",
            "Support:  0.08666666666666667\n",
            "\tRule 0.1:\n",
            "\t\t['22632 '] -> ['22633 ']\n",
            "\t\tConfidence:  0.6842105263157895\n",
            "\t\tLift:  6.414473684210526\n",
            "\tRule 0.2:\n",
            "\t\t['22633 '] -> ['22632 ']\n",
            "\t\tConfidence:  0.8125\n",
            "\t\tLift:  6.414473684210526\n",
            "Rule 2:\n",
            "Items:  ['84029E ', '84029G ']\n",
            "Support:  0.07333333333333333\n",
            "\tRule 1.1:\n",
            "\t\t['84029E '] -> ['84029G ']\n",
            "\t\tConfidence:  0.7333333333333333\n",
            "\t\tLift:  9.166666666666666\n",
            "\tRule 1.2:\n",
            "\t\t['84029G '] -> ['84029E ']\n",
            "\t\tConfidence:  0.9166666666666666\n",
            "\t\tLift:  9.166666666666666\n",
            "Rule 3:\n",
            "Items:  ['84029E ', '85123A ']\n",
            "Support:  0.07\n",
            "\tRule 2.1:\n",
            "\t\t['84029E '] -> ['85123A ']\n",
            "\t\tConfidence:  0.7000000000000001\n",
            "\t\tLift:  6.000000000000001\n",
            "\tRule 2.2:\n",
            "\t\t['85123A '] -> ['84029E ']\n",
            "\t\tConfidence:  0.6000000000000001\n",
            "\t\tLift:  6.000000000000001\n",
            "Rule 4:\n",
            "Items:  ['84029G ', '85123A ']\n",
            "Support:  0.07\n",
            "\tRule 3.1:\n",
            "\t\t['84029G '] -> ['85123A ']\n",
            "\t\tConfidence:  0.8750000000000001\n",
            "\t\tLift:  7.500000000000001\n",
            "\tRule 3.2:\n",
            "\t\t['85123A '] -> ['84029G ']\n",
            "\t\tConfidence:  0.6000000000000001\n",
            "\t\tLift:  7.500000000000001\n",
            "Rule 5:\n",
            "Items:  ['71053 ', '85123A ']\n",
            "Support:  0.06333333333333334\n",
            "\tRule 4.1:\n",
            "\t\t['71053 '] -> ['85123A ']\n",
            "\t\tConfidence:  1.0\n",
            "\t\tLift:  8.571428571428571\n",
            "\tRule 4.2:\n",
            "\t\t['85123A '] -> ['71053 ']\n",
            "\t\tConfidence:  0.5428571428571429\n",
            "\t\tLift:  8.571428571428571\n"
          ]
        }
      ],
      "source": [
        "# Sắp xếp theo support giảm dần và in 5 luật đầu\n",
        "apriori_rules_sorted = sorted(apriori_rules, key=lambda x: x.support, reverse=True)\n",
        "for i, rule in enumerate(apriori_rules_sorted[:5]):\n",
        "    print(f\"Rule {i+1}:\")\n",
        "    print('Items: ', list(rule.items))\n",
        "    print('Support: ', rule.support)\n",
        "    for j, sub_rule in enumerate(rule.ordered_statistics):\n",
        "        print(f'\\tRule {i}.{j+1}:')\n",
        "        print(f'\\t\\t{list(sub_rule.items_base)} -> {list(sub_rule.items_add)}')\n",
        "        print('\\t\\tConfidence: ', sub_rule.confidence)\n",
        "        print('\\t\\tLift: ', sub_rule.lift)"
      ]
    },
    {
      "cell_type": "code",
      "execution_count": 34,
      "id": "7fe2da0a",
      "metadata": {},
      "outputs": [],
      "source": [
        "# Truy vấn luật có chứa cặp mã sản phẩm cụ thể\n",
        "code1 = '84077 ' # '84029G '\n",
        "code2 = '84950 '\n",
        "\n",
        "for rule in apriori_rules:\n",
        "    if code1 in rule.items and code2 in rule.items:\n",
        "        print('Items: ', list(rule.items))\n",
        "        print('Support: ', rule.support)\n",
        "        for j, sub_rule in enumerate(rule.ordered_statistics):\n",
        "            print(f'\\tRule {j+1}:')\n",
        "            print(f'\\t\\t{list(sub_rule.items_base)} -> {list(sub_rule.items_add)}')\n",
        "            print('\\t\\tConfidence: ', sub_rule.confidence)\n",
        "            print('\\t\\tLift: ', sub_rule.lift)"
      ]
    }
  ],
  "metadata": {
    "kernelspec": {
      "display_name": "Python 3",
      "language": "python",
      "name": "python3"
    },
    "language_info": {
      "codemirror_mode": {
        "name": "ipython",
        "version": 3
      },
      "file_extension": ".py",
      "mimetype": "text/x-python",
      "name": "python",
      "nbconvert_exporter": "python",
      "pygments_lexer": "ipython3",
      "version": "3.13.2"
    }
  },
  "nbformat": 4,
  "nbformat_minor": 5
}
