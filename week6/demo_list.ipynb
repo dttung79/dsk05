{
 "cells": [
  {
   "cell_type": "code",
   "execution_count": 1,
   "id": "66d5f252",
   "metadata": {},
   "outputs": [
    {
     "name": "stdout",
     "output_type": "stream",
     "text": [
      "[]\n"
     ]
    }
   ],
   "source": [
    "# declare a list\n",
    "a = [] # empty list\n",
    "print(a)"
   ]
  },
  {
   "cell_type": "code",
   "execution_count": 2,
   "id": "14326978",
   "metadata": {},
   "outputs": [
    {
     "name": "stdout",
     "output_type": "stream",
     "text": [
      "[1, 3, 10, 7]\n",
      "4\n"
     ]
    }
   ],
   "source": [
    "a = [1, 3, 10, 7] # list has 4 items\n",
    "print(a)\n",
    "print(len(a)) # number of items in the list"
   ]
  },
  {
   "cell_type": "code",
   "execution_count": 3,
   "id": "67da3999",
   "metadata": {},
   "outputs": [
    {
     "name": "stdout",
     "output_type": "stream",
     "text": [
      "[1, 'a', 0.5, [2, 3]]\n",
      "4\n"
     ]
    }
   ],
   "source": [
    "a = [1, 'a', 0.5, [2, 3]] # list can contains items of any types\n",
    "print(a)\n",
    "print(len(a))"
   ]
  },
  {
   "cell_type": "code",
   "execution_count": null,
   "id": "c8e5934e",
   "metadata": {},
   "outputs": [
    {
     "name": "stdout",
     "output_type": "stream",
     "text": [
      "John\n",
      "George\n",
      "Ringo\n",
      "Paul\n"
     ]
    }
   ],
   "source": [
    "a = ['John', 'Paul', 'George', 'Ringo']\n",
    "print(a[0])  # positive index, start from 1 to n-1\n",
    "print(a[2])\n",
    "print(a[-1]) # negative index, start from -1 to -n\n",
    "print(a[-3])"
   ]
  },
  {
   "cell_type": "code",
   "execution_count": null,
   "id": "eab803f7",
   "metadata": {},
   "outputs": [
    {
     "name": "stdout",
     "output_type": "stream",
     "text": [
      "['Mike', 'Paul', 'George', 'Ringo']\n"
     ]
    }
   ],
   "source": [
    "a[0] = 'Mike' # change item in the list\n",
    "print(a)"
   ]
  },
  {
   "cell_type": "code",
   "execution_count": null,
   "id": "7c17074f",
   "metadata": {},
   "outputs": [
    {
     "name": "stdout",
     "output_type": "stream",
     "text": [
      "['Mike', 'Paul', 'George', 'Ringo', 'Anna']\n"
     ]
    }
   ],
   "source": [
    "# append item to the end\n",
    "a.append('Anna')\n",
    "print(a)"
   ]
  },
  {
   "cell_type": "code",
   "execution_count": 7,
   "id": "831e4dc1",
   "metadata": {},
   "outputs": [
    {
     "name": "stdout",
     "output_type": "stream",
     "text": [
      "['Mike', 'Paul', 'George', 'Tom', 'Ringo', 'Anna']\n"
     ]
    }
   ],
   "source": [
    "# insert item at a position\n",
    "a.insert(3, 'Tom')\n",
    "print(a)"
   ]
  },
  {
   "cell_type": "code",
   "execution_count": 8,
   "id": "ffceb60e",
   "metadata": {},
   "outputs": [
    {
     "ename": "IndexError",
     "evalue": "list index out of range",
     "output_type": "error",
     "traceback": [
      "\u001b[0;31m---------------------------------------------------------------------------\u001b[0m",
      "\u001b[0;31mIndexError\u001b[0m                                Traceback (most recent call last)",
      "Cell \u001b[0;32mIn[8], line 1\u001b[0m\n\u001b[0;32m----> 1\u001b[0m \u001b[38;5;28mprint\u001b[39m(\u001b[43ma\u001b[49m\u001b[43m[\u001b[49m\u001b[38;5;241;43m6\u001b[39;49m\u001b[43m]\u001b[49m) \u001b[38;5;66;03m# error\u001b[39;00m\n",
      "\u001b[0;31mIndexError\u001b[0m: list index out of range"
     ]
    }
   ],
   "source": [
    "print(a[6]) # error"
   ]
  },
  {
   "cell_type": "code",
   "execution_count": null,
   "id": "43fd872e",
   "metadata": {},
   "outputs": [
    {
     "ename": "IndexError",
     "evalue": "list index out of range",
     "output_type": "error",
     "traceback": [
      "\u001b[0;31m---------------------------------------------------------------------------\u001b[0m",
      "\u001b[0;31mIndexError\u001b[0m                                Traceback (most recent call last)",
      "Cell \u001b[0;32mIn[10], line 1\u001b[0m\n\u001b[0;32m----> 1\u001b[0m \u001b[38;5;28mprint\u001b[39m(\u001b[43ma\u001b[49m\u001b[43m[\u001b[49m\u001b[38;5;241;43m-\u001b[39;49m\u001b[38;5;241;43m7\u001b[39;49m\u001b[43m]\u001b[49m)\n",
      "\u001b[0;31mIndexError\u001b[0m: list index out of range"
     ]
    }
   ],
   "source": [
    "print(a[-7]) # error"
   ]
  },
  {
   "cell_type": "code",
   "execution_count": 11,
   "id": "6daeb551",
   "metadata": {},
   "outputs": [
    {
     "name": "stdout",
     "output_type": "stream",
     "text": [
      "['Mike', 'Paul', 'George', 'Ringo', 'Anna']\n"
     ]
    }
   ],
   "source": [
    "a.remove('Tom')\n",
    "print(a)"
   ]
  },
  {
   "cell_type": "code",
   "execution_count": null,
   "id": "229d4e69",
   "metadata": {},
   "outputs": [
    {
     "name": "stdout",
     "output_type": "stream",
     "text": [
      "[1, 4, 5, 2, 3, 2, 7]\n"
     ]
    }
   ],
   "source": [
    "b = [1, 2, 4, 5, 2, 3, 2, 7]\n",
    "b.remove(2) # remove the 1st occurence of 2\n",
    "print(b)"
   ]
  },
  {
   "cell_type": "code",
   "execution_count": null,
   "id": "ec02c2b6",
   "metadata": {},
   "outputs": [
    {
     "ename": "ValueError",
     "evalue": "list.remove(x): x not in list",
     "output_type": "error",
     "traceback": [
      "\u001b[0;31m---------------------------------------------------------------------------\u001b[0m",
      "\u001b[0;31mValueError\u001b[0m                                Traceback (most recent call last)",
      "Cell \u001b[0;32mIn[13], line 1\u001b[0m\n\u001b[0;32m----> 1\u001b[0m \u001b[43mb\u001b[49m\u001b[38;5;241;43m.\u001b[39;49m\u001b[43mremove\u001b[49m\u001b[43m(\u001b[49m\u001b[38;5;241;43m10\u001b[39;49m\u001b[43m)\u001b[49m\n",
      "\u001b[0;31mValueError\u001b[0m: list.remove(x): x not in list"
     ]
    }
   ],
   "source": [
    "b.remove(10) # error because 10 is not in the list"
   ]
  },
  {
   "cell_type": "code",
   "execution_count": null,
   "id": "a4696900",
   "metadata": {},
   "outputs": [
    {
     "name": "stdout",
     "output_type": "stream",
     "text": [
      "[1, 4, 5, 2, 3, 2]\n"
     ]
    }
   ],
   "source": [
    "b.pop() # remove the last item\n",
    "print(b)"
   ]
  },
  {
   "cell_type": "code",
   "execution_count": null,
   "id": "acc0feee",
   "metadata": {},
   "outputs": [
    {
     "name": "stdout",
     "output_type": "stream",
     "text": [
      "[4, 5, 2, 3, 2]\n"
     ]
    }
   ],
   "source": [
    "b.pop(0) # remove the item at index 0\n",
    "print(b)"
   ]
  },
  {
   "cell_type": "code",
   "execution_count": 16,
   "id": "d3e0e1a3",
   "metadata": {},
   "outputs": [
    {
     "name": "stdout",
     "output_type": "stream",
     "text": [
      "[4, 5, 2]\n"
     ]
    }
   ],
   "source": [
    "b.pop(-1)\n",
    "b.pop(-1)\n",
    "print(b)"
   ]
  },
  {
   "cell_type": "code",
   "execution_count": 17,
   "id": "1a4d2a24",
   "metadata": {},
   "outputs": [
    {
     "name": "stdout",
     "output_type": "stream",
     "text": [
      "[]\n"
     ]
    }
   ],
   "source": [
    "b.clear()\n",
    "print(b)"
   ]
  },
  {
   "cell_type": "code",
   "execution_count": 24,
   "id": "5c3da968",
   "metadata": {},
   "outputs": [
    {
     "name": "stdout",
     "output_type": "stream",
     "text": [
      "['Mike', 'Paul', 'George', 'Ringo', 'Anna']\n",
      "['Paul', 'George']\n",
      "['Mike', 'Paul', 'George']\n",
      "['Mike', 'Paul', 'George']\n",
      "['George', 'Ringo', 'Anna']\n",
      "['George', 'Ringo', 'Anna']\n",
      "['Mike', 'Paul', 'George', 'Ringo', 'Anna']\n"
     ]
    }
   ],
   "source": [
    "print(a)\n",
    "b = a[1:3] # get a[1], a[2]\n",
    "print(b)\n",
    "b = a[0:3] # get a[0], ... a[2]\n",
    "print(b)\n",
    "b = a[:3]  # hide default 0\n",
    "print(b)\n",
    "b = a[2:5]\n",
    "print(b)\n",
    "b = a[2:]  # hide default end\n",
    "print(b)\n",
    "b = a[:]\n",
    "print(b)"
   ]
  },
  {
   "cell_type": "code",
   "execution_count": 25,
   "id": "59b98c80",
   "metadata": {},
   "outputs": [
    {
     "name": "stdout",
     "output_type": "stream",
     "text": [
      "2 lists equal\n"
     ]
    }
   ],
   "source": [
    "if a == b:\n",
    "    print('2 lists equal')\n",
    "else:\n",
    "    print('2 lists are not equal')"
   ]
  },
  {
   "cell_type": "code",
   "execution_count": 26,
   "id": "a813c245",
   "metadata": {},
   "outputs": [
    {
     "name": "stdout",
     "output_type": "stream",
     "text": [
      "['John', 'Paul', 'George', 'Ringo', 'Anna']\n",
      "['Mike', 'Paul', 'George', 'Ringo', 'Anna']\n"
     ]
    }
   ],
   "source": [
    "a[0] = 'John' \n",
    "print(a)\n",
    "print(b) # b[0] still Mike"
   ]
  },
  {
   "cell_type": "code",
   "execution_count": 27,
   "id": "81ec9714",
   "metadata": {},
   "outputs": [
    {
     "name": "stdout",
     "output_type": "stream",
     "text": [
      "2 lists are not equal\n"
     ]
    }
   ],
   "source": [
    "if a == b:\n",
    "    print('2 lists equal')\n",
    "else:\n",
    "    print('2 lists are not equal')"
   ]
  },
  {
   "cell_type": "code",
   "execution_count": 29,
   "id": "b7bdbfdc",
   "metadata": {},
   "outputs": [
    {
     "name": "stdout",
     "output_type": "stream",
     "text": [
      "['Mike', 'Paul', 'George', 'Ringo', 'Anna']\n",
      "['Mike', 'Paul', 'George', 'Ringo', 'Anna']\n",
      "['Mike', 'Paul', 'George', 'Ringo', 'Anna']\n"
     ]
    }
   ],
   "source": [
    "a[0] = 'Mike'\n",
    "c = a\n",
    "print(a, b, c, sep='\\n')"
   ]
  },
  {
   "cell_type": "code",
   "execution_count": 30,
   "id": "55a56bbe",
   "metadata": {},
   "outputs": [
    {
     "name": "stdout",
     "output_type": "stream",
     "text": [
      "['John', 'Paul', 'George', 'Ringo', 'Anna']\n",
      "['Mike', 'Paul', 'George', 'Ringo', 'Anna']\n",
      "['John', 'Paul', 'George', 'Ringo', 'Anna']\n"
     ]
    }
   ],
   "source": [
    "a[0] = 'John'\n",
    "print(a, b, c, sep='\\n')"
   ]
  },
  {
   "cell_type": "code",
   "execution_count": null,
   "id": "f39ffa69",
   "metadata": {},
   "outputs": [
    {
     "name": "stdout",
     "output_type": "stream",
     "text": [
      "[17, 44, 75, 88, 54, 89, 60, 58, 25, 46]\n"
     ]
    }
   ],
   "source": [
    "# slice syntax a[start:end:step] default start = 0, end = n, step = 1\n",
    "import random as rd\n",
    "a = rd.sample(range(100), 10) # generate 10 random numbers from 0 to 99\n",
    "print(a)"
   ]
  },
  {
   "cell_type": "code",
   "execution_count": 32,
   "id": "e456b6ed",
   "metadata": {},
   "outputs": [
    {
     "name": "stdout",
     "output_type": "stream",
     "text": [
      "[17, 25, 44, 46, 54, 58, 60, 75, 88, 89]\n"
     ]
    }
   ],
   "source": [
    "a.sort()\n",
    "print(a)"
   ]
  },
  {
   "cell_type": "code",
   "execution_count": 33,
   "id": "8bedaa43",
   "metadata": {},
   "outputs": [
    {
     "name": "stdout",
     "output_type": "stream",
     "text": [
      "[9, 52, 87, 17, 64, 29, 35, 85, 10, 12]\n",
      "[12, 10, 85, 35, 29, 64, 17, 87, 52, 9]\n"
     ]
    }
   ],
   "source": [
    "a = rd.sample(range(100), 10)\n",
    "print(a)\n",
    "a.reverse()\n",
    "print(a)"
   ]
  },
  {
   "cell_type": "code",
   "execution_count": 42,
   "id": "ff143a7c",
   "metadata": {},
   "outputs": [
    {
     "name": "stdout",
     "output_type": "stream",
     "text": [
      "3\n",
      "[1, 2, 4, 5, 2, 3, 2, 7]\n"
     ]
    }
   ],
   "source": [
    "b = [1, 2, 4, 5, 2, 3, 2, 7]\n",
    "print(b.count(2))\n",
    "print(b)"
   ]
  },
  {
   "cell_type": "code",
   "execution_count": null,
   "id": "d89310ee",
   "metadata": {},
   "outputs": [],
   "source": [
    "print(b.index(2)) # 1\n",
    "print(b.index(5)) # 3\n",
    "print(b.index(10)) # error because 10 is not in the list"
   ]
  },
  {
   "cell_type": "code",
   "execution_count": 41,
   "id": "30e7347f",
   "metadata": {},
   "outputs": [
    {
     "name": "stdout",
     "output_type": "stream",
     "text": [
      "[1, 2, 4, 5, 2, 3, 2, 7, 'a', 'b']\n"
     ]
    }
   ],
   "source": [
    "b.extend(['a', 'b'])\n",
    "print(b)"
   ]
  },
  {
   "cell_type": "code",
   "execution_count": 43,
   "id": "89f3bc9f",
   "metadata": {},
   "outputs": [
    {
     "name": "stdout",
     "output_type": "stream",
     "text": [
      "[1, 2, 4, 5, 2, 3, 2, 7, 'a', 'b']\n"
     ]
    }
   ],
   "source": [
    "b = b + ['a', 'b']\n",
    "print(b)"
   ]
  }
 ],
 "metadata": {
  "kernelspec": {
   "display_name": "Python 3",
   "language": "python",
   "name": "python3"
  },
  "language_info": {
   "codemirror_mode": {
    "name": "ipython",
    "version": 3
   },
   "file_extension": ".py",
   "mimetype": "text/x-python",
   "name": "python",
   "nbconvert_exporter": "python",
   "pygments_lexer": "ipython3",
   "version": "3.13.2"
  }
 },
 "nbformat": 4,
 "nbformat_minor": 5
}
