{
 "cells": [
  {
   "cell_type": "code",
   "execution_count": 1,
   "id": "574eb709",
   "metadata": {},
   "outputs": [
    {
     "name": "stdout",
     "output_type": "stream",
     "text": [
      "[31, 99, 12, 53, 41, 30, 23, 88, 59, 87]\n"
     ]
    }
   ],
   "source": [
    "import random as rd\n",
    "a = rd.sample(range(100), 10)\n",
    "print(a)"
   ]
  },
  {
   "cell_type": "code",
   "execution_count": null,
   "id": "f75ebbdf",
   "metadata": {},
   "outputs": [
    {
     "name": "stdout",
     "output_type": "stream",
     "text": [
      "12 30 88 "
     ]
    }
   ],
   "source": [
    "n = len(a)\n",
    "# loop using index\n",
    "for i in range(n):\n",
    "    if a[i] % 2 == 0:\n",
    "        print(a[i], end=' ')"
   ]
  },
  {
   "cell_type": "code",
   "execution_count": null,
   "id": "fc40595a",
   "metadata": {},
   "outputs": [
    {
     "name": "stdout",
     "output_type": "stream",
     "text": [
      "12 30 88 "
     ]
    }
   ],
   "source": [
    "# loop using item\n",
    "for item in a:\n",
    "    if item % 2 == 0:\n",
    "        print(item, end=' ')"
   ]
  },
  {
   "cell_type": "code",
   "execution_count": 13,
   "id": "405249cf",
   "metadata": {},
   "outputs": [
    {
     "name": "stdout",
     "output_type": "stream",
     "text": [
      "banana mango grapes "
     ]
    }
   ],
   "source": [
    "products = ['apple', 'banana', 'kiwi', 'mango', 'grapes']\n",
    "prices = [10, 12, 5, 20, 20]\n",
    "n = len(products)\n",
    "# print products that price > 10\n",
    "for i in range(n):\n",
    "    if prices[i] > 10:\n",
    "        print(products[i], end=' ')"
   ]
  },
  {
   "cell_type": "code",
   "execution_count": 14,
   "id": "11723293",
   "metadata": {},
   "outputs": [
    {
     "name": "stdout",
     "output_type": "stream",
     "text": [
      "mango has price 20\n",
      "grapes has price 20\n"
     ]
    }
   ],
   "source": [
    "# user enter a price, find product\n",
    "p = int(input('Enter a price: '))\n",
    "found = False\n",
    "for i in range(len(products)):\n",
    "    if prices[i] == p:\n",
    "        found = True\n",
    "        print(f'{products[i]} has price {p}')\n",
    "\n",
    "if not found:\n",
    "    print(f'No product for price {p}')"
   ]
  }
 ],
 "metadata": {
  "kernelspec": {
   "display_name": "Python 3",
   "language": "python",
   "name": "python3"
  },
  "language_info": {
   "codemirror_mode": {
    "name": "ipython",
    "version": 3
   },
   "file_extension": ".py",
   "mimetype": "text/x-python",
   "name": "python",
   "nbconvert_exporter": "python",
   "pygments_lexer": "ipython3",
   "version": "3.13.2"
  }
 },
 "nbformat": 4,
 "nbformat_minor": 5
}
