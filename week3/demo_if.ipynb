{
 "cells": [
  {
   "cell_type": "code",
   "execution_count": null,
   "id": "c291372b",
   "metadata": {},
   "outputs": [
    {
     "name": "stdout",
     "output_type": "stream",
     "text": [
      "0 is even\n"
     ]
    }
   ],
   "source": [
    "# Check if a number is even or odd\n",
    "n = int(input('enter n: '))\n",
    "if n % 2 == 0:\n",
    "    print(f'{n} is even')\n",
    "else:\n",
    "    print(f'{n} is odd')"
   ]
  },
  {
   "cell_type": "code",
   "execution_count": null,
   "id": "c847356d",
   "metadata": {},
   "outputs": [
    {
     "name": "stdout",
     "output_type": "stream",
     "text": [
      "Area of rectangle (2 x 3) = 6\n",
      "Area of rectangle ( 2 x 3 ) =  6\n"
     ]
    }
   ],
   "source": [
    "# Calculate area of a rectangle\n",
    "width = int(input('Enter rectangle width: '))\n",
    "length = int(input('Enter rectangle length: '))\n",
    "# offensive programming (not prefer)\n",
    "if width > 0 and length > 0:\n",
    "    area = width * length\n",
    "    print(f'Area of rectangle ({width} x {length}) = {area}')\n",
    "    print('Area of rectangle (', width, 'x', length, ') = ', area)\n",
    "else:\n",
    "    print('Invalid input. Sides must greater than 0')"
   ]
  },
  {
   "cell_type": "code",
   "execution_count": null,
   "id": "7733693e",
   "metadata": {},
   "outputs": [
    {
     "name": "stdout",
     "output_type": "stream",
     "text": [
      "Area of rectangle (2 x 3) = 6\n",
      "Area of rectangle ( 2 x 3 ) =  6\n"
     ]
    }
   ],
   "source": [
    "width = int(input('Enter rectangle width: '))\n",
    "length = int(input('Enter rectangle length: '))\n",
    "# defensive programming (prefer) - think of error cases first, deal with main logic later\n",
    "if width <= 0 or length <= 0:\n",
    "    print('Invalid input. Sides must greater than 0')\n",
    "else:\n",
    "    area = width * length\n",
    "    print(f'Area of rectangle ({width} x {length}) = {area}')\n",
    "    print('Area of rectangle (', width, 'x', length, ') = ', area)"
   ]
  },
  {
   "cell_type": "code",
   "execution_count": null,
   "id": "8237da10",
   "metadata": {},
   "outputs": [],
   "source": [
    "# Calculate movie ticket based on age\n",
    "age = int(input('Enter your age: '))\n",
    "if age < 1 or age > 120:        # defensive programming\n",
    "    print('Invalid age.')\n",
    "else:\n",
    "    # nested if condition\n",
    "    if age < 18:\n",
    "        print('Your ticket price: 50K vnd')\n",
    "    else:\n",
    "        print('Your ticket price: 100K vnd')"
   ]
  },
  {
   "cell_type": "code",
   "execution_count": 14,
   "id": "87056342",
   "metadata": {},
   "outputs": [
    {
     "name": "stdout",
     "output_type": "stream",
     "text": [
      "Your salary is: 5500.0\n"
     ]
    }
   ],
   "source": [
    "hours = int(input('Enter working hours: '))\n",
    "rate = float(input('Enter hourly rate: '))\n",
    "\n",
    "if hours <= 40:\n",
    "    payment = hours * rate\n",
    "else:\n",
    "    payment = 40 * rate + (hours - 40) * rate * 1.5 # hours * rate + (hours - 40) * rate * 0.5\n",
    "\n",
    "print(f'Your salary is: {payment}')"
   ]
  },
  {
   "cell_type": "code",
   "execution_count": null,
   "id": "68d279fc",
   "metadata": {},
   "outputs": [
    {
     "name": "stdout",
     "output_type": "stream",
     "text": [
      "Your salary is: 5500.0\n"
     ]
    }
   ],
   "source": [
    "# 2nd way is shorter\n",
    "payment = hours * rate # for both cases\n",
    "if hours > 40:\n",
    "    payment += (hours -40) * rate * 0.5\n",
    "\n",
    "print(f'Your salary is: {payment}')"
   ]
  },
  {
   "cell_type": "code",
   "execution_count": null,
   "id": "72115bad",
   "metadata": {},
   "outputs": [],
   "source": [
    "# Calculate rank based on grade\n",
    "grade = int(input('Enter your grade: '))\n",
    "if grade < 0 or grade > 100:\n",
    "    print('Invalid grade')\n",
    "else:\n",
    "    if grade < 50:\n",
    "        rank = 'Fail'\n",
    "    elif grade < 75:\n",
    "        rank = 'Pass'\n",
    "    elif grade < 90:\n",
    "        rank = 'Merit'\n",
    "    else:\n",
    "        rank = 'Distinction'"
   ]
  },
  {
   "cell_type": "code",
   "execution_count": 19,
   "id": "04122c44",
   "metadata": {},
   "outputs": [
    {
     "name": "stdout",
     "output_type": "stream",
     "text": [
      "Max = 6\n",
      "Max = 6\n"
     ]
    }
   ],
   "source": [
    "# max between 2 numbers\n",
    "a = int(input('Enter a: '))\n",
    "b = int(input('Enter b: '))\n",
    "\n",
    "if a > b:\n",
    "    m = a\n",
    "else:\n",
    "    m = b\n",
    "print(f'Max = {m}')\n",
    "\n",
    "# short way to write if-else\n",
    "m = a if a > b else b\n",
    "print(f'Max = {m}')"
   ]
  },
  {
   "cell_type": "code",
   "execution_count": 22,
   "id": "1b567551",
   "metadata": {},
   "outputs": [
    {
     "name": "stdout",
     "output_type": "stream",
     "text": [
      "Max = 5\n"
     ]
    }
   ],
   "source": [
    "a = int(input('Enter a: '))\n",
    "b = int(input('Enter b: '))\n",
    "c = int(input('Enter c: '))\n",
    "\n",
    "m = a if a > b else b\n",
    "m = c if c > m else m\n",
    "\n",
    "print(f'Max = {m}')"
   ]
  }
 ],
 "metadata": {
  "kernelspec": {
   "display_name": "Python 3",
   "language": "python",
   "name": "python3"
  },
  "language_info": {
   "codemirror_mode": {
    "name": "ipython",
    "version": 3
   },
   "file_extension": ".py",
   "mimetype": "text/x-python",
   "name": "python",
   "nbconvert_exporter": "python",
   "pygments_lexer": "ipython3",
   "version": "3.13.2"
  }
 },
 "nbformat": 4,
 "nbformat_minor": 5
}
