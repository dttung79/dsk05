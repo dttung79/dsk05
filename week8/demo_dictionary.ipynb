{
 "cells": [
  {
   "cell_type": "code",
   "execution_count": 1,
   "id": "1a665a95",
   "metadata": {},
   "outputs": [
    {
     "name": "stdout",
     "output_type": "stream",
     "text": [
      "{'Mary': 201, 'Bob': 310, 'Kevin': 115, 'Anna': 201}\n"
     ]
    }
   ],
   "source": [
    "rooms = {'Mary': 201, 'Bob': 310, 'Kevin': 115, 'Anna': 201}\n",
    "print(rooms)"
   ]
  },
  {
   "cell_type": "code",
   "execution_count": null,
   "id": "83c65255",
   "metadata": {},
   "outputs": [
    {
     "name": "stdout",
     "output_type": "stream",
     "text": [
      "Mark does not stay here.\n"
     ]
    }
   ],
   "source": [
    "name = input('Enter guest: ')\n",
    "if name not in rooms:\n",
    "    print(f'{name} does not stay here.')\n",
    "else:\n",
    "    print(f'{name} stays in room {rooms[name]}')"
   ]
  },
  {
   "cell_type": "code",
   "execution_count": 8,
   "id": "76cd96bc",
   "metadata": {},
   "outputs": [
    {
     "name": "stdout",
     "output_type": "stream",
     "text": [
      "Mark stays in 444\n"
     ]
    }
   ],
   "source": [
    "name = input('Enter new guest: ')\n",
    "if name in rooms:\n",
    "    print(f'{name} already stays in {rooms[name]}')\n",
    "else:\n",
    "    room_no = int(input('Enter room number: '))\n",
    "    rooms[name] = room_no   # add new (key, value) to the dictionary\n",
    "    print(f'{name} stays in {room_no}')"
   ]
  },
  {
   "cell_type": "code",
   "execution_count": 9,
   "id": "2146e1da",
   "metadata": {},
   "outputs": [
    {
     "name": "stdout",
     "output_type": "stream",
     "text": [
      "{'Mary': 201, 'Bob': 310, 'Kevin': 115, 'Anna': 201, 'Mark': 444}\n"
     ]
    }
   ],
   "source": [
    "print(rooms)"
   ]
  },
  {
   "cell_type": "code",
   "execution_count": 11,
   "id": "06c987d1",
   "metadata": {},
   "outputs": [
    {
     "name": "stdout",
     "output_type": "stream",
     "text": [
      "Now Mark stays in 400\n"
     ]
    }
   ],
   "source": [
    "name = input('Enter guest to change room: ')\n",
    "if name not in rooms:\n",
    "    print(f'{name} does not stay here.')\n",
    "else:\n",
    "    room_no = int(input('Enter new room: '))\n",
    "    rooms[name] = room_no   # modify value of key\n",
    "    print(f'Now {name} stays in {room_no}')"
   ]
  },
  {
   "cell_type": "code",
   "execution_count": 12,
   "id": "84eecaac",
   "metadata": {},
   "outputs": [
    {
     "name": "stdout",
     "output_type": "stream",
     "text": [
      "{'Mary': 201, 'Bob': 310, 'Kevin': 115, 'Anna': 201, 'Mark': 400}\n"
     ]
    }
   ],
   "source": [
    "print(rooms)"
   ]
  },
  {
   "cell_type": "code",
   "execution_count": 14,
   "id": "ba3af8f2",
   "metadata": {},
   "outputs": [
    {
     "name": "stdout",
     "output_type": "stream",
     "text": [
      "Anna checked out. Room 201 is available.\n"
     ]
    }
   ],
   "source": [
    "name = input('Enter guest to check out: ')\n",
    "if name not in rooms:\n",
    "    print(f'{name} does not stay here.')\n",
    "else:\n",
    "    room_no = rooms.pop(name)\n",
    "    print(f'{name} checked out. Room {room_no} is available.')"
   ]
  },
  {
   "cell_type": "code",
   "execution_count": 15,
   "id": "bb032881",
   "metadata": {},
   "outputs": [
    {
     "name": "stdout",
     "output_type": "stream",
     "text": [
      "Mary stays in 201\n",
      "Bob stays in 310\n",
      "Kevin stays in 115\n",
      "Mark stays in 400\n"
     ]
    }
   ],
   "source": [
    "for name, room_no in rooms.items():\n",
    "    print(f'{name} stays in {room_no}')"
   ]
  },
  {
   "cell_type": "code",
   "execution_count": 16,
   "id": "6209364d",
   "metadata": {},
   "outputs": [
    {
     "name": "stdout",
     "output_type": "stream",
     "text": [
      "[('Mary', 201), ('Bob', 310), ('Kevin', 115), ('Mark', 400)]\n"
     ]
    }
   ],
   "source": [
    "print(list(rooms.items()))"
   ]
  },
  {
   "cell_type": "code",
   "execution_count": 19,
   "id": "22fedf75",
   "metadata": {},
   "outputs": [
    {
     "name": "stdout",
     "output_type": "stream",
     "text": [
      "All guests: \n",
      "['Mary', 'Bob', 'Kevin', 'Mark']\n",
      "dict_keys(['Mary', 'Bob', 'Kevin', 'Mark'])\n",
      "Mary Bob Kevin Mark "
     ]
    }
   ],
   "source": [
    "print('All guests: ')\n",
    "print(list(rooms.keys()))\n",
    "print(rooms.keys())\n",
    "for name in rooms.keys():\n",
    "    print(name, end=' ')"
   ]
  },
  {
   "cell_type": "code",
   "execution_count": 20,
   "id": "3b4a81d6",
   "metadata": {},
   "outputs": [
    {
     "name": "stdout",
     "output_type": "stream",
     "text": [
      "All rooms: \n",
      "201 310 115 400 "
     ]
    }
   ],
   "source": [
    "print('All rooms: ')\n",
    "for room in rooms.values():\n",
    "    print(room, end=' ')"
   ]
  }
 ],
 "metadata": {
  "kernelspec": {
   "display_name": "Python 3",
   "language": "python",
   "name": "python3"
  },
  "language_info": {
   "codemirror_mode": {
    "name": "ipython",
    "version": 3
   },
   "file_extension": ".py",
   "mimetype": "text/x-python",
   "name": "python",
   "nbconvert_exporter": "python",
   "pygments_lexer": "ipython3",
   "version": "3.13.2"
  }
 },
 "nbformat": 4,
 "nbformat_minor": 5
}
