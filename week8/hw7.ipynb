{
 "cells": [
  {
   "cell_type": "code",
   "execution_count": 3,
   "id": "4b9f80d6",
   "metadata": {},
   "outputs": [],
   "source": [
    "a = [1, 8, 19, 22, 31, 40]\n",
    "b = [2, 4, 10, 15, 30, 37, 50]"
   ]
  },
  {
   "cell_type": "code",
   "execution_count": 5,
   "id": "fc31bfcc",
   "metadata": {},
   "outputs": [
    {
     "name": "stdout",
     "output_type": "stream",
     "text": [
      "[1, 2, 4, 8, 10, 15, 19, 22, 30, 31, 37, 40, 50]\n"
     ]
    }
   ],
   "source": [
    "n = len(a)\n",
    "m = len(b)\n",
    "\n",
    "i = 0\n",
    "j = 0\n",
    "\n",
    "c = []\n",
    "while i < n and j < m:\n",
    "    if a[i] < b[j]:\n",
    "        c.append(a[i])\n",
    "        i += 1\n",
    "    else:\n",
    "        c.append(b[j])\n",
    "        j += 1\n",
    "\n",
    "while i < n:\n",
    "    c.append(a[i])\n",
    "    i += 1\n",
    "\n",
    "while j < m:\n",
    "    c.append(b[j])\n",
    "    j += 1\n",
    "\n",
    "print(c)"
   ]
  },
  {
   "cell_type": "code",
   "execution_count": 6,
   "id": "62c5d0e3",
   "metadata": {},
   "outputs": [
    {
     "name": "stdout",
     "output_type": "stream",
     "text": [
      "[1, 2, 3, 4, 8, 5]\n"
     ]
    }
   ],
   "source": [
    "votes = [1, 2, 3, 1, 3, 4, 8, 1, 2, 3, 8, 1, 1, 4, 3, 5, 5]\n",
    "ids = []\n",
    "for v in votes:\n",
    "    if v not in ids:\n",
    "        ids.append(v)\n",
    "\n",
    "print(ids)"
   ]
  },
  {
   "cell_type": "code",
   "execution_count": 7,
   "id": "64e1b41d",
   "metadata": {},
   "outputs": [
    {
     "name": "stdout",
     "output_type": "stream",
     "text": [
      "Candidate 1 has 5 votes\n",
      "Candidate 2 has 2 votes\n",
      "Candidate 3 has 4 votes\n",
      "Candidate 4 has 2 votes\n",
      "Candidate 8 has 2 votes\n",
      "Candidate 5 has 2 votes\n"
     ]
    }
   ],
   "source": [
    "for i in ids:\n",
    "    count_id = 0\n",
    "    for v in votes:\n",
    "        if i == v:\n",
    "            count_id += 1\n",
    "    print(f'Candidate {i} has {count_id} votes')"
   ]
  },
  {
   "cell_type": "code",
   "execution_count": null,
   "id": "be12f236",
   "metadata": {},
   "outputs": [],
   "source": [
    "# list comprehension\n",
    "# syntax [a for i in items if condition]"
   ]
  },
  {
   "cell_type": "code",
   "execution_count": 8,
   "id": "3463e429",
   "metadata": {},
   "outputs": [
    {
     "name": "stdout",
     "output_type": "stream",
     "text": [
      "[13, 13, 13, 12, 14]\n"
     ]
    }
   ],
   "source": [
    "names = ['Ballack Obama', 'Boris Johnson', 'Angela Merkel', 'Donald Trump', 'Vladimir Putin']\n",
    "lengths = [len(name) for name in names]\n",
    "print(lengths)"
   ]
  },
  {
   "cell_type": "code",
   "execution_count": 9,
   "id": "b8b5d98f",
   "metadata": {},
   "outputs": [
    {
     "name": "stdout",
     "output_type": "stream",
     "text": [
      "[15, 42, 43, 50, 53, 90, 56, 9, 31, 35]\n"
     ]
    }
   ],
   "source": [
    "import random as rd\n",
    "numbers = rd.sample(range(1, 100), 10) # random 10 integers from 1 to 99\n",
    "print(numbers)"
   ]
  },
  {
   "cell_type": "code",
   "execution_count": 10,
   "id": "db762d79",
   "metadata": {},
   "outputs": [
    {
     "name": "stdout",
     "output_type": "stream",
     "text": [
      "[42, 50, 90, 56]\n"
     ]
    }
   ],
   "source": [
    "evens = [n for n in numbers if n % 2 == 0]\n",
    "print(evens)"
   ]
  },
  {
   "cell_type": "code",
   "execution_count": 11,
   "id": "1826b20e",
   "metadata": {},
   "outputs": [
    {
     "name": "stdout",
     "output_type": "stream",
     "text": [
      "[15, 43, 53, 9, 31, 35]\n"
     ]
    }
   ],
   "source": [
    "odds = [n for n in numbers if n % 2 != 0]\n",
    "print(odds)"
   ]
  }
 ],
 "metadata": {
  "kernelspec": {
   "display_name": "Python 3",
   "language": "python",
   "name": "python3"
  },
  "language_info": {
   "codemirror_mode": {
    "name": "ipython",
    "version": 3
   },
   "file_extension": ".py",
   "mimetype": "text/x-python",
   "name": "python",
   "nbconvert_exporter": "python",
   "pygments_lexer": "ipython3",
   "version": "3.13.2"
  }
 },
 "nbformat": 4,
 "nbformat_minor": 5
}
