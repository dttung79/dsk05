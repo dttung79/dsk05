{
  "cells": [
    {
      "cell_type": "markdown",
      "metadata": {
        "id": "zDqaYVvnmF66"
      },
      "source": [
        "**Phần 1: Khai báo thư viện và nhập xuất file**"
      ]
    },
    {
      "cell_type": "markdown",
      "metadata": {
        "id": "-UePDwnOm0wd"
      },
      "source": [
        "1/ Khai báo thư viện"
      ]
    },
    {
      "cell_type": "code",
      "execution_count": null,
      "metadata": {
        "id": "Gbcw6_EQmKZg"
      },
      "outputs": [],
      "source": [
        "# Khai báo thư viện Pandas\n",
        "\n",
        "# Khai báo thư viện Numpy\n",
        "\n",
        "# Khai báo thư viện cho visualization\n",
        "\n",
        "# Khai báo thư viện cho xử lý date time\n"
      ]
    },
    {
      "cell_type": "markdown",
      "metadata": {
        "id": "P-rnQAWFNMle"
      },
      "source": [
        "2/ Kiểm tra thông tin của dữ liệu"
      ]
    },
    {
      "cell_type": "code",
      "execution_count": null,
      "metadata": {
        "colab": {
          "base_uri": "https://localhost:8080/",
          "height": 143
        },
        "id": "AtxUwOtbM_qx",
        "outputId": "520188b3-896d-4860-e2ce-1c806f7df3fb"
      },
      "outputs": [],
      "source": [
        "import pandas as pd\n",
        "# Ví dụ về dữ liệu sản phẩm\n",
        "data = {\n",
        "    'Tên sản phẩm': ['iPhone 12', 'Samsung Galaxy S21', 'iPhone 13 Pro', 'Xiaomi Mi 11', 'iPad Air', 'iPhone SE'],\n",
        "    'Giá': [20000000, 18000000, 25000000, 15000000, 12000000, 10000000]\n",
        "}\n",
        "\n",
        "# Tạo DataFrame từ dữ liệu\n",
        "\n",
        "# Kiểm tra 3 dòng đầu tiên\n",
        "\n",
        "# Kiểm tra thông tin chi tiết dữ liệu\n",
        "\n",
        "# Kiểm tra nhanh số hàng, số cột trong dữ liệu"
      ]
    },
    {
      "cell_type": "markdown",
      "metadata": {
        "id": "sauYDTI1M5Cc"
      },
      "source": [
        "**Xử lý dữ liệu bị thiếu**"
      ]
    },
    {
      "cell_type": "markdown",
      "metadata": {
        "id": "FZ7UFZ1hgGyG"
      },
      "source": [
        "Điền giá trị thiếu bằng giá trị trung bình"
      ]
    },
    {
      "cell_type": "code",
      "execution_count": null,
      "metadata": {
        "colab": {
          "base_uri": "https://localhost:8080/"
        },
        "id": "vq97VIFsgNqo",
        "outputId": "74afe145-9c4e-4890-c330-adfac5de683c"
      },
      "outputs": [],
      "source": [
        "import pandas as pd\n",
        "\n",
        "# Tạo dữ liệu mẫu\n",
        "data = {\n",
        "    'Ten': ['An', 'Binh', 'Cuong', 'Dao', 'Linh'],\n",
        "    'Chi tieu hang thang (trieu dong)': [10.0, None, 12.5, None, 15.0]\n",
        "}\n",
        "\n",
        "# Tạo DataFrame từ dữ liệu mẫu\n",
        "df = pd.DataFrame(data)\n",
        "\n",
        "# Điền giá trị trung bình cho các ô bị thiếu trong cột 'Chi tieu hang thang (trieu dong)'\n",
        "\n",
        "\n",
        "# Hiển thị DataFrame sau khi xử lý\n",
        "\n"
      ]
    },
    {
      "cell_type": "markdown",
      "metadata": {
        "id": "5k4DIy3Mg0No"
      },
      "source": [
        "Điền giá trị thiếu bằng giá trị phổ biến nhất"
      ]
    },
    {
      "cell_type": "code",
      "execution_count": null,
      "metadata": {
        "colab": {
          "base_uri": "https://localhost:8080/"
        },
        "id": "dV16CLD8Mjbz",
        "outputId": "0f159314-cda7-4ee9-af04-eb74e27a6ca7"
      },
      "outputs": [],
      "source": [
        "import pandas as pd\n",
        "\n",
        "# Tạo dữ liệu mẫu\n",
        "data = {\n",
        "    'Ten': ['An', 'Binh', 'Cuong', 'Dao', 'Linh'],\n",
        "    'So thich': ['Đọc sách', None, 'Đọc sách', 'Xem phim', None]\n",
        "}\n",
        "\n",
        "# Tạo DataFrame từ dữ liệu mẫu\n",
        "df = pd.DataFrame(data)\n",
        "\n",
        "# Điền giá trị phổ biến nhất cho các ô bị thiếu trong cột 'So thich'\n",
        "\n",
        "\n",
        "# Hiển thị DataFrame sau khi xử lý\n"
      ]
    },
    {
      "cell_type": "markdown",
      "metadata": {
        "id": "KKeEcBU7hH3w"
      },
      "source": [
        "Điền các giá trị thiếu bằng phương pháp nội suy cho tất cả các cột số"
      ]
    },
    {
      "cell_type": "code",
      "execution_count": null,
      "metadata": {
        "colab": {
          "base_uri": "https://localhost:8080/"
        },
        "id": "XYYAePHRhJKJ",
        "outputId": "9ac77af8-4f1c-4ba6-d554-e5a3e1e690d8"
      },
      "outputs": [],
      "source": [
        "import pandas as pd\n",
        "\n",
        "# Tạo dữ liệu mẫu\n",
        "data = {\n",
        "    'Ten': ['An', 'Binh', 'Cuong', 'Dao', 'Linh'],\n",
        "    'Chi tieu hang thang (trieu dong)': [10.0, None, 12.5, None, 15.0],\n",
        "    'Tuoi': [20, None, 22, None, 24]\n",
        "}\n",
        "\n",
        "# Tạo DataFrame từ dữ liệu mẫu\n",
        "df = pd.DataFrame(data)\n",
        "\n",
        "# Điền các giá trị thiếu bằng phương pháp nội suy cho (interpolate) tất cả các cột số\n",
        "\n",
        "\n",
        "# Hiển thị DataFrame sau khi xử lý\n",
        "\n"
      ]
    },
    {
      "cell_type": "markdown",
      "metadata": {
        "id": "DXnZC0h8hXxq"
      },
      "source": [
        "Loại bỏ các hàng có hơn 50% giá trị bị thiếu"
      ]
    },
    {
      "cell_type": "code",
      "execution_count": null,
      "metadata": {
        "colab": {
          "base_uri": "https://localhost:8080/"
        },
        "id": "klEqpwHwhkCb",
        "outputId": "85654fe2-5d28-4b71-ef32-31e4eb25a955"
      },
      "outputs": [],
      "source": [
        "import pandas as pd\n",
        "\n",
        "# Tạo dữ liệu mẫu\n",
        "data = {\n",
        "    'Ten': ['An', 'Binh', 'Cuong', 'Dao', 'Linh'],\n",
        "    'Chi tieu hang thang (trieu dong)': [10.0, None, None, None, 15.0],\n",
        "    'Tuoi': [20, None, 22, None, 24],\n",
        "    'So thich': [None, 'Xem phim', None, None, 'Đọc sách']\n",
        "}\n",
        "\n",
        "# Tạo DataFrame từ dữ liệu mẫu\n",
        "df = pd.DataFrame(data)\n",
        "# Loại bỏ các hàng có hơn 50% giá trị bị thiếu\n",
        "\n",
        "\n",
        "# Hiển thị DataFrame sau khi xử lý\n",
        "print(df)\n",
        "\n",
        "\n",
        "# Loại bỏ các cột có hơn 50% giá trị bị thiếu\n",
        "# Tính ngưỡng: yêu cầu ít nhất 50% số hàng có giá trị không thiếu\n",
        "\n",
        "\n",
        "# Loại bỏ các cột có hơn 50% giá trị bị thiếu\n"
      ]
    },
    {
      "cell_type": "markdown",
      "metadata": {
        "id": "uGoHqgjNiToo"
      },
      "source": [
        "Xác định dòng có nhiều dữ liệu thiếu nhất và loại bỏ"
      ]
    },
    {
      "cell_type": "code",
      "execution_count": null,
      "metadata": {
        "colab": {
          "base_uri": "https://localhost:8080/"
        },
        "id": "qtnpfh7Di9xj",
        "outputId": "4b39620c-110a-4bf6-fe84-128f5a88a38e"
      },
      "outputs": [],
      "source": [
        "import pandas as pd\n",
        "\n",
        "# Tạo dữ liệu mẫu\n",
        "data = {\n",
        "    'Ten': ['An', 'Binh', 'Cuong', 'Dao', 'Linh'],\n",
        "    'Chi tieu hang thang (trieu dong)': [10.0, None, None, None, 15.0],\n",
        "    'Tuoi': [20, None, 22, None, 24],\n",
        "    'So thich': [None, 'Xem phim', None, None, 'Đọc sách']\n",
        "}\n",
        "\n",
        "# Tạo DataFrame từ dữ liệu mẫu\n",
        "df = pd.DataFrame(data)\n",
        "\n",
        "# Tính tổng số giá trị thiếu trên mỗi dòng và tìm dòng có số lượng nhiều nhất\n",
        "\n",
        "\n",
        "# Loại bỏ dòng có nhiều dữ liệu thiếu nhất\n",
        "\n",
        "\n",
        "# Hiển thị DataFrame sau khi xử lý\n",
        "\n"
      ]
    },
    {
      "cell_type": "markdown",
      "metadata": {
        "id": "LuzHoO1PkIQ0"
      },
      "source": [
        "Loại bỏ tất cả các hàng chứa bất kỳ giá trị nào bị thiếu"
      ]
    },
    {
      "cell_type": "code",
      "execution_count": null,
      "metadata": {
        "colab": {
          "base_uri": "https://localhost:8080/"
        },
        "id": "ttgnxMiZkInZ",
        "outputId": "0b69d54a-4e40-4362-d6f5-6c9f0c652178"
      },
      "outputs": [],
      "source": [
        "import pandas as pd\n",
        "\n",
        "# Tạo dữ liệu mẫu\n",
        "data = {\n",
        "    'Ten': ['An', 'Binh', 'Cuong', 'Dao', 'Linh'],\n",
        "    'Chi tieu hang thang (trieu dong)': [10.0, None, 12.5, None, 15.0],\n",
        "    'Tuoi': [20, None, 22, None, 24],\n",
        "    'So thich': ['Đọc sách', 'Xem phim', None, None, 'Đọc sách']\n",
        "}\n",
        "\n",
        "# Tạo DataFrame từ dữ liệu mẫu\n",
        "df = pd.DataFrame(data)\n",
        "\n",
        "# Loại bỏ tất cả các hàng chứa bất kỳ giá trị nào bị thiếu\n",
        "\n",
        "\n",
        "# Hiển thị DataFrame sau khi xử lý\n",
        "\n"
      ]
    },
    {
      "cell_type": "markdown",
      "metadata": {
        "id": "Oz6AqKJGolqW"
      },
      "source": [
        "**Xử lý dữ liệu trùng lặp**"
      ]
    },
    {
      "cell_type": "markdown",
      "metadata": {
        "id": "jXhdRfxUlbJQ"
      },
      "source": [
        "Loại bỏ các hàng trùng lặp hoàn toàn:"
      ]
    },
    {
      "cell_type": "code",
      "execution_count": null,
      "metadata": {
        "colab": {
          "base_uri": "https://localhost:8080/"
        },
        "id": "HNMf4cH_obb6",
        "outputId": "9e5f79da-3504-4fdd-8701-056aa6cc56cd"
      },
      "outputs": [],
      "source": [
        "import pandas as pd\n",
        "\n",
        "# Tạo dữ liệu mẫu\n",
        "data = {\n",
        "    'Ten': ['An', 'Binh', 'Cuong', 'An', 'Linh'],\n",
        "    'Chi tieu hang thang (trieu dong)': [10.0, 15.0, 12.5, 10.0, 15.0],\n",
        "    'Tuoi': [20, 21, 22, 20, 24],\n",
        "    'So thich': ['Đọc sách', 'Xem phim', 'Đọc sách', 'Đọc sách', 'Đọc sách']\n",
        "}\n",
        "\n",
        "# Tạo DataFrame từ dữ liệu mẫu\n",
        "df = pd.DataFrame(data)\n",
        "\n",
        "# Loại bỏ các hàng trùng lặp\n",
        "\n",
        "\n",
        "# Hiển thị DataFrame sau khi xử lý\n",
        "\n"
      ]
    },
    {
      "cell_type": "markdown",
      "metadata": {
        "id": "ikh_urMipC_V"
      },
      "source": [
        "Loại bỏ trùng lặp dựa trên một hoặc một số cột:"
      ]
    },
    {
      "cell_type": "code",
      "execution_count": null,
      "metadata": {
        "colab": {
          "base_uri": "https://localhost:8080/"
        },
        "id": "KvGcj3jmpFuy",
        "outputId": "830c7ab2-d441-4add-b09b-3061d0e3e625"
      },
      "outputs": [],
      "source": [
        "import pandas as pd\n",
        "\n",
        "# Tạo dữ liệu mẫu\n",
        "data = {\n",
        "    'Ten': ['An', 'Binh', 'Cuong', 'An', 'Linh'],\n",
        "    'Chi tieu hang thang (trieu dong)': [10.0, 15.0, 12.5, 12.0, 15.0],\n",
        "    'Tuoi': [20, 21, 22, 20, 24],\n",
        "    'So thich': ['Đọc sách', 'Xem phim', 'Đọc sách', 'Đọc sách', 'Đọc sách']\n",
        "}\n",
        "# Tạo DataFrame từ dữ liệu mẫu\n",
        "df = pd.DataFrame(data)\n",
        "\n",
        "# Loại bỏ các hàng trùng lặp dựa trên cột 'Ten' và 'Tuoi'\n",
        "\n",
        "\n",
        "# Hiển thị DataFrame sau khi xử lý\n",
        "\n",
        "\n"
      ]
    },
    {
      "cell_type": "markdown",
      "metadata": {
        "id": "-CPMKGr6pGDd"
      },
      "source": [
        "Giữ lại hàng cuối cùng thay vì hàng đầu tiên:"
      ]
    },
    {
      "cell_type": "code",
      "execution_count": null,
      "metadata": {
        "colab": {
          "base_uri": "https://localhost:8080/"
        },
        "id": "wLjFUw6mpJKB",
        "outputId": "29373908-9440-4b5e-dd78-6207b5b563fb"
      },
      "outputs": [],
      "source": [
        "import pandas as pd\n",
        "\n",
        "# Tạo dữ liệu mẫu\n",
        "data = {\n",
        "    'Ten': ['An', 'Binh', 'Cuong', 'An', 'Linh'],\n",
        "    'Chi tieu hang thang (trieu dong)': [10.0, 15.0, 12.5, 10.0, 15.0],\n",
        "    'Tuoi': [20, 21, 22, 20, 24],\n",
        "    'So thich': ['Đọc sách', 'Xem phim', 'Đọc sách', 'Đọc sách', 'Đọc sách']\n",
        "}\n",
        "\n",
        "# Tạo DataFrame từ dữ liệu mẫu\n",
        "df = pd.DataFrame(data)\n",
        "\n",
        "# Loại bỏ các hàng trùng lặp và giữ lại hàng cuối cùng\n",
        "\n",
        "\n",
        "# Hiển thị DataFrame sau khi xử lý\n",
        "print(\"DataFrame sau khi giữ lại hàng cuối cùng cho các giá trị trùng lặp:\")\n",
        "\n"
      ]
    },
    {
      "cell_type": "markdown",
      "metadata": {
        "id": "fyZGDEnxpJjw"
      },
      "source": [
        "Đánh dấu các hàng trùng lặp mà không xóa chúng"
      ]
    },
    {
      "cell_type": "code",
      "execution_count": null,
      "metadata": {
        "colab": {
          "base_uri": "https://localhost:8080/"
        },
        "id": "6_Nsp8SEpMvU",
        "outputId": "00c83e83-9b18-4eea-e3ae-6792e7f47dec"
      },
      "outputs": [],
      "source": [
        "import pandas as pd\n",
        "\n",
        "# Tạo dữ liệu mẫu\n",
        "data = {\n",
        "    'Ten': ['An', 'Binh', 'Cuong', 'An', 'Linh'],\n",
        "    'Chi tieu hang thang (trieu dong)': [10.0, 15.0, 12.5, 10.0, 15.0],\n",
        "    'Tuoi': [20, 21, 22, 20, 24],\n",
        "    'So thich': ['Đọc sách', 'Xem phim', 'Đọc sách', 'Đọc sách', 'Đọc sách']\n",
        "}\n",
        "\n",
        "# Tạo DataFrame từ dữ liệu mẫu\n",
        "df = pd.DataFrame(data)\n",
        "\n",
        "# Đánh dấu các hàng trùng lặp mà không xóa chúng\n",
        "\n",
        "\n",
        "# Hiển thị DataFrame sau khi thêm cột 'is_duplicate'\n",
        "\n"
      ]
    }
  ],
  "metadata": {
    "colab": {
      "provenance": []
    },
    "kernelspec": {
      "display_name": "Python 3",
      "name": "python3"
    },
    "language_info": {
      "codemirror_mode": {
        "name": "ipython",
        "version": 3
      },
      "file_extension": ".py",
      "mimetype": "text/x-python",
      "name": "python",
      "nbconvert_exporter": "python",
      "pygments_lexer": "ipython3",
      "version": "3.13.2"
    }
  },
  "nbformat": 4,
  "nbformat_minor": 0
}
