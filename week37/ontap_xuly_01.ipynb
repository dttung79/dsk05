{
  "cells": [
    {
      "cell_type": "markdown",
      "metadata": {
        "id": "zDqaYVvnmF66"
      },
      "source": [
        "**Phần 1: Khai báo thư viện và nhập xuất file**"
      ]
    },
    {
      "cell_type": "markdown",
      "metadata": {
        "id": "-UePDwnOm0wd"
      },
      "source": [
        "1/ Khai báo thư viện"
      ]
    },
    {
      "cell_type": "code",
      "execution_count": 1,
      "metadata": {
        "id": "Gbcw6_EQmKZg"
      },
      "outputs": [],
      "source": [
        "# Khai báo thư viện Pandas\n",
        "import pandas as pd\n",
        "# Khai báo thư viện Numpy\n",
        "import numpy as np\n",
        "# Khai báo thư viện cho visualization\n",
        "import matplotlib.pyplot as plt\n",
        "# Khai báo thư viện cho xử lý date time\n",
        "import datetime"
      ]
    },
    {
      "cell_type": "markdown",
      "metadata": {
        "id": "P-rnQAWFNMle"
      },
      "source": [
        "2/ Kiểm tra thông tin của dữ liệu"
      ]
    },
    {
      "cell_type": "code",
      "execution_count": 8,
      "metadata": {
        "colab": {
          "base_uri": "https://localhost:8080/",
          "height": 143
        },
        "id": "AtxUwOtbM_qx",
        "outputId": "520188b3-896d-4860-e2ce-1c806f7df3fb"
      },
      "outputs": [
        {
          "name": "stdout",
          "output_type": "stream",
          "text": [
            "<class 'pandas.core.frame.DataFrame'>\n",
            "RangeIndex: 6 entries, 0 to 5\n",
            "Data columns (total 2 columns):\n",
            " #   Column        Non-Null Count  Dtype \n",
            "---  ------        --------------  ----- \n",
            " 0   Tên sản phẩm  6 non-null      object\n",
            " 1   Giá           6 non-null      int64 \n",
            "dtypes: int64(1), object(1)\n",
            "memory usage: 228.0+ bytes\n"
          ]
        },
        {
          "data": {
            "text/plain": [
              "(6, 2)"
            ]
          },
          "execution_count": 8,
          "metadata": {},
          "output_type": "execute_result"
        }
      ],
      "source": [
        "import pandas as pd\n",
        "# Ví dụ về dữ liệu sản phẩm\n",
        "data = {\n",
        "    'Tên sản phẩm': ['iPhone 12', 'Samsung Galaxy S21', 'iPhone 13 Pro', 'Xiaomi Mi 11', 'iPad Air', 'iPhone SE'],\n",
        "    'Giá': [20000000, 18000000, 25000000, 15000000, 12000000, 10000000]\n",
        "}\n",
        "\n",
        "# Tạo DataFrame từ dữ liệu\n",
        "df = pd.DataFrame(data)\n",
        "\n",
        "# Kiểm tra 3 dòng đầu tiên\n",
        "df.head(3)\n",
        "# Kiểm tra thông tin chi tiết dữ liệu\n",
        "df.info()\n",
        "# Kiểm tra nhanh số hàng, số cột trong dữ liệu\n",
        "df.shape"
      ]
    },
    {
      "cell_type": "markdown",
      "metadata": {
        "id": "sauYDTI1M5Cc"
      },
      "source": [
        "**Xử lý dữ liệu bị thiếu**"
      ]
    },
    {
      "cell_type": "markdown",
      "metadata": {
        "id": "FZ7UFZ1hgGyG"
      },
      "source": [
        "Điền giá trị thiếu bằng giá trị trung bình"
      ]
    },
    {
      "cell_type": "code",
      "execution_count": 12,
      "metadata": {
        "colab": {
          "base_uri": "https://localhost:8080/"
        },
        "id": "vq97VIFsgNqo",
        "outputId": "74afe145-9c4e-4890-c330-adfac5de683c"
      },
      "outputs": [
        {
          "name": "stdout",
          "output_type": "stream",
          "text": [
            "<class 'pandas.core.frame.DataFrame'>\n",
            "RangeIndex: 5 entries, 0 to 4\n",
            "Data columns (total 2 columns):\n",
            " #   Column                            Non-Null Count  Dtype  \n",
            "---  ------                            --------------  -----  \n",
            " 0   Ten                               5 non-null      object \n",
            " 1   Chi tieu hang thang (trieu dong)  3 non-null      float64\n",
            "dtypes: float64(1), object(1)\n",
            "memory usage: 212.0+ bytes\n",
            "13.0\n",
            "     Ten  Chi tieu hang thang (trieu dong)\n",
            "0     An                              10.0\n",
            "1   Binh                              13.0\n",
            "2  Cuong                              14.0\n",
            "3    Dao                              13.0\n",
            "4   Linh                              15.0\n"
          ]
        },
        {
          "name": "stderr",
          "output_type": "stream",
          "text": [
            "/var/folders/10/3dssf0p51vzgb7zfm9xl0vrm0000gn/T/ipykernel_35601/1556530711.py:16: FutureWarning: A value is trying to be set on a copy of a DataFrame or Series through chained assignment using an inplace method.\n",
            "The behavior will change in pandas 3.0. This inplace method will never work because the intermediate object on which we are setting values always behaves as a copy.\n",
            "\n",
            "For example, when doing 'df[col].method(value, inplace=True)', try using 'df.method({col: value}, inplace=True)' or df[col] = df[col].method(value) instead, to perform the operation inplace on the original object.\n",
            "\n",
            "\n",
            "  df['Chi tieu hang thang (trieu dong)'].fillna(tb_chi_tieu, inplace=True)\n"
          ]
        }
      ],
      "source": [
        "import pandas as pd\n",
        "\n",
        "# Tạo dữ liệu mẫu\n",
        "data = {\n",
        "    'Ten': ['An', 'Binh', 'Cuong', 'Dao', 'Linh'],\n",
        "    'Chi tieu hang thang (trieu dong)': [10.0, None, 14, None, 15.0]\n",
        "}\n",
        "\n",
        "# Tạo DataFrame từ dữ liệu mẫu\n",
        "df = pd.DataFrame(data)\n",
        "df.info()\n",
        "\n",
        "# Điền giá trị trung bình cho các ô bị thiếu trong cột 'Chi tieu hang thang (trieu dong)'\n",
        "tb_chi_tieu = df['Chi tieu hang thang (trieu dong)'].mean()\n",
        "print(tb_chi_tieu)\n",
        "df['Chi tieu hang thang (trieu dong)'].fillna(tb_chi_tieu, inplace=True)\n",
        "# Hiển thị DataFrame sau khi xử lý\n",
        "print(df)\n"
      ]
    },
    {
      "cell_type": "markdown",
      "metadata": {
        "id": "5k4DIy3Mg0No"
      },
      "source": [
        "Điền giá trị thiếu bằng giá trị phổ biến nhất"
      ]
    },
    {
      "cell_type": "code",
      "execution_count": 17,
      "metadata": {
        "colab": {
          "base_uri": "https://localhost:8080/"
        },
        "id": "dV16CLD8Mjbz",
        "outputId": "0f159314-cda7-4ee9-af04-eb74e27a6ca7"
      },
      "outputs": [
        {
          "name": "stdout",
          "output_type": "stream",
          "text": [
            "Đọc sách\n",
            "     Ten  So thich\n",
            "0     An  Đọc sách\n",
            "1   Binh  Đọc sách\n",
            "2  Cuong  Đọc sách\n",
            "3    Dao  Xem phim\n",
            "4   Linh  Đọc sách\n"
          ]
        },
        {
          "name": "stderr",
          "output_type": "stream",
          "text": [
            "/var/folders/10/3dssf0p51vzgb7zfm9xl0vrm0000gn/T/ipykernel_35601/363009244.py:15: FutureWarning: A value is trying to be set on a copy of a DataFrame or Series through chained assignment using an inplace method.\n",
            "The behavior will change in pandas 3.0. This inplace method will never work because the intermediate object on which we are setting values always behaves as a copy.\n",
            "\n",
            "For example, when doing 'df[col].method(value, inplace=True)', try using 'df.method({col: value}, inplace=True)' or df[col] = df[col].method(value) instead, to perform the operation inplace on the original object.\n",
            "\n",
            "\n",
            "  df['So thich'].fillna(mode_so_thich, inplace=True)\n"
          ]
        }
      ],
      "source": [
        "import pandas as pd\n",
        "\n",
        "# Tạo dữ liệu mẫu\n",
        "data = {\n",
        "    'Ten': ['An', 'Binh', 'Cuong', 'Dao', 'Linh'],\n",
        "    'So thich': ['Đọc sách', None, 'Đọc sách', 'Xem phim', None]\n",
        "}\n",
        "\n",
        "# Tạo DataFrame từ dữ liệu mẫu\n",
        "df = pd.DataFrame(data)\n",
        "\n",
        "# Điền giá trị phổ biến nhất cho các ô bị thiếu trong cột 'So thich'\n",
        "mode_so_thich = df['So thich'].mode()[0]\n",
        "print(mode_so_thich)\n",
        "df['So thich'].fillna(mode_so_thich, inplace=True)\n",
        "# Hiển thị DataFrame sau khi xử lý\n",
        "print(df)\n"
      ]
    },
    {
      "cell_type": "markdown",
      "metadata": {
        "id": "KKeEcBU7hH3w"
      },
      "source": [
        "Điền các giá trị thiếu bằng phương pháp nội suy cho tất cả các cột số"
      ]
    },
    {
      "cell_type": "code",
      "execution_count": 19,
      "metadata": {
        "colab": {
          "base_uri": "https://localhost:8080/"
        },
        "id": "XYYAePHRhJKJ",
        "outputId": "9ac77af8-4f1c-4ba6-d554-e5a3e1e690d8"
      },
      "outputs": [
        {
          "name": "stdout",
          "output_type": "stream",
          "text": [
            "     Ten  Chi tieu hang thang (trieu dong)  Tuoi\n",
            "0     An                              10.0  20.0\n",
            "1   Binh                               NaN   NaN\n",
            "2  Cuong                              12.5  22.0\n",
            "3    Dao                               NaN   NaN\n",
            "4   Linh                              15.0  24.0\n",
            "     Ten  Chi tieu hang thang (trieu dong)  Tuoi\n",
            "0     An                             10.00  20.0\n",
            "1   Binh                             11.25  21.0\n",
            "2  Cuong                             12.50  22.0\n",
            "3    Dao                             13.75  23.0\n",
            "4   Linh                             15.00  24.0\n"
          ]
        },
        {
          "name": "stderr",
          "output_type": "stream",
          "text": [
            "/var/folders/10/3dssf0p51vzgb7zfm9xl0vrm0000gn/T/ipykernel_35601/2502593426.py:14: FutureWarning: DataFrame.interpolate with object dtype is deprecated and will raise in a future version. Call obj.infer_objects(copy=False) before interpolating instead.\n",
            "  df = df.interpolate()\n"
          ]
        }
      ],
      "source": [
        "import pandas as pd\n",
        "\n",
        "# Tạo dữ liệu mẫu\n",
        "data = {\n",
        "    'Ten': ['An', 'Binh', 'Cuong', 'Dao', 'Linh'],\n",
        "    'Chi tieu hang thang (trieu dong)': [10.0, None, 12.5, None, 15.0],\n",
        "    'Tuoi': [20, None, 22, None, 24]\n",
        "}\n",
        "\n",
        "# Tạo DataFrame từ dữ liệu mẫu\n",
        "df = pd.DataFrame(data)\n",
        "print(df)\n",
        "# Điền các giá trị thiếu bằng phương pháp nội suy cho (interpolate) tất cả các cột số\n",
        "df = df.interpolate()\n",
        "\n",
        "# Hiển thị DataFrame sau khi xử lý\n",
        "print(df)\n"
      ]
    },
    {
      "cell_type": "markdown",
      "metadata": {
        "id": "DXnZC0h8hXxq"
      },
      "source": [
        "Loại bỏ các hàng có hơn 50% giá trị bị thiếu"
      ]
    },
    {
      "cell_type": "code",
      "execution_count": 28,
      "metadata": {
        "colab": {
          "base_uri": "https://localhost:8080/"
        },
        "id": "klEqpwHwhkCb",
        "outputId": "85654fe2-5d28-4b71-ef32-31e4eb25a955"
      },
      "outputs": [
        {
          "name": "stdout",
          "output_type": "stream",
          "text": [
            "     Ten  Chi tieu hang thang (trieu dong)  Tuoi  So thich\n",
            "0     An                              10.0  20.0      None\n",
            "1   Binh                               NaN   NaN  Xem phim\n",
            "2  Cuong                               NaN  22.0      None\n",
            "3    Dao                               NaN   NaN      None\n",
            "4   Linh                              15.0  24.0  Đọc sách\n",
            "     Ten  Tuoi\n",
            "0     An  20.0\n",
            "1   Binh   NaN\n",
            "2  Cuong  22.0\n",
            "3    Dao   NaN\n",
            "4   Linh  24.0\n"
          ]
        }
      ],
      "source": [
        "import pandas as pd\n",
        "\n",
        "# Tạo dữ liệu mẫu\n",
        "data = {\n",
        "    'Ten': ['An', 'Binh', 'Cuong', 'Dao', 'Linh'],\n",
        "    'Chi tieu hang thang (trieu dong)': [10.0, None, None, None, 15.0],\n",
        "    'Tuoi': [20, None, 22, None, 24],\n",
        "    'So thich': [None, 'Xem phim', None, None, 'Đọc sách']\n",
        "}\n",
        "\n",
        "# Tạo DataFrame từ dữ liệu mẫu\n",
        "df = pd.DataFrame(data)\n",
        "print(df)\n",
        "#Loại bỏ các hàng có hơn 50% giá trị bị thiếu\n",
        "# threshold = len(df.columns) / 2\n",
        "# print(threshold)\n",
        "# df = df.dropna(thresh=threshold).reset_index(drop=True)\n",
        "\n",
        "# Hiển thị DataFrame sau khi xử lý\n",
        "#print(df)\n",
        "\n",
        "\n",
        "# Loại bỏ các cột có hơn 50% giá trị bị thiếu\n",
        "# Tính ngưỡng: yêu cầu ít nhất 50% số hàng có giá trị không thiếu\n",
        "threshold = len(df) / 2\n",
        "\n",
        "# Loại bỏ các cột có hơn 50% giá trị bị thiếu\n",
        "df = df.dropna(axis=1, thresh=threshold).reset_index(drop=True)\n",
        "print(df)"
      ]
    },
    {
      "cell_type": "markdown",
      "metadata": {
        "id": "uGoHqgjNiToo"
      },
      "source": [
        "Xác định dòng có nhiều dữ liệu thiếu nhất và loại bỏ"
      ]
    },
    {
      "cell_type": "code",
      "execution_count": 32,
      "metadata": {
        "colab": {
          "base_uri": "https://localhost:8080/"
        },
        "id": "qtnpfh7Di9xj",
        "outputId": "4b39620c-110a-4bf6-fe84-128f5a88a38e"
      },
      "outputs": [
        {
          "name": "stdout",
          "output_type": "stream",
          "text": [
            "     Ten  Chi tieu hang thang (trieu dong)  Tuoi  So thich\n",
            "0     An                              10.0  20.0      None\n",
            "1   Binh                               NaN   NaN  Xem phim\n",
            "2  Cuong                               NaN  22.0      None\n",
            "3    Dao                               NaN   NaN      None\n",
            "4   Linh                              15.0  24.0  Đọc sách\n",
            "0    1\n",
            "1    2\n",
            "2    2\n",
            "3    3\n",
            "4    0\n",
            "dtype: int64\n",
            "     Ten  Chi tieu hang thang (trieu dong)  Tuoi  So thich\n",
            "0     An                              10.0  20.0      None\n",
            "1   Binh                               NaN   NaN  Xem phim\n",
            "2  Cuong                               NaN  22.0      None\n",
            "3   Linh                              15.0  24.0  Đọc sách\n"
          ]
        }
      ],
      "source": [
        "import pandas as pd\n",
        "\n",
        "# Tạo dữ liệu mẫu\n",
        "data = {\n",
        "    'Ten': ['An', 'Binh', 'Cuong', 'Dao', 'Linh'],\n",
        "    'Chi tieu hang thang (trieu dong)': [10.0, None, None, None, 15.0],\n",
        "    'Tuoi': [20, None, 22, None, 24],\n",
        "    'So thich': [None, 'Xem phim', None, None, 'Đọc sách']\n",
        "}\n",
        "\n",
        "# Tạo DataFrame từ dữ liệu mẫu\n",
        "df = pd.DataFrame(data)\n",
        "print(df)\n",
        "# Tính tổng số giá trị thiếu trên mỗi dòng và tìm dòng có số lượng nhiều nhất\n",
        "print(df.isnull().sum(axis=1))\n",
        "max_missing = df.isnull().sum(axis=1).max()\n",
        "id_max = df.isnull().sum(axis=1).idxmax()\n",
        "# Loại bỏ dòng có nhiều dữ liệu thiếu nhất\n",
        "df = df.drop(index=id_max).reset_index(drop=True)\n",
        "\n",
        "# Hiển thị DataFrame sau khi xử lý\n",
        "print(df)"
      ]
    },
    {
      "cell_type": "markdown",
      "metadata": {
        "id": "LuzHoO1PkIQ0"
      },
      "source": [
        "Loại bỏ tất cả các hàng chứa bất kỳ giá trị nào bị thiếu"
      ]
    },
    {
      "cell_type": "code",
      "execution_count": null,
      "metadata": {
        "colab": {
          "base_uri": "https://localhost:8080/"
        },
        "id": "ttgnxMiZkInZ",
        "outputId": "0b69d54a-4e40-4362-d6f5-6c9f0c652178"
      },
      "outputs": [],
      "source": [
        "import pandas as pd\n",
        "\n",
        "# Tạo dữ liệu mẫu\n",
        "data = {\n",
        "    'Ten': ['An', 'Binh', 'Cuong', 'Dao', 'Linh'],\n",
        "    'Chi tieu hang thang (trieu dong)': [10.0, None, 12.5, None, 15.0],\n",
        "    'Tuoi': [20, None, 22, None, 24],\n",
        "    'So thich': ['Đọc sách', 'Xem phim', None, None, 'Đọc sách']\n",
        "}\n",
        "\n",
        "# Tạo DataFrame từ dữ liệu mẫu\n",
        "df = pd.DataFrame(data)\n",
        "\n",
        "# Loại bỏ tất cả các hàng chứa bất kỳ giá trị nào bị thiếu\n",
        "\n",
        "\n",
        "# Hiển thị DataFrame sau khi xử lý\n",
        "\n"
      ]
    },
    {
      "cell_type": "markdown",
      "metadata": {
        "id": "Oz6AqKJGolqW"
      },
      "source": [
        "**Xử lý dữ liệu trùng lặp**"
      ]
    },
    {
      "cell_type": "markdown",
      "metadata": {
        "id": "jXhdRfxUlbJQ"
      },
      "source": [
        "Loại bỏ các hàng trùng lặp hoàn toàn:"
      ]
    },
    {
      "cell_type": "code",
      "execution_count": 34,
      "metadata": {
        "colab": {
          "base_uri": "https://localhost:8080/"
        },
        "id": "HNMf4cH_obb6",
        "outputId": "9e5f79da-3504-4fdd-8701-056aa6cc56cd"
      },
      "outputs": [
        {
          "name": "stdout",
          "output_type": "stream",
          "text": [
            "     Ten  Chi tieu hang thang (trieu dong)  Tuoi  So thich\n",
            "0     An                              10.0    20  Đọc sách\n",
            "1   Binh                              15.0    21  Xem phim\n",
            "2  Cuong                              12.5    22  Đọc sách\n",
            "3     An                              10.0    20  Đọc sách\n",
            "4   Linh                              15.0    24  Đọc sách\n",
            "     Ten  Chi tieu hang thang (trieu dong)  Tuoi  So thich\n",
            "0     An                              10.0    20  Đọc sách\n",
            "1   Binh                              15.0    21  Xem phim\n",
            "2  Cuong                              12.5    22  Đọc sách\n",
            "3   Linh                              15.0    24  Đọc sách\n"
          ]
        }
      ],
      "source": [
        "import pandas as pd\n",
        "\n",
        "# Tạo dữ liệu mẫu\n",
        "data = {\n",
        "    'Ten': ['An', 'Binh', 'Cuong', 'An', 'Linh'],\n",
        "    'Chi tieu hang thang (trieu dong)': [10.0, 15.0, 12.5, 10.0, 15.0],\n",
        "    'Tuoi': [20, 21, 22, 20, 24],\n",
        "    'So thich': ['Đọc sách', 'Xem phim', 'Đọc sách', 'Đọc sách', 'Đọc sách']\n",
        "}\n",
        "\n",
        "# Tạo DataFrame từ dữ liệu mẫu\n",
        "df = pd.DataFrame(data)\n",
        "print(df)\n",
        "\n",
        "# Loại bỏ các hàng trùng lặp\n",
        "df = df.drop_duplicates().reset_index(drop=True)\n",
        "\n",
        "# Hiển thị DataFrame sau khi xử lý\n",
        "print(df)\n",
        "\n"
      ]
    },
    {
      "cell_type": "markdown",
      "metadata": {
        "id": "ikh_urMipC_V"
      },
      "source": [
        "Loại bỏ trùng lặp dựa trên một hoặc một số cột:"
      ]
    },
    {
      "cell_type": "code",
      "execution_count": 36,
      "metadata": {
        "colab": {
          "base_uri": "https://localhost:8080/"
        },
        "id": "KvGcj3jmpFuy",
        "outputId": "830c7ab2-d441-4add-b09b-3061d0e3e625"
      },
      "outputs": [
        {
          "name": "stdout",
          "output_type": "stream",
          "text": [
            "     Ten  Chi tieu hang thang (trieu dong)  Tuoi  So thich\n",
            "0     An                              10.0    20  Đọc sách\n",
            "1   Binh                              15.0    21  Xem phim\n",
            "2  Cuong                              12.5    22  Đọc sách\n",
            "3     An                              12.0    20  Đọc sách\n",
            "4   Linh                              15.0    24  Đọc sách\n",
            "     Ten  Chi tieu hang thang (trieu dong)  Tuoi  So thich\n",
            "0     An                              10.0    20  Đọc sách\n",
            "1   Binh                              15.0    21  Xem phim\n",
            "2  Cuong                              12.5    22  Đọc sách\n",
            "3   Linh                              15.0    24  Đọc sách\n"
          ]
        }
      ],
      "source": [
        "import pandas as pd\n",
        "\n",
        "# Tạo dữ liệu mẫu\n",
        "data = {\n",
        "    'Ten': ['An', 'Binh', 'Cuong', 'An', 'Linh'],\n",
        "    'Chi tieu hang thang (trieu dong)': [10.0, 15.0, 12.5, 12.0, 15.0],\n",
        "    'Tuoi': [20, 21, 22, 20, 24],\n",
        "    'So thich': ['Đọc sách', 'Xem phim', 'Đọc sách', 'Đọc sách', 'Đọc sách']\n",
        "}\n",
        "# Tạo DataFrame từ dữ liệu mẫu\n",
        "df = pd.DataFrame(data)\n",
        "print(df)\n",
        "# Loại bỏ các hàng trùng lặp dựa trên cột 'Ten' và 'Tuoi'\n",
        "df = df.drop_duplicates(subset=['Ten', 'Tuoi']).reset_index(drop=True)\n",
        "\n",
        "# Hiển thị DataFrame sau khi xử lý\n",
        "print(df)\n",
        "\n",
        "\n"
      ]
    },
    {
      "cell_type": "markdown",
      "metadata": {
        "id": "-CPMKGr6pGDd"
      },
      "source": [
        "Giữ lại hàng cuối cùng thay vì hàng đầu tiên:"
      ]
    },
    {
      "cell_type": "code",
      "execution_count": 39,
      "metadata": {
        "colab": {
          "base_uri": "https://localhost:8080/"
        },
        "id": "wLjFUw6mpJKB",
        "outputId": "29373908-9440-4b5e-dd78-6207b5b563fb"
      },
      "outputs": [
        {
          "name": "stdout",
          "output_type": "stream",
          "text": [
            "     Ten  Chi tieu hang thang (trieu dong)  Tuoi  So thich\n",
            "0     An                              10.0    20  Đọc sách\n",
            "1   Binh                              15.0    21  Xem phim\n",
            "2  Cuong                              12.5    22  Đọc sách\n",
            "3     An                              12.0    20  Đọc sách\n",
            "4   Linh                              15.0    24  Đọc sách\n",
            "DataFrame sau khi giữ lại hàng cuối cùng cho các giá trị trùng lặp:\n",
            "     Ten  Chi tieu hang thang (trieu dong)  Tuoi  So thich\n",
            "0   Binh                              15.0    21  Xem phim\n",
            "1  Cuong                              12.5    22  Đọc sách\n",
            "2     An                              12.0    20  Đọc sách\n",
            "3   Linh                              15.0    24  Đọc sách\n"
          ]
        }
      ],
      "source": [
        "import pandas as pd\n",
        "\n",
        "# Tạo dữ liệu mẫu\n",
        "data = {\n",
        "    'Ten': ['An', 'Binh', 'Cuong', 'An', 'Linh'],\n",
        "    'Chi tieu hang thang (trieu dong)': [10.0, 15.0, 12.5, 12.0, 15.0],\n",
        "    'Tuoi': [20, 21, 22, 20, 24],\n",
        "    'So thich': ['Đọc sách', 'Xem phim', 'Đọc sách', 'Đọc sách', 'Đọc sách']\n",
        "}\n",
        "\n",
        "# Tạo DataFrame từ dữ liệu mẫu\n",
        "df = pd.DataFrame(data)\n",
        "print(df)\n",
        "# Loại bỏ các hàng trùng lặp và giữ lại hàng cuối cùng\n",
        "df = df.drop_duplicates(subset=['Ten', 'Tuoi'], keep='last').reset_index(drop=True)\n",
        "\n",
        "# Hiển thị DataFrame sau khi xử lý\n",
        "print(\"DataFrame sau khi giữ lại hàng cuối cùng cho các giá trị trùng lặp:\")\n",
        "print(df)\n"
      ]
    },
    {
      "cell_type": "markdown",
      "metadata": {
        "id": "fyZGDEnxpJjw"
      },
      "source": [
        "Đánh dấu các hàng trùng lặp mà không xóa chúng"
      ]
    },
    {
      "cell_type": "code",
      "execution_count": 40,
      "metadata": {
        "colab": {
          "base_uri": "https://localhost:8080/"
        },
        "id": "6_Nsp8SEpMvU",
        "outputId": "00c83e83-9b18-4eea-e3ae-6792e7f47dec"
      },
      "outputs": [
        {
          "name": "stdout",
          "output_type": "stream",
          "text": [
            "     Ten  Chi tieu hang thang (trieu dong)  Tuoi  So thich  douplicate\n",
            "0     An                              10.0    20  Đọc sách        True\n",
            "1   Binh                              15.0    21  Xem phim       False\n",
            "2  Cuong                              12.5    22  Đọc sách       False\n",
            "3     An                              10.0    20  Đọc sách        True\n",
            "4   Linh                              15.0    24  Đọc sách       False\n"
          ]
        }
      ],
      "source": [
        "import pandas as pd\n",
        "\n",
        "# Tạo dữ liệu mẫu\n",
        "data = {\n",
        "    'Ten': ['An', 'Binh', 'Cuong', 'An', 'Linh'],\n",
        "    'Chi tieu hang thang (trieu dong)': [10.0, 15.0, 12.5, 10.0, 15.0],\n",
        "    'Tuoi': [20, 21, 22, 20, 24],\n",
        "    'So thich': ['Đọc sách', 'Xem phim', 'Đọc sách', 'Đọc sách', 'Đọc sách']\n",
        "}\n",
        "\n",
        "# Tạo DataFrame từ dữ liệu mẫu\n",
        "df = pd.DataFrame(data)\n",
        "\n",
        "# Đánh dấu các hàng trùng lặp mà không xóa chúng\n",
        "df['douplicate'] = df.duplicated(subset=['Ten', 'Tuoi'], keep=False)\n",
        "\n",
        "# Hiển thị DataFrame sau khi thêm cột 'is_duplicate'\n",
        "print(df)\n"
      ]
    }
  ],
  "metadata": {
    "colab": {
      "provenance": []
    },
    "kernelspec": {
      "display_name": "Python 3",
      "name": "python3"
    },
    "language_info": {
      "codemirror_mode": {
        "name": "ipython",
        "version": 3
      },
      "file_extension": ".py",
      "mimetype": "text/x-python",
      "name": "python",
      "nbconvert_exporter": "python",
      "pygments_lexer": "ipython3",
      "version": "3.13.2"
    }
  },
  "nbformat": 4,
  "nbformat_minor": 0
}
