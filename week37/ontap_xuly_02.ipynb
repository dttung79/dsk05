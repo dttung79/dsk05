{
  "cells": [
    {
      "cell_type": "markdown",
      "metadata": {
        "id": "zDqaYVvnmF66"
      },
      "source": [
        "**Phần 1: Khai báo thư viện và nhập xuất file**"
      ]
    },
    {
      "cell_type": "markdown",
      "metadata": {
        "id": "-UePDwnOm0wd"
      },
      "source": [
        "1/ Khai báo thư viện"
      ]
    },
    {
      "cell_type": "code",
      "execution_count": null,
      "metadata": {
        "id": "Gbcw6_EQmKZg"
      },
      "outputs": [],
      "source": [
        "# Khai báo thư viện Pandas\n",
        "import pandas as pd\n",
        "# Khai báo thư viện Numpy\n",
        "import numpy as np\n",
        "# Khai báo thư viện cho visualization\n",
        "import matplotlib.pyplot as plt\n",
        "# Khai báo thư viện cho xử lý date time\n",
        "import datetime as dt"
      ]
    },
    {
      "cell_type": "markdown",
      "metadata": {
        "id": "-NAClPewpM97"
      },
      "source": [
        "Đếm số lượng hàng trùng lặp"
      ]
    },
    {
      "cell_type": "code",
      "execution_count": null,
      "metadata": {
        "colab": {
          "base_uri": "https://localhost:8080/"
        },
        "id": "I8IUFXLZpRJO",
        "outputId": "d09a77e7-b94d-4c50-ebef-0fc3ebd9c8f3"
      },
      "outputs": [],
      "source": [
        "import pandas as pd\n",
        "\n",
        "# Tạo dữ liệu mẫu\n",
        "data = {\n",
        "    'Ten': ['An', 'Binh', 'Cuong', 'An', 'Linh'],\n",
        "    'Chi tieu hang thang (trieu dong)': [10.0, 15.0, 12.5, 10.0, 15.0],\n",
        "    'Tuoi': [20, 21, 22, 20, 24],\n",
        "    'So thich': ['Đọc sách', 'Xem phim', 'Đọc sách', 'Đọc sách', 'Đọc sách']\n",
        "}\n",
        "\n",
        "# Tạo DataFrame từ dữ liệu mẫu\n",
        "df = pd.DataFrame(data)\n",
        "\n",
        "# Đếm số lượng hàng trùng lặp dựa trên tất cả các cột\n",
        "\n",
        "\n",
        "# Đếm số lượng hàng trùng lặp dựa trên một số cột nhất định (ví dụ: 'Ten' và 'Tuoi')\n",
        "\n",
        "\n",
        "# Hiển thị kết quả\n"
      ]
    },
    {
      "cell_type": "markdown",
      "metadata": {
        "id": "OmJpqsZMpUOJ"
      },
      "source": [
        "Tính tần suất xuất hiện của các bản ghi trùng lặp"
      ]
    },
    {
      "cell_type": "code",
      "execution_count": 3,
      "metadata": {
        "colab": {
          "base_uri": "https://localhost:8080/"
        },
        "id": "l9Za9JWDpVDl",
        "outputId": "cdb9954d-8a62-49f7-d798-6eb9dcccfdb3"
      },
      "outputs": [
        {
          "name": "stdout",
          "output_type": "stream",
          "text": [
            "     Ten  Chi tieu hang thang (trieu dong)  Tuoi  So thich\n",
            "0     An                              10.0    25  Đọc sách\n",
            "1   Binh                              15.0    21  Xem phim\n",
            "2  Cuong                              12.5    22  Đọc sách\n",
            "3     An                              10.0    20  Đọc sách\n",
            "4   Linh                              15.0    24  Đọc sách\n",
            "5   Binh                              15.0    21  Xem phim\n",
            "6  Cuong                              12.5    22  Đọc sách\n",
            "7     An                              10.0    20  Đọc sách\n",
            "--------------------------------------------------\n",
            "Ten    Tuoi\n",
            "An     20      2\n",
            "Binh   21      2\n",
            "Cuong  22      2\n",
            "An     25      1\n",
            "Linh   24      1\n",
            "Name: count, dtype: int64\n"
          ]
        }
      ],
      "source": [
        "import pandas as pd\n",
        "\n",
        "# Tạo dữ liệu mẫu\n",
        "data = {\n",
        "    'Ten': ['An', 'Binh', 'Cuong', 'An', 'Linh', 'Binh', 'Cuong', 'An'],\n",
        "    'Chi tieu hang thang (trieu dong)': [10.0, 15.0, 12.5, 10.0, 15.0, 15.0, 12.5, 10.0],\n",
        "    'Tuoi': [25, 21, 22, 20, 24, 21, 22, 20],\n",
        "    'So thich': ['Đọc sách', 'Xem phim', 'Đọc sách', 'Đọc sách', 'Đọc sách', 'Xem phim', 'Đọc sách', 'Đọc sách']\n",
        "}\n",
        "\n",
        "# Tạo DataFrame từ dữ liệu mẫu\n",
        "df = pd.DataFrame(data)\n",
        "print(df)\n",
        "# Tính tần suất xuất hiện của các bản ghi trùng lặp dựa trên các cột 'Ten' và 'Tuoi'\n",
        "df_freq = df.value_counts(subset=['Ten', 'Tuoi'])\n",
        "\n",
        "# Hiển thị kết quả\n",
        "print('-' * 50)\n",
        "print(df_freq)"
      ]
    },
    {
      "cell_type": "markdown",
      "metadata": {
        "id": "s8HeWoZfpcV8"
      },
      "source": [
        "19/ Thay đổi cách giữ trùng lặp bằng cách kết hợp giá trị từ các hàng trùng lặp"
      ]
    },
    {
      "cell_type": "code",
      "execution_count": null,
      "metadata": {
        "colab": {
          "base_uri": "https://localhost:8080/"
        },
        "id": "pizeWbLvpdxY",
        "outputId": "dfbf043a-e486-4b3a-eb16-17d479773ad5"
      },
      "outputs": [
        {
          "name": "stdout",
          "output_type": "stream",
          "text": [
            "     Ten  Chi tieu hang thang (trieu dong)  Tuoi  So thich\n",
            "0     An                              10.0    20  Đọc sách\n",
            "1   Binh                              15.0    21  Xem phim\n",
            "2  Cuong                              12.5    22  Đọc sách\n",
            "3     An                              20.0    20  Xem phim\n",
            "4   Linh                              15.0    24  Đọc sách\n",
            "5   Binh                              20.0    21  Xem phim\n",
            "6  Cuong                              15.0    22  Đọc sách\n",
            "7     An                              25.0    20  Đọc sách\n"
          ]
        }
      ],
      "source": [
        "import pandas as pd\n",
        "def tao_so_thich(list_so_thich):\n",
        "    so_thich = list_so_thich.unique()\n",
        "    str_so_thich = ', '.join(so_thich)\n",
        "    return str_so_thich\n",
        "data = {\n",
        "    'Ten': ['An', 'Binh', 'Cuong', 'An', 'Linh', 'Binh', 'Cuong', 'An'],\n",
        "    'Chi tieu hang thang (trieu dong)': [10.0, 15.0, 12.5, 20.0, 15.0, 20.0, 15.0, 25.0],\n",
        "    'Tuoi': [20, 21, 22, 20, 24, 21, 22, 20],\n",
        "    'So thich': ['Đọc sách', 'Xem phim', 'Đọc sách', 'Xem phim', 'Đọc sách', 'Xem phim', 'Đọc sách', 'Đọc sách']\n",
        "}\n",
        "\n",
        "# Tạo DataFrame từ dữ liệu mẫu\n",
        "df = pd.DataFrame(data)\n",
        "print(df)\n",
        "# Kết hợp các giá trị từ các hàng trùng lặp\n",
        "df = df.groupby(['Ten']).agg({\n",
        "    'Chi tieu hang thang (trieu dong)': 'mean',\n",
        "    'Tuoi': 'first',\n",
        "    'So thich': lambda x: ', '.join(x.unique())\n",
        "})\n",
        "\n",
        "# Hiển thị DataFrame sau khi xử lý\n"
      ]
    },
    {
      "cell_type": "markdown",
      "metadata": {
        "id": "mRJq2cnIpeE9"
      },
      "source": [
        "20/ Tạo bản sao với hàng trùng lặp để kiểm tra và quyết định cách xử lý"
      ]
    },
    {
      "cell_type": "code",
      "execution_count": 5,
      "metadata": {
        "colab": {
          "base_uri": "https://localhost:8080/"
        },
        "id": "8SIwa6D8qUQf",
        "outputId": "6fd13660-28aa-4ff8-f785-3dd5a02b96c6"
      },
      "outputs": [
        {
          "name": "stdout",
          "output_type": "stream",
          "text": [
            "DataFrame chỉ chứa các hàng trùng lặp:\n",
            "     Ten  Chi tieu hang thang (trieu dong)  Tuoi  So thich\n",
            "0     An                              10.0    20  Đọc sách\n",
            "1   Binh                              15.0    21  Xem phim\n",
            "2  Cuong                              12.5    22  Đọc sách\n"
          ]
        }
      ],
      "source": [
        "import pandas as pd\n",
        "\n",
        "# Tạo dữ liệu mẫu\n",
        "data = {\n",
        "    'Ten': ['An', 'Binh', 'Cuong', 'An', 'Linh', 'Binh', 'Cuong', 'An'],\n",
        "    'Chi tieu hang thang (trieu dong)': [10.0, 15.0, 12.5, 10.0, 15.0, 15.0, 12.5, 10.0],\n",
        "    'Tuoi': [20, 21, 22, 20, 24, 21, 22, 20],\n",
        "    'So thich': ['Đọc sách', 'Xem phim', 'Đọc sách', 'Đọc sách', 'Đọc sách', 'Xem phim', 'Đọc sách', 'Đọc sách']\n",
        "}\n",
        "\n",
        "# Tạo DataFrame từ dữ liệu mẫu\n",
        "df = pd.DataFrame(data)\n",
        "\n",
        "# Tạo bản sao chỉ chứa các hàng trùng lặp\n",
        "df_duplicates = df[df.duplicated(subset=['Ten', 'Tuoi'], keep=False)].drop_duplicates()\n",
        "\n",
        "\n",
        "# Hiển thị DataFrame chỉ chứa các hàng trùng lặp\n",
        "print(\"DataFrame chỉ chứa các hàng trùng lặp:\")\n",
        "print(df_duplicates)\n"
      ]
    },
    {
      "cell_type": "markdown",
      "metadata": {
        "id": "8PDUGlrdvfBv"
      },
      "source": [
        "**Xử lý dữ chuỗi**"
      ]
    },
    {
      "cell_type": "markdown",
      "metadata": {
        "id": "wnVDWJD3wcAZ"
      },
      "source": [
        "Chuyển đổi tất cả các tên thành chữ thường"
      ]
    },
    {
      "cell_type": "code",
      "execution_count": null,
      "metadata": {
        "colab": {
          "base_uri": "https://localhost:8080/"
        },
        "id": "Lf4v9ZZfviAx",
        "outputId": "f02a6d1b-4406-453e-a50e-c9ac53e5dad2"
      },
      "outputs": [],
      "source": [
        "import pandas as pd\n",
        "\n",
        "# Ví dụ về dữ liệu khách hàng\n",
        "data = {'Tên khách hàng': ['Nguyen Van A', 'Tran thi B', 'LE VAN C']}\n",
        "df = pd.DataFrame(data)\n",
        "\n",
        "# Chuyển đổi tất cả các tên thành chữ thường\n",
        "\n",
        "# Hiển thị DataFrame sau khi chuyển đổi"
      ]
    },
    {
      "cell_type": "markdown",
      "metadata": {
        "id": "-PuA1kEbwdIH"
      },
      "source": [
        "Loại bỏ khoảng trắng ở đầu và cuối"
      ]
    },
    {
      "cell_type": "code",
      "execution_count": null,
      "metadata": {
        "id": "AvTsTxY1wF-E"
      },
      "outputs": [],
      "source": [
        "import pandas as pd\n",
        "\n",
        "# Ví dụ về dữ liệu khách hàng\n",
        "data = {'Tên khách hàng': [' Nguyen Van A ', ' Tran thi B', 'LE VAN C ']}\n",
        "df = pd.DataFrame(data)\n",
        "\n",
        "# Loại bỏ khoảng trắng ở đầu và cuối\n",
        "\n",
        "# Hiển thị DataFrame sau khi chuyển đổi"
      ]
    },
    {
      "cell_type": "markdown",
      "metadata": {
        "id": "ced8MCnJwifY"
      },
      "source": [
        "Tách họ và tên cuối cùng thành hai cột: \"Họ và tên đệm\" và \"Tên\""
      ]
    },
    {
      "cell_type": "code",
      "execution_count": null,
      "metadata": {
        "colab": {
          "base_uri": "https://localhost:8080/"
        },
        "id": "0dsuhTHrwLmk",
        "outputId": "2ce64d35-972d-401a-b4bf-1c2a7d4dee54"
      },
      "outputs": [],
      "source": [
        "# Ví dụ về dữ liệu khách hàng\n",
        "import pandas as pd\n",
        "\n",
        "data = {'Tên khách hàng': ['Nguyen Van A', 'Tran Thi B', 'Le Van C']}\n",
        "df = pd.DataFrame(data)\n",
        "\n",
        "# Tách họ và tên cuối cùng thành hai cột: \"Họ và tên đệm\" và \"Tên\"\n",
        "\n",
        "# Hiển thị DataFrame sau khi chuyển đổi"
      ]
    },
    {
      "cell_type": "markdown",
      "metadata": {
        "id": "sUpKsw6nwqL-"
      },
      "source": [
        "Tìm kiếm các sản phẩm có chứa từ 'iPhone'"
      ]
    },
    {
      "cell_type": "code",
      "execution_count": null,
      "metadata": {
        "colab": {
          "base_uri": "https://localhost:8080/"
        },
        "id": "arCuhc-lwO-T",
        "outputId": "6f575bc3-4f84-4eb4-b121-3b39cca80d97"
      },
      "outputs": [],
      "source": [
        "# Ví dụ về dữ liệu sản phẩm\n",
        "data = {\n",
        "    'Tên sản phẩm': ['iPhone 12', 'Samsung Galaxy S21', 'iPhone 13 Pro', 'Xiaomi Mi 11', 'iPad Air', 'iPhone SE'],\n",
        "    'Giá': [20000000, 18000000, 25000000, 15000000, 12000000, 10000000]\n",
        "}\n",
        "\n",
        "# Tạo DataFrame từ dữ liệu\n",
        "df_sanpham = pd.DataFrame(data)\n",
        "\n",
        "# Tìm kiếm các sản phẩm có chứa từ 'iPhone'\n",
        "\n",
        "# In kết quả"
      ]
    },
    {
      "cell_type": "markdown",
      "metadata": {
        "id": "F6HaYf--wrmd"
      },
      "source": [
        "Thay thế chuỗi"
      ]
    },
    {
      "cell_type": "code",
      "execution_count": null,
      "metadata": {
        "colab": {
          "base_uri": "https://localhost:8080/"
        },
        "id": "jPDpTaEtwUkY",
        "outputId": "08f66513-d97e-4598-e5ba-5fa22c64e0bf"
      },
      "outputs": [],
      "source": [
        "# Ví dụ về dữ liệu sản phẩm\n",
        "data = {\n",
        "    'Tên sản phẩm': ['iPhone 12', 'Samsung Galaxy S21', 'iPhone 13 Pro', 'Xiaomi Mi 11', 'iPad Air', 'iPhone SE'],\n",
        "    'Giá': [20000000, 18000000, 25000000, 15000000, 12000000, 10000000]\n",
        "}\n",
        "\n",
        "# Tạo DataFrame từ dữ liệu\n",
        "df_sanpham = pd.DataFrame(data)\n",
        "# Thay thế từ 'iPhone' thành 'Apple iPhone'\n",
        "\n",
        "# In kết quả"
      ]
    },
    {
      "cell_type": "markdown",
      "metadata": {
        "id": "rEr_JhcFykP2"
      },
      "source": [
        "Chuyển đổi chuỗi dữ liệu ngày tháng"
      ]
    },
    {
      "cell_type": "code",
      "execution_count": null,
      "metadata": {
        "colab": {
          "base_uri": "https://localhost:8080/"
        },
        "id": "dqNgRstcyjzV",
        "outputId": "10b869f6-a516-46b7-f1df-bd5d7b025776"
      },
      "outputs": [],
      "source": [
        "import pandas as pd\n",
        "\n",
        "# Tạo dữ liệu mẫu với cột ngày dạng object (chuỗi)\n",
        "data = {\n",
        "    'Ten': ['An', 'Binh', 'Cuong', 'Dao', 'Linh'],\n",
        "    'Ngay sinh': ['2023-01-01', '2022-12-15', '2021-06-30', '2020-08-21', '2019-11-11']\n",
        "}\n",
        "\n",
        "# Tạo DataFrame từ dữ liệu mẫu\n",
        "df = pd.DataFrame(data)\n",
        "\n",
        "# Chuyển đổi cột 'Ngay sinh' từ dạng object sang datetime\n",
        "\n",
        "# Hiển thị DataFrame sau khi chuyển đổi\n",
        "\n",
        "# Hiển thị kiểu dữ liệu của cột 'Ngay sinh'\n"
      ]
    },
    {
      "cell_type": "markdown",
      "metadata": {
        "id": "kQzn0jdWzAem"
      },
      "source": [
        "Tách lấy tháng và lưu vào cột mới 'Thang sinh'"
      ]
    },
    {
      "cell_type": "code",
      "execution_count": null,
      "metadata": {
        "colab": {
          "base_uri": "https://localhost:8080/"
        },
        "id": "DmwXZsQuzLNe",
        "outputId": "f059c072-b946-4f4a-eb9e-a1e4d26f7f8e"
      },
      "outputs": [],
      "source": [
        "import pandas as pd\n",
        "\n",
        "# Tạo dữ liệu mẫu với cột ngày đã chuyển đổi sang datetime\n",
        "data = {\n",
        "    'Ten': ['An', 'Binh', 'Cuong', 'Dao', 'Linh'],\n",
        "    'Ngay sinh': ['2023-01-01', '2022-12-15', '2021-06-30', '2020-08-21', '2019-11-11']\n",
        "}\n",
        "\n",
        "# Tạo DataFrame từ dữ liệu mẫu\n",
        "df = pd.DataFrame(data)\n",
        "\n",
        "# Chuyển đổi cột 'Ngay sinh' từ dạng object sang datetime\n",
        "\n",
        "\n",
        "# Tách lấy tháng và lưu vào cột mới 'Thang sinh'\n",
        "\n",
        "\n",
        "# Hiển thị DataFrame sau khi thêm cột 'Thang sinh'"
      ]
    },
    {
      "cell_type": "markdown",
      "metadata": {
        "id": "7oQf6Ex8znOH"
      },
      "source": [
        "Tách lấy ngày và lưu vào cột mới 'Ngay sinh'"
      ]
    },
    {
      "cell_type": "code",
      "execution_count": null,
      "metadata": {
        "colab": {
          "base_uri": "https://localhost:8080/"
        },
        "id": "GvnhIFfszjQV",
        "outputId": "b54814ef-ed0f-4153-a698-42179ab97db1"
      },
      "outputs": [],
      "source": [
        "import pandas as pd\n",
        "\n",
        "# Tạo dữ liệu mẫu với cột ngày đã chuyển đổi sang datetime\n",
        "data = {\n",
        "    'Ten': ['An', 'Binh', 'Cuong', 'Dao', 'Linh'],\n",
        "    'Ngay sinh': ['2023-01-01', '2022-12-15', '2021-06-30', '2020-08-21', '2019-11-11']\n",
        "}\n",
        "\n",
        "# Tạo DataFrame từ dữ liệu mẫu\n",
        "df = pd.DataFrame(data)\n",
        "\n",
        "# Chuyển đổi cột 'Ngay sinh' từ dạng object sang datetime\n",
        "\n",
        "# Tách lấy ngày và lưu vào cột mới 'Ngay'\n",
        "\n",
        "# Hiển thị DataFrame sau khi thêm cột 'Ngay'\n"
      ]
    },
    {
      "cell_type": "markdown",
      "metadata": {
        "id": "xmnaF1ks8JX7"
      },
      "source": [
        "***Chuẩn hóa dữ liệu***"
      ]
    },
    {
      "cell_type": "markdown",
      "metadata": {
        "id": "QXolAmrG8xQu"
      },
      "source": [
        "Chuẩn hóa doanh thu về khoảng [0, 1] bằng giá trị Min Max"
      ]
    },
    {
      "cell_type": "code",
      "execution_count": 6,
      "metadata": {
        "colab": {
          "base_uri": "https://localhost:8080/"
        },
        "id": "pHRRK4xk8drd",
        "outputId": "971fa8c5-acc9-42ad-805d-f6dea7282ce0"
      },
      "outputs": [
        {
          "name": "stdout",
          "output_type": "stream",
          "text": [
            "  Công ty  Doanh thu\n",
            "0       A   20000000\n",
            "1       B   30000000\n",
            "2       C   15000000\n",
            "3       D   50000000\n",
            "  Công ty  Doanh thu  Doanh thu chuẩn hóa\n",
            "0       A   20000000             0.142857\n",
            "1       B   30000000             0.428571\n",
            "2       C   15000000             0.000000\n",
            "3       D   50000000             1.000000\n"
          ]
        }
      ],
      "source": [
        "import pandas as pd\n",
        "from sklearn.preprocessing import MinMaxScaler\n",
        "\n",
        "# Dữ liệu doanh thu của các công ty\n",
        "data = {'Công ty': ['A', 'B', 'C', 'D'],\n",
        "        'Doanh thu': [20000000, 30000000, 15000000, 50000000]}\n",
        "\n",
        "df = pd.DataFrame(data)\n",
        "print(df)\n",
        "# Chuẩn hóa doanh thu về khoảng [0, 1]\n",
        "scaler = MinMaxScaler()\n",
        "df['Doanh thu chuẩn hóa'] = scaler.fit_transform(df[['Doanh thu']])\n",
        "# Hiển thị DataFrame sau khi chuẩn hóa\n",
        "print(df)"
      ]
    },
    {
      "cell_type": "markdown",
      "metadata": {
        "id": "dJf5VZ_b87FQ"
      },
      "source": [
        "Chuẩn hóa theo phương pháp Z-score\n"
      ]
    },
    {
      "cell_type": "code",
      "execution_count": 7,
      "metadata": {
        "colab": {
          "base_uri": "https://localhost:8080/"
        },
        "id": "kp_qcbAd9Uvb",
        "outputId": "f2ef3567-4215-436b-8d11-dd136bbf6102"
      },
      "outputs": [
        {
          "name": "stdout",
          "output_type": "stream",
          "text": [
            "  Công ty  Doanh thu\n",
            "0       A   20000000\n",
            "1       B   30000000\n",
            "2       C   15000000\n",
            "3       D   50000000\n",
            "  Công ty  Doanh thu  Doanh thu chuẩn hóa\n",
            "0       A   20000000            -0.652753\n",
            "1       B   30000000             0.093250\n",
            "2       C   15000000            -1.025755\n",
            "3       D   50000000             1.585258\n"
          ]
        }
      ],
      "source": [
        "import pandas as pd\n",
        "from sklearn.preprocessing import StandardScaler\n",
        "\n",
        "# Dữ liệu doanh thu của các công ty\n",
        "data = {\n",
        "    'Công ty': ['A', 'B', 'C', 'D'],\n",
        "    'Doanh thu': [20000000, 30000000, 15000000, 50000000]\n",
        "}\n",
        "\n",
        "df = pd.DataFrame(data)\n",
        "print(df)\n",
        "# Chuẩn hóa doanh thu theo phương pháp Z-score sử dụng StandardScaler\n",
        "scaler = StandardScaler()\n",
        "df['Doanh thu chuẩn hóa'] = scaler.fit_transform(df[['Doanh thu']])\n",
        "# Hiển thị DataFrame sau khi chuẩn hóa\n",
        "print(df)\n"
      ]
    },
    {
      "cell_type": "markdown",
      "metadata": {
        "id": "1eCySntC9Zxd"
      },
      "source": [
        "Sử dụng LabelEncoder để mã hóa dữ liệu phân loại"
      ]
    },
    {
      "cell_type": "code",
      "execution_count": 11,
      "metadata": {
        "colab": {
          "base_uri": "https://localhost:8080/"
        },
        "id": "j-xu-UCZ9aE1",
        "outputId": "45ddde9d-1bfa-47dd-9cab-6f1958b539e7"
      },
      "outputs": [
        {
          "name": "stdout",
          "output_type": "stream",
          "text": [
            "  Công ty    Ngành nghề\n",
            "0       A  Bất động sản\n",
            "1       B     Công nghệ\n",
            "2       C  Bất động sản\n",
            "3       D     Công nghệ\n",
            "4       E     Tài chính\n",
            "<class 'pandas.core.frame.DataFrame'>\n",
            "RangeIndex: 5 entries, 0 to 4\n",
            "Data columns (total 2 columns):\n",
            " #   Column      Non-Null Count  Dtype \n",
            "---  ------      --------------  ----- \n",
            " 0   Công ty     5 non-null      object\n",
            " 1   Ngành nghề  5 non-null      object\n",
            "dtypes: object(2)\n",
            "memory usage: 212.0+ bytes\n",
            "  Công ty  Ngành nghề\n",
            "0       A           0\n",
            "1       B           1\n",
            "2       C           0\n",
            "3       D           1\n",
            "4       E           2\n",
            "<class 'pandas.core.frame.DataFrame'>\n",
            "RangeIndex: 5 entries, 0 to 4\n",
            "Data columns (total 2 columns):\n",
            " #   Column      Non-Null Count  Dtype \n",
            "---  ------      --------------  ----- \n",
            " 0   Công ty     5 non-null      object\n",
            " 1   Ngành nghề  5 non-null      int64 \n",
            "dtypes: int64(1), object(1)\n",
            "memory usage: 212.0+ bytes\n"
          ]
        }
      ],
      "source": [
        "from sklearn.preprocessing import LabelEncoder\n",
        "import pandas as pd\n",
        "\n",
        "# Dữ liệu ngành nghề của các công ty\n",
        "data = {\n",
        "    'Công ty': ['A', 'B', 'C', 'D', 'E'],\n",
        "    'Ngành nghề': ['Bất động sản', 'Công nghệ', 'Bất động sản', 'Công nghệ', 'Tài chính']\n",
        "}\n",
        "\n",
        "df = pd.DataFrame(data)\n",
        "print(df)\n",
        "df.info()\n",
        "# Sử dụng LabelEncoder để mã hóa dữ liệu phân loại\n",
        "le = LabelEncoder()\n",
        "df['Ngành nghề'] = le.fit_transform(df['Ngành nghề'])\n",
        "\n",
        "# Hiển thị DataFrame sau khi mã hóa\n",
        "print(df)\n",
        "df.info()"
      ]
    },
    {
      "cell_type": "markdown",
      "metadata": {
        "id": "Taiwdc2a9t1f"
      },
      "source": [
        "Sử dụng One-Hot Encoding để mã hóa dữ liệu phân loại"
      ]
    },
    {
      "cell_type": "code",
      "execution_count": 14,
      "metadata": {
        "colab": {
          "base_uri": "https://localhost:8080/"
        },
        "id": "dcJlgs-G9-LQ",
        "outputId": "1d23ba16-c127-4a68-d7b0-75013d733c58"
      },
      "outputs": [
        {
          "name": "stdout",
          "output_type": "stream",
          "text": [
            "  Công ty    Ngành nghề\n",
            "0       A  Bất động sản\n",
            "1       B     Công nghệ\n",
            "2       C  Bất động sản\n",
            "3       D     Công nghệ\n",
            "4       E     Tài chính\n"
          ]
        },
        {
          "data": {
            "text/html": [
              "<div>\n",
              "<style scoped>\n",
              "    .dataframe tbody tr th:only-of-type {\n",
              "        vertical-align: middle;\n",
              "    }\n",
              "\n",
              "    .dataframe tbody tr th {\n",
              "        vertical-align: top;\n",
              "    }\n",
              "\n",
              "    .dataframe thead th {\n",
              "        text-align: right;\n",
              "    }\n",
              "</style>\n",
              "<table border=\"1\" class=\"dataframe\">\n",
              "  <thead>\n",
              "    <tr style=\"text-align: right;\">\n",
              "      <th></th>\n",
              "      <th>Công ty</th>\n",
              "      <th>Ngành nghề</th>\n",
              "      <th>Ngành nghề_Bất động sản</th>\n",
              "      <th>Ngành nghề_Công nghệ</th>\n",
              "      <th>Ngành nghề_Tài chính</th>\n",
              "    </tr>\n",
              "  </thead>\n",
              "  <tbody>\n",
              "    <tr>\n",
              "      <th>0</th>\n",
              "      <td>A</td>\n",
              "      <td>Bất động sản</td>\n",
              "      <td>True</td>\n",
              "      <td>False</td>\n",
              "      <td>False</td>\n",
              "    </tr>\n",
              "    <tr>\n",
              "      <th>1</th>\n",
              "      <td>B</td>\n",
              "      <td>Công nghệ</td>\n",
              "      <td>False</td>\n",
              "      <td>True</td>\n",
              "      <td>False</td>\n",
              "    </tr>\n",
              "    <tr>\n",
              "      <th>2</th>\n",
              "      <td>C</td>\n",
              "      <td>Bất động sản</td>\n",
              "      <td>True</td>\n",
              "      <td>False</td>\n",
              "      <td>False</td>\n",
              "    </tr>\n",
              "    <tr>\n",
              "      <th>3</th>\n",
              "      <td>D</td>\n",
              "      <td>Công nghệ</td>\n",
              "      <td>False</td>\n",
              "      <td>True</td>\n",
              "      <td>False</td>\n",
              "    </tr>\n",
              "    <tr>\n",
              "      <th>4</th>\n",
              "      <td>E</td>\n",
              "      <td>Tài chính</td>\n",
              "      <td>False</td>\n",
              "      <td>False</td>\n",
              "      <td>True</td>\n",
              "    </tr>\n",
              "  </tbody>\n",
              "</table>\n",
              "</div>"
            ],
            "text/plain": [
              "  Công ty    Ngành nghề  Ngành nghề_Bất động sản  Ngành nghề_Công nghệ  \\\n",
              "0       A  Bất động sản                     True                 False   \n",
              "1       B     Công nghệ                    False                  True   \n",
              "2       C  Bất động sản                     True                 False   \n",
              "3       D     Công nghệ                    False                  True   \n",
              "4       E     Tài chính                    False                 False   \n",
              "\n",
              "   Ngành nghề_Tài chính  \n",
              "0                 False  \n",
              "1                 False  \n",
              "2                 False  \n",
              "3                 False  \n",
              "4                  True  "
            ]
          },
          "execution_count": 14,
          "metadata": {},
          "output_type": "execute_result"
        }
      ],
      "source": [
        "import pandas as pd\n",
        "\n",
        "# Dữ liệu ngành nghề của các công ty\n",
        "data = {\n",
        "    'Công ty': ['A', 'B', 'C', 'D', 'E'],\n",
        "    'Ngành nghề': ['Bất động sản', 'Công nghệ', 'Bất động sản', 'Công nghệ', 'Tài chính']\n",
        "}\n",
        "\n",
        "df = pd.DataFrame(data)\n",
        "print(df)\n",
        "# Sử dụng One-Hot Encoding để mã hóa dữ liệu phân loại lưu vào data frame mới\n",
        "df_one_hot = pd.get_dummies(df['Ngành nghề'], prefix='Ngành nghề')\n",
        "\n",
        "# Gộp data frame mới vào DataFrame chính\n",
        "df = pd.concat([df, df_one_hot], axis=1)\n",
        "# Hiển thị DataFrame sau khi gộp\n",
        "df.head()"
      ]
    },
    {
      "cell_type": "markdown",
      "metadata": {
        "id": "xbVA2XFy-JTA"
      },
      "source": [
        "***Xử lý dữ liệu rời rạc***"
      ]
    },
    {
      "cell_type": "markdown",
      "metadata": {
        "id": "s8BUiWKX-2M9"
      },
      "source": [
        "Chia giá trị liên tục thành các khoảng xác định dùng pd.cut"
      ]
    },
    {
      "cell_type": "code",
      "execution_count": null,
      "metadata": {
        "colab": {
          "base_uri": "https://localhost:8080/"
        },
        "id": "hk5XdkV8-cw1",
        "outputId": "caf5da9e-9f5d-47f4-bb3f-a791b5439535"
      },
      "outputs": [],
      "source": [
        "import pandas as pd\n",
        "\n",
        "# Dữ liệu thu nhập\n",
        "data = {'Tên': ['A', 'B', 'C', 'D', 'E'], 'Thu nhập (triệu VNĐ)': [50, 200, 300, 450, 600]}\n",
        "df = pd.DataFrame(data)\n",
        "\n",
        "# Phân loại thu nhập thành 3 nhóm: Thấp, Trung bình, Cao dùng pd.cut\n",
        "\n",
        "print(df)\n"
      ]
    },
    {
      "cell_type": "markdown",
      "metadata": {
        "id": "5WwV3QT8_CMz"
      },
      "source": [
        "Chia thành các khoảng theo phân vị (các phần tủ bằng nhau) qcut"
      ]
    },
    {
      "cell_type": "code",
      "execution_count": null,
      "metadata": {
        "colab": {
          "base_uri": "https://localhost:8080/"
        },
        "id": "hmD_lseQ_Cjs",
        "outputId": "5ef78700-5a1b-4037-f796-e84139ab5310"
      },
      "outputs": [],
      "source": [
        "import pandas as pd\n",
        "\n",
        "# Dữ liệu thu nhập\n",
        "data = {'Tên': ['A', 'B', 'C', 'D', 'E'], 'Thu nhập (triệu VNĐ)': [50, 200, 300, 450, 600]}\n",
        "df = pd.DataFrame(data)\n",
        "\n",
        "# Phân loại thu nhập theo 3 nhóm có số lượng phần tử bằng nhau với qcut\n"
      ]
    }
  ],
  "metadata": {
    "colab": {
      "provenance": []
    },
    "kernelspec": {
      "display_name": "Python 3",
      "name": "python3"
    },
    "language_info": {
      "codemirror_mode": {
        "name": "ipython",
        "version": 3
      },
      "file_extension": ".py",
      "mimetype": "text/x-python",
      "name": "python",
      "nbconvert_exporter": "python",
      "pygments_lexer": "ipython3",
      "version": "3.13.2"
    }
  },
  "nbformat": 4,
  "nbformat_minor": 0
}
