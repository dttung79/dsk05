{
 "cells": [
  {
   "cell_type": "code",
   "execution_count": 2,
   "id": "0c3e7cf0",
   "metadata": {},
   "outputs": [],
   "source": [
    "import pandas as pd"
   ]
  },
  {
   "cell_type": "code",
   "execution_count": 3,
   "id": "c541d626",
   "metadata": {},
   "outputs": [
    {
     "name": "stdout",
     "output_type": "stream",
     "text": [
      "    cars  passings\n",
      "0    BMW         3\n",
      "1  Volvo         7\n",
      "2   Ford         2 <class 'pandas.core.frame.DataFrame'>\n"
     ]
    }
   ],
   "source": [
    "mydataset = {\n",
    "  'cars': [\"BMW\", \"Volvo\", \"Ford\"],\n",
    "  'passings': [3, 7, 2]\n",
    "}\n",
    "\n",
    "df_cars = pd.DataFrame(mydataset)\n",
    "print(df_cars, type(df_cars))"
   ]
  },
  {
   "cell_type": "code",
   "execution_count": null,
   "id": "fdae718d",
   "metadata": {},
   "outputs": [],
   "source": []
  },
  {
   "cell_type": "code",
   "execution_count": 6,
   "id": "10ce6f95",
   "metadata": {},
   "outputs": [
    {
     "name": "stdout",
     "output_type": "stream",
     "text": [
      "0    1\n",
      "1    2\n",
      "2    3\n",
      "dtype: int64 <class 'pandas.core.series.Series'>\n",
      "1\n"
     ]
    }
   ],
   "source": [
    "a = [1, 2, 3]\n",
    "a_series = pd.Series(a)\n",
    "print(a_series, type(a_series))\n",
    "print(a_series[0])"
   ]
  },
  {
   "cell_type": "code",
   "execution_count": 8,
   "id": "2875d333",
   "metadata": {},
   "outputs": [
    {
     "name": "stdout",
     "output_type": "stream",
     "text": [
      "x    1\n",
      "y    2\n",
      "z    3\n",
      "dtype: int64\n",
      "2\n"
     ]
    }
   ],
   "source": [
    "a_series = pd.Series(a, index=['x', 'y', 'z'])\n",
    "print(a_series)\n",
    "print(a_series['y'])"
   ]
  },
  {
   "cell_type": "code",
   "execution_count": 9,
   "id": "4533dc47",
   "metadata": {},
   "outputs": [
    {
     "name": "stdout",
     "output_type": "stream",
     "text": [
      "    cars  passings\n",
      "0    BMW         3\n",
      "1  Volvo         7\n",
      "2   Ford         2\n"
     ]
    }
   ],
   "source": [
    "mydataset = {\n",
    "  'cars': [\"BMW\", \"Volvo\", \"Ford\"],\n",
    "  'passings': [3, 7, 2]\n",
    "}\n",
    "\n",
    "df_cars = pd.DataFrame(mydataset)\n",
    "print(df_cars)"
   ]
  },
  {
   "cell_type": "code",
   "execution_count": 10,
   "id": "289fc818",
   "metadata": {},
   "outputs": [
    {
     "name": "stdout",
     "output_type": "stream",
     "text": [
      "cars        Volvo\n",
      "passings        7\n",
      "Name: 1, dtype: object\n"
     ]
    }
   ],
   "source": [
    "print(df_cars.loc[1])  # Accessing the second row"
   ]
  },
  {
   "cell_type": "code",
   "execution_count": null,
   "id": "019f6b0c",
   "metadata": {},
   "outputs": [
    {
     "name": "stdout",
     "output_type": "stream",
     "text": [
      "    cars  passings\n",
      "0    BMW         3\n",
      "1  Volvo         7\n"
     ]
    }
   ],
   "source": [
    "print(df_cars.loc[[0, 1]])  # Accessing the first row, second row"
   ]
  },
  {
   "cell_type": "code",
   "execution_count": 13,
   "id": "585aec1f",
   "metadata": {},
   "outputs": [
    {
     "name": "stdout",
     "output_type": "stream",
     "text": [
      "   cars  passings\n",
      "0   BMW         3\n",
      "2  Ford         2\n"
     ]
    }
   ],
   "source": [
    "print(df_cars.loc[[0, 2]])"
   ]
  },
  {
   "cell_type": "code",
   "execution_count": 15,
   "id": "9fa68f8c",
   "metadata": {},
   "outputs": [
    {
     "name": "stdout",
     "output_type": "stream",
     "text": [
      "       cars  passings\n",
      "car1    BMW         3\n",
      "car2  Volvo         7\n",
      "car3   Ford         2\n",
      "cars        Volvo\n",
      "passings        7\n",
      "Name: car2, dtype: object\n"
     ]
    }
   ],
   "source": [
    "mydataset = {\n",
    "  'cars': [\"BMW\", \"Volvo\", \"Ford\"],\n",
    "  'passings': [3, 7, 2]\n",
    "}\n",
    "\n",
    "df_cars = pd.DataFrame(mydataset, index=['car1', 'car2', 'car3'])\n",
    "print(df_cars)\n",
    "print(df_cars.loc['car2'])  # Accessing the second row by label"
   ]
  },
  {
   "cell_type": "code",
   "execution_count": 19,
   "id": "aeffcca4",
   "metadata": {},
   "outputs": [
    {
     "name": "stdout",
     "output_type": "stream",
     "text": [
      "['cars', 'passings']\n",
      "car1      BMW\n",
      "car2    Volvo\n",
      "car3     Ford\n",
      "Name: cars, dtype: object\n",
      "car1    3\n",
      "car2    7\n",
      "car3    2\n",
      "Name: passings, dtype: int64\n"
     ]
    }
   ],
   "source": [
    "# get header names\n",
    "print(list(df_cars.columns))\n",
    "# get a column\n",
    "print(df_cars['cars'])\n",
    "print(df_cars['passings'])"
   ]
  },
  {
   "cell_type": "code",
   "execution_count": 30,
   "id": "9a545ca7",
   "metadata": {},
   "outputs": [
    {
     "name": "stdout",
     "output_type": "stream",
     "text": [
      "['Duration', 'Pulse', 'Maxpulse', 'Calories']\n",
      "<class 'pandas.core.frame.DataFrame'>\n",
      "RangeIndex: 169 entries, 0 to 168\n",
      "Data columns (total 4 columns):\n",
      " #   Column    Non-Null Count  Dtype  \n",
      "---  ------    --------------  -----  \n",
      " 0   Duration  168 non-null    float64\n",
      " 1   Pulse     169 non-null    int64  \n",
      " 2   Maxpulse  169 non-null    int64  \n",
      " 3   Calories  164 non-null    float64\n",
      "dtypes: float64(2), int64(2)\n",
      "memory usage: 5.4 KB\n",
      "None\n"
     ]
    }
   ],
   "source": [
    "df_training = pd.read_csv('datab10.csv')\n",
    "print(list(df_training.columns))  # Print column names\n",
    "print(df_training.info())  # Print DataFrame info"
   ]
  },
  {
   "cell_type": "code",
   "execution_count": 25,
   "id": "c307a68e",
   "metadata": {},
   "outputs": [
    {
     "name": "stdout",
     "output_type": "stream",
     "text": [
      "         Duration       Pulse    Maxpulse     Calories\n",
      "count  168.000000  169.000000  169.000000   164.000000\n",
      "mean    63.869048  107.461538  134.047337   375.790244\n",
      "std     42.425357   14.510259   16.450434   266.379919\n",
      "min     15.000000   80.000000  100.000000    50.300000\n",
      "25%     45.000000  100.000000  124.000000   250.925000\n",
      "50%     60.000000  105.000000  131.000000   318.600000\n",
      "75%     60.000000  111.000000  141.000000   387.600000\n",
      "max    300.000000  159.000000  184.000000  1860.400000\n"
     ]
    }
   ],
   "source": [
    "print(df_training.describe())  # Print summary statistics"
   ]
  },
  {
   "cell_type": "code",
   "execution_count": 32,
   "id": "8848bcd1",
   "metadata": {},
   "outputs": [
    {
     "name": "stdout",
     "output_type": "stream",
     "text": [
      "Duration    1\n",
      "Pulse       0\n",
      "Maxpulse    0\n",
      "Calories    5\n",
      "dtype: int64\n"
     ]
    }
   ],
   "source": [
    "print(df_training.isnull().sum())  # Count missing values in each column"
   ]
  },
  {
   "cell_type": "code",
   "execution_count": 33,
   "id": "a3fedae3",
   "metadata": {},
   "outputs": [
    {
     "name": "stdout",
     "output_type": "stream",
     "text": [
      "Duration    1\n",
      "Pulse       0\n",
      "Maxpulse    0\n",
      "Calories    5\n",
      "dtype: int64\n",
      "Duration    0\n",
      "Pulse       0\n",
      "Maxpulse    0\n",
      "Calories    0\n",
      "dtype: int64\n"
     ]
    }
   ],
   "source": [
    "df_training_cleaned = df_training.dropna()  # Drop rows with any missing values\n",
    "print(df_training.isnull().sum())  # Check again for missing values\n",
    "print(df_training_cleaned.isnull().sum())  # Check for missing values in cleaned DataFrame"
   ]
  },
  {
   "cell_type": "code",
   "execution_count": null,
   "id": "a36f086d",
   "metadata": {},
   "outputs": [
    {
     "name": "stdout",
     "output_type": "stream",
     "text": [
      "Duration    0\n",
      "Pulse       0\n",
      "Maxpulse    0\n",
      "Calories    0\n",
      "dtype: int64\n"
     ]
    }
   ],
   "source": [
    "df_training.dropna(inplace=True)  # Drop rows with any missing values and store the result back in df_training\n",
    "print(df_training.isnull().sum())  # Check again for missing values"
   ]
  },
  {
   "cell_type": "code",
   "execution_count": 35,
   "id": "44133f0f",
   "metadata": {},
   "outputs": [
    {
     "name": "stdout",
     "output_type": "stream",
     "text": [
      "Duration    1\n",
      "Pulse       0\n",
      "Maxpulse    0\n",
      "Calories    5\n",
      "dtype: int64\n",
      "         Duration       Pulse    Maxpulse     Calories\n",
      "count  168.000000  169.000000  169.000000   164.000000\n",
      "mean    63.869048  107.461538  134.047337   375.790244\n",
      "std     42.425357   14.510259   16.450434   266.379919\n",
      "min     15.000000   80.000000  100.000000    50.300000\n",
      "25%     45.000000  100.000000  124.000000   250.925000\n",
      "50%     60.000000  105.000000  131.000000   318.600000\n",
      "75%     60.000000  111.000000  141.000000   387.600000\n",
      "max    300.000000  159.000000  184.000000  1860.400000\n"
     ]
    }
   ],
   "source": [
    "df_training = pd.read_csv('datab10.csv')\n",
    "print(df_training.isnull().sum())  # Count missing values in each column again\n",
    "print(df_training.describe())  # Print DataFrame info again"
   ]
  },
  {
   "cell_type": "code",
   "execution_count": null,
   "id": "a4e68364",
   "metadata": {},
   "outputs": [],
   "source": [
    "duration_mean = df_training['Duration'].mean()  # Calculate the mean of the 'duration' column\n",
    "print(duration_mean)\n",
    "# Fill missing values in 'duration' with the mean\n",
    "df_training['Duration'].fillna(duration_mean, inplace=True)  \n",
    "print(df_training.isnull().sum())  # Check for missing values again\n",
    "# Fill missing values in 'Calories' with 0\n",
    "df_training.fillna({'Calories': 0}, inplace=True)\n",
    "print(df_training.isnull().sum())  # Check for missing values again"
   ]
  },
  {
   "cell_type": "code",
   "execution_count": 41,
   "id": "2646c555",
   "metadata": {},
   "outputs": [
    {
     "name": "stdout",
     "output_type": "stream",
     "text": [
      "    cars  passings\n",
      "0    BMW         3\n",
      "1  Volvo         7\n",
      "2   Ford         2\n"
     ]
    }
   ],
   "source": [
    "mydataset = {\n",
    "  'cars': [\"BMW\", \"Volvo\", \"Ford\"],\n",
    "  'passings': [3, 7, 2]\n",
    "}\n",
    "df_cars = pd.DataFrame(mydataset)\n",
    "print(df_cars)"
   ]
  },
  {
   "cell_type": "code",
   "execution_count": 43,
   "id": "b27f8acd",
   "metadata": {},
   "outputs": [
    {
     "name": "stdout",
     "output_type": "stream",
     "text": [
      "    cars  passings  speed\n",
      "0    BMW         3    100\n",
      "1  Volvo         7    120\n",
      "2   Ford         2     90\n",
      "    cars  speed\n",
      "0    BMW    100\n",
      "1  Volvo    120\n",
      "2   Ford     90\n"
     ]
    }
   ],
   "source": [
    "# Add a new column 'speed'\n",
    "df_cars['speed'] = [100, 120, 90]\n",
    "print(df_cars)\n",
    "df_cars_subset = df_cars[['cars', 'speed']]  # Create a subset with specific columns\n",
    "print(df_cars_subset)"
   ]
  },
  {
   "cell_type": "code",
   "execution_count": 44,
   "id": "dfd7f908",
   "metadata": {},
   "outputs": [
    {
     "name": "stdout",
     "output_type": "stream",
     "text": [
      "    cars  passings  speed\n",
      "1  Volvo         7    120\n",
      "0    BMW         3    100\n",
      "2   Ford         2     90\n"
     ]
    }
   ],
   "source": [
    "# sort data frame by speed\n",
    "df_cars_sorted = df_cars.sort_values(by='speed', ascending=False)\n",
    "print(df_cars_sorted)"
   ]
  },
  {
   "cell_type": "code",
   "execution_count": 45,
   "id": "2c058b73",
   "metadata": {},
   "outputs": [
    {
     "name": "stdout",
     "output_type": "stream",
     "text": [
      "    cars  passings  speed\n",
      "0    BMW         3    100\n",
      "2   Ford         2     90\n",
      "1  Volvo         7    120\n"
     ]
    }
   ],
   "source": [
    "df_cars_sorted = df_cars.sort_values(by='cars', ascending=True)\n",
    "print(df_cars_sorted)"
   ]
  },
  {
   "cell_type": "code",
   "execution_count": 48,
   "id": "b2eeba8c",
   "metadata": {},
   "outputs": [
    {
     "name": "stdout",
     "output_type": "stream",
     "text": [
      "     Duration  Pulse  Maxpulse  Calories\n",
      "112      15.0    124       139     124.2\n",
      "93       15.0     80       100      50.5\n",
      "58       20.0    153       172     226.4\n",
      "95       20.0    151       168     229.4\n",
      "94       20.0    150       171     127.4\n",
      "139      20.0    141       162     222.4\n",
      "135      20.0    136       156     189.0\n",
      "64       20.0    110       130     131.4\n",
      "68       20.0    106       136     110.4\n",
      "100      20.0     95       112      77.7\n"
     ]
    }
   ],
   "source": [
    "#print(df_training.head(10))  # Print first 10 rows\n",
    "# sort by Duration, then by Pulse\n",
    "df_training_sorted = df_training.sort_values(by=['Duration', 'Pulse'], ascending=[True, False])\n",
    "print(df_training_sorted.head(10))  # Print first 10 rows of the sorted DataFrame"
   ]
  },
  {
   "cell_type": "code",
   "execution_count": 49,
   "id": "fd62fe4b",
   "metadata": {},
   "outputs": [],
   "source": [
    "def strength(n_pulse):\n",
    "    if n_pulse < 107:\n",
    "        return 'weak'\n",
    "    return 'strong'"
   ]
  },
  {
   "cell_type": "code",
   "execution_count": 50,
   "id": "45848195",
   "metadata": {},
   "outputs": [
    {
     "name": "stdout",
     "output_type": "stream",
     "text": [
      "   Duration  Pulse  Maxpulse  Calories Strength\n",
      "0      60.0    110       130     409.1   strong\n",
      "1      60.0    117       145     479.0   strong\n",
      "2      60.0    103       135     340.0     weak\n",
      "3      45.0    109       175     282.4   strong\n",
      "4      45.0    117       148     406.0   strong\n",
      "5      60.0    102       127     300.0     weak\n",
      "6      60.0    110       136     374.0   strong\n",
      "7      45.0    104       134     253.3     weak\n",
      "8      30.0    109       133     195.1   strong\n",
      "9      60.0     98       124     269.0     weak\n"
     ]
    }
   ],
   "source": [
    "# Add column 'Strength' based on 'Pulse'\n",
    "df_training['Strength'] = df_training['Pulse'].apply(strength)\n",
    "print(df_training.head(10))  # Print first 10 rows of 'Pulse' and 'Strength'"
   ]
  },
  {
   "cell_type": "code",
   "execution_count": null,
   "id": "bb75b412",
   "metadata": {},
   "outputs": [],
   "source": [
    "# using lambda function to create 'Strength' column\n",
    "df_training['Strength'] = df_training['Pulse'].apply(lambda x: 'weak' if x < 107 else 'strong')"
   ]
  },
  {
   "cell_type": "code",
   "execution_count": null,
   "id": "f13aa953",
   "metadata": {},
   "outputs": [],
   "source": [
    "df_training_duration60 = df_training[df_training['Duration'] == 60]  # Filter rows where 'Duration' is 60\n",
    "print(df_training_duration60.head(10))  # Print first 10 rows of the filtered DataFrame"
   ]
  },
  {
   "cell_type": "code",
   "execution_count": 56,
   "id": "0b93556f",
   "metadata": {},
   "outputs": [
    {
     "name": "stderr",
     "output_type": "stream",
     "text": [
      "/var/folders/10/3dssf0p51vzgb7zfm9xl0vrm0000gn/T/ipykernel_809/2079307585.py:1: SettingWithCopyWarning: \n",
      "A value is trying to be set on a copy of a slice from a DataFrame\n",
      "\n",
      "See the caveats in the documentation: https://pandas.pydata.org/pandas-docs/stable/user_guide/indexing.html#returning-a-view-versus-a-copy\n",
      "  df_training_duration60.drop(columns=['Strength'], inplace=True)  # Drop the 'Strength' column from the filtered DataFrame\n"
     ]
    }
   ],
   "source": [
    "df_training_duration60.drop(columns=['Strength'], inplace=True)  # Drop the 'Strength' column from the filtered DataFrame\n"
   ]
  },
  {
   "cell_type": "code",
   "execution_count": 57,
   "id": "00052e22",
   "metadata": {},
   "outputs": [
    {
     "name": "stdout",
     "output_type": "stream",
     "text": [
      "                 Pulse    Maxpulse     Calories\n",
      "Duration                                       \n",
      "15.000000   102.000000  119.500000    87.350000\n",
      "20.000000   125.000000  146.000000   151.600000\n",
      "25.000000   152.000000  168.000000   244.200000\n",
      "30.000000   109.812500  137.000000   192.125000\n",
      "45.000000   107.485714  133.228571   257.622857\n",
      "60.000000   106.089744  132.935897   326.067949\n",
      "63.869048   109.000000  127.000000   382.000000\n",
      "75.000000   122.500000  150.000000   325.400000\n",
      "80.000000   123.000000  146.000000   643.100000\n",
      "90.000000    93.750000  116.375000   541.800000\n",
      "120.000000  100.000000  139.000000   666.833333\n",
      "150.000000  101.500000  130.250000   939.400000\n",
      "160.000000  109.500000  136.000000   943.700000\n",
      "180.000000   93.666667  125.666667   733.600000\n",
      "210.000000  122.500000  172.000000  1618.200000\n",
      "270.000000  100.000000  131.000000  1729.000000\n",
      "300.000000  108.000000  143.000000  1500.200000\n",
      "Duration     60.000000\n",
      "Pulse       106.089744\n",
      "Maxpulse    132.935897\n",
      "Calories    326.067949\n",
      "dtype: float64\n"
     ]
    }
   ],
   "source": [
    "# drop the 'Strength' columndf_training.drop(columns=['Strength'], inplace=True)\n",
    "df_training_grouped = df_training.groupby('Duration')\n",
    "print(df_training_grouped.mean())  # Print mean of each group by 'Duration'\n",
    "print(df_training_duration60.mean())  # Print mean of the filtered DataFrame where 'Duration' is 60"
   ]
  },
  {
   "cell_type": "code",
   "execution_count": 58,
   "id": "bc0de4fe",
   "metadata": {},
   "outputs": [
    {
     "name": "stdout",
     "output_type": "stream",
     "text": [
      "Duration\n",
      "15.000000      80\n",
      "20.000000      83\n",
      "25.000000     152\n",
      "30.000000      80\n",
      "45.000000      90\n",
      "60.000000      92\n",
      "63.869048     109\n",
      "75.000000     120\n",
      "80.000000     123\n",
      "90.000000      90\n",
      "120.000000    100\n",
      "150.000000     97\n",
      "160.000000    109\n",
      "180.000000     90\n",
      "210.000000    108\n",
      "270.000000    100\n",
      "300.000000    108\n",
      "Name: Pulse, dtype: int64\n",
      "92\n"
     ]
    }
   ],
   "source": [
    "print(df_training_grouped['Pulse'].min())  # Print minimum 'Pulse' for each group by 'Duration'\n",
    "print(df_training_duration60['Pulse'].min())  # Print minimum 'Pulse' for the filtered DataFrame where 'Duration' is 60"
   ]
  },
  {
   "cell_type": "code",
   "execution_count": 66,
   "id": "35de31ef",
   "metadata": {},
   "outputs": [
    {
     "name": "stdout",
     "output_type": "stream",
     "text": [
      "3\n",
      "----\n",
      "5\n",
      "300.0\n",
      "0\n",
      "Duration     60.0\n",
      "Pulse        97.0\n",
      "Maxpulse    127.0\n",
      "Calories    300.0\n",
      "Name: 141, dtype: float64\n"
     ]
    },
    {
     "name": "stderr",
     "output_type": "stream",
     "text": [
      "/var/folders/10/3dssf0p51vzgb7zfm9xl0vrm0000gn/T/ipykernel_809/2031007327.py:10: FutureWarning: A value is trying to be set on a copy of a DataFrame or Series through chained assignment using an inplace method.\n",
      "The behavior will change in pandas 3.0. This inplace method will never work because the intermediate object on which we are setting values always behaves as a copy.\n",
      "\n",
      "For example, when doing 'df[col].method(value, inplace=True)', try using 'df.method({col: value}, inplace=True)' or df[col] = df[col].method(value) instead, to perform the operation inplace on the original object.\n",
      "\n",
      "\n",
      "  df_training['Calories'].fillna(mode_calories, inplace=True)\n"
     ]
    }
   ],
   "source": [
    "df_training = pd.read_csv('datab10.csv')\n",
    "print(df_training['Calories'].isnull().sum())  # Count missing values in 'Calories' column\n",
    "print('----')\n",
    "# convert 'Calories' to numeric, forcing errors to 0\n",
    "df_training['Calories'] = pd.to_numeric(df_training['Calories'], errors='coerce')\n",
    "print(df_training['Calories'].isnull().sum())  # Check for missing values in 'Calories' after conversion\n",
    "# fill missing values in 'Calories' with mode\n",
    "mode_calories = df_training['Calories'].mode()[0]  # Get the mode of 'Calories'\n",
    "print(mode_calories)  # Print the mode of 'Calories'\n",
    "df_training['Calories'].fillna(mode_calories, inplace=True)\n",
    "print(df_training['Calories'].isnull().sum())  # Check for missing values in 'Calories' after filling with mode\n",
    "\n",
    "# print rows at index 141\n",
    "print(df_training.iloc[141])  # Print the row at index 143"
   ]
  },
  {
   "cell_type": "code",
   "execution_count": 68,
   "id": "87ef7698",
   "metadata": {},
   "outputs": [
    {
     "name": "stdout",
     "output_type": "stream",
     "text": [
      "Duration    1\n",
      "Pulse       0\n",
      "Maxpulse    0\n",
      "Calories    5\n",
      "dtype: int64\n",
      "     Duration  Pulse  Maxpulse  Calories\n",
      "17       45.0     90       112       NaN\n",
      "27       60.0    103       132       NaN\n",
      "91       45.0    107       137       NaN\n",
      "118      60.0    105       125       NaN\n",
      "141      60.0     97       127       NaN\n"
     ]
    }
   ],
   "source": [
    "df_training = pd.read_csv('datab10.csv')\n",
    "print(df_training.isnull().sum())  # Count missing values in each column again\n",
    "# get rows where 'Calories' is null\n",
    "df_training_null_calories = df_training[df_training['Calories'].isnull()]\n",
    "print(df_training_null_calories)  # Print rows where 'Calories' is null"
   ]
  },
  {
   "cell_type": "code",
   "execution_count": 71,
   "id": "55a5d478",
   "metadata": {},
   "outputs": [
    {
     "name": "stdout",
     "output_type": "stream",
     "text": [
      "7\n",
      "0      False\n",
      "1      False\n",
      "2      False\n",
      "3      False\n",
      "4      False\n",
      "       ...  \n",
      "164    False\n",
      "165    False\n",
      "166    False\n",
      "167    False\n",
      "168    False\n",
      "Length: 169, dtype: bool\n",
      "0\n"
     ]
    }
   ],
   "source": [
    "# Check doublicate rows\n",
    "print(df_training.duplicated().sum())  # \n",
    "print(df_training.duplicated())\n",
    "# using boolean indexing remove duplicate rows\n",
    "df_training_no_duplicates = df_training.drop_duplicates()\n",
    "print(df_training_no_duplicates.duplicated().sum())  # Check again for duplicates"
   ]
  }
 ],
 "metadata": {
  "kernelspec": {
   "display_name": "Python 3",
   "language": "python",
   "name": "python3"
  },
  "language_info": {
   "codemirror_mode": {
    "name": "ipython",
    "version": 3
   },
   "file_extension": ".py",
   "mimetype": "text/x-python",
   "name": "python",
   "nbconvert_exporter": "python",
   "pygments_lexer": "ipython3",
   "version": "3.13.2"
  }
 },
 "nbformat": 4,
 "nbformat_minor": 5
}
