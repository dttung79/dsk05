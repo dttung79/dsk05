{
 "cells": [
  {
   "cell_type": "code",
   "execution_count": 1,
   "id": "c0231b6c",
   "metadata": {},
   "outputs": [],
   "source": [
    "import pandas as pd"
   ]
  },
  {
   "cell_type": "code",
   "execution_count": null,
   "id": "8f6af047",
   "metadata": {},
   "outputs": [],
   "source": [
    "# Tạo một DataFrame chứa thông tin về sản phẩm, danh mục, và doanh thu. \n",
    "\n",
    "df_products = pd.DataFrame({\n",
    "    'product_id': [1, 2, 3, 4, 5],\n",
    "    'category': ['Computer', 'Laptop', 'Tablet', 'Smartphone', 'Smartwatch'],\n",
    "    'revenue': [1999, 2999, 1500, 1999, 299]\n",
    "})\n",
    "\n",
    "# TODO: Sử dụng groupby() để tính tổng doanh thu theo từng danh mục"
   ]
  },
  {
   "cell_type": "code",
   "execution_count": null,
   "id": "633642b0",
   "metadata": {},
   "outputs": [],
   "source": [
    "# Tạo một DataFrame về thông tin nhân viên và lương và phòng ban. \n",
    "\n",
    "df_employees = pd.DataFrame({\n",
    "    'employee_id': [1, 2, 3, 4, 5],\n",
    "    'name': ['John', 'Jane', 'Jim', 'Jill', 'Jack'],\n",
    "    'salary': [50000, 55000, 60000, 65000, 70000],\n",
    "    'department': ['IT', 'HR', 'IT', 'HR', 'IT']\n",
    "})\n",
    "\n",
    "# TODO: Sử dụng groupby() để tính trung bình lương theo từng phòng ban"
   ]
  },
  {
   "cell_type": "code",
   "execution_count": null,
   "id": "6a9db8b4",
   "metadata": {},
   "outputs": [],
   "source": [
    "# TODO: Thêm một cột mới chứa thông tin về tiền thưởng"
   ]
  },
  {
   "cell_type": "code",
   "execution_count": null,
   "id": "634437d1",
   "metadata": {},
   "outputs": [],
   "source": [
    "# TODO: Xóa một cột khỏi DataFrame chứa thông tin về nhân viên (ví dụ: xóa cột 'Tiền Thưởng')"
   ]
  },
  {
   "cell_type": "code",
   "execution_count": null,
   "id": "0ff0f6d2",
   "metadata": {},
   "outputs": [],
   "source": [
    "# Tạo một DataFrame chứa thông tin về sản phẩm và giá cả\n",
    "df_products = pd.DataFrame({\n",
    "    'product_id': [1, 2, 3, 4, 5],\n",
    "    'product_name': ['Laptop', 'Smartphone', 'Tablet', 'Smartwatch', 'Computer'],\n",
    "    'price': [1999, 2999, 1500, 1999, 299]\n",
    "})\n",
    "\n",
    "# TODO: sắp xếp theo giá sản phẩm tăng dần"
   ]
  },
  {
   "cell_type": "code",
   "execution_count": null,
   "id": "821b907c",
   "metadata": {},
   "outputs": [],
   "source": [
    "# TODO: sắp xếp theo giá, sau đó cùng giá sắp xếp theo tên sản phẩm"
   ]
  },
  {
   "cell_type": "code",
   "execution_count": null,
   "id": "7463f83c",
   "metadata": {},
   "outputs": [],
   "source": [
    "# Tạo một DataFrame chứa dữ liệu khoảng 10 dòng trong đó 3-4 dòng thiếu dữ liệu trong một cột giá.\n",
    "df_products = pd.DataFrame({\n",
    "    'product_id': [1, 2, 3, 4, 5, 6, 7, 8, 9, 10],\n",
    "    'product_name': ['Laptop', 'Smartphone', 'Tablet', 'Smartwatch', 'Computer', 'Laptop', 'Smartphone', 'Tablet', 'Smartwatch', 'Computer'],\n",
    "    'price': [1999, None, 1500, None, 299, 1999, None, 1500, None, 299]\n",
    "})\n",
    "\n",
    "# TODO: thay thế các giá trị thiếu bằng giá trị trung bình của cột đó"
   ]
  },
  {
   "cell_type": "code",
   "execution_count": null,
   "id": "02a769cf",
   "metadata": {},
   "outputs": [],
   "source": [
    "# Tạo một DataFrame chứa thông tin về học sinh, bao gồm tên, lớp, và điểm thi.\n",
    "df_students = pd.DataFrame({\n",
    "    'student_id': [1, 2, 3, 4, 5],\n",
    "    'name': ['John', 'Jane', 'Jim', 'Jill', 'Jack', 'Mike', 'Sarah', 'Emily', 'David', 'Olivia'],\n",
    "    'class': ['10A', '10B', '10A', '10B', '10A', '10A', '10B', '10A', '10B', '10A'],\n",
    "    'score': [85, 90, 78, 92, 88, 95, 80, 90, 85, 92]\n",
    "})\n",
    "\n",
    "# TODO:  Nhóm theo lớp và tính điểm trung bình của từng lớp"
   ]
  },
  {
   "cell_type": "code",
   "execution_count": null,
   "id": "e8cf2224",
   "metadata": {},
   "outputs": [],
   "source": [
    "# Tạo một DataFrame chứa thông tin về các sản phẩm, bao gồm tên và giá.\n",
    "df_products = pd.DataFrame({\n",
    "    'product_id': [1, 2, 3, 4, 5],\n",
    "    'product_name': ['Laptop', 'Smartphone', 'Tablet', 'Smartwatch', 'Computer', 'Camera', 'Printer', 'Speaker', 'Headphone', 'Keyboard'],\n",
    "    'price': [1999, 2999, 1500, 1999, 299, 1999, 1500, 1999, 299, 1500]\n",
    "})\n",
    "\n",
    "# TODO: Tạo 1 cột giảm giá 10% cho các sản phẩm có giá trên 2000, các sản phẩm còn lại giảm 5%"
   ]
  },
  {
   "cell_type": "code",
   "execution_count": null,
   "id": "56e9f70f",
   "metadata": {},
   "outputs": [],
   "source": [
    "# Tạo một DataFrame chứa thông tin về các sản phẩm có doanh thu.\n",
    "df_products = pd.DataFrame({\n",
    "    'product_id': [1, 2, 3, 4, 5, 6, 7, 8, 9, 10],\n",
    "    'product_name': ['Laptop', 'Smartphone', 'Tablet', 'Smartwatch', 'Computer', 'Camera', 'Printer', 'Speaker', 'Headphone', 'Keyboard'],\n",
    "    'revenue': [250000, 250000, 150000, 199900, 299000, 150000, 199900, 299000, 150000, 199900]\n",
    "})\n",
    "\n",
    "# TODO: Lọc các sản phẩm có doanh thu trên 200000"
   ]
  }
 ],
 "metadata": {
  "kernelspec": {
   "display_name": "Python 3",
   "language": "python",
   "name": "python3"
  },
  "language_info": {
   "codemirror_mode": {
    "name": "ipython",
    "version": 3
   },
   "file_extension": ".py",
   "mimetype": "text/x-python",
   "name": "python",
   "nbconvert_exporter": "python",
   "pygments_lexer": "ipython3",
   "version": "3.13.2"
  }
 },
 "nbformat": 4,
 "nbformat_minor": 5
}
