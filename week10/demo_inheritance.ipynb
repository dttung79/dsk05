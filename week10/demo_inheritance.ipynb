{
 "cells": [
  {
   "cell_type": "code",
   "execution_count": 5,
   "id": "5f5c0bce",
   "metadata": {},
   "outputs": [
    {
     "name": "stdout",
     "output_type": "stream",
     "text": [
      "My name is: John\n"
     ]
    }
   ],
   "source": [
    "class Parent:\n",
    "    def __init__(self, name):\n",
    "        self.name = name\n",
    "    \n",
    "    def hi(self):\n",
    "        print(f'My name is: {self.name}')\n",
    "\n",
    "p = Parent('John')\n",
    "p.hi()"
   ]
  },
  {
   "cell_type": "code",
   "execution_count": null,
   "id": "12083320",
   "metadata": {},
   "outputs": [
    {
     "name": "stdout",
     "output_type": "stream",
     "text": [
      "My name is: John\n",
      "John\n"
     ]
    }
   ],
   "source": [
    "# sub class inherite from super class (attributes, methods)\n",
    "class Child(Parent):\n",
    "    def __init__(self, name):\n",
    "        super().__init__(name) # call Parent's constructor\n",
    "\n",
    "c = Child('John')\n",
    "c.hi()\n",
    "print(c.name)"
   ]
  },
  {
   "cell_type": "code",
   "execution_count": null,
   "id": "864b2ae2",
   "metadata": {},
   "outputs": [
    {
     "name": "stdout",
     "output_type": "stream",
     "text": [
      "John\n",
      "20\n",
      "My name is: John\n"
     ]
    }
   ],
   "source": [
    "# 2nd version of Child\n",
    "class Child(Parent):\n",
    "    def __init__(self, name, age):\n",
    "        super().__init__(name)  # call Parent's constructor\n",
    "        self.age = age\n",
    "\n",
    "c = Child('John', 20)\n",
    "print(c.name)\n",
    "print(c.age)\n",
    "c.hi()"
   ]
  },
  {
   "cell_type": "code",
   "execution_count": 13,
   "id": "a3a33332",
   "metadata": {},
   "outputs": [
    {
     "name": "stdout",
     "output_type": "stream",
     "text": [
      "My name is: John\n",
      "I am 20 years old\n",
      "Yo whatsup?\n"
     ]
    }
   ],
   "source": [
    "# 3rd version of Child\n",
    "class Child(Parent):\n",
    "    def __init__(self, name, age):\n",
    "        super().__init__(name)  # call Parent's constructor\n",
    "        self.age = age\n",
    "\n",
    "    # override method hi of Parent\n",
    "    def hi(self):\n",
    "        super().hi() # call Parent's hi method\n",
    "        print(f'I am {self.age} years old')\n",
    "\n",
    "    def hello(self):\n",
    "        print('Yo whatsup?')\n",
    "        \n",
    "c = Child('John', 20)\n",
    "c.hi()\n",
    "c.hello()"
   ]
  }
 ],
 "metadata": {
  "kernelspec": {
   "display_name": "Python 3",
   "language": "python",
   "name": "python3"
  },
  "language_info": {
   "codemirror_mode": {
    "name": "ipython",
    "version": 3
   },
   "file_extension": ".py",
   "mimetype": "text/x-python",
   "name": "python",
   "nbconvert_exporter": "python",
   "pygments_lexer": "ipython3",
   "version": "3.13.2"
  }
 },
 "nbformat": 4,
 "nbformat_minor": 5
}
