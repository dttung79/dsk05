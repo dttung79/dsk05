{
 "cells": [
  {
   "cell_type": "code",
   "execution_count": 2,
   "id": "4389c01d",
   "metadata": {},
   "outputs": [],
   "source": [
    "class Car:\n",
    "    # constructor\n",
    "    def __init__(self, brand, model, price):\n",
    "        # attribute brand\n",
    "        self.brand = brand\n",
    "        # attribute model\n",
    "        self.model = model\n",
    "        # attribute price\n",
    "        self.price = price\n",
    "    # method\n",
    "    def show(self):\n",
    "        print(f'Brand: {self.brand}, Model: {self.model}, Price: ${self.price}')"
   ]
  },
  {
   "cell_type": "code",
   "execution_count": 4,
   "id": "a29e98bd",
   "metadata": {},
   "outputs": [],
   "source": [
    "# create objects from class Car\n",
    "cx5 = Car('Honda', 'CX5', 2000000000)\n",
    "kia = Car('Kia', 'Morning', 80000000)"
   ]
  },
  {
   "cell_type": "code",
   "execution_count": 5,
   "id": "d2fbc41c",
   "metadata": {},
   "outputs": [
    {
     "name": "stdout",
     "output_type": "stream",
     "text": [
      "Brand: Honda, Model: CX5, Price: $2000000000\n",
      "Brand: Kia, Model: Morning, Price: $80000000\n"
     ]
    }
   ],
   "source": [
    "# call method from object\n",
    "cx5.show()\n",
    "kia.show()"
   ]
  },
  {
   "cell_type": "code",
   "execution_count": 7,
   "id": "8e36c685",
   "metadata": {},
   "outputs": [
    {
     "name": "stdout",
     "output_type": "stream",
     "text": [
      "2000000000\n",
      "Brand: Kia, Model: Morning, Price: $800000000\n"
     ]
    }
   ],
   "source": [
    "# access object attributes\n",
    "print(cx5.price) # reading\n",
    "kia.price = 800000000 # writing\n",
    "kia.show()"
   ]
  },
  {
   "cell_type": "code",
   "execution_count": 8,
   "id": "931a7756",
   "metadata": {},
   "outputs": [],
   "source": [
    "# Write class Product (attributes: id, name, price, method: display) \n",
    "class Product:\n",
    "    def __init__(self, pid, name, price):\n",
    "        self.pid = pid\n",
    "        self.name = name\n",
    "        self.price = price\n",
    "\n",
    "    def display(self):\n",
    "        print(f'Product id: {self.pid}, name: {self.name}, price: ${self.price}')"
   ]
  },
  {
   "cell_type": "code",
   "execution_count": 10,
   "id": "3d2e9485",
   "metadata": {},
   "outputs": [
    {
     "name": "stdout",
     "output_type": "stream",
     "text": [
      "Product id: 01, name: Pen, price: $2.5\n",
      "Product id: 01, name: Pen, price: $2.99\n"
     ]
    }
   ],
   "source": [
    "pen = Product('01', 'Pen', 2.5)\n",
    "pen.display()\n",
    "pen.price = 2.99\n",
    "pen.display()"
   ]
  },
  {
   "cell_type": "code",
   "execution_count": 11,
   "id": "a2233596",
   "metadata": {},
   "outputs": [
    {
     "name": "stdout",
     "output_type": "stream",
     "text": [
      "Product id: 01, name: Pen, price: $-2.99\n"
     ]
    }
   ],
   "source": [
    "pen.price = -2.99\n",
    "pen.display()"
   ]
  },
  {
   "cell_type": "code",
   "execution_count": null,
   "id": "c0598944",
   "metadata": {},
   "outputs": [],
   "source": [
    "# 2nd version of Product, where attributes are private\n",
    "class Product:\n",
    "    def __init__(self, pid, name, price):\n",
    "        # set attributes to be private\n",
    "        self.__pid = pid\n",
    "        self.__name = name\n",
    "        self.__price = price\n",
    "\n",
    "    # provide get/set methods to access attributes\n",
    "    def get_pid(self):\n",
    "        return self.__pid\n",
    "    \n",
    "    def set_pid(self, new_pid):\n",
    "        if new_pid == '':\n",
    "            print('Invalid ID')\n",
    "            return\n",
    "\n",
    "        self.__pid = new_pid\n",
    "    \n",
    "    def get_name(self):\n",
    "        return self.__name\n",
    "\n",
    "    def set_name(self, new_name):\n",
    "        if new_name == '':\n",
    "            print('Invalid name')\n",
    "            return\n",
    "\n",
    "        self.__name = new_name\n",
    "\n",
    "    def get_price(self):\n",
    "        return self.__price\n",
    "\n",
    "    def set_price(self, new_price):\n",
    "        if new_price <= 0:\n",
    "            print('Invalid price')\n",
    "            return\n",
    "        \n",
    "        self.__price = new_price\n",
    "    \n",
    "    def display(self):\n",
    "        print(f'Product id: {self.__pid}, name: {self.__name}, price: ${self.__price}')"
   ]
  },
  {
   "cell_type": "code",
   "execution_count": 17,
   "id": "34e634a0",
   "metadata": {},
   "outputs": [
    {
     "name": "stdout",
     "output_type": "stream",
     "text": [
      "Product id: 01, name: Pen, price: $2.5\n"
     ]
    }
   ],
   "source": [
    "pen = Product('01', 'Pen', 2.5)\n",
    "pen.display()"
   ]
  },
  {
   "cell_type": "code",
   "execution_count": 14,
   "id": "78aab7db",
   "metadata": {},
   "outputs": [
    {
     "ename": "AttributeError",
     "evalue": "'Product' object has no attribute '__price'",
     "output_type": "error",
     "traceback": [
      "\u001b[0;31m---------------------------------------------------------------------------\u001b[0m",
      "\u001b[0;31mAttributeError\u001b[0m                            Traceback (most recent call last)",
      "Cell \u001b[0;32mIn[14], line 1\u001b[0m\n\u001b[0;32m----> 1\u001b[0m \u001b[38;5;28mprint\u001b[39m(\u001b[43mpen\u001b[49m\u001b[38;5;241;43m.\u001b[39;49m\u001b[43m__price\u001b[49m)  \u001b[38;5;66;03m# error\u001b[39;00m\n",
      "\u001b[0;31mAttributeError\u001b[0m: 'Product' object has no attribute '__price'"
     ]
    }
   ],
   "source": [
    "print(pen.__price)  # error"
   ]
  },
  {
   "cell_type": "code",
   "execution_count": 15,
   "id": "543d9046",
   "metadata": {},
   "outputs": [
    {
     "name": "stdout",
     "output_type": "stream",
     "text": [
      "Product id: 01, name: Pen, price: $2.5\n"
     ]
    }
   ],
   "source": [
    "pen.__price = -2.99\n",
    "pen.display()"
   ]
  },
  {
   "cell_type": "code",
   "execution_count": 18,
   "id": "4a1eec4c",
   "metadata": {},
   "outputs": [
    {
     "ename": "AttributeError",
     "evalue": "'Product' object has no attribute '__name'",
     "output_type": "error",
     "traceback": [
      "\u001b[0;31m---------------------------------------------------------------------------\u001b[0m",
      "\u001b[0;31mAttributeError\u001b[0m                            Traceback (most recent call last)",
      "Cell \u001b[0;32mIn[18], line 1\u001b[0m\n\u001b[0;32m----> 1\u001b[0m \u001b[38;5;28mprint\u001b[39m(\u001b[43mpen\u001b[49m\u001b[38;5;241;43m.\u001b[39;49m\u001b[43m__name\u001b[49m)\n",
      "\u001b[0;31mAttributeError\u001b[0m: 'Product' object has no attribute '__name'"
     ]
    }
   ],
   "source": [
    "print(pen.__name)"
   ]
  },
  {
   "cell_type": "code",
   "execution_count": 19,
   "id": "2b350534",
   "metadata": {},
   "outputs": [
    {
     "name": "stdout",
     "output_type": "stream",
     "text": [
      "Pen\n"
     ]
    }
   ],
   "source": [
    "print(pen.get_name())"
   ]
  },
  {
   "cell_type": "code",
   "execution_count": 20,
   "id": "0b877414",
   "metadata": {},
   "outputs": [
    {
     "name": "stdout",
     "output_type": "stream",
     "text": [
      "Invalid price\n",
      "2.5\n"
     ]
    }
   ],
   "source": [
    "pen.set_price(-2.99)\n",
    "print(pen.get_price())"
   ]
  },
  {
   "cell_type": "code",
   "execution_count": 34,
   "id": "8f5daee0",
   "metadata": {},
   "outputs": [],
   "source": [
    "# property: allow access private attribute as easy as public attributes but still protect them from invalid cases.\n",
    "# 3rd verion of Product\n",
    "class Product:\n",
    "    def __init__(self, pid, name, price):\n",
    "        # set attributes to be private\n",
    "        self.__pid = pid\n",
    "        self.__name = name\n",
    "        self.__price = price\n",
    "\n",
    "    @property\n",
    "    def pid(self):\n",
    "        return self.__pid\n",
    "\n",
    "    @pid.setter\n",
    "    def pid(self, new_pid):\n",
    "        if new_pid == '':\n",
    "            print('Invalid ID')\n",
    "            return\n",
    "        \n",
    "        self.__pid = new_pid\n",
    "    \n",
    "    @property\n",
    "    def name(self):\n",
    "        return self.__name\n",
    "\n",
    "    @name.setter\n",
    "    def name(self, new_name):\n",
    "        if new_name == '':\n",
    "            print('Invalid name')\n",
    "            return\n",
    "\n",
    "        self.__name = new_name\n",
    "\n",
    "    @property\n",
    "    def price(self):\n",
    "        return self.__price\n",
    "\n",
    "    @price.setter\n",
    "    def price(self, new_price):\n",
    "        if new_price <= 0:\n",
    "            print('Invalid price')\n",
    "            return\n",
    "        \n",
    "        self.__price = new_price\n",
    "    \n",
    "    def display(self):\n",
    "        print(f'Product id: {self.__pid}, name: {self.__name}, price: ${self.__price}')"
   ]
  },
  {
   "cell_type": "code",
   "execution_count": 35,
   "id": "5459c111",
   "metadata": {},
   "outputs": [
    {
     "name": "stdout",
     "output_type": "stream",
     "text": [
      "Product id: 01, name: Pen, price: $2.5\n"
     ]
    }
   ],
   "source": [
    "pen = Product('01', 'Pen', 2.5)\n",
    "pen.display()"
   ]
  },
  {
   "cell_type": "code",
   "execution_count": 37,
   "id": "493ab258",
   "metadata": {},
   "outputs": [
    {
     "name": "stdout",
     "output_type": "stream",
     "text": [
      "02\n",
      "Invalid ID\n",
      "02\n",
      "02\n",
      "Invalid name\n",
      "Invalid price\n",
      "Product id: 02, name: Pen, price: $2.5\n",
      "Product id: 02, name: Pencil, price: $0.88\n"
     ]
    }
   ],
   "source": [
    "print(pen.pid)\n",
    "pen.pid = ''\n",
    "print(pen.pid)\n",
    "pen.pid = '02'\n",
    "print(pen.pid)\n",
    "pen.name = ''\n",
    "pen.price = -99\n",
    "pen.display()\n",
    "pen.name = 'Pencil'\n",
    "pen.price = 0.88\n",
    "pen.display()"
   ]
  },
  {
   "cell_type": "code",
   "execution_count": null,
   "id": "25b5edb8",
   "metadata": {},
   "outputs": [],
   "source": []
  }
 ],
 "metadata": {
  "kernelspec": {
   "display_name": "Python 3",
   "language": "python",
   "name": "python3"
  },
  "language_info": {
   "codemirror_mode": {
    "name": "ipython",
    "version": 3
   },
   "file_extension": ".py",
   "mimetype": "text/x-python",
   "name": "python",
   "nbconvert_exporter": "python",
   "pygments_lexer": "ipython3",
   "version": "3.13.2"
  }
 },
 "nbformat": 4,
 "nbformat_minor": 5
}
