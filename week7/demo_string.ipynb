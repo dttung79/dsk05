{
 "cells": [
  {
   "cell_type": "code",
   "execution_count": 2,
   "id": "84336707",
   "metadata": {},
   "outputs": [
    {
     "name": "stdout",
     "output_type": "stream",
     "text": [
      "llo P\n"
     ]
    }
   ],
   "source": [
    "s = 'Hello Python'\n",
    "print(s[2:7])"
   ]
  },
  {
   "cell_type": "code",
   "execution_count": 3,
   "id": "27e9c33d",
   "metadata": {},
   "outputs": [
    {
     "name": "stdout",
     "output_type": "stream",
     "text": [
      "llo Python\n"
     ]
    }
   ],
   "source": [
    "print(s[2:])"
   ]
  },
  {
   "cell_type": "code",
   "execution_count": 4,
   "id": "9c8455d4",
   "metadata": {},
   "outputs": [
    {
     "name": "stdout",
     "output_type": "stream",
     "text": [
      "loPto\n"
     ]
    }
   ],
   "source": [
    "print(s[2::2])"
   ]
  },
  {
   "cell_type": "code",
   "execution_count": 5,
   "id": "76c70157",
   "metadata": {},
   "outputs": [
    {
     "name": "stdout",
     "output_type": "stream",
     "text": [
      "Python\n"
     ]
    }
   ],
   "source": [
    "print(s[-6:])"
   ]
  },
  {
   "cell_type": "code",
   "execution_count": 6,
   "id": "628a7735",
   "metadata": {},
   "outputs": [
    {
     "name": "stdout",
     "output_type": "stream",
     "text": [
      "nohtyP olleH\n"
     ]
    }
   ],
   "source": [
    "print(s[::-1])"
   ]
  },
  {
   "cell_type": "code",
   "execution_count": 7,
   "id": "9341a223",
   "metadata": {},
   "outputs": [
    {
     "name": "stdout",
     "output_type": "stream",
     "text": [
      "Hello\n"
     ]
    }
   ],
   "source": [
    "print(s[:5:])"
   ]
  },
  {
   "cell_type": "code",
   "execution_count": null,
   "id": "a8993a31",
   "metadata": {},
   "outputs": [],
   "source": [
    "# Format numbers\n",
    "# d - int\n",
    "# f - float\n",
    "# % - percent\n",
    "# e - exponent"
   ]
  },
  {
   "cell_type": "code",
   "execution_count": null,
   "id": "56e45241",
   "metadata": {},
   "outputs": [
    {
     "name": "stdout",
     "output_type": "stream",
     "text": [
      "|       142|\n",
      "|  3.141560|\n"
     ]
    }
   ],
   "source": [
    "a = 142\n",
    "b = 3.14156\n",
    "print(f'|{a:10d}|') # print a (int) with 10 spaces\n",
    "print(f'|{b:10f}|') # print b (float) with 10 spaces"
   ]
  },
  {
   "cell_type": "code",
   "execution_count": null,
   "id": "784feec3",
   "metadata": {},
   "outputs": [
    {
     "name": "stdout",
     "output_type": "stream",
     "text": [
      "|      3.14|\n",
      "|    3.1416|\n",
      "| 3.1415600|\n"
     ]
    }
   ],
   "source": [
    "print(f'|{b:10.2f}|') # reserve 2 digits after .\n",
    "print(f'|{b:10.4f}|') # reverse 4 digits after . (5 -> 6)\n",
    "print(f'|{b:10.7f}|') # reverse 7 digits after . (add 2 number 0s)"
   ]
  },
  {
   "cell_type": "code",
   "execution_count": 23,
   "id": "6817efb4",
   "metadata": {},
   "outputs": [
    {
     "name": "stdout",
     "output_type": "stream",
     "text": [
      "0.05\n",
      "|        5%|\n"
     ]
    }
   ],
   "source": [
    "interest = 5/100\n",
    "print(interest)\n",
    "print(f'|{interest:10.0%}|')"
   ]
  },
  {
   "cell_type": "code",
   "execution_count": 27,
   "id": "b5a312ca",
   "metadata": {},
   "outputs": [
    {
     "name": "stdout",
     "output_type": "stream",
     "text": [
      "|   1.245000e+01|\n",
      "|   1.245000e+02|\n",
      "|   1.245000e+03|\n"
     ]
    }
   ],
   "source": [
    "print(f'|{12.45:15e}|') # 12.45 = 1.245 x 10^1\n",
    "print(f'|{124.5:15e}|') # 124.5 = 1.245 x 10^2\n",
    "print(f'|{1245:15e}|')  # 1245 = 1.245 x 10^3"
   ]
  },
  {
   "cell_type": "code",
   "execution_count": 30,
   "id": "03bcc9a7",
   "metadata": {},
   "outputs": [
    {
     "name": "stdout",
     "output_type": "stream",
     "text": [
      "|   5.400000e-03|\n",
      "|       5.40e-03|\n",
      "|        5.4e-03|\n"
     ]
    }
   ],
   "source": [
    "print(f'|{0.0054:15e}|')\n",
    "print(f'|{0.0054:15.2e}|')\n",
    "print(f'|{0.0054:15.1e}|')"
   ]
  },
  {
   "cell_type": "code",
   "execution_count": 31,
   "id": "1b506a63",
   "metadata": {},
   "outputs": [
    {
     "name": "stdout",
     "output_type": "stream",
     "text": [
      "|hello     |\n",
      "|     12345|\n"
     ]
    }
   ],
   "source": [
    "# justification: left, right, center\n",
    "s = 'hello'\n",
    "a = 12345\n",
    "print(f'|{s:10s}|')\n",
    "print(f'|{a:10d}|')"
   ]
  },
  {
   "cell_type": "code",
   "execution_count": 33,
   "id": "2145bd95",
   "metadata": {},
   "outputs": [
    {
     "name": "stdout",
     "output_type": "stream",
     "text": [
      "|     hello|\n",
      "|12345     |\n",
      "|  12345   |\n"
     ]
    }
   ],
   "source": [
    "print(f'|{s:>10s}|')\n",
    "print(f'|{a:<10d}|')\n",
    "print(f'|{a:^10d}|')"
   ]
  },
  {
   "cell_type": "code",
   "execution_count": null,
   "id": "023391ff",
   "metadata": {},
   "outputs": [],
   "source": [
    "# string methods: lower, upper, title, swapcase\n",
    "s = 'hELLo worLD'\n",
    "print(s.lower())\n",
    "print(s)\n",
    "s[0] = 'H' # cannot change content of a string!"
   ]
  },
  {
   "cell_type": "code",
   "execution_count": 38,
   "id": "49df7464",
   "metadata": {},
   "outputs": [
    {
     "name": "stdout",
     "output_type": "stream",
     "text": [
      "HELLO WORLD\n",
      "Hello World\n",
      "HellO WORld\n"
     ]
    }
   ],
   "source": [
    "print(s.upper())\n",
    "print(s.title()) # first item in word -> UP\n",
    "print(s.swapcase()) # swap lower -> UPPER"
   ]
  },
  {
   "cell_type": "code",
   "execution_count": 40,
   "id": "b0ab3247",
   "metadata": {},
   "outputs": [
    {
     "name": "stdout",
     "output_type": "stream",
     "text": [
      "|     hello world       |\n",
      "|hello world       |\n",
      "|     hello world|\n",
      "|hello world|\n"
     ]
    }
   ],
   "source": [
    "# remove white spaces (space, tab, new line)\n",
    "s = '     hello world       '\n",
    "print(f'|{s}|')\n",
    "print(f'|{s.lstrip()}|')    # remove spaces on the left\n",
    "print(f'|{s.rstrip()}|')    # remove spaces on the right\n",
    "print(f'|{s.strip()}|')     # remove spaces on both left & right"
   ]
  },
  {
   "cell_type": "code",
   "execution_count": 42,
   "id": "64ddf5bb",
   "metadata": {},
   "outputs": [
    {
     "name": "stdout",
     "output_type": "stream",
     "text": [
      "Hello Python!\n",
      "Hello Java!\n"
     ]
    }
   ],
   "source": [
    "# replace: replace 1 string -> another string\n",
    "python_str = 'Hello Python!'\n",
    "print(python_str)\n",
    "java_str = python_str.replace('Python', 'Java')\n",
    "print(java_str)"
   ]
  },
  {
   "cell_type": "code",
   "execution_count": 45,
   "id": "4d89bcba",
   "metadata": {},
   "outputs": [
    {
     "name": "stdout",
     "output_type": "stream",
     "text": [
      "True\n",
      "True\n",
      "True\n"
     ]
    }
   ],
   "source": [
    "# compare 2 strings: alphabet order, a < z, A < Z, A..Z < a..z\n",
    "print('a' < 'b')\n",
    "print('A' < 'a')\n",
    "print('1' < 'A')"
   ]
  },
  {
   "cell_type": "code",
   "execution_count": 48,
   "id": "d37d015c",
   "metadata": {},
   "outputs": [
    {
     "name": "stdout",
     "output_type": "stream",
     "text": [
      "['Tom Cruise', 'Brad Pitt', 'Angelina Jolie', 'Jennifer Aniston', 'Matt Damon']\n",
      "['Angelina Jolie', 'Brad Pitt', 'Jennifer Aniston', 'Matt Damon', 'Tom Cruise']\n",
      "['Tom Cruise', 'Matt Damon', 'Jennifer Aniston', 'Brad Pitt', 'Angelina Jolie']\n"
     ]
    }
   ],
   "source": [
    "names = ['Tom Cruise', 'Brad Pitt', 'Angelina Jolie', 'Jennifer Aniston', 'Matt Damon']\n",
    "print(names)\n",
    "print(sorted(names)) # sort names in alphabet order\n",
    "print(sorted(names, reverse=True)) # sort names in reverse order"
   ]
  },
  {
   "cell_type": "code",
   "execution_count": 50,
   "id": "37ec49a8",
   "metadata": {},
   "outputs": [
    {
     "name": "stdout",
     "output_type": "stream",
     "text": [
      "True\n",
      "True\n",
      "True\n",
      "True\n",
      "True\n",
      "True\n",
      "False\n",
      "False\n"
     ]
    }
   ],
   "source": [
    "# string classification: isalpha, isdigit, isalnum, isspace, isupper, islower\n",
    "print('hello'.isalpha()) # True\n",
    "print('123'.isdigit()) # True\n",
    "print('hello123'.isalnum()) # True\n",
    "print('   '.isspace()) # True\n",
    "print('HELLO'.isupper()) # True\n",
    "print('hello'.islower()) # True\n",
    "\n",
    "print('123'.isalpha()) # False\n",
    "print('hello'.isdigit()) # False"
   ]
  },
  {
   "cell_type": "code",
   "execution_count": 51,
   "id": "e14ae4d6",
   "metadata": {},
   "outputs": [
    {
     "name": "stdout",
     "output_type": "stream",
     "text": [
      "2\n",
      "-1\n"
     ]
    }
   ],
   "source": [
    "# find: find index of first occurrence of a string\n",
    "s = 'hello world'\n",
    "s2 = 'll'\n",
    "index = s.find(s2)\n",
    "print(index) # 2\n",
    "print(s.find('x')) # -1 (not found)"
   ]
  },
  {
   "cell_type": "code",
   "execution_count": 53,
   "id": "2f947dd4",
   "metadata": {},
   "outputs": [
    {
     "name": "stdout",
     "output_type": "stream",
     "text": [
      "Java not found in Hello Python World\n"
     ]
    }
   ],
   "source": [
    "s = 'Hello Python World'\n",
    "language = input('Enter a programming language: ')\n",
    "if s.find(language) == -1:\n",
    "    print(f'{language} not found in {s}')\n",
    "else:\n",
    "    print(f'{language} found in {s} at index {s.find(language)}')"
   ]
  },
  {
   "cell_type": "code",
   "execution_count": 57,
   "id": "e09f7fa6",
   "metadata": {},
   "outputs": [
    {
     "name": "stdout",
     "output_type": "stream",
     "text": [
      "True\n",
      "True\n",
      "True\n"
     ]
    }
   ],
   "source": [
    "print(s.startswith('Hello')) # True\n",
    "print(s.endswith('World')) # True\n",
    "\n",
    "print(s.lower().startswith('hello'))"
   ]
  },
  {
   "cell_type": "code",
   "execution_count": 60,
   "id": "a63f39bc",
   "metadata": {},
   "outputs": [
    {
     "name": "stdout",
     "output_type": "stream",
     "text": [
      "3\n",
      "2\n"
     ]
    }
   ],
   "source": [
    "print(s.count('o')) # count number of 'o' in s\n",
    "print(s.lower().count('h'))"
   ]
  },
  {
   "cell_type": "code",
   "execution_count": 62,
   "id": "33971df2",
   "metadata": {},
   "outputs": [
    {
     "name": "stdout",
     "output_type": "stream",
     "text": [
      "HE!!O WOR!D\n"
     ]
    }
   ],
   "source": [
    "# string chaining\n",
    "s = '     hello world       '\n",
    "print(s.strip().upper().replace('L', '!'))"
   ]
  },
  {
   "cell_type": "code",
   "execution_count": 64,
   "id": "d2fc2cf7",
   "metadata": {},
   "outputs": [
    {
     "name": "stdout",
     "output_type": "stream",
     "text": [
      "['A', 'quick', 'brown', 'fox', 'jumps', 'over', 'the', 'lazy', 'dog']\n",
      "9\n"
     ]
    }
   ],
   "source": [
    "# split: split string into list\n",
    "s = 'A quick brown fox jumps over the lazy dog'\n",
    "words = s.split()   # split by space (default)\n",
    "print(words)\n",
    "print(len(words)) # 9"
   ]
  },
  {
   "cell_type": "code",
   "execution_count": 65,
   "id": "a26bacd0",
   "metadata": {},
   "outputs": [
    {
     "name": "stdout",
     "output_type": "stream",
     "text": [
      "['python', 'java', 'c++']\n"
     ]
    }
   ],
   "source": [
    "tags = 'python,java,c++'\n",
    "languages = tags.split(',')\n",
    "print(languages)"
   ]
  },
  {
   "cell_type": "code",
   "execution_count": 67,
   "id": "5516f446",
   "metadata": {},
   "outputs": [
    {
     "name": "stdout",
     "output_type": "stream",
     "text": [
      "python,java,c++\n"
     ]
    }
   ],
   "source": [
    "s = ','.join(languages) # join list into string\n",
    "print(s)"
   ]
  },
  {
   "cell_type": "code",
   "execution_count": 68,
   "id": "6f4a2dee",
   "metadata": {},
   "outputs": [
    {
     "name": "stdout",
     "output_type": "stream",
     "text": [
      "python#java#c++\n"
     ]
    }
   ],
   "source": [
    "s = '#'.join(languages) # join list into string\n",
    "print(s)"
   ]
  }
 ],
 "metadata": {
  "kernelspec": {
   "display_name": "Python 3",
   "language": "python",
   "name": "python3"
  },
  "language_info": {
   "codemirror_mode": {
    "name": "ipython",
    "version": 3
   },
   "file_extension": ".py",
   "mimetype": "text/x-python",
   "name": "python",
   "nbconvert_exporter": "python",
   "pygments_lexer": "ipython3",
   "version": "3.13.2"
  }
 },
 "nbformat": 4,
 "nbformat_minor": 5
}
