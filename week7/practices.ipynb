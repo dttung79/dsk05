{
 "cells": [
  {
   "cell_type": "code",
   "execution_count": null,
   "id": "f8613232",
   "metadata": {},
   "outputs": [],
   "source": [
    "product = 'Laptop'\n",
    "quantity = 100\n",
    "price = 1799.5\n",
    "total = quantity * price"
   ]
  },
  {
   "cell_type": "code",
   "execution_count": 3,
   "id": "5c4f08e8",
   "metadata": {},
   "outputs": [
    {
     "name": "stdout",
     "output_type": "stream",
     "text": [
      "Product  :    Laptop\n",
      "Quantity :       100\n",
      "Price    :   1700.00\n",
      "Total    : 170000.00\n"
     ]
    }
   ],
   "source": [
    "print(f'Product  :{product:>10s}')\n",
    "print(f'Quantity :{quantity:10d}')\n",
    "print(f'Price    :{price:10.2f}')\n",
    "print(f'Total    :{total:10.2f}')"
   ]
  },
  {
   "cell_type": "code",
   "execution_count": 5,
   "id": "3144d311",
   "metadata": {},
   "outputs": [
    {
     "name": "stdout",
     "output_type": "stream",
     "text": [
      "Name                       Age     Grade\n",
      "----------------------------------------\n",
      "Alan Turing                 20       9.0\n",
      "Ada Lovelace                21       9.5\n",
      "Grace Hopper                21       8.5\n",
      "Linus Torvalds              22       8.8\n"
     ]
    }
   ],
   "source": [
    "names = ['Alan Turing', 'Ada Lovelace', 'Grace Hopper', 'Linus Torvalds']\n",
    "ages = [20, 21, 21, 22]\n",
    "grades = [9.0, 9.5, 8.5, 8.8]\n",
    "print(f'{\"Name\":<20s}{\"Age\":>10s}{\"Grade\":>10s}')\n",
    "print('-' * 40)\n",
    "for i in range(len(names)):\n",
    "    print(f'{names[i]:<20s}{ages[i]:>10d}{grades[i]:>10.1f}')"
   ]
  },
  {
   "cell_type": "code",
   "execution_count": 6,
   "id": "54158f35",
   "metadata": {},
   "outputs": [],
   "source": [
    "# string functions: split, strip, join\n",
    "def extract_name(name):\n",
    "    # remove spaces\n",
    "    name = name.strip()\n",
    "    # split name by space\n",
    "    words = name.split()\n",
    "    last_name = words[0]\n",
    "    first_name = words[-1]\n",
    "    middle_name = ' '.join(words[1:-1]) # slicing\n",
    "    return last_name, middle_name, first_name\n"
   ]
  },
  {
   "cell_type": "code",
   "execution_count": 13,
   "id": "574c5fc8",
   "metadata": {},
   "outputs": [
    {
     "name": "stdout",
     "output_type": "stream",
     "text": [
      "Last name: |Le|\n",
      "Middle name: |Van Do|\n",
      "First name: |Minh|\n"
     ]
    }
   ],
   "source": [
    "name = input('Enter your name: ')\n",
    "last_name, middle_name, first_name = extract_name(name)\n",
    "print(f'Last name: |{last_name}|')\n",
    "print(f'Middle name: |{middle_name}|')\n",
    "print(f'First name: |{first_name}|')"
   ]
  },
  {
   "cell_type": "code",
   "execution_count": 15,
   "id": "3dd2c76a",
   "metadata": {},
   "outputs": [
    {
     "name": "stdout",
     "output_type": "stream",
     "text": [
      "******8872\n",
      "***********4545\n"
     ]
    }
   ],
   "source": [
    "mobile = '0913238872' # => '******8872'\n",
    "\n",
    "def phone_coding(phone_number):\n",
    "    last4digits = phone_number[-4:]\n",
    "    first_part = '*' * len(phone_number[:-4])\n",
    "    return first_part + last4digits\n",
    "\n",
    "print(phone_coding(mobile))\n",
    "mobile = '01-728102324545'\n",
    "print(phone_coding(mobile))"
   ]
  }
 ],
 "metadata": {
  "kernelspec": {
   "display_name": "Python 3",
   "language": "python",
   "name": "python3"
  },
  "language_info": {
   "codemirror_mode": {
    "name": "ipython",
    "version": 3
   },
   "file_extension": ".py",
   "mimetype": "text/x-python",
   "name": "python",
   "nbconvert_exporter": "python",
   "pygments_lexer": "ipython3",
   "version": "3.13.2"
  }
 },
 "nbformat": 4,
 "nbformat_minor": 5
}
