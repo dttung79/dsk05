{
 "cells": [
  {
   "cell_type": "code",
   "execution_count": null,
   "id": "f8613232",
   "metadata": {},
   "outputs": [],
   "source": [
    "product = 'Laptop'\n",
    "quantity = 100\n",
    "price = 1799.5\n",
    "total = quantity * price"
   ]
  },
  {
   "cell_type": "code",
   "execution_count": 3,
   "id": "5c4f08e8",
   "metadata": {},
   "outputs": [
    {
     "name": "stdout",
     "output_type": "stream",
     "text": [
      "Product  :    Laptop\n",
      "Quantity :       100\n",
      "Price    :   1700.00\n",
      "Total    : 170000.00\n"
     ]
    }
   ],
   "source": [
    "print(f'Product  :{product:>10s}')\n",
    "print(f'Quantity :{quantity:10d}')\n",
    "print(f'Price    :{price:10.2f}')\n",
    "print(f'Total    :{total:10.2f}')"
   ]
  },
  {
   "cell_type": "code",
   "execution_count": null,
   "id": "3144d311",
   "metadata": {},
   "outputs": [],
   "source": [
    "names = ['Alan Turing', 'Ada Lovelace', 'Grace Hopper', 'Linus Torvalds']\n",
    "ages = [20, 21, 21, 22]\n",
    "grades = [9.0, 9.5, 8.5, 8.8]"
   ]
  }
 ],
 "metadata": {
  "kernelspec": {
   "display_name": "Python 3",
   "language": "python",
   "name": "python3"
  },
  "language_info": {
   "codemirror_mode": {
    "name": "ipython",
    "version": 3
   },
   "file_extension": ".py",
   "mimetype": "text/x-python",
   "name": "python",
   "nbconvert_exporter": "python",
   "pygments_lexer": "ipython3",
   "version": "3.13.2"
  }
 },
 "nbformat": 4,
 "nbformat_minor": 5
}
