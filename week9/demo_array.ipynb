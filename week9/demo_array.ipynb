{
 "cells": [
  {
   "cell_type": "code",
   "execution_count": 3,
   "id": "c55c852d",
   "metadata": {},
   "outputs": [
    {
     "name": "stdout",
     "output_type": "stream",
     "text": [
      "[1, 3, 5, 7, 9] <class 'list'>\n",
      "[1 3 5 7 9] <class 'numpy.ndarray'>\n"
     ]
    }
   ],
   "source": [
    "import numpy as np\n",
    "# create an array from a list\n",
    "a = [1, 3, 5, 7, 9]\n",
    "print(a, type(a))\n",
    "b = np.array(a)\n",
    "print(b, type(b))"
   ]
  },
  {
   "cell_type": "code",
   "execution_count": 4,
   "id": "7029382f",
   "metadata": {},
   "outputs": [
    {
     "name": "stdout",
     "output_type": "stream",
     "text": [
      "1\n",
      "9\n"
     ]
    }
   ],
   "source": [
    "# array indexing: similar as list\n",
    "print(b[0]) # 1st item\n",
    "print(b[-1]) # last item"
   ]
  },
  {
   "cell_type": "code",
   "execution_count": 5,
   "id": "4bc78537",
   "metadata": {},
   "outputs": [
    {
     "name": "stdout",
     "output_type": "stream",
     "text": [
      "[3 5 7 9]\n"
     ]
    }
   ],
   "source": [
    "# slicing same as list\n",
    "print(b[1::])"
   ]
  },
  {
   "cell_type": "code",
   "execution_count": 7,
   "id": "f2db91f1",
   "metadata": {},
   "outputs": [
    {
     "name": "stdout",
     "output_type": "stream",
     "text": [
      "[0. 0. 0. 0.]\n",
      "[1. 1. 1. 1.]\n"
     ]
    }
   ],
   "source": [
    "a = np.zeros(4) # create an array of 4 zeros\n",
    "print(a)\n",
    "a = np.ones(4)\n",
    "print(a)"
   ]
  },
  {
   "cell_type": "code",
   "execution_count": 9,
   "id": "8d5ef430",
   "metadata": {},
   "outputs": [
    {
     "name": "stdout",
     "output_type": "stream",
     "text": [
      "[1 2 3 4 5 6 7 8 9]\n",
      "[ 1  3  5  7  9 11 13 15 17 19]\n"
     ]
    }
   ],
   "source": [
    "a = np.arange(1, 10)\n",
    "print(a)\n",
    "a = np.arange(1, 20, 2)\n",
    "print(a)"
   ]
  },
  {
   "cell_type": "code",
   "execution_count": 94,
   "id": "93b00658",
   "metadata": {},
   "outputs": [
    {
     "name": "stdout",
     "output_type": "stream",
     "text": [
      "[[0.72484942 0.58385961 0.75055194]\n",
      " [0.39687739 0.16872112 0.65129095]\n",
      " [0.8386662  0.87122288 0.735226  ]]\n"
     ]
    }
   ],
   "source": [
    "a = np.random.rand(3, 3)\n",
    "print(a)"
   ]
  },
  {
   "cell_type": "code",
   "execution_count": 95,
   "id": "43872322",
   "metadata": {},
   "outputs": [
    {
     "name": "stdout",
     "output_type": "stream",
     "text": [
      "[[7.24849422 5.83859613 7.50551942]\n",
      " [3.96877388 1.68721119 6.51290953]\n",
      " [8.38666204 8.71222876 7.35226003]]\n"
     ]
    }
   ],
   "source": [
    "b = a * 10\n",
    "print(b)"
   ]
  },
  {
   "cell_type": "code",
   "execution_count": 13,
   "id": "306d26a6",
   "metadata": {},
   "outputs": [
    {
     "name": "stdout",
     "output_type": "stream",
     "text": [
      "[1, 2, 3, 4, 5, 6]\n",
      "[1, 2, 3, 4, 5, 6, 'hello', 'python']\n"
     ]
    }
   ],
   "source": [
    "a = [1, 2, 3]\n",
    "b = [4, 5, 6]\n",
    "c = a + b\n",
    "print(c)\n",
    "d = ['hello', 'python']\n",
    "e = c + d\n",
    "print(e)"
   ]
  },
  {
   "cell_type": "code",
   "execution_count": 14,
   "id": "c4d53dd5",
   "metadata": {},
   "outputs": [
    {
     "name": "stdout",
     "output_type": "stream",
     "text": [
      "[5 7 9]\n"
     ]
    }
   ],
   "source": [
    "arr_a = np.array(a)\n",
    "arr_b = np.array(b)\n",
    "arr_c = arr_a + arr_b\n",
    "print(arr_c)"
   ]
  },
  {
   "cell_type": "code",
   "execution_count": 15,
   "id": "44d5b73f",
   "metadata": {},
   "outputs": [
    {
     "name": "stdout",
     "output_type": "stream",
     "text": [
      "[1, 2, 3, 1, 2, 3]\n",
      "[2 4 6]\n"
     ]
    }
   ],
   "source": [
    "f = a * 2\n",
    "arr_f = arr_a * 2\n",
    "print(f)\n",
    "print(arr_f)"
   ]
  },
  {
   "cell_type": "code",
   "execution_count": null,
   "id": "815480b2",
   "metadata": {},
   "outputs": [
    {
     "name": "stdout",
     "output_type": "stream",
     "text": [
      "[3 4 5]\n"
     ]
    }
   ],
   "source": [
    "arr_b = arr_b - 1\n",
    "print(arr_b)\n"
   ]
  },
  {
   "cell_type": "code",
   "execution_count": 17,
   "id": "be02925a",
   "metadata": {},
   "outputs": [
    {
     "name": "stdout",
     "output_type": "stream",
     "text": [
      "[2 3 4]\n"
     ]
    }
   ],
   "source": [
    "arr_b -= 1\n",
    "print(arr_b)"
   ]
  },
  {
   "cell_type": "code",
   "execution_count": 19,
   "id": "4fb73586",
   "metadata": {},
   "outputs": [
    {
     "name": "stdout",
     "output_type": "stream",
     "text": [
      "[1 2 3]\n",
      "[2 3 4]\n",
      "[ 2  6 12]\n"
     ]
    }
   ],
   "source": [
    "print(arr_a, arr_b, sep='\\n')\n",
    "arr_c = arr_a * arr_b\n",
    "print(arr_c)"
   ]
  },
  {
   "cell_type": "code",
   "execution_count": 21,
   "id": "3a86e780",
   "metadata": {},
   "outputs": [
    {
     "name": "stdout",
     "output_type": "stream",
     "text": [
      "[1, 2.0, 3, 4.5]\n",
      "[1.  2.  3.  4.5]\n"
     ]
    }
   ],
   "source": [
    "a = [1, 2.0, 3, 4.5]\n",
    "arr_a = np.array(a)\n",
    "print(a)\n",
    "print(arr_a)"
   ]
  },
  {
   "cell_type": "code",
   "execution_count": 22,
   "id": "2aca6df9",
   "metadata": {},
   "outputs": [
    {
     "name": "stdout",
     "output_type": "stream",
     "text": [
      "[1, 2.0, 3, 4.5, 'hello']\n",
      "['1' '2.0' '3' '4.5' 'hello']\n"
     ]
    }
   ],
   "source": [
    "a = [1, 2.0, 3, 4.5, 'hello']\n",
    "arr_a = np.array(a)\n",
    "print(a)\n",
    "print(arr_a)"
   ]
  },
  {
   "cell_type": "code",
   "execution_count": 28,
   "id": "788382b3",
   "metadata": {},
   "outputs": [
    {
     "name": "stdout",
     "output_type": "stream",
     "text": [
      "[2 5 8 4 9 4]\n"
     ]
    }
   ],
   "source": [
    "numbers = np.random.randint(0, 10, 6) # generate 6 random integers\n",
    "print(numbers)"
   ]
  },
  {
   "cell_type": "code",
   "execution_count": 29,
   "id": "aaaef85c",
   "metadata": {},
   "outputs": [
    {
     "name": "stdout",
     "output_type": "stream",
     "text": [
      "2\n"
     ]
    }
   ],
   "source": [
    "count = 0\n",
    "for n in numbers:\n",
    "    if n > 5:\n",
    "        count += 1\n",
    "print(count)"
   ]
  },
  {
   "cell_type": "code",
   "execution_count": 30,
   "id": "567debf3",
   "metadata": {},
   "outputs": [
    {
     "name": "stdout",
     "output_type": "stream",
     "text": [
      "[ 4 10 16  8 18  8]\n"
     ]
    }
   ],
   "source": [
    "numbers_twice = numbers * 2\n",
    "print(numbers_twice)"
   ]
  },
  {
   "cell_type": "code",
   "execution_count": 34,
   "id": "9db0fbe0",
   "metadata": {},
   "outputs": [
    {
     "name": "stdout",
     "output_type": "stream",
     "text": [
      "[99, 71, 87, 88, 56, 11, 61, 24, 64, 78]\n",
      "[78 52 53 54 73  4 96 75  4 75]\n"
     ]
    }
   ],
   "source": [
    "import random as rd\n",
    "a = rd.sample(range(100), 10) # generate a list of 10 random number\n",
    "b = np.random.randint(0, 100, 10)\n",
    "print(a, b, sep='\\n')"
   ]
  },
  {
   "cell_type": "code",
   "execution_count": 32,
   "id": "a48fd813",
   "metadata": {},
   "outputs": [
    {
     "name": "stdout",
     "output_type": "stream",
     "text": [
      "[70, 22, 14, 6, 62] <class 'list'>\n"
     ]
    }
   ],
   "source": [
    "# get even numbers from list\n",
    "evens_a = [n for n in a if n % 2 == 0]\n",
    "print(evens_a, type(evens_a))"
   ]
  },
  {
   "cell_type": "code",
   "execution_count": 38,
   "id": "852e3784",
   "metadata": {},
   "outputs": [
    {
     "name": "stdout",
     "output_type": "stream",
     "text": [
      "[78, 52, 54, 4, 96, 4] <class 'list'>\n"
     ]
    }
   ],
   "source": [
    "evens_b = [int(n) for n in b if n % 2 == 0]\n",
    "print(evens_b, type(evens_b))"
   ]
  },
  {
   "cell_type": "code",
   "execution_count": null,
   "id": "8f2420a4",
   "metadata": {},
   "outputs": [
    {
     "name": "stdout",
     "output_type": "stream",
     "text": [
      "[78 52 54  4 96  4] <class 'numpy.ndarray'>\n"
     ]
    }
   ],
   "source": [
    "evens_b = b[b % 2 == 0] # boolean indexing\n",
    "print(evens_b, type(evens_b))"
   ]
  },
  {
   "cell_type": "code",
   "execution_count": 40,
   "id": "f8dfa1c8",
   "metadata": {},
   "outputs": [
    {
     "name": "stdout",
     "output_type": "stream",
     "text": [
      "[ True  True False  True False  True  True False  True False]\n"
     ]
    }
   ],
   "source": [
    "print(b % 2 == 0)"
   ]
  },
  {
   "cell_type": "code",
   "execution_count": 43,
   "id": "7c94461f",
   "metadata": {},
   "outputs": [
    {
     "name": "stdout",
     "output_type": "stream",
     "text": [
      "[52 81 83 28 64 77 32 13 24 57]\n",
      "[81 83 77 13 57]\n",
      "[52 81 83 64 77 57]\n"
     ]
    }
   ],
   "source": [
    "b = np.random.randint(0, 100, 10)\n",
    "print(b)\n",
    "# get array of odd numbers\n",
    "odd_b = b[b % 2 == 1]\n",
    "print(odd_b)\n",
    "# get array of numbers > 50\n",
    "big_b = b[b > 50]\n",
    "print(big_b)"
   ]
  },
  {
   "cell_type": "code",
   "execution_count": 52,
   "id": "885413d9",
   "metadata": {},
   "outputs": [
    {
     "name": "stdout",
     "output_type": "stream",
     "text": [
      "['Charlie Brown' 'Diana Mike Prince' 'Eve Onana Adams']\n",
      "['Diana Mike Prince' 'Eve Onana Adams']\n"
     ]
    }
   ],
   "source": [
    "names = np.array(['Alice Keller', 'Bob Smith', 'Charlie Brown', 'Diana Mike Prince', 'Eve Onana Adams'])\n",
    "# get long name (length > 15 characters)\n",
    "long_names = names[np.char.str_len(names) > 12]\n",
    "print(long_names)\n",
    "# get names that have middle names\n",
    "middle_names = names[np.char.count(names, ' ') > 1]\n",
    "print(middle_names)"
   ]
  },
  {
   "cell_type": "code",
   "execution_count": 60,
   "id": "272916ca",
   "metadata": {},
   "outputs": [
    {
     "name": "stdout",
     "output_type": "stream",
     "text": [
      "[-93 -40 -51 -23  80   1  19 -14 -20 -38]\n"
     ]
    }
   ],
   "source": [
    "numbers = np.random.randint(-100, 100, 10)\n",
    "print(numbers)"
   ]
  },
  {
   "cell_type": "code",
   "execution_count": 59,
   "id": "8eaab31f",
   "metadata": {},
   "outputs": [
    {
     "name": "stdout",
     "output_type": "stream",
     "text": [
      "[ 0 79  5 18 11  0 13 52 41 20]\n"
     ]
    }
   ],
   "source": [
    "for i in range(len(numbers)):\n",
    "    if numbers[i] < 0:\n",
    "        numbers[i] = 0\n",
    "print(numbers)"
   ]
  },
  {
   "cell_type": "code",
   "execution_count": 61,
   "id": "f30806ac",
   "metadata": {},
   "outputs": [
    {
     "name": "stdout",
     "output_type": "stream",
     "text": [
      "[ 0  0  0  0 80  1 19  0  0  0]\n"
     ]
    }
   ],
   "source": [
    "numbers[numbers < 0] = 0\n",
    "print(numbers)"
   ]
  },
  {
   "cell_type": "code",
   "execution_count": 62,
   "id": "9954bcdd",
   "metadata": {},
   "outputs": [
    {
     "name": "stdout",
     "output_type": "stream",
     "text": [
      "[-77   4  71 -76 -80 -14  -8  11  71 -96]\n",
      "[77  4 71 76 80 14  8 11 71 96]\n"
     ]
    }
   ],
   "source": [
    "numbers = np.random.randint(-100, 100, 10)\n",
    "print(numbers)\n",
    "numbers[numbers < 0] *= -1\n",
    "print(numbers)"
   ]
  },
  {
   "cell_type": "code",
   "execution_count": 63,
   "id": "bbbc1b82",
   "metadata": {},
   "outputs": [
    {
     "name": "stdout",
     "output_type": "stream",
     "text": [
      "['John' 'Mike' 'Paul' 'Alice' 'Bob' 'Paul' 'Charlie']\n"
     ]
    }
   ],
   "source": [
    "names = np.array(['John', 'Mike', '', 'Alice', 'Bob', '', 'Charlie'])\n",
    "# convert empty string to a default value ('Paul')\n",
    "names[names == ''] = 'Paul'\n",
    "print(names)"
   ]
  },
  {
   "cell_type": "code",
   "execution_count": 71,
   "id": "5bb50908",
   "metadata": {},
   "outputs": [
    {
     "name": "stdout",
     "output_type": "stream",
     "text": [
      "[1 1 1 1]\n",
      "[1 1 1 1 0 0 0 0]\n"
     ]
    }
   ],
   "source": [
    "a = np.ones(4, dtype=int)\n",
    "b = np.zeros(4, dtype=int)\n",
    "c = a + b\n",
    "print(c)\n",
    "c = np.concatenate([a, b])\n",
    "print(c)"
   ]
  },
  {
   "cell_type": "code",
   "execution_count": 74,
   "id": "c17dfaec",
   "metadata": {},
   "outputs": [
    {
     "name": "stdout",
     "output_type": "stream",
     "text": [
      "<class 'numpy.ndarray'> (8,)\n"
     ]
    }
   ],
   "source": [
    "print(type(c), np.shape(c))"
   ]
  },
  {
   "cell_type": "code",
   "execution_count": 79,
   "id": "5cbb5c41",
   "metadata": {},
   "outputs": [
    {
     "name": "stdout",
     "output_type": "stream",
     "text": [
      "[[1 1 1 1]\n",
      " [0 0 0 0]] (2, 4)\n",
      "[[1 1]\n",
      " [1 1]\n",
      " [0 0]\n",
      " [0 0]] (4, 2)\n"
     ]
    }
   ],
   "source": [
    "d = np.reshape(c, (2, 4))\n",
    "print(d, np.shape(d))\n",
    "e = np.reshape(c, (4, 2))\n",
    "print(e, np.shape(e))"
   ]
  },
  {
   "cell_type": "code",
   "execution_count": 81,
   "id": "ae8ffa55",
   "metadata": {},
   "outputs": [
    {
     "name": "stdout",
     "output_type": "stream",
     "text": [
      "[1 1 1 1 0 0 0 0]\n",
      "[[1]\n",
      " [1]\n",
      " [1]\n",
      " [1]\n",
      " [0]\n",
      " [0]\n",
      " [0]\n",
      " [0]]\n",
      "[[1 1 1 1 0 0 0 0]]\n"
     ]
    }
   ],
   "source": [
    "print(c)\n",
    "d = np.reshape(c, (8, 1))\n",
    "e = np.reshape(c, (1, 8))\n",
    "print(d)\n",
    "print(e)"
   ]
  },
  {
   "cell_type": "code",
   "execution_count": 84,
   "id": "16184c7b",
   "metadata": {},
   "outputs": [
    {
     "name": "stdout",
     "output_type": "stream",
     "text": [
      "1\n",
      "[1]\n",
      "1\n",
      "[1 1 1 1 0 0 0 0]\n",
      "1\n"
     ]
    }
   ],
   "source": [
    "print(c[0])\n",
    "print(d[0])\n",
    "print(d[0][0])\n",
    "print(e[0])\n",
    "print(e[0][0])"
   ]
  },
  {
   "cell_type": "code",
   "execution_count": 90,
   "id": "a7e1fcba",
   "metadata": {},
   "outputs": [
    {
     "name": "stdout",
     "output_type": "stream",
     "text": [
      "[[5 9 3]\n",
      " [2 4 4]\n",
      " [4 1 6]]\n"
     ]
    }
   ],
   "source": [
    "a = np.random.randint(1, 10, 9)\n",
    "a = np.reshape(a, (3, 3))\n",
    "print(a)"
   ]
  },
  {
   "cell_type": "code",
   "execution_count": 91,
   "id": "e3974907",
   "metadata": {},
   "outputs": [
    {
     "name": "stdout",
     "output_type": "stream",
     "text": [
      "[[8 7 1]\n",
      " [4 1 3]\n",
      " [8 4 1]]\n"
     ]
    }
   ],
   "source": [
    "b = np.random.randint(1, 10, 9)\n",
    "b = np.reshape(b, (3, 3))\n",
    "print(b)"
   ]
  },
  {
   "cell_type": "code",
   "execution_count": 92,
   "id": "34942abe",
   "metadata": {},
   "outputs": [
    {
     "name": "stdout",
     "output_type": "stream",
     "text": [
      "[[13 16  4]\n",
      " [ 6  5  7]\n",
      " [12  5  7]]\n",
      "[[-3  2  2]\n",
      " [-2  3  1]\n",
      " [-4 -3  5]]\n",
      "[[40 63  3]\n",
      " [ 8  4 12]\n",
      " [32  4  6]]\n"
     ]
    }
   ],
   "source": [
    "print(a + b)\n",
    "print(a - b)\n",
    "print(a * b)"
   ]
  },
  {
   "cell_type": "code",
   "execution_count": 93,
   "id": "36afa726",
   "metadata": {},
   "outputs": [
    {
     "name": "stdout",
     "output_type": "stream",
     "text": [
      "[[100  56  35]\n",
      " [ 64  34  18]\n",
      " [ 84  53  13]]\n"
     ]
    }
   ],
   "source": [
    "c = np.dot(a, b)\n",
    "print(c)"
   ]
  }
 ],
 "metadata": {
  "kernelspec": {
   "display_name": "Python 3",
   "language": "python",
   "name": "python3"
  },
  "language_info": {
   "codemirror_mode": {
    "name": "ipython",
    "version": 3
   },
   "file_extension": ".py",
   "mimetype": "text/x-python",
   "name": "python",
   "nbconvert_exporter": "python",
   "pygments_lexer": "ipython3",
   "version": "3.13.2"
  }
 },
 "nbformat": 4,
 "nbformat_minor": 5
}
