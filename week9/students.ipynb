{
 "cells": [
  {
   "cell_type": "code",
   "execution_count": 1,
   "id": "4c129755",
   "metadata": {},
   "outputs": [],
   "source": [
    "students = {'001': 'Do Manh Quan', '002': 'Le Thi Ngoc'}"
   ]
  },
  {
   "cell_type": "code",
   "execution_count": 3,
   "id": "bedb40d9",
   "metadata": {},
   "outputs": [
    {
     "name": "stdout",
     "output_type": "stream",
     "text": [
      "ID: 002, Name: Le Thi Ngoc\n"
     ]
    }
   ],
   "source": [
    "# Ex1: Nhập id, hiện tên student nếu thấy\n",
    "st_id = input('Enter student id: ')\n",
    "if st_id not in students:\n",
    "    print(f'No student for id {st_id}')\n",
    "else:\n",
    "    print(f'ID: {st_id}, Name: {students[st_id]}')"
   ]
  },
  {
   "cell_type": "code",
   "execution_count": null,
   "id": "753d3b2b",
   "metadata": {},
   "outputs": [
    {
     "name": "stdout",
     "output_type": "stream",
     "text": [
      "Added (003, Hoang Van Duc)\n"
     ]
    }
   ],
   "source": [
    "# Ex2: Viết hàm thêm 1 student vào từ điển\n",
    "def add_student(st_id, name):\n",
    "    if st_id in students:\n",
    "        print(f'ID {st_id} exists.')\n",
    "        return\n",
    "    # add (st_id, name) to students\n",
    "    students[st_id] = name\n",
    "    print(f'Added ({st_id}, {name})')\n",
    "\n",
    "st_id = input('Enter new student id: ')\n",
    "name = input('Enter new student name: ')\n",
    "add_student(st_id, name)"
   ]
  },
  {
   "cell_type": "code",
   "execution_count": 6,
   "id": "8e6e656b",
   "metadata": {},
   "outputs": [
    {
     "name": "stdout",
     "output_type": "stream",
     "text": [
      "{'001': 'Do Manh Quan', '002': 'Le Thi Ngoc', '003': 'Hoang Van Duc'}\n"
     ]
    }
   ],
   "source": [
    "print(students)"
   ]
  },
  {
   "cell_type": "code",
   "execution_count": 10,
   "id": "caeda2ea",
   "metadata": {},
   "outputs": [
    {
     "name": "stdout",
     "output_type": "stream",
     "text": [
      "Edited (003, Le Van Duc)\n"
     ]
    }
   ],
   "source": [
    "# Ex3: Viết hàm sửa tên student, nhập vào id và tên mới\n",
    "def edit_student(st_id, new_name):\n",
    "    if st_id not in students:\n",
    "        print(f'ID {st_id} not exists.')\n",
    "        return\n",
    "    # Edit (st_id, name) to students\n",
    "    students[st_id] = new_name\n",
    "    print(f'Edited ({st_id}, {new_name})')\n",
    "\n",
    "st_id = input('Enter student id: ')\n",
    "new_name = input('Enter new student name: ')\n",
    "edit_student(st_id, new_name)"
   ]
  },
  {
   "cell_type": "code",
   "execution_count": 11,
   "id": "e761ff33",
   "metadata": {},
   "outputs": [
    {
     "name": "stdout",
     "output_type": "stream",
     "text": [
      "{'001': 'Do Manh Quan', '002': 'Le Thi Ngoc', '003': 'Le Van Duc'}\n"
     ]
    }
   ],
   "source": [
    "print(students)"
   ]
  },
  {
   "cell_type": "code",
   "execution_count": 13,
   "id": "857c705c",
   "metadata": {},
   "outputs": [
    {
     "name": "stdout",
     "output_type": "stream",
     "text": [
      "Deleted student Le Thi Ngoc\n"
     ]
    }
   ],
   "source": [
    "def delete_student(st_id):\n",
    "    if st_id not in students:\n",
    "        print(f'ID {st_id} not exist.')\n",
    "        return\n",
    "\n",
    "    name = students.pop(st_id)\n",
    "    print(f'Deleted student {name}')\n",
    "\n",
    "st_id = input('Enter id to delete: ')\n",
    "delete_student(st_id)"
   ]
  },
  {
   "cell_type": "code",
   "execution_count": 14,
   "id": "c7fde797",
   "metadata": {},
   "outputs": [
    {
     "name": "stdout",
     "output_type": "stream",
     "text": [
      "{'001': 'Do Manh Quan', '003': 'Le Van Duc'}\n"
     ]
    }
   ],
   "source": [
    "print(students)"
   ]
  },
  {
   "cell_type": "code",
   "execution_count": null,
   "id": "fd6cf05c",
   "metadata": {},
   "outputs": [],
   "source": []
  }
 ],
 "metadata": {
  "kernelspec": {
   "display_name": "Python 3",
   "language": "python",
   "name": "python3"
  },
  "language_info": {
   "codemirror_mode": {
    "name": "ipython",
    "version": 3
   },
   "file_extension": ".py",
   "mimetype": "text/x-python",
   "name": "python",
   "nbconvert_exporter": "python",
   "pygments_lexer": "ipython3",
   "version": "3.13.2"
  }
 },
 "nbformat": 4,
 "nbformat_minor": 5
}
