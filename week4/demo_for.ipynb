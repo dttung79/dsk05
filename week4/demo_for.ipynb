{
 "cells": [
  {
   "cell_type": "code",
   "execution_count": null,
   "id": "df414089",
   "metadata": {},
   "outputs": [],
   "source": [
    "# range function\n",
    "# range(n): 0...n-1\n",
    "# range(1, n+1): 1...n\n",
    "# general range(start, end): start, start+1, ..., end-1"
   ]
  },
  {
   "cell_type": "code",
   "execution_count": 1,
   "id": "30621223",
   "metadata": {},
   "outputs": [
    {
     "name": "stdout",
     "output_type": "stream",
     "text": [
      "[0, 1, 2, 3, 4]\n",
      "[1, 2, 3, 4]\n",
      "[10, 11, 12, 13, 14, 15, 16, 17, 18, 19]\n"
     ]
    }
   ],
   "source": [
    "print(list(range(5)))\n",
    "print(list(range(1, 5)))\n",
    "print(list(range(10, 20)))"
   ]
  },
  {
   "cell_type": "code",
   "execution_count": null,
   "id": "508cd411",
   "metadata": {},
   "outputs": [
    {
     "name": "stdout",
     "output_type": "stream",
     "text": [
      "[10, 12, 14, 16, 18]\n"
     ]
    }
   ],
   "source": [
    "# range(start, end, step): start, start + step, ... before end\n",
    "print(list(range(10, 20, 2)))"
   ]
  },
  {
   "cell_type": "code",
   "execution_count": 3,
   "id": "a6fb5006",
   "metadata": {},
   "outputs": [
    {
     "name": "stdout",
     "output_type": "stream",
     "text": [
      "Hello World\n",
      "Hello World\n",
      "Hello World\n",
      "Hello World\n",
      "Hello World\n"
     ]
    }
   ],
   "source": [
    "# for is used to run a block of statements n times\n",
    "for i in range(5):\n",
    "    print('Hello World')"
   ]
  },
  {
   "cell_type": "code",
   "execution_count": 6,
   "id": "192f3788",
   "metadata": {},
   "outputs": [
    {
     "name": "stdout",
     "output_type": "stream",
     "text": [
      "1. Hello World\n",
      "2. Hello World\n",
      "3. Hello World\n",
      "4. Hello World\n",
      "5. Hello World\n"
     ]
    }
   ],
   "source": [
    "# using loop variable in for\n",
    "for i in range(1, 6):\n",
    "    print(f'{i}. Hello World')"
   ]
  },
  {
   "cell_type": "code",
   "execution_count": 10,
   "id": "fa7dede6",
   "metadata": {},
   "outputs": [
    {
     "name": "stdout",
     "output_type": "stream",
     "text": [
      "1\n",
      "2\n",
      "3\n",
      "4\n",
      "5\n"
     ]
    }
   ],
   "source": [
    "# print n numbers from 1 to n\n",
    "n = int(input('Enter n: '))\n",
    "for i in range(1, n+1):\n",
    "    print(i)"
   ]
  },
  {
   "cell_type": "code",
   "execution_count": 9,
   "id": "cf1ec8a2",
   "metadata": {},
   "outputs": [
    {
     "name": "stdout",
     "output_type": "stream",
     "text": [
      "Sum from 1 to 5: 15\n"
     ]
    }
   ],
   "source": [
    "# sum from 1 to n\n",
    "n = int(input('Enter n: '))\n",
    "s = 0\n",
    "for i in range(1, n+1):\n",
    "    s += i\n",
    "\n",
    "print(f'Sum from 1 to {n}: {s}')"
   ]
  },
  {
   "cell_type": "code",
   "execution_count": 14,
   "id": "35477a64",
   "metadata": {},
   "outputs": [
    {
     "name": "stdout",
     "output_type": "stream",
     "text": [
      "Product from 1 to 10 = 3628800\n"
     ]
    }
   ],
   "source": [
    "# calculate product from 1 to n\n",
    "n = 10\n",
    "p = 1\n",
    "for i in range(1, n+1):\n",
    "    p *= i\n",
    "print(f'Product from 1 to {n} = {p}')"
   ]
  },
  {
   "cell_type": "code",
   "execution_count": null,
   "id": "59e5692e",
   "metadata": {},
   "outputs": [
    {
     "name": "stdout",
     "output_type": "stream",
     "text": [
      "h\n",
      "e\n",
      "l\n",
      "l\n",
      "o\n",
      " \n",
      "w\n",
      "o\n",
      "r\n",
      "l\n",
      "d\n"
     ]
    }
   ],
   "source": [
    "# use for loop to loop through characters in string\n",
    "s = 'hello world'\n",
    "for c in s:\n",
    "    print(c)"
   ]
  },
  {
   "cell_type": "code",
   "execution_count": 18,
   "id": "68ff9106",
   "metadata": {},
   "outputs": [
    {
     "name": "stdout",
     "output_type": "stream",
     "text": [
      "h-e-l-l-o- -w-o-r-l-d-"
     ]
    }
   ],
   "source": [
    "for c in s:\n",
    "    print(c, end='-')"
   ]
  },
  {
   "cell_type": "code",
   "execution_count": 19,
   "id": "a940f3ab",
   "metadata": {},
   "outputs": [
    {
     "name": "stdout",
     "output_type": "stream",
     "text": [
      "John\n",
      "Mike\n",
      "Paul\n"
     ]
    }
   ],
   "source": [
    "# loop throug item in a list\n",
    "names = ['John', 'Mike', 'Paul']\n",
    "for name in names:\n",
    "    print(name)"
   ]
  }
 ],
 "metadata": {
  "kernelspec": {
   "display_name": "Python 3",
   "language": "python",
   "name": "python3"
  },
  "language_info": {
   "codemirror_mode": {
    "name": "ipython",
    "version": 3
   },
   "file_extension": ".py",
   "mimetype": "text/x-python",
   "name": "python",
   "nbconvert_exporter": "python",
   "pygments_lexer": "ipython3",
   "version": "3.13.2"
  }
 },
 "nbformat": 4,
 "nbformat_minor": 5
}
