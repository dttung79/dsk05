{
 "cells": [
  {
   "cell_type": "code",
   "execution_count": 4,
   "id": "d69dc5f5",
   "metadata": {},
   "outputs": [
    {
     "name": "stdout",
     "output_type": "stream",
     "text": [
      "1 3 5 7 9 11 13 15 17 19 \n",
      "1 3 5 7 9 11 13 15 17 19 \n",
      "1 3 5 7 9 11 13 15 17 19 "
     ]
    }
   ],
   "source": [
    "# print odd numbers from 1..20\n",
    "for i in range(1, 20, 2):\n",
    "    print(i, end=' ')\n",
    "print()\n",
    "\n",
    "for i in range(1, 20):\n",
    "    if i % 2 == 1:\n",
    "        print(i, end=' ')\n",
    "\n",
    "print()\n",
    "for i in range(10):\n",
    "    print(2 * i + 1, end=' ')"
   ]
  },
  {
   "cell_type": "code",
   "execution_count": 6,
   "id": "ac513b5e",
   "metadata": {},
   "outputs": [
    {
     "name": "stdout",
     "output_type": "stream",
     "text": [
      "There are 4 vowels\n"
     ]
    }
   ],
   "source": [
    "# counting algorithm: if condition is satisfied increase counter\n",
    "counter = 0\n",
    "s = 'hello python world'\n",
    "for c in s:\n",
    "    if c in ['a', 'e', 'i', 'o', 'u']:\n",
    "        counter += 1\n",
    "\n",
    "print(f'There are {counter} vowels')"
   ]
  },
  {
   "cell_type": "code",
   "execution_count": 10,
   "id": "28eb6f66",
   "metadata": {},
   "outputs": [
    {
     "name": "stdout",
     "output_type": "stream",
     "text": [
      "1 x 8 = 8\n",
      "2 x 8 = 16\n",
      "3 x 8 = 24\n",
      "4 x 8 = 32\n",
      "5 x 8 = 40\n",
      "6 x 8 = 48\n",
      "7 x 8 = 56\n",
      "8 x 8 = 64\n",
      "9 x 8 = 72\n",
      "10 x 8 = 80\n"
     ]
    }
   ],
   "source": [
    "# print multiplication table\n",
    "n = 8\n",
    "for i in range(1, 11):\n",
    "    print(f'{i} x {n} = {i*n}')"
   ]
  },
  {
   "cell_type": "code",
   "execution_count": 12,
   "id": "bf2a22b1",
   "metadata": {},
   "outputs": [
    {
     "name": "stdout",
     "output_type": "stream",
     "text": [
      "* \n",
      "* * \n",
      "* * * \n",
      "* * * * \n",
      "* * * * * \n"
     ]
    }
   ],
   "source": [
    "# print triangle of *\n",
    "n = 5\n",
    "for i in range(1, n+1):\n",
    "    print('* ' * i)"
   ]
  },
  {
   "cell_type": "code",
   "execution_count": 13,
   "id": "4a432593",
   "metadata": {},
   "outputs": [
    {
     "name": "stdout",
     "output_type": "stream",
     "text": [
      "5 \n",
      "5 5 \n",
      "5 5 5 \n",
      "5 5 5 5 \n",
      "5 5 5 5 5 \n"
     ]
    }
   ],
   "source": [
    "n = 5\n",
    "for i in range(1, n+1):\n",
    "    print(f'{n} ' * i)"
   ]
  },
  {
   "cell_type": "code",
   "execution_count": 14,
   "id": "666461d4",
   "metadata": {},
   "outputs": [
    {
     "name": "stdout",
     "output_type": "stream",
     "text": [
      "1 \n",
      "2 2 \n",
      "3 3 3 \n",
      "4 4 4 4 \n",
      "5 5 5 5 5 \n"
     ]
    }
   ],
   "source": [
    "n = 5\n",
    "for i in range(1, n+1):\n",
    "    print(f'{i} ' * i)"
   ]
  },
  {
   "cell_type": "code",
   "execution_count": null,
   "id": "e364dc75",
   "metadata": {},
   "outputs": [],
   "source": [
    "# check password method 1\n",
    "correct_password = 'python'\n",
    "user_password = ''\n",
    "\n",
    "while user_password != correct_password:\n",
    "    user_password = input('Enter your password: ')\n",
    "    if user_password != correct_password:\n",
    "        print('Incorrect password')\n",
    "\n",
    "print('Correct password. Logged in!')"
   ]
  },
  {
   "cell_type": "code",
   "execution_count": null,
   "id": "4eb76202",
   "metadata": {},
   "outputs": [],
   "source": [
    "# check password method 2\n",
    "correct_password = 'python'\n",
    "while True:\n",
    "    user_password = input('Enter your password: ')\n",
    "    if user_password != correct_password:\n",
    "        print('Incorrect password')\n",
    "    else:\n",
    "        break\n",
    "\n",
    "print('Correct password. Logged in!')"
   ]
  },
  {
   "cell_type": "code",
   "execution_count": null,
   "id": "e39ef2c1",
   "metadata": {},
   "outputs": [],
   "source": [
    "# check password method 3\n",
    "correct_password = 'python'\n",
    "incorrect = True\n",
    "while incorrect:\n",
    "    user_password = input('Enter your password: ')\n",
    "    if user_password != correct_password:\n",
    "        print('Incorrect password')\n",
    "\n",
    "    incorrect = user_password != correct_password"
   ]
  }
 ],
 "metadata": {
  "kernelspec": {
   "display_name": "Python 3",
   "language": "python",
   "name": "python3"
  },
  "language_info": {
   "codemirror_mode": {
    "name": "ipython",
    "version": 3
   },
   "file_extension": ".py",
   "mimetype": "text/x-python",
   "name": "python",
   "nbconvert_exporter": "python",
   "pygments_lexer": "ipython3",
   "version": "3.13.2"
  }
 },
 "nbformat": 4,
 "nbformat_minor": 5
}
