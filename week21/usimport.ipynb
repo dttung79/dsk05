{
 "cells": [
  {
   "cell_type": "code",
   "execution_count": 21,
   "id": "32a0cb3b",
   "metadata": {},
   "outputs": [],
   "source": [
    "import pandas as pd\n",
    "import matplotlib.pyplot as plt\n",
    "import seaborn as sns"
   ]
  },
  {
   "cell_type": "code",
   "execution_count": 8,
   "id": "70c489b5",
   "metadata": {},
   "outputs": [
    {
     "data": {
      "text/html": [
       "<div>\n",
       "<style scoped>\n",
       "    .dataframe tbody tr th:only-of-type {\n",
       "        vertical-align: middle;\n",
       "    }\n",
       "\n",
       "    .dataframe tbody tr th {\n",
       "        vertical-align: top;\n",
       "    }\n",
       "\n",
       "    .dataframe thead th {\n",
       "        text-align: right;\n",
       "    }\n",
       "</style>\n",
       "<table border=\"1\" class=\"dataframe\">\n",
       "  <thead>\n",
       "    <tr style=\"text-align: right;\">\n",
       "      <th></th>\n",
       "      <th>Date</th>\n",
       "      <th>Import Country (Source)</th>\n",
       "      <th>Exporter</th>\n",
       "      <th>Importer</th>\n",
       "      <th>HS Code</th>\n",
       "      <th>Country of Origin</th>\n",
       "      <th>Country of Destination</th>\n",
       "      <th>Quantity</th>\n",
       "      <th>Qty Unit</th>\n",
       "      <th>Weight</th>\n",
       "      <th>Wgt Unit</th>\n",
       "      <th>Value (US$)</th>\n",
       "      <th>Transport Mode</th>\n",
       "      <th>Products</th>\n",
       "    </tr>\n",
       "  </thead>\n",
       "  <tbody>\n",
       "    <tr>\n",
       "      <th>0</th>\n",
       "      <td>2025-02-28 00:00:00</td>\n",
       "      <td>USA</td>\n",
       "      <td>SUMEC MACHINERY ELECTRIC CO LTD</td>\n",
       "      <td>FIRMAN POWER EQUIPMENT INCORPORATED</td>\n",
       "      <td>851390</td>\n",
       "      <td>CHINA</td>\n",
       "      <td>UNITED STATES</td>\n",
       "      <td>192</td>\n",
       "      <td>PKG</td>\n",
       "      <td>19680</td>\n",
       "      <td>KG</td>\n",
       "      <td>515637,13</td>\n",
       "      <td>MARITIME</td>\n",
       "      <td>GENERATOR</td>\n",
       "    </tr>\n",
       "    <tr>\n",
       "      <th>1</th>\n",
       "      <td>2025-02-28 00:00:00</td>\n",
       "      <td>USA</td>\n",
       "      <td>GUANGZHOU HUIKANG ELECTRONIC TECHNO LOGY CO LTD</td>\n",
       "      <td>CHAI VISION IMPORT LLC</td>\n",
       "      <td>851390</td>\n",
       "      <td>CHINA</td>\n",
       "      <td>UNITED STATES</td>\n",
       "      <td>215</td>\n",
       "      <td>CTN</td>\n",
       "      <td>2506</td>\n",
       "      <td>KG</td>\n",
       "      <td>65659,89</td>\n",
       "      <td>MARITIME</td>\n",
       "      <td>SAUNA</td>\n",
       "    </tr>\n",
       "    <tr>\n",
       "      <th>2</th>\n",
       "      <td>2025-02-27 00:00:00</td>\n",
       "      <td>USA</td>\n",
       "      <td>XUZHOU HEALTHLAND SAUNA EQUIPMENT C WEST OF XUPEI</td>\n",
       "      <td>CHAI VISION IMPORT NJ INC</td>\n",
       "      <td>851390</td>\n",
       "      <td>CHINA</td>\n",
       "      <td>UNITED STATES</td>\n",
       "      <td>57</td>\n",
       "      <td>CTN</td>\n",
       "      <td>3724</td>\n",
       "      <td>KG</td>\n",
       "      <td>97572,8</td>\n",
       "      <td>MARITIME</td>\n",
       "      <td>SAUNA</td>\n",
       "    </tr>\n",
       "    <tr>\n",
       "      <th>3</th>\n",
       "      <td>2025-02-26 00:00:00</td>\n",
       "      <td>USA</td>\n",
       "      <td>ZHEJIANG CAFTP SERVICE CO LTD</td>\n",
       "      <td>AYESPRO LLC</td>\n",
       "      <td>851390</td>\n",
       "      <td>CHINA</td>\n",
       "      <td>UNITED STATES</td>\n",
       "      <td>1049</td>\n",
       "      <td>CTN</td>\n",
       "      <td>9110</td>\n",
       "      <td>KG</td>\n",
       "      <td>238691,78</td>\n",
       "      <td>MARITIME</td>\n",
       "      <td>LIGHTS</td>\n",
       "    </tr>\n",
       "    <tr>\n",
       "      <th>4</th>\n",
       "      <td>2025-02-26 00:00:00</td>\n",
       "      <td>USA</td>\n",
       "      <td>ZHEJIANG TIANZHIXIN SPORTS EQUIPMEN T CO LTD</td>\n",
       "      <td>CHAI VISION IMPORT LLC</td>\n",
       "      <td>851390</td>\n",
       "      <td>CHINA</td>\n",
       "      <td>UNITED STATES</td>\n",
       "      <td>400</td>\n",
       "      <td>CTN</td>\n",
       "      <td>3200</td>\n",
       "      <td>KG</td>\n",
       "      <td>83843,44</td>\n",
       "      <td>MARITIME</td>\n",
       "      <td>SAUNA</td>\n",
       "    </tr>\n",
       "  </tbody>\n",
       "</table>\n",
       "</div>"
      ],
      "text/plain": [
       "                  Date Import Country (Source)  \\\n",
       "0  2025-02-28 00:00:00                     USA   \n",
       "1  2025-02-28 00:00:00                     USA   \n",
       "2  2025-02-27 00:00:00                     USA   \n",
       "3  2025-02-26 00:00:00                     USA   \n",
       "4  2025-02-26 00:00:00                     USA   \n",
       "\n",
       "                                            Exporter  \\\n",
       "0                    SUMEC MACHINERY ELECTRIC CO LTD   \n",
       "1    GUANGZHOU HUIKANG ELECTRONIC TECHNO LOGY CO LTD   \n",
       "2  XUZHOU HEALTHLAND SAUNA EQUIPMENT C WEST OF XUPEI   \n",
       "3                      ZHEJIANG CAFTP SERVICE CO LTD   \n",
       "4       ZHEJIANG TIANZHIXIN SPORTS EQUIPMEN T CO LTD   \n",
       "\n",
       "                              Importer  HS Code Country of Origin  \\\n",
       "0  FIRMAN POWER EQUIPMENT INCORPORATED   851390             CHINA   \n",
       "1               CHAI VISION IMPORT LLC   851390             CHINA   \n",
       "2            CHAI VISION IMPORT NJ INC   851390             CHINA   \n",
       "3                          AYESPRO LLC   851390             CHINA   \n",
       "4               CHAI VISION IMPORT LLC   851390             CHINA   \n",
       "\n",
       "  Country of Destination Quantity Qty Unit Weight Wgt Unit Value (US$)  \\\n",
       "0          UNITED STATES      192      PKG  19680       KG   515637,13   \n",
       "1          UNITED STATES      215      CTN   2506       KG    65659,89   \n",
       "2          UNITED STATES       57      CTN   3724       KG     97572,8   \n",
       "3          UNITED STATES     1049      CTN   9110       KG   238691,78   \n",
       "4          UNITED STATES      400      CTN   3200       KG    83843,44   \n",
       "\n",
       "  Transport Mode   Products  \n",
       "0       MARITIME  GENERATOR  \n",
       "1       MARITIME      SAUNA  \n",
       "2       MARITIME      SAUNA  \n",
       "3       MARITIME     LIGHTS  \n",
       "4       MARITIME      SAUNA  "
      ]
     },
     "execution_count": 8,
     "metadata": {},
     "output_type": "execute_result"
    }
   ],
   "source": [
    "df = pd.read_csv('USImport.csv', delimiter=';')\n",
    "df.head()"
   ]
  },
  {
   "cell_type": "code",
   "execution_count": 9,
   "id": "a8ab9bd5",
   "metadata": {},
   "outputs": [
    {
     "name": "stdout",
     "output_type": "stream",
     "text": [
      "<class 'pandas.core.frame.DataFrame'>\n",
      "RangeIndex: 6185 entries, 0 to 6184\n",
      "Data columns (total 14 columns):\n",
      " #   Column                   Non-Null Count  Dtype \n",
      "---  ------                   --------------  ----- \n",
      " 0   Date                     6185 non-null   object\n",
      " 1   Import Country (Source)  6185 non-null   object\n",
      " 2   Exporter                 3658 non-null   object\n",
      " 3   Importer                 6185 non-null   object\n",
      " 4   HS Code                  6185 non-null   int64 \n",
      " 5   Country of Origin        6185 non-null   object\n",
      " 6   Country of Destination   6185 non-null   object\n",
      " 7   Quantity                 6185 non-null   object\n",
      " 8   Qty Unit                 6185 non-null   object\n",
      " 9   Weight                   6185 non-null   object\n",
      " 10  Wgt Unit                 6185 non-null   object\n",
      " 11  Value (US$)              6185 non-null   object\n",
      " 12  Transport Mode           6185 non-null   object\n",
      " 13  Products                 6185 non-null   object\n",
      "dtypes: int64(1), object(13)\n",
      "memory usage: 676.6+ KB\n"
     ]
    }
   ],
   "source": [
    "df.info()"
   ]
  },
  {
   "cell_type": "code",
   "execution_count": 10,
   "id": "f1a046e9",
   "metadata": {},
   "outputs": [
    {
     "name": "stdout",
     "output_type": "stream",
     "text": [
      "0     192.0\n",
      "1     215.0\n",
      "2      57.0\n",
      "3    1049.0\n",
      "4     400.0\n",
      "Name: Quantity, dtype: float64\n"
     ]
    }
   ],
   "source": [
    "# chuẩn hóa dữ liệu dạng số (Quantity, Weight, Value (US$))\n",
    "df['Quantity'] = df['Quantity'].str.replace(',', '.').astype(float)\n",
    "print(df['Quantity'].head())"
   ]
  },
  {
   "cell_type": "code",
   "execution_count": null,
   "id": "b1d1d138",
   "metadata": {},
   "outputs": [],
   "source": [
    "df['Weight'] = df['Weight'].str.replace(',', '.').astype(float)\n",
    "df['Value (US$)'] = df['Value (US$)'].str.replace(',', '.').astype(float)"
   ]
  },
  {
   "cell_type": "code",
   "execution_count": 13,
   "id": "20f5a907",
   "metadata": {},
   "outputs": [
    {
     "name": "stdout",
     "output_type": "stream",
     "text": [
      "<class 'pandas.core.frame.DataFrame'>\n",
      "RangeIndex: 6185 entries, 0 to 6184\n",
      "Data columns (total 14 columns):\n",
      " #   Column                   Non-Null Count  Dtype  \n",
      "---  ------                   --------------  -----  \n",
      " 0   Date                     6185 non-null   object \n",
      " 1   Import Country (Source)  6185 non-null   object \n",
      " 2   Exporter                 3658 non-null   object \n",
      " 3   Importer                 6185 non-null   object \n",
      " 4   HS Code                  6185 non-null   int64  \n",
      " 5   Country of Origin        6185 non-null   object \n",
      " 6   Country of Destination   6185 non-null   object \n",
      " 7   Quantity                 6185 non-null   float64\n",
      " 8   Qty Unit                 6185 non-null   object \n",
      " 9   Weight                   6185 non-null   float64\n",
      " 10  Wgt Unit                 6185 non-null   object \n",
      " 11  Value (US$)              6185 non-null   float64\n",
      " 12  Transport Mode           6185 non-null   object \n",
      " 13  Products                 6185 non-null   object \n",
      "dtypes: float64(3), int64(1), object(10)\n",
      "memory usage: 676.6+ KB\n"
     ]
    }
   ],
   "source": [
    "df.info()"
   ]
  },
  {
   "cell_type": "code",
   "execution_count": 14,
   "id": "b20286fa",
   "metadata": {},
   "outputs": [
    {
     "data": {
      "text/html": [
       "<div>\n",
       "<style scoped>\n",
       "    .dataframe tbody tr th:only-of-type {\n",
       "        vertical-align: middle;\n",
       "    }\n",
       "\n",
       "    .dataframe tbody tr th {\n",
       "        vertical-align: top;\n",
       "    }\n",
       "\n",
       "    .dataframe thead th {\n",
       "        text-align: right;\n",
       "    }\n",
       "</style>\n",
       "<table border=\"1\" class=\"dataframe\">\n",
       "  <thead>\n",
       "    <tr style=\"text-align: right;\">\n",
       "      <th></th>\n",
       "      <th>HS Code</th>\n",
       "      <th>Quantity</th>\n",
       "      <th>Weight</th>\n",
       "      <th>Value (US$)</th>\n",
       "    </tr>\n",
       "  </thead>\n",
       "  <tbody>\n",
       "    <tr>\n",
       "      <th>count</th>\n",
       "      <td>6.185000e+03</td>\n",
       "      <td>6185.000000</td>\n",
       "      <td>6185.000000</td>\n",
       "      <td>6.185000e+03</td>\n",
       "    </tr>\n",
       "    <tr>\n",
       "      <th>mean</th>\n",
       "      <td>1.385053e+08</td>\n",
       "      <td>635.528912</td>\n",
       "      <td>14102.567683</td>\n",
       "      <td>1.755716e+05</td>\n",
       "    </tr>\n",
       "    <tr>\n",
       "      <th>std</th>\n",
       "      <td>1.082576e+10</td>\n",
       "      <td>1204.656437</td>\n",
       "      <td>26173.165892</td>\n",
       "      <td>4.960320e+05</td>\n",
       "    </tr>\n",
       "    <tr>\n",
       "      <th>min</th>\n",
       "      <td>8.513900e+05</td>\n",
       "      <td>1.000000</td>\n",
       "      <td>1.000000</td>\n",
       "      <td>0.000000e+00</td>\n",
       "    </tr>\n",
       "    <tr>\n",
       "      <th>25%</th>\n",
       "      <td>8.513900e+05</td>\n",
       "      <td>16.000000</td>\n",
       "      <td>2771.000000</td>\n",
       "      <td>0.000000e+00</td>\n",
       "    </tr>\n",
       "    <tr>\n",
       "      <th>50%</th>\n",
       "      <td>8.513900e+05</td>\n",
       "      <td>44.000000</td>\n",
       "      <td>8000.000000</td>\n",
       "      <td>0.000000e+00</td>\n",
       "    </tr>\n",
       "    <tr>\n",
       "      <th>75%</th>\n",
       "      <td>8.513900e+05</td>\n",
       "      <td>759.000000</td>\n",
       "      <td>10824.000000</td>\n",
       "      <td>1.082104e+05</td>\n",
       "    </tr>\n",
       "    <tr>\n",
       "      <th>max</th>\n",
       "      <td>8.513900e+11</td>\n",
       "      <td>9296.000000</td>\n",
       "      <td>255559.000000</td>\n",
       "      <td>4.450822e+06</td>\n",
       "    </tr>\n",
       "  </tbody>\n",
       "</table>\n",
       "</div>"
      ],
      "text/plain": [
       "            HS Code     Quantity         Weight   Value (US$)\n",
       "count  6.185000e+03  6185.000000    6185.000000  6.185000e+03\n",
       "mean   1.385053e+08   635.528912   14102.567683  1.755716e+05\n",
       "std    1.082576e+10  1204.656437   26173.165892  4.960320e+05\n",
       "min    8.513900e+05     1.000000       1.000000  0.000000e+00\n",
       "25%    8.513900e+05    16.000000    2771.000000  0.000000e+00\n",
       "50%    8.513900e+05    44.000000    8000.000000  0.000000e+00\n",
       "75%    8.513900e+05   759.000000   10824.000000  1.082104e+05\n",
       "max    8.513900e+11  9296.000000  255559.000000  4.450822e+06"
      ]
     },
     "execution_count": 14,
     "metadata": {},
     "output_type": "execute_result"
    }
   ],
   "source": [
    "df.describe()"
   ]
  },
  {
   "cell_type": "code",
   "execution_count": 16,
   "id": "a0fe94cb",
   "metadata": {},
   "outputs": [
    {
     "name": "stdout",
     "output_type": "stream",
     "text": [
      "635.5289118835893\n",
      "44.0\n"
     ]
    }
   ],
   "source": [
    "print(df['Quantity'].mean())\n",
    "print(df['Quantity'].median())"
   ]
  },
  {
   "cell_type": "code",
   "execution_count": 17,
   "id": "34402e7a",
   "metadata": {},
   "outputs": [
    {
     "name": "stdout",
     "output_type": "stream",
     "text": [
      "14102.567683104284\n",
      "8000.0\n"
     ]
    }
   ],
   "source": [
    "print(df['Weight'].mean())\n",
    "print(df['Weight'].median())"
   ]
  },
  {
   "cell_type": "code",
   "execution_count": 18,
   "id": "e973f7fe",
   "metadata": {},
   "outputs": [
    {
     "name": "stdout",
     "output_type": "stream",
     "text": [
      "175571.63005681484\n",
      "0.0\n"
     ]
    }
   ],
   "source": [
    "print(df['Value (US$)'].mean())\n",
    "print(df['Value (US$)'].median())"
   ]
  },
  {
   "cell_type": "code",
   "execution_count": 26,
   "id": "ecc66bb0",
   "metadata": {},
   "outputs": [
    {
     "data": {
      "image/png": "[encoded data removed]",
      "text/plain": [
       "<Figure size 1000x600 with 1 Axes>"
      ]
     },
     "metadata": {},
     "output_type": "display_data"
    }
   ],
   "source": [
    "plt.figure(figsize=(10, 6))\n",
    "sns.histplot(df['Value (US$)'], bins=30, kde=True)\n",
    "plt.xlabel('Value (US$)')\n",
    "plt.ylabel('Frequency')\n",
    "plt.title('Distribution of Value')\n",
    "plt.show()"
   ]
  },
  {
   "cell_type": "code",
   "execution_count": 19,
   "id": "0b44314c",
   "metadata": {},
   "outputs": [
    {
     "name": "stdout",
     "output_type": "stream",
     "text": [
      "Difference between mean and median of Quantity: 93.08%\n"
     ]
    }
   ],
   "source": [
    "mean_quantity = df['Quantity'].mean()\n",
    "median_quantity = df['Quantity'].median()\n",
    "diff_percent = (mean_quantity - median_quantity) / mean_quantity * 100\n",
    "print(f\"Difference between mean and median of Quantity: {diff_percent:.2f}%\")"
   ]
  },
  {
   "cell_type": "code",
   "execution_count": 28,
   "id": "c630bc7c",
   "metadata": {},
   "outputs": [
    {
     "name": "stdout",
     "output_type": "stream",
     "text": [
      "26173.165892348046\n",
      "1204.656437223324\n",
      "496032.01052449265\n"
     ]
    }
   ],
   "source": [
    "print(df['Weight'].std())\n",
    "print(df['Quantity'].std())\n",
    "print(df['Value (US$)'].std())"
   ]
  },
  {
   "cell_type": "code",
   "execution_count": 32,
   "id": "860f7846",
   "metadata": {},
   "outputs": [
    {
     "name": "stdout",
     "output_type": "stream",
     "text": [
      "Quantiles of Quantity:\n",
      "  0.0%: 1.0\n",
      " 10.0%: 3.0\n",
      " 20.0%: 10.0\n",
      " 25.0%: 16.0\n",
      " 30.0%: 23.0\n",
      " 40.0%: 40.0\n",
      " 50.0%: 44.0\n",
      " 60.0%: 44.0\n",
      " 70.0%: 426.59999999999854\n",
      " 75.0%: 759.0\n",
      " 80.0%: 975.8000000000029\n",
      " 90.0%: 2230.80000000001\n",
      "100.0%: 9296.0\n"
     ]
    }
   ],
   "source": [
    "import numpy as np\n",
    "quantiles_ranges = [0, 0.1, 0.2, 0.25, 0.3, 0.4, 0.5, 0.6, 0.7, 0.75, 0.8, 0.9, 1]\n",
    "quantiles = df['Quantity'].quantile(quantiles_ranges)\n",
    "print(\"Quantiles of Quantity:\")\n",
    "for q in quantiles_ranges:\n",
    "    print(f\"{q*100:5.1f}%: {quantiles[q]}\")"
   ]
  },
  {
   "cell_type": "code",
   "execution_count": 33,
   "id": "18f6b39b",
   "metadata": {},
   "outputs": [
    {
     "name": "stdout",
     "output_type": "stream",
     "text": [
      "Interquartile Range (IQR) of Value (US$): 108210.43\n"
     ]
    }
   ],
   "source": [
    "q1 = df['Value (US$)'].quantile(0.25)\n",
    "q3 = df['Value (US$)'].quantile(0.75)\n",
    "iqr = q3 - q1\n",
    "print(f\"Interquartile Range (IQR) of Value (US$): {iqr}\")"
   ]
  },
  {
   "cell_type": "code",
   "execution_count": null,
   "id": "dd59ec5c",
   "metadata": {},
   "outputs": [
    {
     "name": "stdout",
     "output_type": "stream",
     "text": [
      "Z-score of 5049000 in Value (US$): 9.82\n"
     ]
    }
   ],
   "source": [
    "X = 5049000\n",
    "mean_value = df['Value (US$)'].mean()\n",
    "std_value = df['Value (US$)'].std()\n",
    "z_score_x = (X - mean_value) / std_value\n",
    "print(f\"Z-score of {X} in Value (US$): {z_score_x:.2f}\")"
   ]
  },
  {
   "cell_type": "code",
   "execution_count": 43,
   "id": "f8a64032",
   "metadata": {},
   "outputs": [
    {
     "name": "stdout",
     "output_type": "stream",
     "text": [
      "Most common transport mode: MARITIME\n",
      "Most common product: COMPUTER\n"
     ]
    }
   ],
   "source": [
    "mode_transport = df['Transport Mode'].mode()\n",
    "print(f\"Most common transport mode: {mode_transport[0]}\")\n",
    "\n",
    "mode_product = df['Products'].mode()\n",
    "print(f\"Most common product: {mode_product[0]}\")"
   ]
  }
 ],
 "metadata": {
  "kernelspec": {
   "display_name": "Python 3",
   "language": "python",
   "name": "python3"
  },
  "language_info": {
   "codemirror_mode": {
    "name": "ipython",
    "version": 3
   },
   "file_extension": ".py",
   "mimetype": "text/x-python",
   "name": "python",
   "nbconvert_exporter": "python",
   "pygments_lexer": "ipython3",
   "version": "3.13.2"
  }
 },
 "nbformat": 4,
 "nbformat_minor": 5
}
