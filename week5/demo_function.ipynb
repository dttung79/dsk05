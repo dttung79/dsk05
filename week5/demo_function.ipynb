{
 "cells": [
  {
   "cell_type": "code",
   "execution_count": 1,
   "id": "0b1501a8",
   "metadata": {},
   "outputs": [],
   "source": [
    "# define a function\n",
    "def tinh_tong(a, b):\n",
    "    c = a + b\n",
    "    return c"
   ]
  },
  {
   "cell_type": "code",
   "execution_count": 4,
   "id": "705963c9",
   "metadata": {},
   "outputs": [
    {
     "name": "stdout",
     "output_type": "stream",
     "text": [
      "9\n",
      "9\n"
     ]
    }
   ],
   "source": [
    "# use a function\n",
    "print(tinh_tong(4, 5))\n",
    "c = tinh_tong(4, 5)\n",
    "print(c)"
   ]
  },
  {
   "cell_type": "code",
   "execution_count": null,
   "id": "65581018",
   "metadata": {},
   "outputs": [
    {
     "name": "stdout",
     "output_type": "stream",
     "text": [
      "Hello World\n"
     ]
    },
    {
     "ename": "TypeError",
     "evalue": "hello_01() takes 0 positional arguments but 1 was given",
     "output_type": "error",
     "traceback": [
      "\u001b[0;31m---------------------------------------------------------------------------\u001b[0m",
      "\u001b[0;31mTypeError\u001b[0m                                 Traceback (most recent call last)",
      "Cell \u001b[0;32mIn[8], line 6\u001b[0m\n\u001b[1;32m      3\u001b[0m     \u001b[38;5;28mprint\u001b[39m(\u001b[38;5;124m'\u001b[39m\u001b[38;5;124mHello World\u001b[39m\u001b[38;5;124m'\u001b[39m)\n\u001b[1;32m      5\u001b[0m hello_01()\n\u001b[0;32m----> 6\u001b[0m \u001b[43mhello_01\u001b[49m\u001b[43m(\u001b[49m\u001b[38;5;124;43m'\u001b[39;49m\u001b[38;5;124;43mJohn\u001b[39;49m\u001b[38;5;124;43m'\u001b[39;49m\u001b[43m)\u001b[49m \u001b[38;5;66;03m# error\u001b[39;00m\n",
      "\u001b[0;31mTypeError\u001b[0m: hello_01() takes 0 positional arguments but 1 was given"
     ]
    }
   ],
   "source": [
    "# function without parameter, no return\n",
    "def hello_01():\n",
    "    print('Hello World')\n",
    "\n",
    "hello_01()\n",
    "hello_01('John') # error"
   ]
  },
  {
   "cell_type": "code",
   "execution_count": null,
   "id": "99a3d6ce",
   "metadata": {},
   "outputs": [
    {
     "name": "stdout",
     "output_type": "stream",
     "text": [
      "Hello John\n"
     ]
    },
    {
     "ename": "TypeError",
     "evalue": "hello_02() missing 1 required positional argument: 'name'",
     "output_type": "error",
     "traceback": [
      "\u001b[0;31m---------------------------------------------------------------------------\u001b[0m",
      "\u001b[0;31mTypeError\u001b[0m                                 Traceback (most recent call last)",
      "Cell \u001b[0;32mIn[7], line 6\u001b[0m\n\u001b[1;32m      3\u001b[0m     \u001b[38;5;28mprint\u001b[39m(\u001b[38;5;124mf\u001b[39m\u001b[38;5;124m'\u001b[39m\u001b[38;5;124mHello \u001b[39m\u001b[38;5;132;01m{\u001b[39;00mname\u001b[38;5;132;01m}\u001b[39;00m\u001b[38;5;124m'\u001b[39m)\n\u001b[1;32m      5\u001b[0m hello_02(\u001b[38;5;124m'\u001b[39m\u001b[38;5;124mJohn\u001b[39m\u001b[38;5;124m'\u001b[39m)\n\u001b[0;32m----> 6\u001b[0m \u001b[43mhello_02\u001b[49m\u001b[43m(\u001b[49m\u001b[43m)\u001b[49m \u001b[38;5;66;03m# error\u001b[39;00m\n",
      "\u001b[0;31mTypeError\u001b[0m: hello_02() missing 1 required positional argument: 'name'"
     ]
    }
   ],
   "source": [
    "# function with 1 parameter, no return\n",
    "def hello_02(name):\n",
    "    print(f'Hello {name}')\n",
    "\n",
    "hello_02('John')\n",
    "hello_02() # error"
   ]
  },
  {
   "cell_type": "code",
   "execution_count": null,
   "id": "3eeb4d56",
   "metadata": {},
   "outputs": [
    {
     "name": "stdout",
     "output_type": "stream",
     "text": [
      "a = 10, b = 4\n",
      "a = 4, b = 10\n"
     ]
    }
   ],
   "source": [
    "# demo scope of variables (local, global)\n",
    "def swap(a, b):\n",
    "    # a, b are local variable\n",
    "    c = a # c is a local variable\n",
    "    a = b\n",
    "    b = c\n",
    "    print(f'a = {a}, b = {b}')  \n",
    "\n",
    "a = 4\n",
    "b = 10\n",
    "swap(a, b) # a, b are swapped but locally\n",
    "print(f'a = {a}, b = {b}') # a, b in global are not changed"
   ]
  },
  {
   "cell_type": "code",
   "execution_count": null,
   "id": "09cdd5d8",
   "metadata": {},
   "outputs": [
    {
     "name": "stdout",
     "output_type": "stream",
     "text": [
      "a = 10, b = 4\n",
      "a = 10, b = 4\n"
     ]
    }
   ],
   "source": [
    "# function has 2 parameters, return 2 values\n",
    "def swap(a, b):\n",
    "    c = a\n",
    "    a = b\n",
    "    b = c\n",
    "    print(f'a = {a}, b = {b}')\n",
    "    return a, b\n",
    "\n",
    "a = 4\n",
    "b = 10\n",
    "a, b = swap(a, b)\n",
    "print(f'a = {a}, b = {b}')"
   ]
  },
  {
   "cell_type": "code",
   "execution_count": null,
   "id": "76a6dc0a",
   "metadata": {},
   "outputs": [
    {
     "name": "stdout",
     "output_type": "stream",
     "text": [
      "10\n"
     ]
    }
   ],
   "source": [
    "# global variable can be accessed inside function\n",
    "x = 10\n",
    "def my_func():\n",
    "    print(x)\n",
    "\n",
    "my_func()"
   ]
  },
  {
   "cell_type": "code",
   "execution_count": null,
   "id": "029c0b4e",
   "metadata": {},
   "outputs": [
    {
     "name": "stdout",
     "output_type": "stream",
     "text": [
      "20\n"
     ]
    }
   ],
   "source": [
    "x = 10\n",
    "def my_func_02(x):\n",
    "    print(x) # if global variable has same name as local => prefer local variable\n",
    "\n",
    "my_func_02(20)"
   ]
  },
  {
   "cell_type": "code",
   "execution_count": 16,
   "id": "bac09e21",
   "metadata": {},
   "outputs": [
    {
     "name": "stdout",
     "output_type": "stream",
     "text": [
      "20\n",
      "20\n"
     ]
    }
   ],
   "source": [
    "x = 10\n",
    "def my_func_03():\n",
    "    global x    # declare a global x\n",
    "    x = 20\n",
    "    print(x)\n",
    "\n",
    "my_func_03()\n",
    "print(x)"
   ]
  },
  {
   "cell_type": "code",
   "execution_count": 20,
   "id": "7afde448",
   "metadata": {},
   "outputs": [
    {
     "name": "stdout",
     "output_type": "stream",
     "text": [
      "Area of a circle radius 1.0 = 3.14\n"
     ]
    }
   ],
   "source": [
    "### PRACTICES ###   \n",
    "# function calculate area of a circle\n",
    "PI = 3.14\n",
    "def circle_area(r):\n",
    "    a = PI * r ** 2\n",
    "    return a\n",
    "\n",
    "r = 1.0\n",
    "a = circle_area(r)\n",
    "print(f'Area of a circle radius {r} = {a}')\n"
   ]
  },
  {
   "cell_type": "code",
   "execution_count": 21,
   "id": "892ef620",
   "metadata": {},
   "outputs": [
    {
     "name": "stdout",
     "output_type": "stream",
     "text": [
      "10 is even\n",
      "21 is odd\n"
     ]
    }
   ],
   "source": [
    "def check_even(n):\n",
    "    if n % 2 == 0:\n",
    "        print(f'{n} is even')\n",
    "    else:\n",
    "        print(f'{n} is odd')\n",
    "\n",
    "check_even(10)\n",
    "check_even(21)"
   ]
  },
  {
   "cell_type": "code",
   "execution_count": 22,
   "id": "8d84a584",
   "metadata": {},
   "outputs": [
    {
     "name": "stdout",
     "output_type": "stream",
     "text": [
      "10 is even\n"
     ]
    }
   ],
   "source": [
    "def is_even(n):\n",
    "    return n % 2 == 0\n",
    "\n",
    "n = 10\n",
    "if is_even(n):\n",
    "    print(f'{n} is even')\n",
    "else:\n",
    "    print(f'{n} is odd')"
   ]
  },
  {
   "cell_type": "code",
   "execution_count": 27,
   "id": "f4caa886",
   "metadata": {},
   "outputs": [
    {
     "name": "stdout",
     "output_type": "stream",
     "text": [
      "False\n",
      "True\n"
     ]
    }
   ],
   "source": [
    "# a function that check if a number n is a prime number\n",
    "def is_prime(n):\n",
    "    if n < 1:\n",
    "        return False\n",
    "    if n == 1 or n == 2:\n",
    "        return True\n",
    "    \n",
    "    for i in range(2, int(n ** 0.5 + 1)):\n",
    "        if n % i == 0:\n",
    "            return False\n",
    "        \n",
    "    return True\n",
    "\n",
    "print(is_prime(10))\n",
    "print(is_prime(89))"
   ]
  },
  {
   "cell_type": "code",
   "execution_count": 49,
   "id": "dad6d5b3",
   "metadata": {},
   "outputs": [
    {
     "name": "stdout",
     "output_type": "stream",
     "text": [
      "1 2 3 5 7 \n",
      "1 2 3 5 7 11 13 17 19 "
     ]
    }
   ],
   "source": [
    "def print_primes(n):\n",
    "    for i in range(n):\n",
    "        if is_prime(i):\n",
    "            print(i, end=' ')\n",
    "\n",
    "print_primes(10)\n",
    "print()\n",
    "print_primes(20)"
   ]
  },
  {
   "cell_type": "code",
   "execution_count": 28,
   "id": "793bb582",
   "metadata": {},
   "outputs": [
    {
     "name": "stdout",
     "output_type": "stream",
     "text": [
      "Sum of prime numbers less than 100 is 1061\n"
     ]
    }
   ],
   "source": [
    "s = 0\n",
    "for n in range(100):\n",
    "    if is_prime(n):\n",
    "        s += n\n",
    "\n",
    "print(f'Sum of prime numbers less than 100 is {s}')"
   ]
  },
  {
   "cell_type": "code",
   "execution_count": 29,
   "id": "ab41390c",
   "metadata": {},
   "outputs": [],
   "source": [
    "def print_mult_table(n):\n",
    "    print(f'Multiplication of {n}')\n",
    "    for i in range(1, 11):\n",
    "        print(f'{i} x {n} = {i*n}')"
   ]
  },
  {
   "cell_type": "code",
   "execution_count": 30,
   "id": "dd86efbb",
   "metadata": {},
   "outputs": [
    {
     "name": "stdout",
     "output_type": "stream",
     "text": [
      "Multiplication of 5\n",
      "1 x 5 = 5\n",
      "2 x 5 = 10\n",
      "3 x 5 = 15\n",
      "4 x 5 = 20\n",
      "5 x 5 = 25\n",
      "6 x 5 = 30\n",
      "7 x 5 = 35\n",
      "8 x 5 = 40\n",
      "9 x 5 = 45\n",
      "10 x 5 = 50\n"
     ]
    }
   ],
   "source": [
    "print_mult_table(5)"
   ]
  },
  {
   "cell_type": "code",
   "execution_count": 31,
   "id": "cf49dbf5",
   "metadata": {},
   "outputs": [
    {
     "name": "stdout",
     "output_type": "stream",
     "text": [
      "Multiplication of 6\n",
      "1 x 6 = 6\n",
      "2 x 6 = 12\n",
      "3 x 6 = 18\n",
      "4 x 6 = 24\n",
      "5 x 6 = 30\n",
      "6 x 6 = 36\n",
      "7 x 6 = 42\n",
      "8 x 6 = 48\n",
      "9 x 6 = 54\n",
      "10 x 6 = 60\n"
     ]
    }
   ],
   "source": [
    "n = int(input('Enter n: '))\n",
    "print_mult_table(n)"
   ]
  },
  {
   "cell_type": "code",
   "execution_count": 33,
   "id": "80658e0f",
   "metadata": {},
   "outputs": [
    {
     "name": "stdout",
     "output_type": "stream",
     "text": [
      "* \n",
      "* * \n",
      "* * * \n",
      "* * * * \n",
      "\n",
      "* \n",
      "* * \n",
      "* * * \n",
      "* * * * \n",
      "* * * * * \n"
     ]
    }
   ],
   "source": [
    "# Ex: write a function to print a triangle of *\n",
    "def print_triangle(n):\n",
    "    for i in range(1, n+1):\n",
    "        print('* ' * i)\n",
    "\n",
    "print_triangle(4)\n",
    "print()\n",
    "print_triangle(5)"
   ]
  },
  {
   "cell_type": "code",
   "execution_count": null,
   "id": "5c2457c4",
   "metadata": {},
   "outputs": [],
   "source": [
    "# Ex: write a function to print a triangle of any character\n",
    "def print_triangle(n, c):\n",
    "    for i in range(1, n+1):\n",
    "        print(c * i)\n",
    "\n",
    "print_triangle(4, '? ')\n",
    "print_triangle(4, '# ')"
   ]
  },
  {
   "cell_type": "code",
   "execution_count": 39,
   "id": "25ee1599",
   "metadata": {},
   "outputs": [
    {
     "name": "stdout",
     "output_type": "stream",
     "text": [
      "<class 'int'>\n",
      "<class 'str'>\n"
     ]
    }
   ],
   "source": [
    "b = 4\n",
    "print(type(b))\n",
    "b = '4'\n",
    "print(type(b))"
   ]
  },
  {
   "cell_type": "code",
   "execution_count": 42,
   "id": "f05b3b38",
   "metadata": {},
   "outputs": [
    {
     "name": "stdout",
     "output_type": "stream",
     "text": [
      "* \n",
      "* * \n",
      "* * * \n",
      "! \n",
      "! ! \n",
      "! ! ! \n",
      "! ! ! ! \n"
     ]
    }
   ],
   "source": [
    "# positional paramenter and keyword parameter\n",
    "def print_triangle(n, c='* '):\n",
    "    for i in range(1, n+1):\n",
    "        print(c * i)\n",
    "\n",
    "print_triangle(3) # c = '* ' by default\n",
    "print_triangle(4, '! ') # c = '! '"
   ]
  },
  {
   "cell_type": "code",
   "execution_count": null,
   "id": "a7f0a0ba",
   "metadata": {},
   "outputs": [
    {
     "name": "stdout",
     "output_type": "stream",
     "text": [
      "* \n",
      "* * \n",
      "* * * \n",
      "% % % % \n",
      "% % % \n",
      "% % \n",
      "% \n"
     ]
    }
   ],
   "source": [
    "# n - positional parameter\n",
    "# c, reversed: keyword parameter\n",
    "def print_triangle(n, c='* ', reversed=False):\n",
    "    if not reversed:\n",
    "        for i in range(1, n+1):\n",
    "            print(c * i)\n",
    "    else:\n",
    "        for i in range(1, n+1):\n",
    "            print(c * (n - i + 1))\n",
    "\n",
    "print_triangle(3)\n",
    "print_triangle(4, '% ', True)"
   ]
  },
  {
   "cell_type": "code",
   "execution_count": null,
   "id": "4f636f27",
   "metadata": {},
   "outputs": [
    {
     "name": "stdout",
     "output_type": "stream",
     "text": [
      ") ) ) ) \n",
      ") ) ) \n",
      ") ) \n",
      ") \n"
     ]
    }
   ],
   "source": [
    "# keyword arguments can be any order, as long as after positional argument\n",
    "print_triangle(4, reversed=True, c=') ')"
   ]
  },
  {
   "cell_type": "code",
   "execution_count": null,
   "id": "246fe887",
   "metadata": {},
   "outputs": [],
   "source": [
    "def print_menu():\n",
    "    print('1. Print primes.')\n",
    "    print('2. Print multiplecation table.')\n",
    "    print('3. Print triangle of characters.')\n",
    "    print('0. Exit.')"
   ]
  },
  {
   "cell_type": "code",
   "execution_count": 52,
   "id": "a2f717de",
   "metadata": {},
   "outputs": [],
   "source": [
    "def main():\n",
    "    running = True\n",
    "    while running:\n",
    "        # ask user to enter n\n",
    "        n = int(input('Enter n: '))\n",
    "        # print menu\n",
    "        print_menu()\n",
    "        # ask user to choose an option\n",
    "        choice = int(input('Enter your choice: '))\n",
    "        # do a task based on option\n",
    "        if choice == 1:\n",
    "            print_primes(n)\n",
    "        elif choice == 2:\n",
    "            print_mult_table(n)\n",
    "        elif choice == 3:\n",
    "            print_triangle(n)\n",
    "        elif choice == 0:\n",
    "            running = False\n",
    "        else:\n",
    "            print('Invalid choice')"
   ]
  },
  {
   "cell_type": "code",
   "execution_count": 53,
   "id": "ffbc331e",
   "metadata": {},
   "outputs": [
    {
     "name": "stdout",
     "output_type": "stream",
     "text": [
      "1. Print primes.\n",
      "2. Print multiplecation table.\n",
      "3. Print triangle of characters.\n",
      "1 2 3 1. Print primes.\n",
      "2. Print multiplecation table.\n",
      "3. Print triangle of characters.\n",
      "Multiplication of 10\n",
      "1 x 10 = 10\n",
      "2 x 10 = 20\n",
      "3 x 10 = 30\n",
      "4 x 10 = 40\n",
      "5 x 10 = 50\n",
      "6 x 10 = 60\n",
      "7 x 10 = 70\n",
      "8 x 10 = 80\n",
      "9 x 10 = 90\n",
      "10 x 10 = 100\n",
      "1. Print primes.\n",
      "2. Print multiplecation table.\n",
      "3. Print triangle of characters.\n",
      "* \n",
      "* * \n",
      "* * * \n",
      "* * * * \n",
      "* * * * * \n",
      "* * * * * * \n",
      "* * * * * * * \n",
      "* * * * * * * * \n",
      "* * * * * * * * * \n",
      "* * * * * * * * * * \n",
      "1. Print primes.\n",
      "2. Print multiplecation table.\n",
      "3. Print triangle of characters.\n"
     ]
    }
   ],
   "source": [
    "main()"
   ]
  }
 ],
 "metadata": {
  "kernelspec": {
   "display_name": "Python 3",
   "language": "python",
   "name": "python3"
  },
  "language_info": {
   "codemirror_mode": {
    "name": "ipython",
    "version": 3
   },
   "file_extension": ".py",
   "mimetype": "text/x-python",
   "name": "python",
   "nbconvert_exporter": "python",
   "pygments_lexer": "ipython3",
   "version": "3.13.2"
  }
 },
 "nbformat": 4,
 "nbformat_minor": 5
}
