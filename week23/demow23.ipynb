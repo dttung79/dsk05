{
 "cells": [
  {
   "cell_type": "code",
   "execution_count": 1,
   "id": "c57a322a",
   "metadata": {},
   "outputs": [],
   "source": [
    "import pandas as pd\n",
    "import numpy as np"
   ]
  },
  {
   "cell_type": "code",
   "execution_count": 32,
   "id": "ac518574",
   "metadata": {},
   "outputs": [],
   "source": [
    "df = pd.read_csv('df.csv')\n",
    "# drop NA values\n",
    "df = df.dropna()"
   ]
  },
  {
   "cell_type": "code",
   "execution_count": 33,
   "id": "ed53e6be",
   "metadata": {},
   "outputs": [
    {
     "name": "stdout",
     "output_type": "stream",
     "text": [
      "<class 'pandas.core.frame.DataFrame'>\n",
      "Index: 836 entries, 0 to 1384\n",
      "Data columns (total 12 columns):\n",
      " #   Column          Non-Null Count  Dtype  \n",
      "---  ------          --------------  -----  \n",
      " 0   ID              836 non-null    int64  \n",
      " 1   Name            836 non-null    object \n",
      " 2   State           836 non-null    object \n",
      " 3   Region          836 non-null    object \n",
      " 4   Applications    836 non-null    int64  \n",
      " 5   Admissions      836 non-null    int64  \n",
      " 6   Admission Rate  836 non-null    float64\n",
      " 7   Enrollment      836 non-null    int64  \n",
      " 8   SATVR75         836 non-null    float64\n",
      " 9   SATMT75         836 non-null    float64\n",
      " 10  ACTEN75         836 non-null    float64\n",
      " 11  ACTMT75         836 non-null    float64\n",
      "dtypes: float64(5), int64(4), object(3)\n",
      "memory usage: 84.9+ KB\n"
     ]
    }
   ],
   "source": [
    "df.info()"
   ]
  },
  {
   "cell_type": "code",
   "execution_count": 34,
   "id": "fd10bea9",
   "metadata": {},
   "outputs": [
    {
     "data": {
      "text/html": [
       "<div>\n",
       "<style scoped>\n",
       "    .dataframe tbody tr th:only-of-type {\n",
       "        vertical-align: middle;\n",
       "    }\n",
       "\n",
       "    .dataframe tbody tr th {\n",
       "        vertical-align: top;\n",
       "    }\n",
       "\n",
       "    .dataframe thead th {\n",
       "        text-align: right;\n",
       "    }\n",
       "</style>\n",
       "<table border=\"1\" class=\"dataframe\">\n",
       "  <thead>\n",
       "    <tr style=\"text-align: right;\">\n",
       "      <th></th>\n",
       "      <th>ID</th>\n",
       "      <th>Name</th>\n",
       "      <th>State</th>\n",
       "      <th>Region</th>\n",
       "      <th>Applications</th>\n",
       "      <th>Admissions</th>\n",
       "      <th>Admission Rate</th>\n",
       "      <th>Enrollment</th>\n",
       "      <th>SATVR75</th>\n",
       "      <th>SATMT75</th>\n",
       "      <th>ACTEN75</th>\n",
       "      <th>ACTMT75</th>\n",
       "    </tr>\n",
       "  </thead>\n",
       "  <tbody>\n",
       "    <tr>\n",
       "      <th>0</th>\n",
       "      <td>100654</td>\n",
       "      <td>Alabama A &amp; M University</td>\n",
       "      <td>Alabama</td>\n",
       "      <td>Southeast</td>\n",
       "      <td>6560</td>\n",
       "      <td>4697</td>\n",
       "      <td>0.716006</td>\n",
       "      <td>1459</td>\n",
       "      <td>520.0</td>\n",
       "      <td>510.0</td>\n",
       "      <td>20.0</td>\n",
       "      <td>18.0</td>\n",
       "    </tr>\n",
       "    <tr>\n",
       "      <th>1</th>\n",
       "      <td>100663</td>\n",
       "      <td>University of Alabama at Birmingham</td>\n",
       "      <td>Alabama</td>\n",
       "      <td>Southeast</td>\n",
       "      <td>11906</td>\n",
       "      <td>10541</td>\n",
       "      <td>0.885352</td>\n",
       "      <td>2361</td>\n",
       "      <td>680.0</td>\n",
       "      <td>708.0</td>\n",
       "      <td>33.0</td>\n",
       "      <td>28.0</td>\n",
       "    </tr>\n",
       "    <tr>\n",
       "      <th>2</th>\n",
       "      <td>100706</td>\n",
       "      <td>University of Alabama in Huntsville</td>\n",
       "      <td>Alabama</td>\n",
       "      <td>Southeast</td>\n",
       "      <td>5781</td>\n",
       "      <td>4259</td>\n",
       "      <td>0.736724</td>\n",
       "      <td>1191</td>\n",
       "      <td>700.0</td>\n",
       "      <td>720.0</td>\n",
       "      <td>32.0</td>\n",
       "      <td>29.0</td>\n",
       "    </tr>\n",
       "    <tr>\n",
       "      <th>3</th>\n",
       "      <td>100724</td>\n",
       "      <td>Alabama State University</td>\n",
       "      <td>Alabama</td>\n",
       "      <td>Southeast</td>\n",
       "      <td>5974</td>\n",
       "      <td>5854</td>\n",
       "      <td>0.979913</td>\n",
       "      <td>797</td>\n",
       "      <td>534.0</td>\n",
       "      <td>516.0</td>\n",
       "      <td>22.0</td>\n",
       "      <td>19.0</td>\n",
       "    </tr>\n",
       "    <tr>\n",
       "      <th>4</th>\n",
       "      <td>100751</td>\n",
       "      <td>The University of Alabama</td>\n",
       "      <td>Alabama</td>\n",
       "      <td>Southeast</td>\n",
       "      <td>42421</td>\n",
       "      <td>33472</td>\n",
       "      <td>0.789043</td>\n",
       "      <td>7540</td>\n",
       "      <td>680.0</td>\n",
       "      <td>690.0</td>\n",
       "      <td>33.0</td>\n",
       "      <td>28.0</td>\n",
       "    </tr>\n",
       "  </tbody>\n",
       "</table>\n",
       "</div>"
      ],
      "text/plain": [
       "       ID                                 Name    State     Region  \\\n",
       "0  100654             Alabama A & M University  Alabama  Southeast   \n",
       "1  100663  University of Alabama at Birmingham  Alabama  Southeast   \n",
       "2  100706  University of Alabama in Huntsville  Alabama  Southeast   \n",
       "3  100724             Alabama State University  Alabama  Southeast   \n",
       "4  100751            The University of Alabama  Alabama  Southeast   \n",
       "\n",
       "   Applications  Admissions  Admission Rate  Enrollment  SATVR75  SATMT75  \\\n",
       "0          6560        4697        0.716006        1459    520.0    510.0   \n",
       "1         11906       10541        0.885352        2361    680.0    708.0   \n",
       "2          5781        4259        0.736724        1191    700.0    720.0   \n",
       "3          5974        5854        0.979913         797    534.0    516.0   \n",
       "4         42421       33472        0.789043        7540    680.0    690.0   \n",
       "\n",
       "   ACTEN75  ACTMT75  \n",
       "0     20.0     18.0  \n",
       "1     33.0     28.0  \n",
       "2     32.0     29.0  \n",
       "3     22.0     19.0  \n",
       "4     33.0     28.0  "
      ]
     },
     "execution_count": 34,
     "metadata": {},
     "output_type": "execute_result"
    }
   ],
   "source": [
    "df.head()"
   ]
  },
  {
   "cell_type": "code",
   "execution_count": 35,
   "id": "088a882d",
   "metadata": {},
   "outputs": [],
   "source": [
    "col_math_sat = 'SATMT75'\n",
    "math_100_sample = df[col_math_sat].sample(100, random_state=1)"
   ]
  },
  {
   "cell_type": "code",
   "execution_count": 36,
   "id": "ecbd3b9c",
   "metadata": {},
   "outputs": [
    {
     "name": "stdout",
     "output_type": "stream",
     "text": [
      "630.36\n"
     ]
    }
   ],
   "source": [
    "#math_100_sample.info()\n",
    "mean_math_100 = math_100_sample.mean()\n",
    "print(f'{mean_math_100:.2f}')"
   ]
  },
  {
   "cell_type": "code",
   "execution_count": 37,
   "id": "5fdf48a2",
   "metadata": {},
   "outputs": [
    {
     "name": "stdout",
     "output_type": "stream",
     "text": [
      "630.11\n"
     ]
    }
   ],
   "source": [
    "# lấy mẫu ngẫu nhiên 150 samples từ cột Verbal của SAT và tính trung bình mẫu\n",
    "col_verbal_sat = 'SATVR75'\n",
    "verbal_150_sample = df[col_verbal_sat].sample(150)\n",
    "avg_verbal_sat = verbal_150_sample.mean()\n",
    "print(f'{avg_verbal_sat:.2f}')"
   ]
  },
  {
   "cell_type": "code",
   "execution_count": 90,
   "id": "a39c20ae",
   "metadata": {},
   "outputs": [
    {
     "name": "stdout",
     "output_type": "stream",
     "text": [
      "Region: Far West, Mean Math SAT: 704.00\n",
      "Region: Great Lakes, Mean Math SAT: 613.00\n",
      "Region: Mid East, Mean Math SAT: 633.17\n",
      "Region: New England, Mean Math SAT: 694.60\n",
      "Region: Other US Jurisdctn, Mean Math SAT: 490.00\n",
      "Region: Plains, Mean Math SAT: 650.89\n",
      "Region: Rocky Mountains, Mean Math SAT: 585.00\n",
      "Region: Southeast, Mean Math SAT: 604.38\n",
      "Region: Southwest, Mean Math SAT: 622.86\n",
      "Region: US Service Schools, Mean Math SAT: 700.00\n",
      "Mean Math SAT of all regions: 628.01\n"
     ]
    },
    {
     "name": "stderr",
     "output_type": "stream",
     "text": [
      "/var/folders/10/3dssf0p51vzgb7zfm9xl0vrm0000gn/T/ipykernel_12934/1398546313.py:9: FutureWarning: The behavior of DataFrame concatenation with empty or all-NA entries is deprecated. In a future version, this will no longer exclude empty or all-NA columns when determining the result dtypes. To retain the old behavior, exclude the relevant entries before the concat operation.\n",
      "  df_sample = pd.concat([df_sample, sample_region[['Region', col_math_sat]]], ignore_index=True)\n"
     ]
    }
   ],
   "source": [
    "df_sample = pd.DataFrame(columns=['Region', col_math_sat])\n",
    "for region, df_group in df.groupby('Region'):\n",
    "    #print(f'Region: {region}')\n",
    "    #print(df_group.describe())\n",
    "    sample_size = int(len(df_group) / 10)\n",
    "    if sample_size == 0:\n",
    "        sample_size = 1\n",
    "    sample_region = df_group.sample(sample_size)\n",
    "    df_sample = pd.concat([df_sample, sample_region[['Region', col_math_sat]]], ignore_index=True)\n",
    "    mean_sample_math = sample_region[col_math_sat].mean()\n",
    "    print(f'Region: {region}, Mean Math SAT: {mean_sample_math:.2f}')\n",
    "\n",
    "mean_math = df_sample[col_math_sat].mean()\n",
    "print(f'Mean Math SAT of all regions: {mean_math:.2f}')"
   ]
  },
  {
   "cell_type": "code",
   "execution_count": 93,
   "id": "bd8c892c",
   "metadata": {},
   "outputs": [
    {
     "name": "stdout",
     "output_type": "stream",
     "text": [
      "State: Alabama, Mean Verbal SAT: 595.00\n",
      "State: Alaska, Mean Verbal SAT: 680.00\n",
      "State: Arizona, Mean Verbal SAT: 660.00\n",
      "State: Arkansas, Mean Verbal SAT: 590.00\n",
      "State: California, Mean Verbal SAT: 695.00\n",
      "State: Colorado, Mean Verbal SAT: 630.00\n",
      "State: Connecticut, Mean Verbal SAT: 730.00\n",
      "State: Delaware, Mean Verbal SAT: 670.00\n",
      "State: District of Columbia, Mean Verbal SAT: 740.00\n",
      "State: Florida, Mean Verbal SAT: 663.33\n",
      "State: Georgia, Mean Verbal SAT: 590.00\n",
      "State: Hawaii, Mean Verbal SAT: 650.00\n",
      "State: Idaho, Mean Verbal SAT: 630.00\n",
      "State: Illinois, Mean Verbal SAT: 650.00\n",
      "State: Indiana, Mean Verbal SAT: 613.33\n",
      "State: Iowa, Mean Verbal SAT: 654.00\n",
      "State: Kansas, Mean Verbal SAT: 660.00\n",
      "State: Kentucky, Mean Verbal SAT: 558.00\n",
      "State: Louisiana, Mean Verbal SAT: 640.00\n",
      "State: Maine, Mean Verbal SAT: 630.00\n",
      "State: Maryland, Mean Verbal SAT: 700.00\n",
      "State: Massachusetts, Mean Verbal SAT: 715.00\n",
      "State: Michigan, Mean Verbal SAT: 585.00\n",
      "State: Minnesota, Mean Verbal SAT: 720.00\n",
      "State: Mississippi, Mean Verbal SAT: 440.00\n",
      "State: Missouri, Mean Verbal SAT: 561.50\n",
      "State: Montana, Mean Verbal SAT: 660.00\n",
      "State: Nebraska, Mean Verbal SAT: 660.00\n",
      "State: Nevada, Mean Verbal SAT: 640.00\n",
      "State: New Hampshire, Mean Verbal SAT: 600.00\n",
      "State: New Jersey, Mean Verbal SAT: 640.00\n",
      "State: New Mexico, Mean Verbal SAT: 660.00\n",
      "State: New York, Mean Verbal SAT: 635.00\n",
      "State: North Carolina, Mean Verbal SAT: 598.33\n",
      "State: North Dakota, Mean Verbal SAT: 600.00\n",
      "State: Ohio, Mean Verbal SAT: 682.50\n",
      "State: Oklahoma, Mean Verbal SAT: 430.00\n",
      "State: Oregon, Mean Verbal SAT: 690.00\n",
      "State: Pennsylvania, Mean Verbal SAT: 641.00\n",
      "State: Puerto Rico, Mean Verbal SAT: 540.00\n",
      "State: Rhode Island, Mean Verbal SAT: 770.00\n",
      "State: South Carolina, Mean Verbal SAT: 620.00\n",
      "State: South Dakota, Mean Verbal SAT: 600.00\n",
      "State: Tennessee, Mean Verbal SAT: 635.00\n",
      "State: Texas, Mean Verbal SAT: 592.00\n",
      "State: Utah, Mean Verbal SAT: 660.00\n",
      "State: Vermont, Mean Verbal SAT: 710.00\n",
      "State: Virginia, Mean Verbal SAT: 660.00\n",
      "State: Washington, Mean Verbal SAT: 620.00\n",
      "State: West Virginia, Mean Verbal SAT: 600.00\n",
      "State: Wisconsin, Mean Verbal SAT: 655.00\n",
      "\n",
      "Mean Verbal SAT of all states: 634.99\n"
     ]
    },
    {
     "name": "stderr",
     "output_type": "stream",
     "text": [
      "/var/folders/10/3dssf0p51vzgb7zfm9xl0vrm0000gn/T/ipykernel_12934/2992312094.py:10: FutureWarning: The behavior of DataFrame concatenation with empty or all-NA entries is deprecated. In a future version, this will no longer exclude empty or all-NA columns when determining the result dtypes. To retain the old behavior, exclude the relevant entries before the concat operation.\n",
      "  df_sample = pd.concat([df_sample, sample_state[['State', col_verbal_sat]]], ignore_index=True)\n"
     ]
    }
   ],
   "source": [
    "# Lấy mẫu phân tầng theo State để tính trung bình SAT verbal\n",
    "col_verbal_sat = 'SATVR75'\n",
    "df_sample = pd.DataFrame(columns=['State', col_verbal_sat])\n",
    "\n",
    "for state, df_group in df.groupby('State'):\n",
    "    sample_size = int(len(df_group) / 10)  \n",
    "    if sample_size == 0:\n",
    "        sample_size = 1 # get 1 random sample if the group is too small\n",
    "    sample_state = df_group.sample(sample_size)\n",
    "    df_sample = pd.concat([df_sample, sample_state[['State', col_verbal_sat]]], ignore_index=True)\n",
    "\n",
    "    mean_sample_verbal = sample_state[col_verbal_sat].mean()\n",
    "    print(f'State: {state}, Mean Verbal SAT: {mean_sample_verbal:.2f}')\n",
    "mean_verbal = df_sample[col_verbal_sat].mean()\n",
    "print(f'\\nMean Verbal SAT of all states: {mean_verbal:.2f}')"
   ]
  },
  {
   "cell_type": "code",
   "execution_count": 94,
   "id": "a51f9d3f",
   "metadata": {},
   "outputs": [
    {
     "name": "stdout",
     "output_type": "stream",
     "text": [
      "Mean Math SAT of system sample: 627.34\n"
     ]
    }
   ],
   "source": [
    "step = 8\n",
    "system_sample = df.iloc[::step] # slicing (start:stop:step)\n",
    "mean_system_math = system_sample[col_math_sat].mean()\n",
    "print(f'Mean Math SAT of system sample: {mean_system_math:.2f}')"
   ]
  },
  {
   "cell_type": "code",
   "execution_count": 95,
   "id": "3cbdb7b8",
   "metadata": {},
   "outputs": [
    {
     "name": "stdout",
     "output_type": "stream",
     "text": [
      "['Alabama' 'Alaska' 'Arizona' 'Arkansas' 'California' 'Colorado'\n",
      " 'Connecticut' 'Delaware' 'District of Columbia' 'Florida' 'Georgia'\n",
      " 'Hawaii' 'Idaho' 'Illinois' 'Indiana' 'Iowa' 'Kansas' 'Kentucky'\n",
      " 'Louisiana' 'Maine' 'Maryland' 'Massachusetts' 'Michigan' 'Minnesota'\n",
      " 'Mississippi' 'Missouri' 'Montana' 'Nebraska' 'Nevada' 'New Hampshire'\n",
      " 'New Jersey' 'New Mexico' 'New York' 'North Carolina' 'North Dakota'\n",
      " 'Ohio' 'Oklahoma' 'Oregon' 'Pennsylvania' 'Rhode Island' 'South Carolina'\n",
      " 'South Dakota' 'Tennessee' 'Texas' 'Utah' 'Vermont' 'Virginia'\n",
      " 'Washington' 'West Virginia' 'Wisconsin' 'Puerto Rico'] 51\n"
     ]
    }
   ],
   "source": [
    "states = df['State'].unique()\n",
    "print(states, len(states))\n"
   ]
  },
  {
   "cell_type": "code",
   "execution_count": 96,
   "id": "f701afad",
   "metadata": {},
   "outputs": [
    {
     "name": "stdout",
     "output_type": "stream",
     "text": [
      "['South Dakota' 'Illinois' 'Mississippi' 'Pennsylvania' 'Florida']\n"
     ]
    }
   ],
   "source": [
    "# get random 5 states\n",
    "random_states = np.random.choice(states, 5, replace=False)\n",
    "print(random_states)"
   ]
  },
  {
   "cell_type": "code",
   "execution_count": 97,
   "id": "024f5107",
   "metadata": {},
   "outputs": [
    {
     "name": "stdout",
     "output_type": "stream",
     "text": [
      "Mean Math SAT of cluster sample: 623.20\n"
     ]
    }
   ],
   "source": [
    "cluster_sample = df[df['State'].isin(random_states)]\n",
    "mean_cluster_math = cluster_sample[col_math_sat].mean()\n",
    "print(f'Mean Math SAT of cluster sample: {mean_cluster_math:.2f}')"
   ]
  },
  {
   "cell_type": "code",
   "execution_count": 99,
   "id": "c5f9b274",
   "metadata": {},
   "outputs": [
    {
     "name": "stdout",
     "output_type": "stream",
     "text": [
      "State: South Dakota, Mean Math SAT: 605.56\n",
      "State: Illinois, Mean Math SAT: 617.97\n",
      "State: Mississippi, Mean Math SAT: 598.50\n",
      "State: Pennsylvania, Mean Math SAT: 637.65\n",
      "State: Florida, Mean Math SAT: 618.10\n",
      "Mean Math SAT of cluster sample: 623.20\n"
     ]
    },
    {
     "name": "stderr",
     "output_type": "stream",
     "text": [
      "/var/folders/10/3dssf0p51vzgb7zfm9xl0vrm0000gn/T/ipykernel_12934/1268279879.py:5: FutureWarning: The behavior of DataFrame concatenation with empty or all-NA entries is deprecated. In a future version, this will no longer exclude empty or all-NA columns when determining the result dtypes. To retain the old behavior, exclude the relevant entries before the concat operation.\n",
      "  cluster_sample = pd.concat([cluster_sample, state_sample], ignore_index=True)\n"
     ]
    }
   ],
   "source": [
    "# create empty DataFrame for cluster sample\n",
    "cluster_sample = pd.DataFrame(columns=['State', col_math_sat])\n",
    "for state in random_states:\n",
    "    state_sample = df[df['State'] == state]\n",
    "    cluster_sample = pd.concat([cluster_sample, state_sample], ignore_index=True)\n",
    "    mean_state_math = state_sample[col_math_sat].mean()\n",
    "    print(f'State: {state}, Mean Math SAT: {mean_state_math:.2f}')\n",
    "\n",
    "mean_cluster_math = cluster_sample[col_math_sat].mean()\n",
    "print(f'Mean Math SAT of cluster sample: {mean_cluster_math:.2f}')"
   ]
  },
  {
   "cell_type": "code",
   "execution_count": 107,
   "id": "edeb16cb",
   "metadata": {},
   "outputs": [
    {
     "name": "stdout",
     "output_type": "stream",
     "text": [
      "Mean Math SAT of Alabama sample: 708.00\n"
     ]
    }
   ],
   "source": [
    "alabama_all = df[df['State'] == 'Alabama']\n",
    "sample_alabama = alabama_all.sample(len(alabama_all) // 10)\n",
    "mean_alabama_math = sample_alabama[col_math_sat].mean()\n",
    "print(f'Mean Math SAT of Alabama sample: {mean_alabama_math:.2f}')"
   ]
  }
 ],
 "metadata": {
  "kernelspec": {
   "display_name": "Python 3",
   "language": "python",
   "name": "python3"
  },
  "language_info": {
   "codemirror_mode": {
    "name": "ipython",
    "version": 3
   },
   "file_extension": ".py",
   "mimetype": "text/x-python",
   "name": "python",
   "nbconvert_exporter": "python",
   "pygments_lexer": "ipython3",
   "version": "3.13.2"
  }
 },
 "nbformat": 4,
 "nbformat_minor": 5
}
